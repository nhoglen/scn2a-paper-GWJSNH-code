{
 "cells": [
  {
   "cell_type": "code",
   "execution_count": 1,
   "id": "5b0e9c11",
   "metadata": {},
   "outputs": [],
   "source": [
    "import os\n",
    "\n",
    "from datetime import datetime, date\n",
    "from uuid import uuid4\n",
    "from dateutil.tz import tzlocal\n",
    "from ast import literal_eval\n",
    "\n",
    "import numpy as np\n",
    "import pandas as pd\n",
    "import warnings\n",
    "import librosa\n",
    "import pickle\n",
    "\n",
    "from pynwb import NWBHDF5IO, NWBFile, TimeSeries\n",
    "from pynwb.file import Subject\n",
    "from pynwb.epoch import TimeIntervals\n",
    "from pynwb.image import ImageSeries\n",
    "from ndx_manoli_meta import AssayMetadata\n",
    "\n",
    "from nwb_utils import get_date_from_block\n",
    "from behavior_error_checks import *"
   ]
  },
  {
   "cell_type": "code",
   "execution_count": 2,
   "id": "7b01c15a",
   "metadata": {},
   "outputs": [],
   "source": [
    "# ----- Set up user parameters\n",
    "directory_keyword = 'PPTs' # how the assay directories are labeled\n",
    "metadata_file = 'metadata_ppts_v2.csv' # where the initial metadata is stored\n",
    "boris_keyword = 'PPT'\n",
    "score_path = os.path.join('Scn2a_X1Behavior_Nov22','Aggregated_Events')\n",
    "assayregex = 'P|p'\n",
    "# colors for plotting\n",
    "fillcols = [[160, 146, 95],[245, 201, 39],[89, 91, 125],[63, 78, 245]]\n",
    "linecols = [[96, 87, 57],[147, 120, 23],[53, 54, 75],[33, 41, 131]]"
   ]
  },
  {
   "cell_type": "code",
   "execution_count": 18,
   "id": "c8029148",
   "metadata": {},
   "outputs": [
    {
     "name": "stdout",
     "output_type": "stream",
     "text": [
      "Nov22_Pair1_PPT.nwb\n"
     ]
    },
    {
     "name": "stderr",
     "output_type": "stream",
     "text": [
      "M:\\utilities\\analysis_utilities\\behavior_error_checks.py:70: SettingWithCopyWarning: \n",
      "A value is trying to be set on a copy of a slice from a DataFrame\n",
      "\n",
      "See the caveats in the documentation: https://pandas.pydata.org/pandas-docs/stable/user_guide/indexing.html#returning-a-view-versus-a-copy\n",
      "  stateonly.end.iloc[:-1] = round(stateonly.start.iloc[1:],3)-0.001\n"
     ]
    },
    {
     "name": "stdout",
     "output_type": "stream",
     "text": [
      "Nov22_Pair15_PPT.nwb\n"
     ]
    },
    {
     "name": "stderr",
     "output_type": "stream",
     "text": [
      "M:\\utilities\\analysis_utilities\\behavior_error_checks.py:70: SettingWithCopyWarning: \n",
      "A value is trying to be set on a copy of a slice from a DataFrame\n",
      "\n",
      "See the caveats in the documentation: https://pandas.pydata.org/pandas-docs/stable/user_guide/indexing.html#returning-a-view-versus-a-copy\n",
      "  stateonly.end.iloc[:-1] = round(stateonly.start.iloc[1:],3)-0.001\n"
     ]
    },
    {
     "name": "stdout",
     "output_type": "stream",
     "text": [
      "Nov22_Pair16_PPT.nwb\n"
     ]
    },
    {
     "name": "stderr",
     "output_type": "stream",
     "text": [
      "M:\\utilities\\analysis_utilities\\behavior_error_checks.py:70: SettingWithCopyWarning: \n",
      "A value is trying to be set on a copy of a slice from a DataFrame\n",
      "\n",
      "See the caveats in the documentation: https://pandas.pydata.org/pandas-docs/stable/user_guide/indexing.html#returning-a-view-versus-a-copy\n",
      "  stateonly.end.iloc[:-1] = round(stateonly.start.iloc[1:],3)-0.001\n"
     ]
    },
    {
     "name": "stdout",
     "output_type": "stream",
     "text": [
      "Nov22_Pair17_PPT.nwb\n"
     ]
    },
    {
     "name": "stderr",
     "output_type": "stream",
     "text": [
      "M:\\utilities\\analysis_utilities\\behavior_error_checks.py:70: SettingWithCopyWarning: \n",
      "A value is trying to be set on a copy of a slice from a DataFrame\n",
      "\n",
      "See the caveats in the documentation: https://pandas.pydata.org/pandas-docs/stable/user_guide/indexing.html#returning-a-view-versus-a-copy\n",
      "  stateonly.end.iloc[:-1] = round(stateonly.start.iloc[1:],3)-0.001\n"
     ]
    },
    {
     "name": "stdout",
     "output_type": "stream",
     "text": [
      "Nov22_Pair18_PPT.nwb\n"
     ]
    },
    {
     "name": "stderr",
     "output_type": "stream",
     "text": [
      "M:\\utilities\\analysis_utilities\\behavior_error_checks.py:70: SettingWithCopyWarning: \n",
      "A value is trying to be set on a copy of a slice from a DataFrame\n",
      "\n",
      "See the caveats in the documentation: https://pandas.pydata.org/pandas-docs/stable/user_guide/indexing.html#returning-a-view-versus-a-copy\n",
      "  stateonly.end.iloc[:-1] = round(stateonly.start.iloc[1:],3)-0.001\n"
     ]
    },
    {
     "name": "stdout",
     "output_type": "stream",
     "text": [
      "Nov22_Pair19_PPT.nwb\n"
     ]
    },
    {
     "name": "stderr",
     "output_type": "stream",
     "text": [
      "M:\\utilities\\analysis_utilities\\behavior_error_checks.py:70: SettingWithCopyWarning: \n",
      "A value is trying to be set on a copy of a slice from a DataFrame\n",
      "\n",
      "See the caveats in the documentation: https://pandas.pydata.org/pandas-docs/stable/user_guide/indexing.html#returning-a-view-versus-a-copy\n",
      "  stateonly.end.iloc[:-1] = round(stateonly.start.iloc[1:],3)-0.001\n"
     ]
    },
    {
     "name": "stdout",
     "output_type": "stream",
     "text": [
      "Nov22_Pair2_PPT.nwb\n"
     ]
    },
    {
     "name": "stderr",
     "output_type": "stream",
     "text": [
      "M:\\utilities\\analysis_utilities\\behavior_error_checks.py:70: SettingWithCopyWarning: \n",
      "A value is trying to be set on a copy of a slice from a DataFrame\n",
      "\n",
      "See the caveats in the documentation: https://pandas.pydata.org/pandas-docs/stable/user_guide/indexing.html#returning-a-view-versus-a-copy\n",
      "  stateonly.end.iloc[:-1] = round(stateonly.start.iloc[1:],3)-0.001\n"
     ]
    },
    {
     "name": "stdout",
     "output_type": "stream",
     "text": [
      "Nov22_Pair21_PPT.nwb\n"
     ]
    },
    {
     "name": "stderr",
     "output_type": "stream",
     "text": [
      "M:\\utilities\\analysis_utilities\\behavior_error_checks.py:70: SettingWithCopyWarning: \n",
      "A value is trying to be set on a copy of a slice from a DataFrame\n",
      "\n",
      "See the caveats in the documentation: https://pandas.pydata.org/pandas-docs/stable/user_guide/indexing.html#returning-a-view-versus-a-copy\n",
      "  stateonly.end.iloc[:-1] = round(stateonly.start.iloc[1:],3)-0.001\n"
     ]
    },
    {
     "name": "stdout",
     "output_type": "stream",
     "text": [
      "Nov22_Pair22_PPT.nwb\n"
     ]
    },
    {
     "name": "stderr",
     "output_type": "stream",
     "text": [
      "M:\\utilities\\analysis_utilities\\behavior_error_checks.py:70: SettingWithCopyWarning: \n",
      "A value is trying to be set on a copy of a slice from a DataFrame\n",
      "\n",
      "See the caveats in the documentation: https://pandas.pydata.org/pandas-docs/stable/user_guide/indexing.html#returning-a-view-versus-a-copy\n",
      "  stateonly.end.iloc[:-1] = round(stateonly.start.iloc[1:],3)-0.001\n"
     ]
    },
    {
     "name": "stdout",
     "output_type": "stream",
     "text": [
      "Nov22_Pair23_PPT.nwb\n"
     ]
    },
    {
     "name": "stderr",
     "output_type": "stream",
     "text": [
      "M:\\utilities\\analysis_utilities\\behavior_error_checks.py:70: SettingWithCopyWarning: \n",
      "A value is trying to be set on a copy of a slice from a DataFrame\n",
      "\n",
      "See the caveats in the documentation: https://pandas.pydata.org/pandas-docs/stable/user_guide/indexing.html#returning-a-view-versus-a-copy\n",
      "  stateonly.end.iloc[:-1] = round(stateonly.start.iloc[1:],3)-0.001\n"
     ]
    },
    {
     "name": "stdout",
     "output_type": "stream",
     "text": [
      "Nov22_Pair24_PPT.nwb\n"
     ]
    },
    {
     "name": "stderr",
     "output_type": "stream",
     "text": [
      "M:\\utilities\\analysis_utilities\\behavior_error_checks.py:70: SettingWithCopyWarning: \n",
      "A value is trying to be set on a copy of a slice from a DataFrame\n",
      "\n",
      "See the caveats in the documentation: https://pandas.pydata.org/pandas-docs/stable/user_guide/indexing.html#returning-a-view-versus-a-copy\n",
      "  stateonly.end.iloc[:-1] = round(stateonly.start.iloc[1:],3)-0.001\n"
     ]
    },
    {
     "name": "stdout",
     "output_type": "stream",
     "text": [
      "Nov22_Pair25_PPT.nwb\n"
     ]
    },
    {
     "name": "stderr",
     "output_type": "stream",
     "text": [
      "M:\\utilities\\analysis_utilities\\behavior_error_checks.py:70: SettingWithCopyWarning: \n",
      "A value is trying to be set on a copy of a slice from a DataFrame\n",
      "\n",
      "See the caveats in the documentation: https://pandas.pydata.org/pandas-docs/stable/user_guide/indexing.html#returning-a-view-versus-a-copy\n",
      "  stateonly.end.iloc[:-1] = round(stateonly.start.iloc[1:],3)-0.001\n"
     ]
    },
    {
     "name": "stdout",
     "output_type": "stream",
     "text": [
      "Nov22_Pair26_PPT.nwb\n"
     ]
    },
    {
     "name": "stderr",
     "output_type": "stream",
     "text": [
      "M:\\utilities\\analysis_utilities\\behavior_error_checks.py:70: SettingWithCopyWarning: \n",
      "A value is trying to be set on a copy of a slice from a DataFrame\n",
      "\n",
      "See the caveats in the documentation: https://pandas.pydata.org/pandas-docs/stable/user_guide/indexing.html#returning-a-view-versus-a-copy\n",
      "  stateonly.end.iloc[:-1] = round(stateonly.start.iloc[1:],3)-0.001\n"
     ]
    },
    {
     "name": "stdout",
     "output_type": "stream",
     "text": [
      "Nov22_Pair27_PPT.nwb\n"
     ]
    },
    {
     "name": "stderr",
     "output_type": "stream",
     "text": [
      "M:\\utilities\\analysis_utilities\\behavior_error_checks.py:70: SettingWithCopyWarning: \n",
      "A value is trying to be set on a copy of a slice from a DataFrame\n",
      "\n",
      "See the caveats in the documentation: https://pandas.pydata.org/pandas-docs/stable/user_guide/indexing.html#returning-a-view-versus-a-copy\n",
      "  stateonly.end.iloc[:-1] = round(stateonly.start.iloc[1:],3)-0.001\n"
     ]
    },
    {
     "name": "stdout",
     "output_type": "stream",
     "text": [
      "Nov22_Pair28_PPT.nwb\n"
     ]
    },
    {
     "name": "stderr",
     "output_type": "stream",
     "text": [
      "M:\\utilities\\analysis_utilities\\behavior_error_checks.py:70: SettingWithCopyWarning: \n",
      "A value is trying to be set on a copy of a slice from a DataFrame\n",
      "\n",
      "See the caveats in the documentation: https://pandas.pydata.org/pandas-docs/stable/user_guide/indexing.html#returning-a-view-versus-a-copy\n",
      "  stateonly.end.iloc[:-1] = round(stateonly.start.iloc[1:],3)-0.001\n"
     ]
    },
    {
     "name": "stdout",
     "output_type": "stream",
     "text": [
      "Nov22_Pair29_PPT.nwb\n"
     ]
    },
    {
     "name": "stderr",
     "output_type": "stream",
     "text": [
      "M:\\utilities\\analysis_utilities\\behavior_error_checks.py:70: SettingWithCopyWarning: \n",
      "A value is trying to be set on a copy of a slice from a DataFrame\n",
      "\n",
      "See the caveats in the documentation: https://pandas.pydata.org/pandas-docs/stable/user_guide/indexing.html#returning-a-view-versus-a-copy\n",
      "  stateonly.end.iloc[:-1] = round(stateonly.start.iloc[1:],3)-0.001\n"
     ]
    },
    {
     "name": "stdout",
     "output_type": "stream",
     "text": [
      "Nov22_Pair3_PPT.nwb\n"
     ]
    },
    {
     "name": "stderr",
     "output_type": "stream",
     "text": [
      "M:\\utilities\\analysis_utilities\\behavior_error_checks.py:70: SettingWithCopyWarning: \n",
      "A value is trying to be set on a copy of a slice from a DataFrame\n",
      "\n",
      "See the caveats in the documentation: https://pandas.pydata.org/pandas-docs/stable/user_guide/indexing.html#returning-a-view-versus-a-copy\n",
      "  stateonly.end.iloc[:-1] = round(stateonly.start.iloc[1:],3)-0.001\n"
     ]
    },
    {
     "name": "stdout",
     "output_type": "stream",
     "text": [
      "Nov22_Pair30_PPT.nwb\n"
     ]
    },
    {
     "name": "stderr",
     "output_type": "stream",
     "text": [
      "M:\\utilities\\analysis_utilities\\behavior_error_checks.py:70: SettingWithCopyWarning: \n",
      "A value is trying to be set on a copy of a slice from a DataFrame\n",
      "\n",
      "See the caveats in the documentation: https://pandas.pydata.org/pandas-docs/stable/user_guide/indexing.html#returning-a-view-versus-a-copy\n",
      "  stateonly.end.iloc[:-1] = round(stateonly.start.iloc[1:],3)-0.001\n"
     ]
    },
    {
     "name": "stdout",
     "output_type": "stream",
     "text": [
      "Nov22_Pair31_PPT.nwb\n"
     ]
    },
    {
     "name": "stderr",
     "output_type": "stream",
     "text": [
      "M:\\utilities\\analysis_utilities\\behavior_error_checks.py:70: SettingWithCopyWarning: \n",
      "A value is trying to be set on a copy of a slice from a DataFrame\n",
      "\n",
      "See the caveats in the documentation: https://pandas.pydata.org/pandas-docs/stable/user_guide/indexing.html#returning-a-view-versus-a-copy\n",
      "  stateonly.end.iloc[:-1] = round(stateonly.start.iloc[1:],3)-0.001\n"
     ]
    },
    {
     "name": "stdout",
     "output_type": "stream",
     "text": [
      "Nov22_Pair32_PPT.nwb\n"
     ]
    },
    {
     "name": "stderr",
     "output_type": "stream",
     "text": [
      "M:\\utilities\\analysis_utilities\\behavior_error_checks.py:70: SettingWithCopyWarning: \n",
      "A value is trying to be set on a copy of a slice from a DataFrame\n",
      "\n",
      "See the caveats in the documentation: https://pandas.pydata.org/pandas-docs/stable/user_guide/indexing.html#returning-a-view-versus-a-copy\n",
      "  stateonly.end.iloc[:-1] = round(stateonly.start.iloc[1:],3)-0.001\n"
     ]
    },
    {
     "name": "stdout",
     "output_type": "stream",
     "text": [
      "Nov22_Pair33_PPT.nwb\n"
     ]
    },
    {
     "name": "stderr",
     "output_type": "stream",
     "text": [
      "M:\\utilities\\analysis_utilities\\behavior_error_checks.py:70: SettingWithCopyWarning: \n",
      "A value is trying to be set on a copy of a slice from a DataFrame\n",
      "\n",
      "See the caveats in the documentation: https://pandas.pydata.org/pandas-docs/stable/user_guide/indexing.html#returning-a-view-versus-a-copy\n",
      "  stateonly.end.iloc[:-1] = round(stateonly.start.iloc[1:],3)-0.001\n"
     ]
    },
    {
     "name": "stdout",
     "output_type": "stream",
     "text": [
      "Nov22_Pair34_PPT.nwb\n"
     ]
    },
    {
     "name": "stderr",
     "output_type": "stream",
     "text": [
      "M:\\utilities\\analysis_utilities\\behavior_error_checks.py:70: SettingWithCopyWarning: \n",
      "A value is trying to be set on a copy of a slice from a DataFrame\n",
      "\n",
      "See the caveats in the documentation: https://pandas.pydata.org/pandas-docs/stable/user_guide/indexing.html#returning-a-view-versus-a-copy\n",
      "  stateonly.end.iloc[:-1] = round(stateonly.start.iloc[1:],3)-0.001\n"
     ]
    },
    {
     "name": "stdout",
     "output_type": "stream",
     "text": [
      "Nov22_Pair35_PPT.nwb\n"
     ]
    },
    {
     "name": "stderr",
     "output_type": "stream",
     "text": [
      "M:\\utilities\\analysis_utilities\\behavior_error_checks.py:70: SettingWithCopyWarning: \n",
      "A value is trying to be set on a copy of a slice from a DataFrame\n",
      "\n",
      "See the caveats in the documentation: https://pandas.pydata.org/pandas-docs/stable/user_guide/indexing.html#returning-a-view-versus-a-copy\n",
      "  stateonly.end.iloc[:-1] = round(stateonly.start.iloc[1:],3)-0.001\n"
     ]
    },
    {
     "name": "stdout",
     "output_type": "stream",
     "text": [
      "Nov22_Pair36_PPT.nwb\n"
     ]
    },
    {
     "name": "stderr",
     "output_type": "stream",
     "text": [
      "M:\\utilities\\analysis_utilities\\behavior_error_checks.py:70: SettingWithCopyWarning: \n",
      "A value is trying to be set on a copy of a slice from a DataFrame\n",
      "\n",
      "See the caveats in the documentation: https://pandas.pydata.org/pandas-docs/stable/user_guide/indexing.html#returning-a-view-versus-a-copy\n",
      "  stateonly.end.iloc[:-1] = round(stateonly.start.iloc[1:],3)-0.001\n"
     ]
    },
    {
     "name": "stdout",
     "output_type": "stream",
     "text": [
      "Nov22_Pair37_PPT.nwb\n"
     ]
    },
    {
     "name": "stderr",
     "output_type": "stream",
     "text": [
      "M:\\utilities\\analysis_utilities\\behavior_error_checks.py:70: SettingWithCopyWarning: \n",
      "A value is trying to be set on a copy of a slice from a DataFrame\n",
      "\n",
      "See the caveats in the documentation: https://pandas.pydata.org/pandas-docs/stable/user_guide/indexing.html#returning-a-view-versus-a-copy\n",
      "  stateonly.end.iloc[:-1] = round(stateonly.start.iloc[1:],3)-0.001\n"
     ]
    },
    {
     "name": "stdout",
     "output_type": "stream",
     "text": [
      "Nov22_Pair38_PPT.nwb\n"
     ]
    },
    {
     "name": "stderr",
     "output_type": "stream",
     "text": [
      "M:\\utilities\\analysis_utilities\\behavior_error_checks.py:70: SettingWithCopyWarning: \n",
      "A value is trying to be set on a copy of a slice from a DataFrame\n",
      "\n",
      "See the caveats in the documentation: https://pandas.pydata.org/pandas-docs/stable/user_guide/indexing.html#returning-a-view-versus-a-copy\n",
      "  stateonly.end.iloc[:-1] = round(stateonly.start.iloc[1:],3)-0.001\n"
     ]
    },
    {
     "name": "stdout",
     "output_type": "stream",
     "text": [
      "Nov22_Pair4_PPT.nwb\n"
     ]
    },
    {
     "name": "stderr",
     "output_type": "stream",
     "text": [
      "M:\\utilities\\analysis_utilities\\behavior_error_checks.py:70: SettingWithCopyWarning: \n",
      "A value is trying to be set on a copy of a slice from a DataFrame\n",
      "\n",
      "See the caveats in the documentation: https://pandas.pydata.org/pandas-docs/stable/user_guide/indexing.html#returning-a-view-versus-a-copy\n",
      "  stateonly.end.iloc[:-1] = round(stateonly.start.iloc[1:],3)-0.001\n"
     ]
    },
    {
     "name": "stdout",
     "output_type": "stream",
     "text": [
      "Nov22_Pair40_PPT.nwb\n"
     ]
    },
    {
     "name": "stderr",
     "output_type": "stream",
     "text": [
      "M:\\utilities\\analysis_utilities\\behavior_error_checks.py:70: SettingWithCopyWarning: \n",
      "A value is trying to be set on a copy of a slice from a DataFrame\n",
      "\n",
      "See the caveats in the documentation: https://pandas.pydata.org/pandas-docs/stable/user_guide/indexing.html#returning-a-view-versus-a-copy\n",
      "  stateonly.end.iloc[:-1] = round(stateonly.start.iloc[1:],3)-0.001\n"
     ]
    },
    {
     "name": "stdout",
     "output_type": "stream",
     "text": [
      "Nov22_Pair41_PPT.nwb\n"
     ]
    },
    {
     "name": "stderr",
     "output_type": "stream",
     "text": [
      "M:\\utilities\\analysis_utilities\\behavior_error_checks.py:70: SettingWithCopyWarning: \n",
      "A value is trying to be set on a copy of a slice from a DataFrame\n",
      "\n",
      "See the caveats in the documentation: https://pandas.pydata.org/pandas-docs/stable/user_guide/indexing.html#returning-a-view-versus-a-copy\n",
      "  stateonly.end.iloc[:-1] = round(stateonly.start.iloc[1:],3)-0.001\n"
     ]
    },
    {
     "name": "stdout",
     "output_type": "stream",
     "text": [
      "Nov22_Pair42_PPT.nwb\n"
     ]
    },
    {
     "name": "stderr",
     "output_type": "stream",
     "text": [
      "M:\\utilities\\analysis_utilities\\behavior_error_checks.py:70: SettingWithCopyWarning: \n",
      "A value is trying to be set on a copy of a slice from a DataFrame\n",
      "\n",
      "See the caveats in the documentation: https://pandas.pydata.org/pandas-docs/stable/user_guide/indexing.html#returning-a-view-versus-a-copy\n",
      "  stateonly.end.iloc[:-1] = round(stateonly.start.iloc[1:],3)-0.001\n"
     ]
    },
    {
     "name": "stdout",
     "output_type": "stream",
     "text": [
      "Nov22_Pair43_PPT.nwb\n"
     ]
    },
    {
     "name": "stderr",
     "output_type": "stream",
     "text": [
      "M:\\utilities\\analysis_utilities\\behavior_error_checks.py:70: SettingWithCopyWarning: \n",
      "A value is trying to be set on a copy of a slice from a DataFrame\n",
      "\n",
      "See the caveats in the documentation: https://pandas.pydata.org/pandas-docs/stable/user_guide/indexing.html#returning-a-view-versus-a-copy\n",
      "  stateonly.end.iloc[:-1] = round(stateonly.start.iloc[1:],3)-0.001\n"
     ]
    },
    {
     "name": "stdout",
     "output_type": "stream",
     "text": [
      "Nov22_Pair44_PPT.nwb\n"
     ]
    },
    {
     "name": "stderr",
     "output_type": "stream",
     "text": [
      "M:\\utilities\\analysis_utilities\\behavior_error_checks.py:70: SettingWithCopyWarning: \n",
      "A value is trying to be set on a copy of a slice from a DataFrame\n",
      "\n",
      "See the caveats in the documentation: https://pandas.pydata.org/pandas-docs/stable/user_guide/indexing.html#returning-a-view-versus-a-copy\n",
      "  stateonly.end.iloc[:-1] = round(stateonly.start.iloc[1:],3)-0.001\n"
     ]
    },
    {
     "name": "stdout",
     "output_type": "stream",
     "text": [
      "Nov22_Pair46_PPT.nwb\n"
     ]
    },
    {
     "name": "stderr",
     "output_type": "stream",
     "text": [
      "M:\\utilities\\analysis_utilities\\behavior_error_checks.py:70: SettingWithCopyWarning: \n",
      "A value is trying to be set on a copy of a slice from a DataFrame\n",
      "\n",
      "See the caveats in the documentation: https://pandas.pydata.org/pandas-docs/stable/user_guide/indexing.html#returning-a-view-versus-a-copy\n",
      "  stateonly.end.iloc[:-1] = round(stateonly.start.iloc[1:],3)-0.001\n"
     ]
    },
    {
     "name": "stdout",
     "output_type": "stream",
     "text": [
      "Nov22_Pair47_PPT.nwb\n"
     ]
    },
    {
     "name": "stderr",
     "output_type": "stream",
     "text": [
      "M:\\utilities\\analysis_utilities\\behavior_error_checks.py:70: SettingWithCopyWarning: \n",
      "A value is trying to be set on a copy of a slice from a DataFrame\n",
      "\n",
      "See the caveats in the documentation: https://pandas.pydata.org/pandas-docs/stable/user_guide/indexing.html#returning-a-view-versus-a-copy\n",
      "  stateonly.end.iloc[:-1] = round(stateonly.start.iloc[1:],3)-0.001\n"
     ]
    },
    {
     "name": "stdout",
     "output_type": "stream",
     "text": [
      "Nov22_Pair48_PPT.nwb\n"
     ]
    },
    {
     "name": "stderr",
     "output_type": "stream",
     "text": [
      "M:\\utilities\\analysis_utilities\\behavior_error_checks.py:70: SettingWithCopyWarning: \n",
      "A value is trying to be set on a copy of a slice from a DataFrame\n",
      "\n",
      "See the caveats in the documentation: https://pandas.pydata.org/pandas-docs/stable/user_guide/indexing.html#returning-a-view-versus-a-copy\n",
      "  stateonly.end.iloc[:-1] = round(stateonly.start.iloc[1:],3)-0.001\n"
     ]
    },
    {
     "name": "stdout",
     "output_type": "stream",
     "text": [
      "Nov22_Pair49_PPT.nwb\n"
     ]
    },
    {
     "name": "stderr",
     "output_type": "stream",
     "text": [
      "M:\\utilities\\analysis_utilities\\behavior_error_checks.py:70: SettingWithCopyWarning: \n",
      "A value is trying to be set on a copy of a slice from a DataFrame\n",
      "\n",
      "See the caveats in the documentation: https://pandas.pydata.org/pandas-docs/stable/user_guide/indexing.html#returning-a-view-versus-a-copy\n",
      "  stateonly.end.iloc[:-1] = round(stateonly.start.iloc[1:],3)-0.001\n"
     ]
    },
    {
     "name": "stdout",
     "output_type": "stream",
     "text": [
      "Nov22_Pair5_PPT.nwb\n"
     ]
    },
    {
     "name": "stderr",
     "output_type": "stream",
     "text": [
      "M:\\utilities\\analysis_utilities\\behavior_error_checks.py:70: SettingWithCopyWarning: \n",
      "A value is trying to be set on a copy of a slice from a DataFrame\n",
      "\n",
      "See the caveats in the documentation: https://pandas.pydata.org/pandas-docs/stable/user_guide/indexing.html#returning-a-view-versus-a-copy\n",
      "  stateonly.end.iloc[:-1] = round(stateonly.start.iloc[1:],3)-0.001\n"
     ]
    },
    {
     "name": "stdout",
     "output_type": "stream",
     "text": [
      "Nov22_Pair50_PPT.nwb\n"
     ]
    },
    {
     "name": "stderr",
     "output_type": "stream",
     "text": [
      "M:\\utilities\\analysis_utilities\\behavior_error_checks.py:70: SettingWithCopyWarning: \n",
      "A value is trying to be set on a copy of a slice from a DataFrame\n",
      "\n",
      "See the caveats in the documentation: https://pandas.pydata.org/pandas-docs/stable/user_guide/indexing.html#returning-a-view-versus-a-copy\n",
      "  stateonly.end.iloc[:-1] = round(stateonly.start.iloc[1:],3)-0.001\n"
     ]
    },
    {
     "name": "stdout",
     "output_type": "stream",
     "text": [
      "Nov22_Pair51_PPT.nwb\n"
     ]
    },
    {
     "name": "stderr",
     "output_type": "stream",
     "text": [
      "M:\\utilities\\analysis_utilities\\behavior_error_checks.py:70: SettingWithCopyWarning: \n",
      "A value is trying to be set on a copy of a slice from a DataFrame\n",
      "\n",
      "See the caveats in the documentation: https://pandas.pydata.org/pandas-docs/stable/user_guide/indexing.html#returning-a-view-versus-a-copy\n",
      "  stateonly.end.iloc[:-1] = round(stateonly.start.iloc[1:],3)-0.001\n"
     ]
    },
    {
     "name": "stdout",
     "output_type": "stream",
     "text": [
      "Nov22_Pair52_PPT.nwb\n"
     ]
    },
    {
     "name": "stderr",
     "output_type": "stream",
     "text": [
      "M:\\utilities\\analysis_utilities\\behavior_error_checks.py:70: SettingWithCopyWarning: \n",
      "A value is trying to be set on a copy of a slice from a DataFrame\n",
      "\n",
      "See the caveats in the documentation: https://pandas.pydata.org/pandas-docs/stable/user_guide/indexing.html#returning-a-view-versus-a-copy\n",
      "  stateonly.end.iloc[:-1] = round(stateonly.start.iloc[1:],3)-0.001\n"
     ]
    },
    {
     "name": "stdout",
     "output_type": "stream",
     "text": [
      "Nov22_Pair56_PPT.nwb\n"
     ]
    },
    {
     "name": "stderr",
     "output_type": "stream",
     "text": [
      "M:\\utilities\\analysis_utilities\\behavior_error_checks.py:70: SettingWithCopyWarning: \n",
      "A value is trying to be set on a copy of a slice from a DataFrame\n",
      "\n",
      "See the caveats in the documentation: https://pandas.pydata.org/pandas-docs/stable/user_guide/indexing.html#returning-a-view-versus-a-copy\n",
      "  stateonly.end.iloc[:-1] = round(stateonly.start.iloc[1:],3)-0.001\n"
     ]
    },
    {
     "name": "stdout",
     "output_type": "stream",
     "text": [
      "Nov22_Pair57_PPT.nwb\n"
     ]
    },
    {
     "name": "stderr",
     "output_type": "stream",
     "text": [
      "M:\\utilities\\analysis_utilities\\behavior_error_checks.py:70: SettingWithCopyWarning: \n",
      "A value is trying to be set on a copy of a slice from a DataFrame\n",
      "\n",
      "See the caveats in the documentation: https://pandas.pydata.org/pandas-docs/stable/user_guide/indexing.html#returning-a-view-versus-a-copy\n",
      "  stateonly.end.iloc[:-1] = round(stateonly.start.iloc[1:],3)-0.001\n"
     ]
    },
    {
     "name": "stdout",
     "output_type": "stream",
     "text": [
      "Nov22_Pair58_PPT.nwb\n"
     ]
    },
    {
     "name": "stderr",
     "output_type": "stream",
     "text": [
      "M:\\utilities\\analysis_utilities\\behavior_error_checks.py:70: SettingWithCopyWarning: \n",
      "A value is trying to be set on a copy of a slice from a DataFrame\n",
      "\n",
      "See the caveats in the documentation: https://pandas.pydata.org/pandas-docs/stable/user_guide/indexing.html#returning-a-view-versus-a-copy\n",
      "  stateonly.end.iloc[:-1] = round(stateonly.start.iloc[1:],3)-0.001\n"
     ]
    },
    {
     "name": "stdout",
     "output_type": "stream",
     "text": [
      "Nov22_Pair59_PPT.nwb\n"
     ]
    },
    {
     "name": "stderr",
     "output_type": "stream",
     "text": [
      "M:\\utilities\\analysis_utilities\\behavior_error_checks.py:70: SettingWithCopyWarning: \n",
      "A value is trying to be set on a copy of a slice from a DataFrame\n",
      "\n",
      "See the caveats in the documentation: https://pandas.pydata.org/pandas-docs/stable/user_guide/indexing.html#returning-a-view-versus-a-copy\n",
      "  stateonly.end.iloc[:-1] = round(stateonly.start.iloc[1:],3)-0.001\n"
     ]
    },
    {
     "name": "stdout",
     "output_type": "stream",
     "text": [
      "Nov22_Pair6_PPT.nwb\n"
     ]
    },
    {
     "name": "stderr",
     "output_type": "stream",
     "text": [
      "M:\\utilities\\analysis_utilities\\behavior_error_checks.py:70: SettingWithCopyWarning: \n",
      "A value is trying to be set on a copy of a slice from a DataFrame\n",
      "\n",
      "See the caveats in the documentation: https://pandas.pydata.org/pandas-docs/stable/user_guide/indexing.html#returning-a-view-versus-a-copy\n",
      "  stateonly.end.iloc[:-1] = round(stateonly.start.iloc[1:],3)-0.001\n"
     ]
    },
    {
     "name": "stdout",
     "output_type": "stream",
     "text": [
      "Nov22_Pair61_PPT.nwb\n"
     ]
    },
    {
     "name": "stderr",
     "output_type": "stream",
     "text": [
      "M:\\utilities\\analysis_utilities\\behavior_error_checks.py:70: SettingWithCopyWarning: \n",
      "A value is trying to be set on a copy of a slice from a DataFrame\n",
      "\n",
      "See the caveats in the documentation: https://pandas.pydata.org/pandas-docs/stable/user_guide/indexing.html#returning-a-view-versus-a-copy\n",
      "  stateonly.end.iloc[:-1] = round(stateonly.start.iloc[1:],3)-0.001\n"
     ]
    },
    {
     "name": "stdout",
     "output_type": "stream",
     "text": [
      "Nov22_Pair62_PPT.nwb\n"
     ]
    },
    {
     "name": "stderr",
     "output_type": "stream",
     "text": [
      "M:\\utilities\\analysis_utilities\\behavior_error_checks.py:70: SettingWithCopyWarning: \n",
      "A value is trying to be set on a copy of a slice from a DataFrame\n",
      "\n",
      "See the caveats in the documentation: https://pandas.pydata.org/pandas-docs/stable/user_guide/indexing.html#returning-a-view-versus-a-copy\n",
      "  stateonly.end.iloc[:-1] = round(stateonly.start.iloc[1:],3)-0.001\n"
     ]
    },
    {
     "name": "stdout",
     "output_type": "stream",
     "text": [
      "Nov22_Pair63_PPT.nwb\n"
     ]
    },
    {
     "name": "stderr",
     "output_type": "stream",
     "text": [
      "M:\\utilities\\analysis_utilities\\behavior_error_checks.py:70: SettingWithCopyWarning: \n",
      "A value is trying to be set on a copy of a slice from a DataFrame\n",
      "\n",
      "See the caveats in the documentation: https://pandas.pydata.org/pandas-docs/stable/user_guide/indexing.html#returning-a-view-versus-a-copy\n",
      "  stateonly.end.iloc[:-1] = round(stateonly.start.iloc[1:],3)-0.001\n"
     ]
    },
    {
     "name": "stdout",
     "output_type": "stream",
     "text": [
      "Nov22_Pair64_PPT.nwb\n"
     ]
    },
    {
     "name": "stderr",
     "output_type": "stream",
     "text": [
      "M:\\utilities\\analysis_utilities\\behavior_error_checks.py:70: SettingWithCopyWarning: \n",
      "A value is trying to be set on a copy of a slice from a DataFrame\n",
      "\n",
      "See the caveats in the documentation: https://pandas.pydata.org/pandas-docs/stable/user_guide/indexing.html#returning-a-view-versus-a-copy\n",
      "  stateonly.end.iloc[:-1] = round(stateonly.start.iloc[1:],3)-0.001\n"
     ]
    },
    {
     "name": "stdout",
     "output_type": "stream",
     "text": [
      "Nov22_Pair7_PPT.nwb\n"
     ]
    },
    {
     "name": "stderr",
     "output_type": "stream",
     "text": [
      "M:\\utilities\\analysis_utilities\\behavior_error_checks.py:70: SettingWithCopyWarning: \n",
      "A value is trying to be set on a copy of a slice from a DataFrame\n",
      "\n",
      "See the caveats in the documentation: https://pandas.pydata.org/pandas-docs/stable/user_guide/indexing.html#returning-a-view-versus-a-copy\n",
      "  stateonly.end.iloc[:-1] = round(stateonly.start.iloc[1:],3)-0.001\n"
     ]
    },
    {
     "name": "stdout",
     "output_type": "stream",
     "text": [
      "Nov22_Pair8_PPT.nwb\n"
     ]
    },
    {
     "name": "stderr",
     "output_type": "stream",
     "text": [
      "M:\\utilities\\analysis_utilities\\behavior_error_checks.py:70: SettingWithCopyWarning: \n",
      "A value is trying to be set on a copy of a slice from a DataFrame\n",
      "\n",
      "See the caveats in the documentation: https://pandas.pydata.org/pandas-docs/stable/user_guide/indexing.html#returning-a-view-versus-a-copy\n",
      "  stateonly.end.iloc[:-1] = round(stateonly.start.iloc[1:],3)-0.001\n"
     ]
    }
   ],
   "source": [
    "# ----- NWB set up -----\n",
    "\n",
    "# 1. Set up user parameters\n",
    "# 2. Loop over metadata file\n",
    "# 3. Get and set up metadata\n",
    "# 4. Set up behavior table\n",
    "# 5. Write nwb file\n",
    "\n",
    "# -- set parameters\n",
    "lab = \"Manoli @ UCSF\"\n",
    "exclude_flag = False\n",
    "# path to storage for NWB files\n",
    "nwbfile_path = os.path.join('M:\\\\','scn2a-paper-GWJSNH','NWB-files')\n",
    "# whether to write NWB files to disk yet\n",
    "write_NWB_to_disk = False\n",
    "\n",
    "# load metadata\n",
    "meta = pd.read_csv(metadata_file)\n",
    "meta.FocalColor = meta.FocalColor.apply(literal_eval) # convert the colors to real arrays\n",
    "\n",
    "# -- loop over metadata\n",
    "for i, ptag in enumerate(meta.PairTag):\n",
    "    assay_type = meta.AssayType[i]\n",
    "    nwbfilename = f'{ptag}_{assay_type}.nwb'\n",
    "    print(nwbfilename)\n",
    "    \n",
    "    # check if file already exists\n",
    "    wfullpath = os.path.join(nwbfile_path,nwbfilename)    \n",
    "    if not os.path.exists(wfullpath):    \n",
    "        \n",
    "        # get session specific metadata\n",
    "        thisdate = str(meta.RecDate[i])\n",
    "        pairdate = str(meta.PairDate[i])\n",
    "        \n",
    "        # calculate days post pairing\n",
    "        rdate = date(int(thisdate[0:4]),int(thisdate[4:6]),int(thisdate[6:]))\n",
    "        pdate = date(int(pairdate[0:4]),int(pairdate[4:6]),int(pairdate[6:]))\n",
    "        dpp = rdate-pdate\n",
    "\n",
    "        # set up recording time... it would be nice to get actual video data for the times\n",
    "        datepieces = get_date_from_block(thisdate)\n",
    "        rtime = meta.RecTime[i]\n",
    "        timepieces = rtime.split(':')\n",
    "        sess_start = datetime(datepieces[0],datepieces[1],datepieces[2],int(timepieces[0]),int(timepieces[1]),0,0,tzlocal())\n",
    "\n",
    "        session_description = f'Behavioral annotations from pair {ptag} in a(n) {assay_type} assay.'\n",
    "\n",
    "        # make NWB file\n",
    "        nwbfile = NWBFile(\n",
    "            session_description=session_description,\n",
    "            identifier = str(uuid4()),\n",
    "            session_start_time = sess_start,\n",
    "            lab=lab,\n",
    "            experimenter=meta.RanBy[i],\n",
    "            session_id = nwbfilename[0:-4], # check this\n",
    "        )\n",
    "\n",
    "        # add subject info\n",
    "        nwbfile.subject = Subject(\n",
    "            subject_id = meta.FocalID[i],\n",
    "            species = 'Microtus ochrogaster',\n",
    "            sex = meta.FocalSex[i],\n",
    "            genotype = meta.FocalGT[i]\n",
    "        )\n",
    "\n",
    "        # get assay duration\n",
    "        duration = float(meta.AssayDuration[i])\n",
    "\n",
    "        # figure out partner info\n",
    "        if meta.FocalSex[i]=='F':\n",
    "            pID = meta.MaleID[i]\n",
    "            pGT = meta.MaleGT[i]\n",
    "        elif meta.FocalSex[i]=='M':\n",
    "            pID = meta.FemaleID[i]\n",
    "            pGT = meta.MaleGT[i]\n",
    "        else:\n",
    "            print(f'Focal sex is neither F nor M; something is wrong with {ptag}.')\n",
    "\n",
    "        # TODO convert these to date objects and make sure this works\n",
    "        # figure out time since pairing\n",
    "        days = meta.RecDate[i] - meta.PairDate[i]\n",
    "\n",
    "        # add lab metadata\n",
    "        metaObj = AssayMetadata(\n",
    "                        assay_type=assay_type,\n",
    "                        exclude_flag=exclude_flag,\n",
    "                        duration=duration,\n",
    "                        room=str(meta.AssayRoom[i]),\n",
    "                        timeline=str(meta.Timeline[i]),\n",
    "                        ethogram=str(meta.Ethogram[i]),\n",
    "                        experimenter=str(meta.ScoredBy[i]),\n",
    "                        timeline_complete=meta.FullTimeline[i],\n",
    "                        colors=meta.FocalColor[i][0],\n",
    "                        assay_type__partner_GT='WT',\n",
    "                        assay_type__description='Standard PPT (vocal series).',\n",
    "                        assay_type__days_post_pairing=int(dpp.days),\n",
    "                        assay_type__divided=False,\n",
    "                        assay_type__stranger_GT='WT',\n",
    "                        assay_type__PPT_lane=meta.PPTlane[i],\n",
    "                        assay_type__partner_chamber=meta.PartnerChamber[i],\n",
    "                        assay_type__left_GT=meta.LeftGT[i],\n",
    "                        assay_type__left_sex=meta.LeftSex[i],\n",
    "                        assay_type__right_GT=meta.RightGT[i],\n",
    "                        assay_type__right_sex=meta.RightSex[i],\n",
    "                        assay_type__left_type=meta.LeftType[i],\n",
    "                        assay_type__right_type=meta.RightType[i],\n",
    "                        assay_type__annotations=os.path.join(meta.ScorePath[i],meta.ScoreFile[i]),\n",
    "                        )\n",
    "\n",
    "\n",
    "        # Add the test LabMetaDataExtensionExample to the NWBFile\n",
    "        nwbfile.add_lab_meta_data(lab_meta_data=metaObj)\n",
    "\n",
    "        # Add video file\n",
    "        video_ext_file = ImageSeries(\n",
    "            name='behaviorVideo',\n",
    "            description='Raw original video.',\n",
    "            unit='n.a.',\n",
    "            external_file=[os.path.join(meta.VideoPath[i],meta.VideoFile[i])],\n",
    "            format='external',\n",
    "            starting_time=0.0,\n",
    "            rate=25.0,\n",
    "        )\n",
    "\n",
    "        nwbfile.add_acquisition(video_ext_file)\n",
    "\n",
    "        # --- Add annotated behavior data\n",
    "\n",
    "        # Make sure these files are downloaded with the same path configuration as listed in the metadata\n",
    "        # Or adjust here as I did with telling the code to go up a level\n",
    "        scoretab = pd.read_csv(os.path.join('..',meta.ScorePath[i],meta.ScoreFile[i])) # load up csv of annotations\n",
    "\n",
    "        # change problematic column names\n",
    "        scoretab.rename(columns={'Start (s)':'start'}, inplace=True)\n",
    "        scoretab.rename(columns={'Stop (s)':'end'}, inplace=True)\n",
    "        scoretab.rename(columns={'Duration (s)':'duration'}, inplace=True)\n",
    "        scoretab.rename(columns={'Behavior type':'behavior_type'}, inplace=True)\n",
    "\n",
    "        # --- Clean up small gaps in the behavior table\n",
    "        # this assumes the score files have already been reviewed for major problems; everything at this stage should pass\n",
    "        \n",
    "        cleantab = set_event_ends(scoretab)\n",
    "        \n",
    "        # make NWB object corresponding to the annotation table\n",
    "        behavior_intervals = TimeIntervals(name=\"annotated_behavior\",\n",
    "            description=\"Intervals of scored behavior.\")\n",
    "\n",
    "        behavior_intervals.add_column(name=\"behavior\", description=\"The annotation from the ethogram.\")\n",
    "        behavior_intervals.add_column(name=\"duration\", description=\"Duration of the behavior.\")\n",
    "        behavior_intervals.add_column(name=\"atype\", description=\"Point or state event.\")\n",
    "\n",
    "        # populate table\n",
    "        for i, start in enumerate(cleantab.start):\n",
    "            end = cleantab.end[i]\n",
    "            behav = cleantab.Behavior[i]\n",
    "            atype = cleantab.behavior_type[i]\n",
    "            dur = cleantab.duration[i]\n",
    "            behavior_intervals.add_row(start_time=start,stop_time=end,behavior=behav,atype=atype,duration=dur)\n",
    "\n",
    "        # add to NWB file\n",
    "        nwbfile.add_time_intervals(behavior_intervals)"
   ]
  },
  {
   "cell_type": "code",
   "execution_count": 15,
   "id": "ea2fec67",
   "metadata": {},
   "outputs": [
    {
     "data": {
      "text/plain": [
       "[245, 201, 39]"
      ]
     },
     "execution_count": 15,
     "metadata": {},
     "output_type": "execute_result"
    }
   ],
   "source": [
    "meta.FocalColor[i][0]"
   ]
  },
  {
   "cell_type": "code",
   "execution_count": 17,
   "id": "61e4b367",
   "metadata": {},
   "outputs": [
    {
     "data": {
      "text/html": [
       "\n",
       "        <style>\n",
       "            .container-fields {\n",
       "                font-family: \"Open Sans\", Arial, sans-serif;\n",
       "            }\n",
       "            .container-fields .field-value {\n",
       "                color: #00788E;\n",
       "            }\n",
       "            .container-fields details > summary {\n",
       "                cursor: pointer;\n",
       "                display: list-item;\n",
       "            }\n",
       "            .container-fields details > summary:hover {\n",
       "                color: #0A6EAA;\n",
       "            }\n",
       "        </style>\n",
       "        \n",
       "        <script>\n",
       "            function copyToClipboard(text) {\n",
       "                navigator.clipboard.writeText(text).then(function() {\n",
       "                    console.log('Copied to clipboard: ' + text);\n",
       "                }, function(err) {\n",
       "                    console.error('Could not copy text: ', err);\n",
       "                });\n",
       "            }\n",
       "\n",
       "            document.addEventListener('DOMContentLoaded', function() {\n",
       "                let fieldKeys = document.querySelectorAll('.container-fields .field-key');\n",
       "                fieldKeys.forEach(function(fieldKey) {\n",
       "                    fieldKey.addEventListener('click', function() {\n",
       "                        let accessCode = fieldKey.getAttribute('title').replace('Access code: ', '');\n",
       "                        copyToClipboard(accessCode);\n",
       "                    });\n",
       "                });\n",
       "            });\n",
       "        </script>\n",
       "        <div class='container-wrap'><div class='container-header'><div class='xr-obj-type'><h3>root (NWBFile)</h3></div></div><div style=\"margin-left: 0px;\" class=\"container-fields\"><span class=\"field-key\" title=\".session_description\">session_description: </span><span class=\"field-value\">Behavioral annotations from pair Nov22_Pair8 in a(n) PPT assay.</span></div><div style=\"margin-left: 0px;\" class=\"container-fields\"><span class=\"field-key\" title=\".identifier\">identifier: </span><span class=\"field-value\">62550abc-9cc0-4ffb-a014-53a4d23d8fea</span></div><details><summary style=\"display: list-item; margin-left: 0px;\" class=\"container-fields field-key\" title=\".session_start_time\"><b>session_start_time</b></summary><span class=\"field-key\">2022-12-02 13:33:00-08:00</span></details><details><summary style=\"display: list-item; margin-left: 0px;\" class=\"container-fields field-key\" title=\".timestamps_reference_time\"><b>timestamps_reference_time</b></summary><span class=\"field-key\">2022-12-02 13:33:00-08:00</span></details><details><summary style=\"display: list-item; margin-left: 0px;\" class=\"container-fields field-key\" title=\".file_create_date\"><b>file_create_date</b></summary><details><summary style=\"display: list-item; margin-left: 20px;\" class=\"container-fields field-key\" title=\".file_create_date[0]\"><b>0</b></summary><span class=\"field-key\">2024-06-11 11:02:27.570378-07:00</span></details></details><details><summary style=\"display: list-item; margin-left: 0px;\" class=\"container-fields field-key\" title=\".experimenter\"><b>experimenter</b></summary><span class=\"field-key\">('Gina Williams',)</span></details><details><summary style=\"display: list-item; margin-left: 0px;\" class=\"container-fields field-key\" title=\".epoch_tags\"><b>epoch_tags</b></summary><span class=\"field-key\">set()</span></details><div style=\"margin-left: 0px;\" class=\"container-fields\"><span class=\"field-key\" title=\".session_id\">session_id: </span><span class=\"field-value\">Nov22_Pair8_PPT</span></div><div style=\"margin-left: 0px;\" class=\"container-fields\"><span class=\"field-key\" title=\".lab\">lab: </span><span class=\"field-value\">Manoli @ UCSF</span></div><details><summary style=\"display: list-item; margin-left: 0px;\" class=\"container-fields field-key\" title=\".subject\"><b>subject</b></summary><div style=\"margin-left: 20px;\" class=\"container-fields\"><span class=\"field-key\" title=\".subject.age__reference\">age__reference: </span><span class=\"field-value\">birth</span></div><div style=\"margin-left: 20px;\" class=\"container-fields\"><span class=\"field-key\" title=\".subject.genotype\">genotype: </span><span class=\"field-value\">WT</span></div><div style=\"margin-left: 20px;\" class=\"container-fields\"><span class=\"field-key\" title=\".subject.sex\">sex: </span><span class=\"field-value\">F</span></div><div style=\"margin-left: 20px;\" class=\"container-fields\"><span class=\"field-key\" title=\".subject.species\">species: </span><span class=\"field-value\">Microtus ochrogaster</span></div><div style=\"margin-left: 20px;\" class=\"container-fields\"><span class=\"field-key\" title=\".subject.subject_id\">subject_id: </span><span class=\"field-value\">B8019</span></div></details><details><summary style=\"display: list-item; margin-left: 0px;\" class=\"container-fields field-key\" title=\".lab_meta_data\"><b>lab_meta_data</b></summary><details><summary style=\"display: list-item; margin-left: 20px;\" class=\"container-fields field-key\" title=\".lab_meta_data['vole_metadata']\"><b>vole_metadata</b></summary><div style=\"margin-left: 40px;\" class=\"container-fields\"><span class=\"field-key\" title=\".lab_meta_data['vole_metadata'].assay_type\">assay_type: </span><span class=\"field-value\">PPT</span></div><div style=\"margin-left: 40px;\" class=\"container-fields\"><span class=\"field-key\" title=\".lab_meta_data['vole_metadata'].assay_type__description\">assay_type__description: </span><span class=\"field-value\">Standard PPT (vocal series).</span></div><div style=\"margin-left: 40px;\" class=\"container-fields\"><span class=\"field-key\" title=\".lab_meta_data['vole_metadata'].assay_type__partner_GT\">assay_type__partner_GT: </span><span class=\"field-value\">WT</span></div><div style=\"margin-left: 40px;\" class=\"container-fields\"><span class=\"field-key\" title=\".lab_meta_data['vole_metadata'].assay_type__days_post_pairing\">assay_type__days_post_pairing: </span><span class=\"field-value\">3</span></div><div style=\"margin-left: 40px;\" class=\"container-fields\"><span class=\"field-key\" title=\".lab_meta_data['vole_metadata'].assay_type__stranger_GT\">assay_type__stranger_GT: </span><span class=\"field-value\">WT</span></div><details><summary style=\"display: list-item; margin-left: 40px;\" class=\"container-fields field-key\" title=\".lab_meta_data['vole_metadata'].assay_type__PPT_lane\"><b>assay_type__PPT_lane</b></summary><span class=\"field-key\">4</span></details><div style=\"margin-left: 40px;\" class=\"container-fields\"><span class=\"field-key\" title=\".lab_meta_data['vole_metadata'].assay_type__partner_chamber\">assay_type__partner_chamber: </span><span class=\"field-value\">Left</span></div><div style=\"margin-left: 40px;\" class=\"container-fields\"><span class=\"field-key\" title=\".lab_meta_data['vole_metadata'].assay_type__divided\">assay_type__divided: </span><span class=\"field-value\">False</span></div><div style=\"margin-left: 40px;\" class=\"container-fields\"><span class=\"field-key\" title=\".lab_meta_data['vole_metadata'].assay_type__left_GT\">assay_type__left_GT: </span><span class=\"field-value\">WT</span></div><div style=\"margin-left: 40px;\" class=\"container-fields\"><span class=\"field-key\" title=\".lab_meta_data['vole_metadata'].assay_type__left_sex\">assay_type__left_sex: </span><span class=\"field-value\">M</span></div><div style=\"margin-left: 40px;\" class=\"container-fields\"><span class=\"field-key\" title=\".lab_meta_data['vole_metadata'].assay_type__left_type\">assay_type__left_type: </span><span class=\"field-value\">Partner</span></div><div style=\"margin-left: 40px;\" class=\"container-fields\"><span class=\"field-key\" title=\".lab_meta_data['vole_metadata'].assay_type__right_GT\">assay_type__right_GT: </span><span class=\"field-value\">WT</span></div><div style=\"margin-left: 40px;\" class=\"container-fields\"><span class=\"field-key\" title=\".lab_meta_data['vole_metadata'].assay_type__right_sex\">assay_type__right_sex: </span><span class=\"field-value\">M</span></div><div style=\"margin-left: 40px;\" class=\"container-fields\"><span class=\"field-key\" title=\".lab_meta_data['vole_metadata'].assay_type__right_type\">assay_type__right_type: </span><span class=\"field-value\">Stranger</span></div><div style=\"margin-left: 40px;\" class=\"container-fields\"><span class=\"field-key\" title=\".lab_meta_data['vole_metadata'].exclude_flag\">exclude_flag: </span><span class=\"field-value\">False</span></div><div style=\"margin-left: 40px;\" class=\"container-fields\"><span class=\"field-key\" title=\".lab_meta_data['vole_metadata'].duration\">duration: </span><span class=\"field-value\">10800.0</span></div><div style=\"margin-left: 40px;\" class=\"container-fields\"><span class=\"field-key\" title=\".lab_meta_data['vole_metadata'].room\">room: </span><span class=\"field-value\">nan</span></div><div style=\"margin-left: 40px;\" class=\"container-fields\"><span class=\"field-key\" title=\".lab_meta_data['vole_metadata'].timeline\">timeline: </span><span class=\"field-value\">nan</span></div><div style=\"margin-left: 40px;\" class=\"container-fields\"><span class=\"field-key\" title=\".lab_meta_data['vole_metadata'].ethogram\">ethogram: </span><span class=\"field-value\">nan</span></div><div style=\"margin-left: 40px;\" class=\"container-fields\"><span class=\"field-key\" title=\".lab_meta_data['vole_metadata'].experimenter\">experimenter: </span><span class=\"field-value\">Gina Williams</span></div><details><summary style=\"display: list-item; margin-left: 40px;\" class=\"container-fields field-key\" title=\".lab_meta_data['vole_metadata'].timeline_complete\"><b>timeline_complete</b></summary><span class=\"field-key\">True</span></details><details><summary style=\"display: list-item; margin-left: 40px;\" class=\"container-fields field-key\" title=\".lab_meta_data['vole_metadata'].colors\"><b>colors</b></summary><div style=\"margin-left: 60px;\" class=\"container-fields\"><span class=\"field-key\" title=\".lab_meta_data['vole_metadata'].colors[0]\">0: </span><span class=\"field-value\">160</span></div><div style=\"margin-left: 60px;\" class=\"container-fields\"><span class=\"field-key\" title=\".lab_meta_data['vole_metadata'].colors[0][1]\">1: </span><span class=\"field-value\">146</span></div><div style=\"margin-left: 60px;\" class=\"container-fields\"><span class=\"field-key\" title=\".lab_meta_data['vole_metadata'].colors[0][1][2]\">2: </span><span class=\"field-value\">95</span></div></details></details></details><details><summary style=\"display: list-item; margin-left: 0px;\" class=\"container-fields field-key\" title=\".acquisition\"><b>acquisition</b></summary><details><summary style=\"display: list-item; margin-left: 20px;\" class=\"container-fields field-key\" title=\".acquisition['behaviorVideo']\"><b>behaviorVideo</b></summary><div style=\"margin-left: 40px;\" class=\"container-fields\"><span class=\"field-key\" title=\".acquisition['behaviorVideo'].starting_time\">starting_time: </span><span class=\"field-value\">0.0</span></div><div style=\"margin-left: 40px;\" class=\"container-fields\"><span class=\"field-key\" title=\".acquisition['behaviorVideo'].rate\">rate: </span><span class=\"field-value\">25.0</span></div><div style=\"margin-left: 40px;\" class=\"container-fields\"><span class=\"field-key\" title=\".acquisition['behaviorVideo'].resolution\">resolution: </span><span class=\"field-value\">-1.0</span></div><div style=\"margin-left: 40px;\" class=\"container-fields\"><span class=\"field-key\" title=\".acquisition['behaviorVideo'].comments\">comments: </span><span class=\"field-value\">no comments</span></div><div style=\"margin-left: 40px;\" class=\"container-fields\"><span class=\"field-key\" title=\".acquisition['behaviorVideo'].description\">description: </span><span class=\"field-value\">Raw original video.</span></div><div style=\"margin-left: 40px;\" class=\"container-fields\"><span class=\"field-key\" title=\".acquisition['behaviorVideo'].conversion\">conversion: </span><span class=\"field-value\">1.0</span></div><div style=\"margin-left: 40px;\" class=\"container-fields\"><span class=\"field-key\" title=\".acquisition['behaviorVideo'].offset\">offset: </span><span class=\"field-value\">0.0</span></div><div style=\"margin-left: 40px;\" class=\"container-fields\"><span class=\"field-key\" title=\".acquisition['behaviorVideo'].unit\">unit: </span><span class=\"field-value\">n.a.</span></div><details><summary style=\"display: list-item; margin-left: 40px;\" class=\"container-fields field-key\" title=\".acquisition['behaviorVideo'].data\"><b>data</b></summary><div style=\"margin-left: 60px;\" class=\"container-fields\">[]</div></details><div style=\"margin-left: 40px;\" class=\"container-fields\"><span class=\"field-key\" title=\".acquisition['behaviorVideo'].starting_time_unit\">starting_time_unit: </span><span class=\"field-value\">seconds</span></div><details><summary style=\"display: list-item; margin-left: 40px;\" class=\"container-fields field-key\" title=\".acquisition['behaviorVideo'].external_file\"><b>external_file</b></summary><div style=\"margin-left: 60px;\" class=\"container-fields\"><span class=\"field-key\" title=\".acquisition['behaviorVideo'].external_file[0]\">0: </span><span class=\"field-value\">\\Scn2a_X1Behavior_Nov22\\Female PPTs\\12022022\\Nov22_pair8_PPT_2022-12-02 13-34-29.mkv</span></div></details><details><summary style=\"display: list-item; margin-left: 40px;\" class=\"container-fields field-key\" title=\".acquisition['behaviorVideo'].starting_frame\"><b>starting_frame</b></summary><div style=\"margin-left: 60px;\" class=\"container-fields\"><span class=\"field-key\" title=\".acquisition['behaviorVideo'].starting_frame[0]\">0: </span><span class=\"field-value\">0</span></div></details><div style=\"margin-left: 40px;\" class=\"container-fields\"><span class=\"field-key\" title=\".acquisition['behaviorVideo'].format\">format: </span><span class=\"field-value\">external</span></div></details></details><details><summary style=\"display: list-item; margin-left: 0px;\" class=\"container-fields field-key\" title=\".intervals\"><b>intervals</b></summary><details><summary style=\"display: list-item; margin-left: 20px;\" class=\"container-fields field-key\" title=\".intervals['annotated_behavior']\"><b>annotated_behavior</b></summary><div style=\"margin-left: 40px;\" class=\"container-fields\"><span class=\"field-key\" title=\".intervals['annotated_behavior']\">description: </span><span class=\"field-value\">Intervals of scored behavior.</span></div><details><summary style=\"display: list-item; margin-left: 40px;\" class=\"container-fields field-key\" title=\".intervals['annotated_behavior']\"><b>table</b></summary><table border=\"1\" class=\"dataframe\">\n",
       "  <thead>\n",
       "    <tr style=\"text-align: right;\">\n",
       "      <th></th>\n",
       "      <th>start_time</th>\n",
       "      <th>stop_time</th>\n",
       "      <th>behavior</th>\n",
       "      <th>duration</th>\n",
       "      <th>atype</th>\n",
       "    </tr>\n",
       "    <tr>\n",
       "      <th>id</th>\n",
       "      <th></th>\n",
       "      <th></th>\n",
       "      <th></th>\n",
       "      <th></th>\n",
       "      <th></th>\n",
       "    </tr>\n",
       "  </thead>\n",
       "  <tbody>\n",
       "    <tr>\n",
       "      <th>0</th>\n",
       "      <td>21.433</td>\n",
       "      <td>21.433</td>\n",
       "      <td>Start assay</td>\n",
       "      <td>NaN</td>\n",
       "      <td>POINT</td>\n",
       "    </tr>\n",
       "    <tr>\n",
       "      <th>1</th>\n",
       "      <td>21.434</td>\n",
       "      <td>22.327</td>\n",
       "      <td>Center</td>\n",
       "      <td>0.893</td>\n",
       "      <td>STATE</td>\n",
       "    </tr>\n",
       "    <tr>\n",
       "      <th>2</th>\n",
       "      <td>22.328</td>\n",
       "      <td>28.215</td>\n",
       "      <td>Right</td>\n",
       "      <td>5.887</td>\n",
       "      <td>STATE</td>\n",
       "    </tr>\n",
       "    <tr>\n",
       "      <th>3</th>\n",
       "      <td>28.216</td>\n",
       "      <td>29.750</td>\n",
       "      <td>Interact Right</td>\n",
       "      <td>1.534</td>\n",
       "      <td>STATE</td>\n",
       "    </tr>\n",
       "  </tbody>\n",
       "</table><p>... and 1633 more rows.</p></details></details></details></div>"
      ],
      "text/plain": [
       "root pynwb.file.NWBFile at 0x2638475742224\n",
       "Fields:\n",
       "  acquisition: {\n",
       "    behaviorVideo <class 'pynwb.image.ImageSeries'>\n",
       "  }\n",
       "  experimenter: ['Gina Williams']\n",
       "  file_create_date: [datetime.datetime(2024, 6, 11, 11, 2, 27, 570378, tzinfo=tzlocal())]\n",
       "  identifier: 62550abc-9cc0-4ffb-a014-53a4d23d8fea\n",
       "  intervals: {\n",
       "    annotated_behavior <class 'pynwb.epoch.TimeIntervals'>\n",
       "  }\n",
       "  lab: Manoli @ UCSF\n",
       "  lab_meta_data: {\n",
       "    vole_metadata <class 'abc.AssayMetadata'>\n",
       "  }\n",
       "  session_description: Behavioral annotations from pair Nov22_Pair8 in a(n) PPT assay.\n",
       "  session_id: Nov22_Pair8_PPT\n",
       "  session_start_time: 2022-12-02 13:33:00-08:00\n",
       "  subject: subject pynwb.file.Subject at 0x2638475742608\n",
       "Fields:\n",
       "  age__reference: birth\n",
       "  genotype: WT\n",
       "  sex: F\n",
       "  species: Microtus ochrogaster\n",
       "  subject_id: B8019\n",
       "\n",
       "  timestamps_reference_time: 2022-12-02 13:33:00-08:00"
      ]
     },
     "execution_count": 17,
     "metadata": {},
     "output_type": "execute_result"
    }
   ],
   "source": [
    "nwbfile"
   ]
  },
  {
   "cell_type": "code",
   "execution_count": null,
   "id": "23159568",
   "metadata": {},
   "outputs": [],
   "source": []
  }
 ],
 "metadata": {
  "kernelspec": {
   "display_name": "Python 3 (ipykernel)",
   "language": "python",
   "name": "python3"
  },
  "language_info": {
   "codemirror_mode": {
    "name": "ipython",
    "version": 3
   },
   "file_extension": ".py",
   "mimetype": "text/x-python",
   "name": "python",
   "nbconvert_exporter": "python",
   "pygments_lexer": "ipython3",
   "version": "3.10.6"
  }
 },
 "nbformat": 4,
 "nbformat_minor": 5
}
