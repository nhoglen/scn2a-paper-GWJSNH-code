{
 "cells": [
  {
   "cell_type": "code",
   "execution_count": 148,
   "id": "26d55988",
   "metadata": {},
   "outputs": [],
   "source": [
    "import numpy as np\n",
    "import pandas as pd\n",
    "import os\n",
    "import warnings\n",
    "import librosa\n",
    "import matplotlib.pyplot as plt\n",
    "import matplotlib.colors as mcolors\n",
    "import seaborn as sns\n",
    "from random import shuffle\n",
    "import scipy.stats as st\n",
    "\n",
    "from pynwb import NWBHDF5IO\n",
    "from pynwb.image import ImageSeries\n",
    "from pynwb.epoch import TimeIntervals"
   ]
  },
  {
   "cell_type": "code",
   "execution_count": 7,
   "id": "ea3f176c",
   "metadata": {},
   "outputs": [],
   "source": [
    "nwbpath = 'M:\\\\scn2a-paper-GWJSNH\\\\NWB-files'\n",
    "usefield = 'annotated_behavior'\n",
    "\n",
    "assay = 'timedMating'\n",
    "allnwb = []\n",
    "allnwb += [os.path.join(nwbpath,each) for each in os.listdir(nwbpath) if assay in each]"
   ]
  },
  {
   "cell_type": "code",
   "execution_count": 8,
   "id": "6d512f81",
   "metadata": {},
   "outputs": [
    {
     "data": {
      "text/plain": [
       "['M:\\\\scn2a-paper-GWJSNH\\\\NWB-files\\\\Nov22_Pair15_timedMating.nwb',\n",
       " 'M:\\\\scn2a-paper-GWJSNH\\\\NWB-files\\\\Nov22_Pair16_timedMating.nwb',\n",
       " 'M:\\\\scn2a-paper-GWJSNH\\\\NWB-files\\\\Nov22_Pair17_timedMating.nwb',\n",
       " 'M:\\\\scn2a-paper-GWJSNH\\\\NWB-files\\\\Nov22_Pair18_timedMating.nwb',\n",
       " 'M:\\\\scn2a-paper-GWJSNH\\\\NWB-files\\\\Nov22_Pair19_timedMating.nwb',\n",
       " 'M:\\\\scn2a-paper-GWJSNH\\\\NWB-files\\\\Nov22_Pair1_timedMating.nwb',\n",
       " 'M:\\\\scn2a-paper-GWJSNH\\\\NWB-files\\\\Nov22_Pair21_timedMating.nwb',\n",
       " 'M:\\\\scn2a-paper-GWJSNH\\\\NWB-files\\\\Nov22_Pair22_timedMating.nwb',\n",
       " 'M:\\\\scn2a-paper-GWJSNH\\\\NWB-files\\\\Nov22_Pair23_timedMating.nwb',\n",
       " 'M:\\\\scn2a-paper-GWJSNH\\\\NWB-files\\\\Nov22_Pair24_timedMating.nwb',\n",
       " 'M:\\\\scn2a-paper-GWJSNH\\\\NWB-files\\\\Nov22_Pair25_timedMating.nwb',\n",
       " 'M:\\\\scn2a-paper-GWJSNH\\\\NWB-files\\\\Nov22_Pair26_timedMating.nwb',\n",
       " 'M:\\\\scn2a-paper-GWJSNH\\\\NWB-files\\\\Nov22_Pair27_timedMating.nwb',\n",
       " 'M:\\\\scn2a-paper-GWJSNH\\\\NWB-files\\\\Nov22_Pair28_timedMating.nwb',\n",
       " 'M:\\\\scn2a-paper-GWJSNH\\\\NWB-files\\\\Nov22_Pair29_timedMating.nwb',\n",
       " 'M:\\\\scn2a-paper-GWJSNH\\\\NWB-files\\\\Nov22_Pair2_timedMating.nwb',\n",
       " 'M:\\\\scn2a-paper-GWJSNH\\\\NWB-files\\\\Nov22_Pair30_timedMating.nwb',\n",
       " 'M:\\\\scn2a-paper-GWJSNH\\\\NWB-files\\\\Nov22_Pair31_timedMating.nwb',\n",
       " 'M:\\\\scn2a-paper-GWJSNH\\\\NWB-files\\\\Nov22_Pair32_timedMating.nwb',\n",
       " 'M:\\\\scn2a-paper-GWJSNH\\\\NWB-files\\\\Nov22_Pair33_timedMating.nwb',\n",
       " 'M:\\\\scn2a-paper-GWJSNH\\\\NWB-files\\\\Nov22_Pair34_timedMating.nwb',\n",
       " 'M:\\\\scn2a-paper-GWJSNH\\\\NWB-files\\\\Nov22_Pair37_timedMating.nwb',\n",
       " 'M:\\\\scn2a-paper-GWJSNH\\\\NWB-files\\\\Nov22_Pair38_timedMating.nwb',\n",
       " 'M:\\\\scn2a-paper-GWJSNH\\\\NWB-files\\\\Nov22_Pair39_timedMating.nwb',\n",
       " 'M:\\\\scn2a-paper-GWJSNH\\\\NWB-files\\\\Nov22_Pair3_timedMating.nwb',\n",
       " 'M:\\\\scn2a-paper-GWJSNH\\\\NWB-files\\\\Nov22_Pair40_timedMating.nwb',\n",
       " 'M:\\\\scn2a-paper-GWJSNH\\\\NWB-files\\\\Nov22_Pair41_timedMating.nwb',\n",
       " 'M:\\\\scn2a-paper-GWJSNH\\\\NWB-files\\\\Nov22_Pair42_timedMating.nwb',\n",
       " 'M:\\\\scn2a-paper-GWJSNH\\\\NWB-files\\\\Nov22_Pair43_timedMating.nwb',\n",
       " 'M:\\\\scn2a-paper-GWJSNH\\\\NWB-files\\\\Nov22_Pair44_timedMating.nwb',\n",
       " 'M:\\\\scn2a-paper-GWJSNH\\\\NWB-files\\\\Nov22_Pair46_timedMating.nwb',\n",
       " 'M:\\\\scn2a-paper-GWJSNH\\\\NWB-files\\\\Nov22_Pair47_timedMating.nwb',\n",
       " 'M:\\\\scn2a-paper-GWJSNH\\\\NWB-files\\\\Nov22_Pair48_timedMating.nwb',\n",
       " 'M:\\\\scn2a-paper-GWJSNH\\\\NWB-files\\\\Nov22_Pair49_timedMating.nwb',\n",
       " 'M:\\\\scn2a-paper-GWJSNH\\\\NWB-files\\\\Nov22_Pair50_timedMating.nwb',\n",
       " 'M:\\\\scn2a-paper-GWJSNH\\\\NWB-files\\\\Nov22_Pair51_timedMating.nwb',\n",
       " 'M:\\\\scn2a-paper-GWJSNH\\\\NWB-files\\\\Nov22_Pair52_timedMating.nwb',\n",
       " 'M:\\\\scn2a-paper-GWJSNH\\\\NWB-files\\\\Nov22_Pair56_timedMating.nwb',\n",
       " 'M:\\\\scn2a-paper-GWJSNH\\\\NWB-files\\\\Nov22_Pair57_timedMating.nwb',\n",
       " 'M:\\\\scn2a-paper-GWJSNH\\\\NWB-files\\\\Nov22_Pair58_timedMating.nwb',\n",
       " 'M:\\\\scn2a-paper-GWJSNH\\\\NWB-files\\\\Nov22_Pair59_timedMating.nwb',\n",
       " 'M:\\\\scn2a-paper-GWJSNH\\\\NWB-files\\\\Nov22_Pair5_timedMating.nwb',\n",
       " 'M:\\\\scn2a-paper-GWJSNH\\\\NWB-files\\\\Nov22_Pair60_timedMating.nwb',\n",
       " 'M:\\\\scn2a-paper-GWJSNH\\\\NWB-files\\\\Nov22_Pair61_timedMating.nwb',\n",
       " 'M:\\\\scn2a-paper-GWJSNH\\\\NWB-files\\\\Nov22_Pair62_timedMating.nwb',\n",
       " 'M:\\\\scn2a-paper-GWJSNH\\\\NWB-files\\\\Nov22_Pair63_timedMating.nwb',\n",
       " 'M:\\\\scn2a-paper-GWJSNH\\\\NWB-files\\\\Nov22_Pair64_timedMating.nwb',\n",
       " 'M:\\\\scn2a-paper-GWJSNH\\\\NWB-files\\\\Nov22_Pair6_timedMating.nwb',\n",
       " 'M:\\\\scn2a-paper-GWJSNH\\\\NWB-files\\\\Nov22_Pair7_timedMating.nwb',\n",
       " 'M:\\\\scn2a-paper-GWJSNH\\\\NWB-files\\\\Nov22_Pair8_timedMating.nwb']"
      ]
     },
     "execution_count": 8,
     "metadata": {},
     "output_type": "execute_result"
    }
   ],
   "source": [
    "allnwb"
   ]
  },
  {
   "cell_type": "code",
   "execution_count": 58,
   "id": "a26a89a9",
   "metadata": {},
   "outputs": [
    {
     "name": "stdout",
     "output_type": "stream",
     "text": [
      "Nov22_Pair15_timedMating\n",
      "Nov22_Pair16_timedMating\n",
      "Nov22_Pair17_timedMating\n",
      "Nov22_Pair18_timedMating\n",
      "Nov22_Pair19_timedMating\n",
      "Nov22_Pair1_timedMating\n",
      "Nov22_Pair21_timedMating\n",
      "Nov22_Pair22_timedMating\n",
      "Nov22_Pair23_timedMating\n",
      "Nov22_Pair24_timedMating\n",
      "Nov22_Pair25_timedMating\n",
      "Nov22_Pair26_timedMating\n",
      "Nov22_Pair27_timedMating\n",
      "Nov22_Pair28_timedMating\n",
      "Nov22_Pair29_timedMating\n",
      "Nov22_Pair2_timedMating\n",
      "Nov22_Pair30_timedMating\n",
      "Nov22_Pair31_timedMating\n",
      "Nov22_Pair32_timedMating\n",
      "Nov22_Pair33_timedMating\n",
      "Nov22_Pair34_timedMating\n",
      "Nov22_Pair37_timedMating\n",
      "Nov22_Pair38_timedMating\n",
      "Nov22_Pair39_timedMating\n",
      "Nov22_Pair3_timedMating\n",
      "Nov22_Pair40_timedMating\n",
      "Nov22_Pair41_timedMating\n",
      "Nov22_Pair42_timedMating\n",
      "Nov22_Pair43_timedMating\n",
      "Nov22_Pair44_timedMating\n",
      "Nov22_Pair46_timedMating\n",
      "Nov22_Pair47_timedMating\n",
      "Nov22_Pair48_timedMating\n",
      "Nov22_Pair49_timedMating\n",
      "Nov22_Pair50_timedMating\n",
      "Nov22_Pair51_timedMating\n",
      "Nov22_Pair52_timedMating\n",
      "Nov22_Pair56_timedMating\n",
      "Nov22_Pair57_timedMating\n",
      "Nov22_Pair58_timedMating\n",
      "Nov22_Pair59_timedMating\n",
      "Nov22_Pair5_timedMating\n",
      "Nov22_Pair60_timedMating\n",
      "Nov22_Pair61_timedMating\n",
      "Nov22_Pair62_timedMating\n",
      "Nov22_Pair63_timedMating\n",
      "Nov22_Pair64_timedMating\n",
      "Nov22_Pair6_timedMating\n",
      "Nov22_Pair7_timedMating\n",
      "Nov22_Pair8_timedMating\n"
     ]
    }
   ],
   "source": [
    "# ---- Look at latency to mount in timed matings ----\n",
    "\n",
    "# keep track of details in arrays\n",
    "allGT = []\n",
    "allSex = []\n",
    "times = []\n",
    "colors = []\n",
    "nroccurrences = []\n",
    "behav='Mount'\n",
    "\n",
    "# loop over nwb files matching specified assay name\n",
    "for i,fname in enumerate(allnwb):\n",
    "    # open file\n",
    "    io = NWBHDF5IO(os.path.join(nwbpath,fname), mode=\"r\") # <-- open in write to append snippets?\n",
    "    nwbfile = io.read()\n",
    "    \n",
    "    # for sanity check, print out the name of the file being handled\n",
    "    pathsplit = fname.split('\\\\')\n",
    "    recstem = pathsplit[-1].strip('.nwb')\n",
    "    print(recstem)\n",
    "    \n",
    "    # filter out files that don't have complete timelines\n",
    "    \n",
    "    # keep track of metadata\n",
    "    allSex.append(nwbfile.subject.sex)\n",
    "    allGT.append(nwbfile.subject.genotype)\n",
    "    colors.append(nwbfile.lab_meta_data['vole_metadata'].colors[:])\n",
    "       \n",
    "    # -- Get time of first mount --\n",
    "    \n",
    "    # load up the BORIS table from the NWB file\n",
    "    statsdf = nwbfile.intervals[usefield].to_dataframe()\n",
    "    \n",
    "    # find start time of assay\n",
    "    assayStart = float(statsdf.start_time[statsdf.behavior=='Start assay'])\n",
    "    # find time of first scored mount\n",
    "    firstMount = np.min(statsdf.start_time[statsdf.behavior==behav])\n",
    "    # subtract start time to get assay-aligned time\n",
    "    firstMountAligned = firstMount-assayStart\n",
    "    # append to times array\n",
    "    times.append(firstMountAligned)\n",
    "    # count total number of mounts\n",
    "    isbehav = statsdf.behavior==behav\n",
    "    nroccurrences.append(isbehav.values.sum())"
   ]
  },
  {
   "cell_type": "code",
   "execution_count": 97,
   "id": "15c5fed9",
   "metadata": {},
   "outputs": [],
   "source": [
    "# --- Make table of latency data ---\n",
    "ld = {'genotype': allGT, 'sex': allSex, 'number':nroccurrences,'latencies': times, 'colors': colors}\n",
    "ldf = pd.DataFrame(data=ld) # store in dataframe\n",
    "ldf[\"joint_category\"] = ldf['sex'].add(ldf['genotype']) # add a column that maps the GT/sex 2x2 into 4 groups"
   ]
  },
  {
   "cell_type": "code",
   "execution_count": 93,
   "id": "7c419f15",
   "metadata": {},
   "outputs": [],
   "source": [
    "# --- Make color palette ---\n",
    "col1 = ldf.colors[np.logical_and(ldf.genotype=='WT',ldf.sex=='F')].reset_index(drop=True)[0]/255\n",
    "col2 = ldf.colors[np.logical_and(ldf.genotype=='Het',ldf.sex=='F')].reset_index(drop=True)[0]/255\n",
    "col3 = ldf.colors[np.logical_and(ldf.genotype=='WT',ldf.sex=='M')].reset_index(drop=True)[0]/255\n",
    "col4 = ldf.colors[np.logical_and(ldf.genotype=='Het',ldf.sex=='M')].reset_index(drop=True)[0]/255"
   ]
  },
  {
   "cell_type": "code",
   "execution_count": 184,
   "id": "f28760a5",
   "metadata": {},
   "outputs": [
    {
     "name": "stdout",
     "output_type": "stream",
     "text": [
      "Power_divergenceResult(statistic=0.03657595058868944, pvalue=0.9981598560318765)\n",
      "MannwhitneyuResult(statistic=70.5, pvalue=0.7995297551391234)\n",
      "MannwhitneyuResult(statistic=73.0, pvalue=0.40420206100533085)\n",
      "MannwhitneyuResult(statistic=22.0, pvalue=0.8518148518148518)\n",
      "MannwhitneyuResult(statistic=18.0, pvalue=0.2197802197802198)\n"
     ]
    },
    {
     "data": {
      "image/png": "[encoded data removed]",
      "text/plain": [
       "<Figure size 504x216 with 3 Axes>"
      ]
     },
     "metadata": {
      "needs_background": "light"
     },
     "output_type": "display_data"
    }
   ],
   "source": [
    "# --- All plots in subplots ---\n",
    "\n",
    "# set parameters\n",
    "sz=8 # dot size for strip plots\n",
    "alpha=0.5 # dot transparency for strip plots\n",
    "medianwidth=0.8 # width on x axis of median bands\n",
    "mw = medianwidth/2 # convert to halfwidth for plotting\n",
    "lw = 3 # weight of median band lines\n",
    "hue_order = ['FWT','FHet','MWT','MHet'] # how groups should be arranged on x axis\n",
    "cols = [col1,col2,col3,col4] # match colors to groups\n",
    "sns.set_palette(sns.color_palette(cols)) # convert list of colors to a seaborn palette\n",
    "figp=os.path.join('figures','2024June') # where to save figures\n",
    "saveplots = True # whether to write plot outputs to disk\n",
    "\n",
    "# make figure and subplots\n",
    "f, ax = plt.subplots(1,3,figsize=(7, 3))\n",
    "f.tight_layout()\n",
    "\n",
    "# FRACTION MOUNTING\n",
    "\n",
    "# stats\n",
    "chisq = st.chisquare(nrmounting.fraction)\n",
    "print(chisq)\n",
    "\n",
    "# plot\n",
    "sns.barplot(data=nrmounting,x='joint_category',y='fraction',hue_order=hue_order,order=hue_order,ax=ax[0])\n",
    "ax[0].set(xlabel=\"\")\n",
    "ax[0].set(ylabel='fraction mounting')\n",
    "ax[0].set_ylim(top=1)\n",
    "sns.despine(fig=f, ax=ax[0], top=True, right=True, left=False, bottom=False, offset=None, trim=False)\n",
    "\n",
    "# NUMBER OF MOUNTS\n",
    "\n",
    "# stats\n",
    "nroccstats_F = st.mannwhitneyu(ldf.number[np.logical_and(ldf.sex=='F',ldf.genotype=='WT')],ldf.number[np.logical_and(ldf.sex=='F',ldf.genotype=='Het')])\n",
    "print(nroccstats_F)\n",
    "nroccstats_M = st.mannwhitneyu(ldf.number[np.logical_and(ldf.sex=='M',ldf.genotype=='WT')],ldf.number[np.logical_and(ldf.sex=='M',ldf.genotype=='Het')])\n",
    "print(nroccstats_M)\n",
    "\n",
    "# plot\n",
    "sns.stripplot(data=ldf, x=\"joint_category\", y=\"number\", hue=\"joint_category\",hue_order=hue_order,order=hue_order,s=sz,\n",
    "              alpha=alpha,\n",
    "              legend=False,\n",
    "              ax=ax[1])\n",
    "# add median ticks\n",
    "ldf_median = ldf.groupby('joint_category', sort=False)['number'].median()\n",
    "_ = [ax[1].hlines(y, i-mw, i+mw, zorder=len(np.unique(ldf.joint_category))+1,colors=[0,0,0],linewidths=lw) for i, y in ldf_median.reset_index()['number'].items()]\n",
    "\n",
    "# make axes look nice\n",
    "ax[1].set(xlabel=\"\")\n",
    "ax[1].set(ylabel='number of mounts')\n",
    "sns.despine(fig=f, ax=ax[1], top=True, right=True, left=False, bottom=True, offset=None, trim=False)\n",
    "\n",
    "# LATENCY TO MOUNT\n",
    "\n",
    "# stats\n",
    "latencystats_F = st.mannwhitneyu(ldf.latencies[np.logical_and(ldf.sex=='F',ldf.genotype=='WT')].dropna(),ldf.latencies[np.logical_and(ldf.sex=='F',ldf.genotype=='Het')].dropna())\n",
    "print(latencystats_F)\n",
    "latencystats_M = st.mannwhitneyu(ldf.latencies[np.logical_and(ldf.sex=='M',ldf.genotype=='WT')].dropna(),ldf.latencies[np.logical_and(ldf.sex=='M',ldf.genotype=='Het')].dropna())\n",
    "print(latencystats_M)\n",
    "\n",
    "# plot\n",
    "sns.stripplot(data=ldf, x=\"joint_category\", y=\"latencies\", hue=\"joint_category\",s=sz, hue_order=hue_order,alpha=alpha,\n",
    "              order=hue_order,legend=False,ax=ax[2])\n",
    "\n",
    "# add median ticks\n",
    "ldf_median = ldf.groupby('joint_category', sort=False)['latencies'].median()\n",
    "_ = [ax[2].hlines(y, i-mw, i+mw, zorder=len(np.unique(ldf.joint_category))+1,colors=[0,0,0],linewidths=lw) for i, y in ldf_median.reset_index()['latencies'].items()]\n",
    "\n",
    "# make axes look nice\n",
    "ax[2].set(xlabel=\"\")\n",
    "ax[2].set(ylabel='latency to mount')\n",
    "sns.despine(fig=f, ax=ax[2], top=True, right=True, left=False, bottom=True, offset=None, trim=False)\n",
    "\n",
    "if saveplots:\n",
    "    plt.savefig(os.path.join(figp,'timedMating_latency-to-mount_all-data.pdf'))"
   ]
  },
  {
   "cell_type": "code",
   "execution_count": 174,
   "id": "9e64107b",
   "metadata": {},
   "outputs": [
    {
     "name": "stdout",
     "output_type": "stream",
     "text": [
      "Power_divergenceResult(statistic=0.03657595058868944, pvalue=0.9981598560318765)\n"
     ]
    },
    {
     "data": {
      "image/png": "[encoded data removed]",
      "text/plain": [
       "<Figure size 144x216 with 1 Axes>"
      ]
     },
     "metadata": {
      "needs_background": "light"
     },
     "output_type": "display_data"
    }
   ],
   "source": [
    "# --- Plot fraction of animals mounting ---\n",
    "nrmounting = ldf.groupby(\"joint_category\", as_index=False).count()\n",
    "nrmounting['fraction']=nrmounting.latencies/nrmounting.number\n",
    "\n",
    "chisq = st.chisquare(nrmounting.fraction)\n",
    "print(chisq)\n",
    "\n",
    "f, ax = plt.subplots(figsize=(2, 3))\n",
    "sns.barplot(data=nrmounting,x='joint_category',y='fraction',hue_order=hue_order,order=hue_order)\n",
    "ax.set(xlabel=\"\")\n",
    "ax.set(ylabel='fraction mounting')\n",
    "ax.set_ylim(top=1)\n",
    "sns.despine(fig=f, ax=ax, top=True, right=True, left=False, bottom=False, offset=None, trim=False)"
   ]
  },
  {
   "cell_type": "code",
   "execution_count": 173,
   "id": "d1294689",
   "metadata": {},
   "outputs": [
    {
     "name": "stdout",
     "output_type": "stream",
     "text": [
      "MannwhitneyuResult(statistic=70.5, pvalue=0.7995297551391234)\n",
      "MannwhitneyuResult(statistic=73.0, pvalue=0.40420206100533085)\n"
     ]
    },
    {
     "data": {
      "image/png": "[encoded data removed]",
      "text/plain": [
       "<Figure size 144x216 with 1 Axes>"
      ]
     },
     "metadata": {
      "needs_background": "light"
     },
     "output_type": "display_data"
    }
   ],
   "source": [
    "# --- Plot number of mount occurrences ---\n",
    "sz=8\n",
    "alpha=0.5\n",
    "medianwidth=1\n",
    "mw = medianwidth/2\n",
    "lw = 3\n",
    "hue_order = ['FWT','FHet','MWT','MHet']\n",
    "cols = [col1,col2,col3,col4]\n",
    "sns.set_palette(sns.color_palette(cols))\n",
    "\n",
    "# stats\n",
    "nroccstats_F = st.mannwhitneyu(ldf.number[np.logical_and(ldf.sex=='F',ldf.genotype=='WT')],ldf.number[np.logical_and(ldf.sex=='F',ldf.genotype=='Het')])\n",
    "print(nroccstats_F)\n",
    "nroccstats_M = st.mannwhitneyu(ldf.number[np.logical_and(ldf.sex=='M',ldf.genotype=='WT')],ldf.number[np.logical_and(ldf.sex=='M',ldf.genotype=='Het')])\n",
    "print(nroccstats_M)\n",
    "\n",
    "f, ax = plt.subplots(figsize=(2, 3))\n",
    "sns.stripplot(data=ldf, x=\"joint_category\", y=\"number\", hue=\"joint_category\",hue_order=hue_order,order=hue_order,s=sz,\n",
    "              alpha=alpha,\n",
    "              legend=False)\n",
    "ldf_median = ldf.groupby('joint_category', sort=False)['number'].median()\n",
    "_ = [ax.hlines(y, i-mw, i+mw, zorder=len(np.unique(ldf.joint_category))+1,colors=[0,0,0],linewidths=lw) for i, y in ldf_median.reset_index()['number'].items()]\n",
    "ax.set(xlabel=\"\")\n",
    "ax.set(ylabel='number of mounts')\n",
    "sns.despine(fig=f, ax=ax, top=True, right=True, left=False, bottom=True, offset=None, trim=False)"
   ]
  },
  {
   "cell_type": "code",
   "execution_count": 175,
   "id": "0513c507",
   "metadata": {},
   "outputs": [
    {
     "name": "stdout",
     "output_type": "stream",
     "text": [
      "MannwhitneyuResult(statistic=22.0, pvalue=0.8518148518148518)\n",
      "MannwhitneyuResult(statistic=18.0, pvalue=0.2197802197802198)\n"
     ]
    },
    {
     "data": {
      "image/png": "[encoded data removed]",
      "text/plain": [
       "<Figure size 144x216 with 1 Axes>"
      ]
     },
     "metadata": {
      "needs_background": "light"
     },
     "output_type": "display_data"
    }
   ],
   "source": [
    "# --- Plot latencies to mount ---\n",
    "f, ax = plt.subplots(figsize=(2, 3))\n",
    "\n",
    "# stats\n",
    "latencystats_F = st.mannwhitneyu(ldf.latencies[np.logical_and(ldf.sex=='F',ldf.genotype=='WT')].dropna(),ldf.latencies[np.logical_and(ldf.sex=='F',ldf.genotype=='Het')].dropna())\n",
    "print(latencystats_F)\n",
    "latencystats_M = st.mannwhitneyu(ldf.latencies[np.logical_and(ldf.sex=='M',ldf.genotype=='WT')].dropna(),ldf.latencies[np.logical_and(ldf.sex=='M',ldf.genotype=='Het')].dropna())\n",
    "print(latencystats_M)\n",
    "\n",
    "sns.stripplot(data=ldf, x=\"joint_category\", y=\"latencies\", hue=\"joint_category\",s=sz, hue_order=hue_order,alpha=alpha,\n",
    "              order=hue_order,legend=False)\n",
    "ldf_median = ldf.groupby('joint_category', sort=False)['latencies'].median()\n",
    "_ = [ax.hlines(y, i-mw, i+mw, zorder=len(np.unique(ldf.joint_category))+1,colors=[0,0,0],linewidths=lw) for i, y in ldf_median.reset_index()['latencies'].items()]\n",
    "ax.set(xlabel=\"\")\n",
    "ax.set(xlabel=\"\")\n",
    "ax.set(ylabel='latency to mount')\n",
    "sns.despine(fig=f, ax=ax, top=True, right=True, left=False, bottom=True, offset=None, trim=False)"
   ]
  },
  {
   "cell_type": "code",
   "execution_count": 170,
   "id": "83840e35",
   "metadata": {},
   "outputs": [
    {
     "data": {
      "text/plain": [
       "17      74.998\n",
       "42    1353.631\n",
       "43    1026.907\n",
       "44      82.748\n",
       "45      41.256\n",
       "49      36.434\n",
       "Name: latencies, dtype: float64"
      ]
     },
     "execution_count": 170,
     "metadata": {},
     "output_type": "execute_result"
    }
   ],
   "source": [
    "ldf.latencies[np.logical_and(ldf.sex=='F',ldf.genotype=='WT')].dropna()"
   ]
  },
  {
   "cell_type": "code",
   "execution_count": 45,
   "id": "e9ffc133",
   "metadata": {},
   "outputs": [
    {
     "name": "stdout",
     "output_type": "stream",
     "text": [
      "Nov22_Pair15_timedMating\n"
     ]
    }
   ],
   "source": [
    "fname = 'Nov22_Pair15_timedMating.nwb'\n",
    "\n",
    "# open file\n",
    "io = NWBHDF5IO(os.path.join(nwbpath,fname), mode=\"r\") # <-- open in write to append snippets?\n",
    "nwbfile = io.read()\n",
    "\n",
    "# for sanity check, print out the name of the file being handled\n",
    "pathsplit = fname.split('\\\\')\n",
    "recstem = pathsplit[-1].strip('.nwb')\n",
    "print(recstem)\n",
    "\n",
    "# filter out files that don't have complete timelines\n",
    "\n",
    "# keep track of metadata\n",
    "allSex.append(nwbfile.subject.sex)\n",
    "allGT.append(nwbfile.subject.genotype)\n",
    "colors.append(nwbfile.lab_meta_data['vole_metadata'].colors[:])\n",
    "\n",
    "# -- Get time of first mount --\n",
    "\n",
    "# load up the BORIS table from the NWB file\n",
    "statsdf = nwbfile.intervals[usefield].to_dataframe()\n",
    "    \n",
    "#     # find start time of assay\n",
    "#     assayStart = float(statsdf.start_time[statsdf.behavior=='Start assay'])\n",
    "#     # find time of first scored mount\n",
    "#     firstMount = np.min(statsdf.start_time[statsdf.behavior=='Mount'])\n",
    "#     # subtract start time to get assay-aligned time\n",
    "#     firstMountAligned = firstMount-assayStart\n",
    "#     # append to times array\n",
    "#     times.append(firstMountAligned)"
   ]
  },
  {
   "cell_type": "code",
   "execution_count": 46,
   "id": "71f6eb7c",
   "metadata": {},
   "outputs": [
    {
     "data": {
      "text/html": [
       "<div>\n",
       "<style scoped>\n",
       "    .dataframe tbody tr th:only-of-type {\n",
       "        vertical-align: middle;\n",
       "    }\n",
       "\n",
       "    .dataframe tbody tr th {\n",
       "        vertical-align: top;\n",
       "    }\n",
       "\n",
       "    .dataframe thead th {\n",
       "        text-align: right;\n",
       "    }\n",
       "</style>\n",
       "<table border=\"1\" class=\"dataframe\">\n",
       "  <thead>\n",
       "    <tr style=\"text-align: right;\">\n",
       "      <th></th>\n",
       "      <th>start_time</th>\n",
       "      <th>stop_time</th>\n",
       "      <th>behavior</th>\n",
       "      <th>duration</th>\n",
       "      <th>atype</th>\n",
       "    </tr>\n",
       "    <tr>\n",
       "      <th>id</th>\n",
       "      <th></th>\n",
       "      <th></th>\n",
       "      <th></th>\n",
       "      <th></th>\n",
       "      <th></th>\n",
       "    </tr>\n",
       "  </thead>\n",
       "  <tbody>\n",
       "    <tr>\n",
       "      <th>0</th>\n",
       "      <td>33.143</td>\n",
       "      <td>33.143</td>\n",
       "      <td>Start assay</td>\n",
       "      <td>NaN</td>\n",
       "      <td>POINT</td>\n",
       "    </tr>\n",
       "    <tr>\n",
       "      <th>1</th>\n",
       "      <td>33.144</td>\n",
       "      <td>51.392</td>\n",
       "      <td>No interaction</td>\n",
       "      <td>18.248</td>\n",
       "      <td>STATE</td>\n",
       "    </tr>\n",
       "    <tr>\n",
       "      <th>2</th>\n",
       "      <td>51.393</td>\n",
       "      <td>52.141</td>\n",
       "      <td>Investigate</td>\n",
       "      <td>0.748</td>\n",
       "      <td>STATE</td>\n",
       "    </tr>\n",
       "    <tr>\n",
       "      <th>3</th>\n",
       "      <td>52.142</td>\n",
       "      <td>52.891</td>\n",
       "      <td>No interaction</td>\n",
       "      <td>0.749</td>\n",
       "      <td>STATE</td>\n",
       "    </tr>\n",
       "    <tr>\n",
       "      <th>4</th>\n",
       "      <td>52.892</td>\n",
       "      <td>54.141</td>\n",
       "      <td>Sniff</td>\n",
       "      <td>1.249</td>\n",
       "      <td>STATE</td>\n",
       "    </tr>\n",
       "    <tr>\n",
       "      <th>...</th>\n",
       "      <td>...</td>\n",
       "      <td>...</td>\n",
       "      <td>...</td>\n",
       "      <td>...</td>\n",
       "      <td>...</td>\n",
       "    </tr>\n",
       "    <tr>\n",
       "      <th>398</th>\n",
       "      <td>1812.387</td>\n",
       "      <td>1813.889</td>\n",
       "      <td>No interaction</td>\n",
       "      <td>1.502</td>\n",
       "      <td>STATE</td>\n",
       "    </tr>\n",
       "    <tr>\n",
       "      <th>399</th>\n",
       "      <td>1813.890</td>\n",
       "      <td>1816.387</td>\n",
       "      <td>Huddle</td>\n",
       "      <td>2.497</td>\n",
       "      <td>STATE</td>\n",
       "    </tr>\n",
       "    <tr>\n",
       "      <th>400</th>\n",
       "      <td>1816.388</td>\n",
       "      <td>1827.890</td>\n",
       "      <td>No interaction</td>\n",
       "      <td>11.503</td>\n",
       "      <td>STATE</td>\n",
       "    </tr>\n",
       "    <tr>\n",
       "      <th>401</th>\n",
       "      <td>1827.891</td>\n",
       "      <td>1827.891</td>\n",
       "      <td>Investigate</td>\n",
       "      <td>0.001</td>\n",
       "      <td>STATE</td>\n",
       "    </tr>\n",
       "    <tr>\n",
       "      <th>402</th>\n",
       "      <td>1827.892</td>\n",
       "      <td>1833.143</td>\n",
       "      <td>Huddle</td>\n",
       "      <td>5.251</td>\n",
       "      <td>STATE</td>\n",
       "    </tr>\n",
       "  </tbody>\n",
       "</table>\n",
       "<p>403 rows × 5 columns</p>\n",
       "</div>"
      ],
      "text/plain": [
       "     start_time  stop_time        behavior  duration  atype\n",
       "id                                                         \n",
       "0        33.143     33.143     Start assay       NaN  POINT\n",
       "1        33.144     51.392  No interaction    18.248  STATE\n",
       "2        51.393     52.141     Investigate     0.748  STATE\n",
       "3        52.142     52.891  No interaction     0.749  STATE\n",
       "4        52.892     54.141           Sniff     1.249  STATE\n",
       "..          ...        ...             ...       ...    ...\n",
       "398    1812.387   1813.889  No interaction     1.502  STATE\n",
       "399    1813.890   1816.387          Huddle     2.497  STATE\n",
       "400    1816.388   1827.890  No interaction    11.503  STATE\n",
       "401    1827.891   1827.891     Investigate     0.001  STATE\n",
       "402    1827.892   1833.143          Huddle     5.251  STATE\n",
       "\n",
       "[403 rows x 5 columns]"
      ]
     },
     "execution_count": 46,
     "metadata": {},
     "output_type": "execute_result"
    }
   ],
   "source": [
    "statsdf"
   ]
  },
  {
   "cell_type": "code",
   "execution_count": 47,
   "id": "b7dae0c5",
   "metadata": {},
   "outputs": [],
   "source": [
    "ismount = statsdf.behavior=='Mount'\n",
    "mstarts = statsdf.start_time[ismount]"
   ]
  },
  {
   "cell_type": "code",
   "execution_count": 48,
   "id": "445e419c",
   "metadata": {},
   "outputs": [
    {
     "data": {
      "text/plain": [
       "0"
      ]
     },
     "execution_count": 48,
     "metadata": {},
     "output_type": "execute_result"
    }
   ],
   "source": [
    "ismount.value_counts()\n",
    "ismount.values.sum()"
   ]
  }
 ],
 "metadata": {
  "kernelspec": {
   "display_name": "Python 3 (ipykernel)",
   "language": "python",
   "name": "python3"
  },
  "language_info": {
   "codemirror_mode": {
    "name": "ipython",
    "version": 3
   },
   "file_extension": ".py",
   "mimetype": "text/x-python",
   "name": "python",
   "nbconvert_exporter": "python",
   "pygments_lexer": "ipython3",
   "version": "3.10.6"
  }
 },
 "nbformat": 4,
 "nbformat_minor": 5
}
