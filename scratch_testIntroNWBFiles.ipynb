{
 "cells": [
  {
   "cell_type": "code",
   "execution_count": 20,
   "id": "6ba247b3",
   "metadata": {},
   "outputs": [],
   "source": [
    "import os\n",
    "import numpy as np\n",
    "import pandas as pd\n",
    "import seaborn as sns\n",
    "\n",
    "from pynwb import NWBHDF5IO, NWBFile, TimeSeries\n",
    "from pynwb.file import Subject\n",
    "from pynwb.epoch import TimeIntervals\n",
    "from pynwb.image import ImageSeries\n",
    "from ndx_manoli_meta import AssayMetadata"
   ]
  },
  {
   "cell_type": "code",
   "execution_count": 2,
   "id": "525a1caa",
   "metadata": {},
   "outputs": [],
   "source": [
    "# ----- Set up to interface with NWB files -----\n",
    "nwbfile_path = os.path.join('M:\\\\','scn2a-paper-GWJSNH','NWB-files')\n",
    "allnwb = []\n",
    "allnwb += [each for each in os.listdir(nwbfile_path) if each.endswith('_introduction.nwb')]"
   ]
  },
  {
   "cell_type": "code",
   "execution_count": 27,
   "id": "d79ffd1e",
   "metadata": {},
   "outputs": [
    {
     "name": "stdout",
     "output_type": "stream",
     "text": [
      "Nov22_Pair28_introduction.nwb\n"
     ]
    }
   ],
   "source": [
    "# ----- Do stuff with the data in the files -----\n",
    "\n",
    "# What do I actually want to do? Count up time spent huddling?\n",
    "\n",
    "gts = []\n",
    "sexes = []\n",
    "snifftimes = []\n",
    "\n",
    "for i,fname in enumerate(allnwb):\n",
    "\n",
    "    # open file\n",
    "    io = NWBHDF5IO(os.path.join(nwbfile_path,fname), mode=\"r+\") # <-- open in write to append snippets?\n",
    "    nwbfile = io.read()\n",
    "    \n",
    "    gts.append(nwbfile.subject.genotype)\n",
    "    sexes.append(nwbfile.subject.sex)\n",
    "    \n",
    "    # calculate time spend in huddle\n",
    "    bdat = nwbfile.intervals['annotated_behavior'].to_dataframe() # send the table to pandas format\n",
    "    sniff_filt = bdat.behavior=='Sniff'\n",
    "    durs_sniff = bdat.duration[sniff_filt]\n",
    "    total_sniff = np.sum(durs_sniff)\n",
    "    if total_sniff>500:\n",
    "        print(fname)\n",
    "    snifftimes.append(total_sniff)    \n",
    "    \n",
    "    io.close()"
   ]
  },
  {
   "cell_type": "code",
   "execution_count": 31,
   "id": "146944fc",
   "metadata": {},
   "outputs": [
    {
     "data": {
      "text/plain": [
       "1800.0"
      ]
     },
     "execution_count": 31,
     "metadata": {},
     "output_type": "execute_result"
    }
   ],
   "source": [
    "np.max(bdat.stop_time)-bdat.start_time[0]"
   ]
  },
  {
   "cell_type": "code",
   "execution_count": 18,
   "id": "e3ff7bc6",
   "metadata": {},
   "outputs": [],
   "source": [
    "collate = {'GT' : gts, 'sex': sexes, 'sniff' : snifftimes}\n",
    "ctab = pd.DataFrame(data=collate)"
   ]
  },
  {
   "cell_type": "code",
   "execution_count": 23,
   "id": "f9431311",
   "metadata": {},
   "outputs": [
    {
     "data": {
      "text/plain": [
       "<AxesSubplot: xlabel='sex', ylabel='sniff'>"
      ]
     },
     "execution_count": 23,
     "metadata": {},
     "output_type": "execute_result"
    },
    {
     "data": {
      "image/png": "[encoded data removed]",
      "text/plain": [
       "<Figure size 432x288 with 1 Axes>"
      ]
     },
     "metadata": {
      "needs_background": "light"
     },
     "output_type": "display_data"
    }
   ],
   "source": [
    "ax = sns.barplot(\n",
    "    x=\"sex\", \n",
    "    y=\"sniff\", \n",
    "    hue=\"GT\", \n",
    "    data=ctab, \n",
    "    errorbar=\"sd\", \n",
    "    edgecolor=\"black\",\n",
    "    errcolor=\"black\",\n",
    "    errwidth=1.5,\n",
    "    capsize = 0.1,\n",
    "    alpha=0.25,\n",
    ")\n",
    "\n",
    "sns.stripplot(\n",
    "    x=\"sex\", \n",
    "    y=\"sniff\", \n",
    "    hue=\"GT\", \n",
    "    data=ctab, dodge=True, alpha=0.6, ax=ax,\n",
    "\n",
    ")"
   ]
  },
  {
   "cell_type": "code",
   "execution_count": 26,
   "id": "78796ac4",
   "metadata": {},
   "outputs": [
    {
     "data": {
      "text/plain": [
       "[39.64699999999999,\n",
       " 122.455,\n",
       " 71.77799999999999,\n",
       " 31.756,\n",
       " 22.981,\n",
       " 83.40299999999999,\n",
       " 111.07900000000002,\n",
       " 58.44199999999999,\n",
       " 111.55899999999998,\n",
       " 27.073999999999998,\n",
       " 51.033,\n",
       " 398.11400000000003,\n",
       " 404.68399999999997,\n",
       " 1423.525,\n",
       " 12.665,\n",
       " 47.936,\n",
       " 78.29100000000001,\n",
       " 161.81099999999998,\n",
       " 32.669,\n",
       " 31.131999999999998,\n",
       " 150.61299999999997,\n",
       " 34.480000000000004,\n",
       " 125.434,\n",
       " 12.726,\n",
       " 23.630000000000003,\n",
       " 13.247,\n",
       " 23.775000000000002,\n",
       " 39.433,\n",
       " 16.039,\n",
       " 18.499,\n",
       " 163.584,\n",
       " 34.51800000000001,\n",
       " 117.93700000000003,\n",
       " 7.892,\n",
       " 23.321,\n",
       " 60.202000000000005,\n",
       " 32.697,\n",
       " 47.032000000000004,\n",
       " 0.741,\n",
       " 101.09900000000003,\n",
       " 181.209,\n",
       " 60.592,\n",
       " 13.911000000000003,\n",
       " 159.762,\n",
       " 221.43199999999996,\n",
       " 393.016,\n",
       " 132.49900000000002,\n",
       " 41.784000000000006,\n",
       " 62.635,\n",
       " 49.928999999999995,\n",
       " 124.29899999999999,\n",
       " 88.231,\n",
       " 120.331]"
      ]
     },
     "execution_count": 26,
     "metadata": {},
     "output_type": "execute_result"
    }
   ],
   "source": [
    "snifftimes"
   ]
  },
  {
   "cell_type": "code",
   "execution_count": 32,
   "id": "d4adf9c1",
   "metadata": {},
   "outputs": [],
   "source": [
    "# figure out what's up with pair 28\n",
    "\n",
    "fname = 'Nov22_Pair28_introduction.nwb'\n",
    "io = NWBHDF5IO(os.path.join(nwbfile_path,fname), mode=\"r+\") # <-- open in write to append snippets?\n",
    "nwbfile = io.read()\n",
    "\n",
    "# calculate time spend in huddle\n",
    "bdat = nwbfile.intervals['annotated_behavior'].to_dataframe() # send the table to pandas format"
   ]
  },
  {
   "cell_type": "code",
   "execution_count": 40,
   "id": "628d726f",
   "metadata": {},
   "outputs": [
    {
     "name": "stdout",
     "output_type": "stream",
     "text": [
      "1004\n",
      "17.002\n",
      "1409.574\n",
      "20816.068\n"
     ]
    }
   ],
   "source": [
    "timefilt = bdat.stop_time<bdat.start_time[0]+1800\n",
    "sniff_filt = bdat.behavior=='Sniff'\n",
    "durs_sniff = bdat.duration[sniff_filt&timefilt]\n",
    "print(len(durs_sniff))\n",
    "print(np.max(durs_sniff))\n",
    "total_sniff = np.sum(durs_sniff)\n",
    "print(total_sniff)\n",
    "print(np.sum(bdat.duration[timefilt]))"
   ]
  },
  {
   "cell_type": "code",
   "execution_count": 16,
   "id": "10074d1d",
   "metadata": {},
   "outputs": [],
   "source": [
    "grpdat = []\n",
    "for sex in np.unique(sexes):\n",
    "    for gt in np.unique(gts):\n",
    "        mask = np.logical_and(np.array(sexes)==sex, np.array(gts)==gt)\n",
    "        grpdat.append(np.array(snifftimes)[mask])"
   ]
  }
 ],
 "metadata": {
  "kernelspec": {
   "display_name": "Python 3 (ipykernel)",
   "language": "python",
   "name": "python3"
  },
  "language_info": {
   "codemirror_mode": {
    "name": "ipython",
    "version": 3
   },
   "file_extension": ".py",
   "mimetype": "text/x-python",
   "name": "python",
   "nbconvert_exporter": "python",
   "pygments_lexer": "ipython3",
   "version": "3.10.6"
  }
 },
 "nbformat": 4,
 "nbformat_minor": 5
}
