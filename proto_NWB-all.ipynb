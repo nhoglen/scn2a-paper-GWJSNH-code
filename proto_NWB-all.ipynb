{
 "cells": [
  {
   "cell_type": "code",
   "execution_count": 1,
   "id": "f433c842",
   "metadata": {},
   "outputs": [],
   "source": [
    "import os\n",
    "from boxsdk import OAuth2, Client\n",
    "import re\n",
    "import warnings\n",
    "\n",
    "from datetime import datetime, date\n",
    "from uuid import uuid4\n",
    "from dateutil.tz import tzlocal\n",
    "from ast import literal_eval\n",
    "\n",
    "import numpy as np\n",
    "import pandas as pd\n",
    "import warnings\n",
    "import librosa\n",
    "import pickle\n",
    "\n",
    "from pynwb import NWBHDF5IO, NWBFile, TimeSeries\n",
    "from pynwb.file import Subject\n",
    "from pynwb.epoch import TimeIntervals\n",
    "from pynwb.image import ImageSeries\n",
    "from ndx_manoli_meta import AssayMetadata\n",
    "\n",
    "from nwb_utils import get_date_from_block\n",
    "from box_utils import *\n",
    "from behavior_error_checks import *"
   ]
  },
  {
   "cell_type": "code",
   "execution_count": 27,
   "id": "a73bb4b5",
   "metadata": {},
   "outputs": [
    {
     "name": "stdout",
     "output_type": "stream",
     "text": [
      "Nov22_Pair1_PPT.nwb\n"
     ]
    },
    {
     "name": "stderr",
     "output_type": "stream",
     "text": [
      "M:\\utilities\\analysis_utilities\\behavior_error_checks.py:70: SettingWithCopyWarning: \n",
      "A value is trying to be set on a copy of a slice from a DataFrame\n",
      "\n",
      "See the caveats in the documentation: https://pandas.pydata.org/pandas-docs/stable/user_guide/indexing.html#returning-a-view-versus-a-copy\n",
      "  stateonly.end.iloc[:-1] = round(stateonly.start.iloc[1:],3)-0.001\n",
      "C:\\Users\\Nerissa\\anaconda3\\envs\\voc230824\\lib\\site-packages\\hdmf\\build\\objectmapper.py:260: DtypeConversionWarning: Spec 'vole_metadata/colors': Value with data type int32 is being converted to data type float32 as specified.\n",
      "  warnings.warn(full_warning_msg, DtypeConversionWarning)\n"
     ]
    },
    {
     "name": "stdout",
     "output_type": "stream",
     "text": [
      "Nov22_Pair15_PPT.nwb\n"
     ]
    },
    {
     "name": "stderr",
     "output_type": "stream",
     "text": [
      "M:\\utilities\\analysis_utilities\\behavior_error_checks.py:70: SettingWithCopyWarning: \n",
      "A value is trying to be set on a copy of a slice from a DataFrame\n",
      "\n",
      "See the caveats in the documentation: https://pandas.pydata.org/pandas-docs/stable/user_guide/indexing.html#returning-a-view-versus-a-copy\n",
      "  stateonly.end.iloc[:-1] = round(stateonly.start.iloc[1:],3)-0.001\n",
      "C:\\Users\\Nerissa\\anaconda3\\envs\\voc230824\\lib\\site-packages\\hdmf\\build\\objectmapper.py:260: DtypeConversionWarning: Spec 'vole_metadata/colors': Value with data type int32 is being converted to data type float32 as specified.\n",
      "  warnings.warn(full_warning_msg, DtypeConversionWarning)\n"
     ]
    },
    {
     "name": "stdout",
     "output_type": "stream",
     "text": [
      "Nov22_Pair16_PPT.nwb\n"
     ]
    },
    {
     "name": "stderr",
     "output_type": "stream",
     "text": [
      "M:\\utilities\\analysis_utilities\\behavior_error_checks.py:70: SettingWithCopyWarning: \n",
      "A value is trying to be set on a copy of a slice from a DataFrame\n",
      "\n",
      "See the caveats in the documentation: https://pandas.pydata.org/pandas-docs/stable/user_guide/indexing.html#returning-a-view-versus-a-copy\n",
      "  stateonly.end.iloc[:-1] = round(stateonly.start.iloc[1:],3)-0.001\n",
      "C:\\Users\\Nerissa\\anaconda3\\envs\\voc230824\\lib\\site-packages\\hdmf\\build\\objectmapper.py:260: DtypeConversionWarning: Spec 'vole_metadata/colors': Value with data type int32 is being converted to data type float32 as specified.\n",
      "  warnings.warn(full_warning_msg, DtypeConversionWarning)\n"
     ]
    },
    {
     "name": "stdout",
     "output_type": "stream",
     "text": [
      "Nov22_Pair17_PPT.nwb\n"
     ]
    },
    {
     "name": "stderr",
     "output_type": "stream",
     "text": [
      "M:\\utilities\\analysis_utilities\\behavior_error_checks.py:70: SettingWithCopyWarning: \n",
      "A value is trying to be set on a copy of a slice from a DataFrame\n",
      "\n",
      "See the caveats in the documentation: https://pandas.pydata.org/pandas-docs/stable/user_guide/indexing.html#returning-a-view-versus-a-copy\n",
      "  stateonly.end.iloc[:-1] = round(stateonly.start.iloc[1:],3)-0.001\n",
      "C:\\Users\\Nerissa\\anaconda3\\envs\\voc230824\\lib\\site-packages\\hdmf\\build\\objectmapper.py:260: DtypeConversionWarning: Spec 'vole_metadata/colors': Value with data type int32 is being converted to data type float32 as specified.\n",
      "  warnings.warn(full_warning_msg, DtypeConversionWarning)\n"
     ]
    },
    {
     "name": "stdout",
     "output_type": "stream",
     "text": [
      "Nov22_Pair18_PPT.nwb\n"
     ]
    },
    {
     "name": "stderr",
     "output_type": "stream",
     "text": [
      "M:\\utilities\\analysis_utilities\\behavior_error_checks.py:70: SettingWithCopyWarning: \n",
      "A value is trying to be set on a copy of a slice from a DataFrame\n",
      "\n",
      "See the caveats in the documentation: https://pandas.pydata.org/pandas-docs/stable/user_guide/indexing.html#returning-a-view-versus-a-copy\n",
      "  stateonly.end.iloc[:-1] = round(stateonly.start.iloc[1:],3)-0.001\n",
      "C:\\Users\\Nerissa\\anaconda3\\envs\\voc230824\\lib\\site-packages\\hdmf\\build\\objectmapper.py:260: DtypeConversionWarning: Spec 'vole_metadata/colors': Value with data type int32 is being converted to data type float32 as specified.\n",
      "  warnings.warn(full_warning_msg, DtypeConversionWarning)\n"
     ]
    },
    {
     "name": "stdout",
     "output_type": "stream",
     "text": [
      "Nov22_Pair19_PPT.nwb\n"
     ]
    },
    {
     "name": "stderr",
     "output_type": "stream",
     "text": [
      "M:\\utilities\\analysis_utilities\\behavior_error_checks.py:70: SettingWithCopyWarning: \n",
      "A value is trying to be set on a copy of a slice from a DataFrame\n",
      "\n",
      "See the caveats in the documentation: https://pandas.pydata.org/pandas-docs/stable/user_guide/indexing.html#returning-a-view-versus-a-copy\n",
      "  stateonly.end.iloc[:-1] = round(stateonly.start.iloc[1:],3)-0.001\n",
      "C:\\Users\\Nerissa\\anaconda3\\envs\\voc230824\\lib\\site-packages\\hdmf\\build\\objectmapper.py:260: DtypeConversionWarning: Spec 'vole_metadata/colors': Value with data type int32 is being converted to data type float32 as specified.\n",
      "  warnings.warn(full_warning_msg, DtypeConversionWarning)\n"
     ]
    },
    {
     "name": "stdout",
     "output_type": "stream",
     "text": [
      "Nov22_Pair2_PPT.nwb\n"
     ]
    },
    {
     "name": "stderr",
     "output_type": "stream",
     "text": [
      "M:\\utilities\\analysis_utilities\\behavior_error_checks.py:70: SettingWithCopyWarning: \n",
      "A value is trying to be set on a copy of a slice from a DataFrame\n",
      "\n",
      "See the caveats in the documentation: https://pandas.pydata.org/pandas-docs/stable/user_guide/indexing.html#returning-a-view-versus-a-copy\n",
      "  stateonly.end.iloc[:-1] = round(stateonly.start.iloc[1:],3)-0.001\n",
      "C:\\Users\\Nerissa\\anaconda3\\envs\\voc230824\\lib\\site-packages\\hdmf\\build\\objectmapper.py:260: DtypeConversionWarning: Spec 'vole_metadata/colors': Value with data type int32 is being converted to data type float32 as specified.\n",
      "  warnings.warn(full_warning_msg, DtypeConversionWarning)\n"
     ]
    },
    {
     "name": "stdout",
     "output_type": "stream",
     "text": [
      "Nov22_Pair21_PPT.nwb\n"
     ]
    },
    {
     "name": "stderr",
     "output_type": "stream",
     "text": [
      "M:\\utilities\\analysis_utilities\\behavior_error_checks.py:70: SettingWithCopyWarning: \n",
      "A value is trying to be set on a copy of a slice from a DataFrame\n",
      "\n",
      "See the caveats in the documentation: https://pandas.pydata.org/pandas-docs/stable/user_guide/indexing.html#returning-a-view-versus-a-copy\n",
      "  stateonly.end.iloc[:-1] = round(stateonly.start.iloc[1:],3)-0.001\n",
      "C:\\Users\\Nerissa\\anaconda3\\envs\\voc230824\\lib\\site-packages\\hdmf\\build\\objectmapper.py:260: DtypeConversionWarning: Spec 'vole_metadata/colors': Value with data type int32 is being converted to data type float32 as specified.\n",
      "  warnings.warn(full_warning_msg, DtypeConversionWarning)\n"
     ]
    },
    {
     "name": "stdout",
     "output_type": "stream",
     "text": [
      "Nov22_Pair22_PPT.nwb\n"
     ]
    },
    {
     "name": "stderr",
     "output_type": "stream",
     "text": [
      "M:\\utilities\\analysis_utilities\\behavior_error_checks.py:70: SettingWithCopyWarning: \n",
      "A value is trying to be set on a copy of a slice from a DataFrame\n",
      "\n",
      "See the caveats in the documentation: https://pandas.pydata.org/pandas-docs/stable/user_guide/indexing.html#returning-a-view-versus-a-copy\n",
      "  stateonly.end.iloc[:-1] = round(stateonly.start.iloc[1:],3)-0.001\n",
      "C:\\Users\\Nerissa\\anaconda3\\envs\\voc230824\\lib\\site-packages\\hdmf\\build\\objectmapper.py:260: DtypeConversionWarning: Spec 'vole_metadata/colors': Value with data type int32 is being converted to data type float32 as specified.\n",
      "  warnings.warn(full_warning_msg, DtypeConversionWarning)\n"
     ]
    },
    {
     "name": "stdout",
     "output_type": "stream",
     "text": [
      "Nov22_Pair23_PPT.nwb\n"
     ]
    },
    {
     "name": "stderr",
     "output_type": "stream",
     "text": [
      "M:\\utilities\\analysis_utilities\\behavior_error_checks.py:70: SettingWithCopyWarning: \n",
      "A value is trying to be set on a copy of a slice from a DataFrame\n",
      "\n",
      "See the caveats in the documentation: https://pandas.pydata.org/pandas-docs/stable/user_guide/indexing.html#returning-a-view-versus-a-copy\n",
      "  stateonly.end.iloc[:-1] = round(stateonly.start.iloc[1:],3)-0.001\n",
      "C:\\Users\\Nerissa\\anaconda3\\envs\\voc230824\\lib\\site-packages\\hdmf\\build\\objectmapper.py:260: DtypeConversionWarning: Spec 'vole_metadata/colors': Value with data type int32 is being converted to data type float32 as specified.\n",
      "  warnings.warn(full_warning_msg, DtypeConversionWarning)\n"
     ]
    },
    {
     "name": "stdout",
     "output_type": "stream",
     "text": [
      "Nov22_Pair24_PPT.nwb\n"
     ]
    },
    {
     "name": "stderr",
     "output_type": "stream",
     "text": [
      "M:\\utilities\\analysis_utilities\\behavior_error_checks.py:70: SettingWithCopyWarning: \n",
      "A value is trying to be set on a copy of a slice from a DataFrame\n",
      "\n",
      "See the caveats in the documentation: https://pandas.pydata.org/pandas-docs/stable/user_guide/indexing.html#returning-a-view-versus-a-copy\n",
      "  stateonly.end.iloc[:-1] = round(stateonly.start.iloc[1:],3)-0.001\n",
      "C:\\Users\\Nerissa\\anaconda3\\envs\\voc230824\\lib\\site-packages\\hdmf\\build\\objectmapper.py:260: DtypeConversionWarning: Spec 'vole_metadata/colors': Value with data type int32 is being converted to data type float32 as specified.\n",
      "  warnings.warn(full_warning_msg, DtypeConversionWarning)\n"
     ]
    },
    {
     "name": "stdout",
     "output_type": "stream",
     "text": [
      "Nov22_Pair25_PPT.nwb\n"
     ]
    },
    {
     "name": "stderr",
     "output_type": "stream",
     "text": [
      "M:\\utilities\\analysis_utilities\\behavior_error_checks.py:70: SettingWithCopyWarning: \n",
      "A value is trying to be set on a copy of a slice from a DataFrame\n",
      "\n",
      "See the caveats in the documentation: https://pandas.pydata.org/pandas-docs/stable/user_guide/indexing.html#returning-a-view-versus-a-copy\n",
      "  stateonly.end.iloc[:-1] = round(stateonly.start.iloc[1:],3)-0.001\n",
      "C:\\Users\\Nerissa\\anaconda3\\envs\\voc230824\\lib\\site-packages\\hdmf\\build\\objectmapper.py:260: DtypeConversionWarning: Spec 'vole_metadata/colors': Value with data type int32 is being converted to data type float32 as specified.\n",
      "  warnings.warn(full_warning_msg, DtypeConversionWarning)\n"
     ]
    },
    {
     "name": "stdout",
     "output_type": "stream",
     "text": [
      "Nov22_Pair26_PPT.nwb\n"
     ]
    },
    {
     "name": "stderr",
     "output_type": "stream",
     "text": [
      "M:\\utilities\\analysis_utilities\\behavior_error_checks.py:70: SettingWithCopyWarning: \n",
      "A value is trying to be set on a copy of a slice from a DataFrame\n",
      "\n",
      "See the caveats in the documentation: https://pandas.pydata.org/pandas-docs/stable/user_guide/indexing.html#returning-a-view-versus-a-copy\n",
      "  stateonly.end.iloc[:-1] = round(stateonly.start.iloc[1:],3)-0.001\n",
      "C:\\Users\\Nerissa\\anaconda3\\envs\\voc230824\\lib\\site-packages\\hdmf\\build\\objectmapper.py:260: DtypeConversionWarning: Spec 'vole_metadata/colors': Value with data type int32 is being converted to data type float32 as specified.\n",
      "  warnings.warn(full_warning_msg, DtypeConversionWarning)\n"
     ]
    },
    {
     "name": "stdout",
     "output_type": "stream",
     "text": [
      "Nov22_Pair27_PPT.nwb\n"
     ]
    },
    {
     "name": "stderr",
     "output_type": "stream",
     "text": [
      "M:\\utilities\\analysis_utilities\\behavior_error_checks.py:70: SettingWithCopyWarning: \n",
      "A value is trying to be set on a copy of a slice from a DataFrame\n",
      "\n",
      "See the caveats in the documentation: https://pandas.pydata.org/pandas-docs/stable/user_guide/indexing.html#returning-a-view-versus-a-copy\n",
      "  stateonly.end.iloc[:-1] = round(stateonly.start.iloc[1:],3)-0.001\n",
      "C:\\Users\\Nerissa\\anaconda3\\envs\\voc230824\\lib\\site-packages\\hdmf\\build\\objectmapper.py:260: DtypeConversionWarning: Spec 'vole_metadata/colors': Value with data type int32 is being converted to data type float32 as specified.\n",
      "  warnings.warn(full_warning_msg, DtypeConversionWarning)\n"
     ]
    },
    {
     "name": "stdout",
     "output_type": "stream",
     "text": [
      "Nov22_Pair28_PPT.nwb\n"
     ]
    },
    {
     "name": "stderr",
     "output_type": "stream",
     "text": [
      "M:\\utilities\\analysis_utilities\\behavior_error_checks.py:70: SettingWithCopyWarning: \n",
      "A value is trying to be set on a copy of a slice from a DataFrame\n",
      "\n",
      "See the caveats in the documentation: https://pandas.pydata.org/pandas-docs/stable/user_guide/indexing.html#returning-a-view-versus-a-copy\n",
      "  stateonly.end.iloc[:-1] = round(stateonly.start.iloc[1:],3)-0.001\n",
      "C:\\Users\\Nerissa\\anaconda3\\envs\\voc230824\\lib\\site-packages\\hdmf\\build\\objectmapper.py:260: DtypeConversionWarning: Spec 'vole_metadata/colors': Value with data type int32 is being converted to data type float32 as specified.\n",
      "  warnings.warn(full_warning_msg, DtypeConversionWarning)\n"
     ]
    },
    {
     "name": "stdout",
     "output_type": "stream",
     "text": [
      "Nov22_Pair29_PPT.nwb\n"
     ]
    },
    {
     "name": "stderr",
     "output_type": "stream",
     "text": [
      "M:\\utilities\\analysis_utilities\\behavior_error_checks.py:70: SettingWithCopyWarning: \n",
      "A value is trying to be set on a copy of a slice from a DataFrame\n",
      "\n",
      "See the caveats in the documentation: https://pandas.pydata.org/pandas-docs/stable/user_guide/indexing.html#returning-a-view-versus-a-copy\n",
      "  stateonly.end.iloc[:-1] = round(stateonly.start.iloc[1:],3)-0.001\n",
      "C:\\Users\\Nerissa\\anaconda3\\envs\\voc230824\\lib\\site-packages\\hdmf\\build\\objectmapper.py:260: DtypeConversionWarning: Spec 'vole_metadata/colors': Value with data type int32 is being converted to data type float32 as specified.\n",
      "  warnings.warn(full_warning_msg, DtypeConversionWarning)\n"
     ]
    },
    {
     "name": "stdout",
     "output_type": "stream",
     "text": [
      "Nov22_Pair3_PPT.nwb\n"
     ]
    },
    {
     "name": "stderr",
     "output_type": "stream",
     "text": [
      "M:\\utilities\\analysis_utilities\\behavior_error_checks.py:70: SettingWithCopyWarning: \n",
      "A value is trying to be set on a copy of a slice from a DataFrame\n",
      "\n",
      "See the caveats in the documentation: https://pandas.pydata.org/pandas-docs/stable/user_guide/indexing.html#returning-a-view-versus-a-copy\n",
      "  stateonly.end.iloc[:-1] = round(stateonly.start.iloc[1:],3)-0.001\n",
      "C:\\Users\\Nerissa\\anaconda3\\envs\\voc230824\\lib\\site-packages\\hdmf\\build\\objectmapper.py:260: DtypeConversionWarning: Spec 'vole_metadata/colors': Value with data type int32 is being converted to data type float32 as specified.\n",
      "  warnings.warn(full_warning_msg, DtypeConversionWarning)\n"
     ]
    },
    {
     "name": "stdout",
     "output_type": "stream",
     "text": [
      "Nov22_Pair30_PPT.nwb\n"
     ]
    },
    {
     "name": "stderr",
     "output_type": "stream",
     "text": [
      "M:\\utilities\\analysis_utilities\\behavior_error_checks.py:70: SettingWithCopyWarning: \n",
      "A value is trying to be set on a copy of a slice from a DataFrame\n",
      "\n",
      "See the caveats in the documentation: https://pandas.pydata.org/pandas-docs/stable/user_guide/indexing.html#returning-a-view-versus-a-copy\n",
      "  stateonly.end.iloc[:-1] = round(stateonly.start.iloc[1:],3)-0.001\n",
      "C:\\Users\\Nerissa\\anaconda3\\envs\\voc230824\\lib\\site-packages\\hdmf\\build\\objectmapper.py:260: DtypeConversionWarning: Spec 'vole_metadata/colors': Value with data type int32 is being converted to data type float32 as specified.\n",
      "  warnings.warn(full_warning_msg, DtypeConversionWarning)\n"
     ]
    },
    {
     "name": "stdout",
     "output_type": "stream",
     "text": [
      "Nov22_Pair31_PPT.nwb\n"
     ]
    },
    {
     "name": "stderr",
     "output_type": "stream",
     "text": [
      "M:\\utilities\\analysis_utilities\\behavior_error_checks.py:70: SettingWithCopyWarning: \n",
      "A value is trying to be set on a copy of a slice from a DataFrame\n",
      "\n",
      "See the caveats in the documentation: https://pandas.pydata.org/pandas-docs/stable/user_guide/indexing.html#returning-a-view-versus-a-copy\n",
      "  stateonly.end.iloc[:-1] = round(stateonly.start.iloc[1:],3)-0.001\n",
      "C:\\Users\\Nerissa\\anaconda3\\envs\\voc230824\\lib\\site-packages\\hdmf\\build\\objectmapper.py:260: DtypeConversionWarning: Spec 'vole_metadata/colors': Value with data type int32 is being converted to data type float32 as specified.\n",
      "  warnings.warn(full_warning_msg, DtypeConversionWarning)\n"
     ]
    },
    {
     "name": "stdout",
     "output_type": "stream",
     "text": [
      "Nov22_Pair32_PPT.nwb\n"
     ]
    },
    {
     "name": "stderr",
     "output_type": "stream",
     "text": [
      "M:\\utilities\\analysis_utilities\\behavior_error_checks.py:70: SettingWithCopyWarning: \n",
      "A value is trying to be set on a copy of a slice from a DataFrame\n",
      "\n",
      "See the caveats in the documentation: https://pandas.pydata.org/pandas-docs/stable/user_guide/indexing.html#returning-a-view-versus-a-copy\n",
      "  stateonly.end.iloc[:-1] = round(stateonly.start.iloc[1:],3)-0.001\n",
      "C:\\Users\\Nerissa\\anaconda3\\envs\\voc230824\\lib\\site-packages\\hdmf\\build\\objectmapper.py:260: DtypeConversionWarning: Spec 'vole_metadata/colors': Value with data type int32 is being converted to data type float32 as specified.\n",
      "  warnings.warn(full_warning_msg, DtypeConversionWarning)\n"
     ]
    },
    {
     "name": "stdout",
     "output_type": "stream",
     "text": [
      "Nov22_Pair33_PPT.nwb\n"
     ]
    },
    {
     "name": "stderr",
     "output_type": "stream",
     "text": [
      "M:\\utilities\\analysis_utilities\\behavior_error_checks.py:70: SettingWithCopyWarning: \n",
      "A value is trying to be set on a copy of a slice from a DataFrame\n",
      "\n",
      "See the caveats in the documentation: https://pandas.pydata.org/pandas-docs/stable/user_guide/indexing.html#returning-a-view-versus-a-copy\n",
      "  stateonly.end.iloc[:-1] = round(stateonly.start.iloc[1:],3)-0.001\n",
      "C:\\Users\\Nerissa\\anaconda3\\envs\\voc230824\\lib\\site-packages\\hdmf\\build\\objectmapper.py:260: DtypeConversionWarning: Spec 'vole_metadata/colors': Value with data type int32 is being converted to data type float32 as specified.\n",
      "  warnings.warn(full_warning_msg, DtypeConversionWarning)\n"
     ]
    },
    {
     "name": "stdout",
     "output_type": "stream",
     "text": [
      "Nov22_Pair34_PPT.nwb\n"
     ]
    },
    {
     "name": "stderr",
     "output_type": "stream",
     "text": [
      "M:\\utilities\\analysis_utilities\\behavior_error_checks.py:70: SettingWithCopyWarning: \n",
      "A value is trying to be set on a copy of a slice from a DataFrame\n",
      "\n",
      "See the caveats in the documentation: https://pandas.pydata.org/pandas-docs/stable/user_guide/indexing.html#returning-a-view-versus-a-copy\n",
      "  stateonly.end.iloc[:-1] = round(stateonly.start.iloc[1:],3)-0.001\n",
      "C:\\Users\\Nerissa\\anaconda3\\envs\\voc230824\\lib\\site-packages\\hdmf\\build\\objectmapper.py:260: DtypeConversionWarning: Spec 'vole_metadata/colors': Value with data type int32 is being converted to data type float32 as specified.\n",
      "  warnings.warn(full_warning_msg, DtypeConversionWarning)\n"
     ]
    },
    {
     "name": "stdout",
     "output_type": "stream",
     "text": [
      "Nov22_Pair35_PPT.nwb\n"
     ]
    },
    {
     "name": "stderr",
     "output_type": "stream",
     "text": [
      "M:\\utilities\\analysis_utilities\\behavior_error_checks.py:70: SettingWithCopyWarning: \n",
      "A value is trying to be set on a copy of a slice from a DataFrame\n",
      "\n",
      "See the caveats in the documentation: https://pandas.pydata.org/pandas-docs/stable/user_guide/indexing.html#returning-a-view-versus-a-copy\n",
      "  stateonly.end.iloc[:-1] = round(stateonly.start.iloc[1:],3)-0.001\n",
      "C:\\Users\\Nerissa\\anaconda3\\envs\\voc230824\\lib\\site-packages\\hdmf\\build\\objectmapper.py:260: DtypeConversionWarning: Spec 'vole_metadata/colors': Value with data type int32 is being converted to data type float32 as specified.\n",
      "  warnings.warn(full_warning_msg, DtypeConversionWarning)\n"
     ]
    },
    {
     "name": "stdout",
     "output_type": "stream",
     "text": [
      "Nov22_Pair36_PPT.nwb\n"
     ]
    },
    {
     "name": "stderr",
     "output_type": "stream",
     "text": [
      "M:\\utilities\\analysis_utilities\\behavior_error_checks.py:70: SettingWithCopyWarning: \n",
      "A value is trying to be set on a copy of a slice from a DataFrame\n",
      "\n",
      "See the caveats in the documentation: https://pandas.pydata.org/pandas-docs/stable/user_guide/indexing.html#returning-a-view-versus-a-copy\n",
      "  stateonly.end.iloc[:-1] = round(stateonly.start.iloc[1:],3)-0.001\n",
      "C:\\Users\\Nerissa\\anaconda3\\envs\\voc230824\\lib\\site-packages\\hdmf\\build\\objectmapper.py:260: DtypeConversionWarning: Spec 'vole_metadata/colors': Value with data type int32 is being converted to data type float32 as specified.\n",
      "  warnings.warn(full_warning_msg, DtypeConversionWarning)\n"
     ]
    },
    {
     "name": "stdout",
     "output_type": "stream",
     "text": [
      "Nov22_Pair37_PPT.nwb\n"
     ]
    },
    {
     "name": "stderr",
     "output_type": "stream",
     "text": [
      "M:\\utilities\\analysis_utilities\\behavior_error_checks.py:70: SettingWithCopyWarning: \n",
      "A value is trying to be set on a copy of a slice from a DataFrame\n",
      "\n",
      "See the caveats in the documentation: https://pandas.pydata.org/pandas-docs/stable/user_guide/indexing.html#returning-a-view-versus-a-copy\n",
      "  stateonly.end.iloc[:-1] = round(stateonly.start.iloc[1:],3)-0.001\n",
      "C:\\Users\\Nerissa\\anaconda3\\envs\\voc230824\\lib\\site-packages\\hdmf\\build\\objectmapper.py:260: DtypeConversionWarning: Spec 'vole_metadata/colors': Value with data type int32 is being converted to data type float32 as specified.\n",
      "  warnings.warn(full_warning_msg, DtypeConversionWarning)\n"
     ]
    },
    {
     "name": "stdout",
     "output_type": "stream",
     "text": [
      "Nov22_Pair38_PPT.nwb\n"
     ]
    },
    {
     "name": "stderr",
     "output_type": "stream",
     "text": [
      "M:\\utilities\\analysis_utilities\\behavior_error_checks.py:70: SettingWithCopyWarning: \n",
      "A value is trying to be set on a copy of a slice from a DataFrame\n",
      "\n",
      "See the caveats in the documentation: https://pandas.pydata.org/pandas-docs/stable/user_guide/indexing.html#returning-a-view-versus-a-copy\n",
      "  stateonly.end.iloc[:-1] = round(stateonly.start.iloc[1:],3)-0.001\n",
      "C:\\Users\\Nerissa\\anaconda3\\envs\\voc230824\\lib\\site-packages\\hdmf\\build\\objectmapper.py:260: DtypeConversionWarning: Spec 'vole_metadata/colors': Value with data type int32 is being converted to data type float32 as specified.\n",
      "  warnings.warn(full_warning_msg, DtypeConversionWarning)\n"
     ]
    },
    {
     "name": "stdout",
     "output_type": "stream",
     "text": [
      "Nov22_Pair4_PPT.nwb\n"
     ]
    },
    {
     "name": "stderr",
     "output_type": "stream",
     "text": [
      "M:\\utilities\\analysis_utilities\\behavior_error_checks.py:70: SettingWithCopyWarning: \n",
      "A value is trying to be set on a copy of a slice from a DataFrame\n",
      "\n",
      "See the caveats in the documentation: https://pandas.pydata.org/pandas-docs/stable/user_guide/indexing.html#returning-a-view-versus-a-copy\n",
      "  stateonly.end.iloc[:-1] = round(stateonly.start.iloc[1:],3)-0.001\n",
      "C:\\Users\\Nerissa\\anaconda3\\envs\\voc230824\\lib\\site-packages\\hdmf\\build\\objectmapper.py:260: DtypeConversionWarning: Spec 'vole_metadata/colors': Value with data type int32 is being converted to data type float32 as specified.\n",
      "  warnings.warn(full_warning_msg, DtypeConversionWarning)\n"
     ]
    },
    {
     "name": "stdout",
     "output_type": "stream",
     "text": [
      "Nov22_Pair40_PPT.nwb\n"
     ]
    },
    {
     "name": "stderr",
     "output_type": "stream",
     "text": [
      "M:\\utilities\\analysis_utilities\\behavior_error_checks.py:70: SettingWithCopyWarning: \n",
      "A value is trying to be set on a copy of a slice from a DataFrame\n",
      "\n",
      "See the caveats in the documentation: https://pandas.pydata.org/pandas-docs/stable/user_guide/indexing.html#returning-a-view-versus-a-copy\n",
      "  stateonly.end.iloc[:-1] = round(stateonly.start.iloc[1:],3)-0.001\n",
      "C:\\Users\\Nerissa\\anaconda3\\envs\\voc230824\\lib\\site-packages\\hdmf\\build\\objectmapper.py:260: DtypeConversionWarning: Spec 'vole_metadata/colors': Value with data type int32 is being converted to data type float32 as specified.\n",
      "  warnings.warn(full_warning_msg, DtypeConversionWarning)\n"
     ]
    },
    {
     "name": "stdout",
     "output_type": "stream",
     "text": [
      "Nov22_Pair41_PPT.nwb\n"
     ]
    },
    {
     "name": "stderr",
     "output_type": "stream",
     "text": [
      "M:\\utilities\\analysis_utilities\\behavior_error_checks.py:70: SettingWithCopyWarning: \n",
      "A value is trying to be set on a copy of a slice from a DataFrame\n",
      "\n",
      "See the caveats in the documentation: https://pandas.pydata.org/pandas-docs/stable/user_guide/indexing.html#returning-a-view-versus-a-copy\n",
      "  stateonly.end.iloc[:-1] = round(stateonly.start.iloc[1:],3)-0.001\n",
      "C:\\Users\\Nerissa\\anaconda3\\envs\\voc230824\\lib\\site-packages\\hdmf\\build\\objectmapper.py:260: DtypeConversionWarning: Spec 'vole_metadata/colors': Value with data type int32 is being converted to data type float32 as specified.\n",
      "  warnings.warn(full_warning_msg, DtypeConversionWarning)\n"
     ]
    },
    {
     "name": "stdout",
     "output_type": "stream",
     "text": [
      "Nov22_Pair42_PPT.nwb\n"
     ]
    },
    {
     "name": "stderr",
     "output_type": "stream",
     "text": [
      "M:\\utilities\\analysis_utilities\\behavior_error_checks.py:70: SettingWithCopyWarning: \n",
      "A value is trying to be set on a copy of a slice from a DataFrame\n",
      "\n",
      "See the caveats in the documentation: https://pandas.pydata.org/pandas-docs/stable/user_guide/indexing.html#returning-a-view-versus-a-copy\n",
      "  stateonly.end.iloc[:-1] = round(stateonly.start.iloc[1:],3)-0.001\n",
      "C:\\Users\\Nerissa\\anaconda3\\envs\\voc230824\\lib\\site-packages\\hdmf\\build\\objectmapper.py:260: DtypeConversionWarning: Spec 'vole_metadata/colors': Value with data type int32 is being converted to data type float32 as specified.\n",
      "  warnings.warn(full_warning_msg, DtypeConversionWarning)\n"
     ]
    },
    {
     "name": "stdout",
     "output_type": "stream",
     "text": [
      "Nov22_Pair43_PPT.nwb\n"
     ]
    },
    {
     "name": "stderr",
     "output_type": "stream",
     "text": [
      "M:\\utilities\\analysis_utilities\\behavior_error_checks.py:70: SettingWithCopyWarning: \n",
      "A value is trying to be set on a copy of a slice from a DataFrame\n",
      "\n",
      "See the caveats in the documentation: https://pandas.pydata.org/pandas-docs/stable/user_guide/indexing.html#returning-a-view-versus-a-copy\n",
      "  stateonly.end.iloc[:-1] = round(stateonly.start.iloc[1:],3)-0.001\n",
      "C:\\Users\\Nerissa\\anaconda3\\envs\\voc230824\\lib\\site-packages\\hdmf\\build\\objectmapper.py:260: DtypeConversionWarning: Spec 'vole_metadata/colors': Value with data type int32 is being converted to data type float32 as specified.\n",
      "  warnings.warn(full_warning_msg, DtypeConversionWarning)\n"
     ]
    },
    {
     "name": "stdout",
     "output_type": "stream",
     "text": [
      "Nov22_Pair44_PPT.nwb\n"
     ]
    },
    {
     "name": "stderr",
     "output_type": "stream",
     "text": [
      "M:\\utilities\\analysis_utilities\\behavior_error_checks.py:70: SettingWithCopyWarning: \n",
      "A value is trying to be set on a copy of a slice from a DataFrame\n",
      "\n",
      "See the caveats in the documentation: https://pandas.pydata.org/pandas-docs/stable/user_guide/indexing.html#returning-a-view-versus-a-copy\n",
      "  stateonly.end.iloc[:-1] = round(stateonly.start.iloc[1:],3)-0.001\n",
      "C:\\Users\\Nerissa\\anaconda3\\envs\\voc230824\\lib\\site-packages\\hdmf\\build\\objectmapper.py:260: DtypeConversionWarning: Spec 'vole_metadata/colors': Value with data type int32 is being converted to data type float32 as specified.\n",
      "  warnings.warn(full_warning_msg, DtypeConversionWarning)\n"
     ]
    },
    {
     "name": "stdout",
     "output_type": "stream",
     "text": [
      "Nov22_Pair46_PPT.nwb\n"
     ]
    },
    {
     "name": "stderr",
     "output_type": "stream",
     "text": [
      "M:\\utilities\\analysis_utilities\\behavior_error_checks.py:70: SettingWithCopyWarning: \n",
      "A value is trying to be set on a copy of a slice from a DataFrame\n",
      "\n",
      "See the caveats in the documentation: https://pandas.pydata.org/pandas-docs/stable/user_guide/indexing.html#returning-a-view-versus-a-copy\n",
      "  stateonly.end.iloc[:-1] = round(stateonly.start.iloc[1:],3)-0.001\n",
      "C:\\Users\\Nerissa\\anaconda3\\envs\\voc230824\\lib\\site-packages\\hdmf\\build\\objectmapper.py:260: DtypeConversionWarning: Spec 'vole_metadata/colors': Value with data type int32 is being converted to data type float32 as specified.\n",
      "  warnings.warn(full_warning_msg, DtypeConversionWarning)\n"
     ]
    },
    {
     "name": "stdout",
     "output_type": "stream",
     "text": [
      "Nov22_Pair47_PPT.nwb\n"
     ]
    },
    {
     "name": "stderr",
     "output_type": "stream",
     "text": [
      "M:\\utilities\\analysis_utilities\\behavior_error_checks.py:70: SettingWithCopyWarning: \n",
      "A value is trying to be set on a copy of a slice from a DataFrame\n",
      "\n",
      "See the caveats in the documentation: https://pandas.pydata.org/pandas-docs/stable/user_guide/indexing.html#returning-a-view-versus-a-copy\n",
      "  stateonly.end.iloc[:-1] = round(stateonly.start.iloc[1:],3)-0.001\n",
      "C:\\Users\\Nerissa\\anaconda3\\envs\\voc230824\\lib\\site-packages\\hdmf\\build\\objectmapper.py:260: DtypeConversionWarning: Spec 'vole_metadata/colors': Value with data type int32 is being converted to data type float32 as specified.\n",
      "  warnings.warn(full_warning_msg, DtypeConversionWarning)\n"
     ]
    },
    {
     "name": "stdout",
     "output_type": "stream",
     "text": [
      "Nov22_Pair48_PPT.nwb\n"
     ]
    },
    {
     "name": "stderr",
     "output_type": "stream",
     "text": [
      "M:\\utilities\\analysis_utilities\\behavior_error_checks.py:70: SettingWithCopyWarning: \n",
      "A value is trying to be set on a copy of a slice from a DataFrame\n",
      "\n",
      "See the caveats in the documentation: https://pandas.pydata.org/pandas-docs/stable/user_guide/indexing.html#returning-a-view-versus-a-copy\n",
      "  stateonly.end.iloc[:-1] = round(stateonly.start.iloc[1:],3)-0.001\n",
      "C:\\Users\\Nerissa\\anaconda3\\envs\\voc230824\\lib\\site-packages\\hdmf\\build\\objectmapper.py:260: DtypeConversionWarning: Spec 'vole_metadata/colors': Value with data type int32 is being converted to data type float32 as specified.\n",
      "  warnings.warn(full_warning_msg, DtypeConversionWarning)\n"
     ]
    },
    {
     "name": "stdout",
     "output_type": "stream",
     "text": [
      "Nov22_Pair49_PPT.nwb\n"
     ]
    },
    {
     "name": "stderr",
     "output_type": "stream",
     "text": [
      "M:\\utilities\\analysis_utilities\\behavior_error_checks.py:70: SettingWithCopyWarning: \n",
      "A value is trying to be set on a copy of a slice from a DataFrame\n",
      "\n",
      "See the caveats in the documentation: https://pandas.pydata.org/pandas-docs/stable/user_guide/indexing.html#returning-a-view-versus-a-copy\n",
      "  stateonly.end.iloc[:-1] = round(stateonly.start.iloc[1:],3)-0.001\n",
      "C:\\Users\\Nerissa\\anaconda3\\envs\\voc230824\\lib\\site-packages\\hdmf\\build\\objectmapper.py:260: DtypeConversionWarning: Spec 'vole_metadata/colors': Value with data type int32 is being converted to data type float32 as specified.\n",
      "  warnings.warn(full_warning_msg, DtypeConversionWarning)\n"
     ]
    },
    {
     "name": "stdout",
     "output_type": "stream",
     "text": [
      "Nov22_Pair5_PPT.nwb\n"
     ]
    },
    {
     "name": "stderr",
     "output_type": "stream",
     "text": [
      "M:\\utilities\\analysis_utilities\\behavior_error_checks.py:70: SettingWithCopyWarning: \n",
      "A value is trying to be set on a copy of a slice from a DataFrame\n",
      "\n",
      "See the caveats in the documentation: https://pandas.pydata.org/pandas-docs/stable/user_guide/indexing.html#returning-a-view-versus-a-copy\n",
      "  stateonly.end.iloc[:-1] = round(stateonly.start.iloc[1:],3)-0.001\n",
      "C:\\Users\\Nerissa\\anaconda3\\envs\\voc230824\\lib\\site-packages\\hdmf\\build\\objectmapper.py:260: DtypeConversionWarning: Spec 'vole_metadata/colors': Value with data type int32 is being converted to data type float32 as specified.\n",
      "  warnings.warn(full_warning_msg, DtypeConversionWarning)\n"
     ]
    },
    {
     "name": "stdout",
     "output_type": "stream",
     "text": [
      "Nov22_Pair50_PPT.nwb\n"
     ]
    },
    {
     "name": "stderr",
     "output_type": "stream",
     "text": [
      "M:\\utilities\\analysis_utilities\\behavior_error_checks.py:70: SettingWithCopyWarning: \n",
      "A value is trying to be set on a copy of a slice from a DataFrame\n",
      "\n",
      "See the caveats in the documentation: https://pandas.pydata.org/pandas-docs/stable/user_guide/indexing.html#returning-a-view-versus-a-copy\n",
      "  stateonly.end.iloc[:-1] = round(stateonly.start.iloc[1:],3)-0.001\n",
      "C:\\Users\\Nerissa\\anaconda3\\envs\\voc230824\\lib\\site-packages\\hdmf\\build\\objectmapper.py:260: DtypeConversionWarning: Spec 'vole_metadata/colors': Value with data type int32 is being converted to data type float32 as specified.\n",
      "  warnings.warn(full_warning_msg, DtypeConversionWarning)\n"
     ]
    },
    {
     "name": "stdout",
     "output_type": "stream",
     "text": [
      "Nov22_Pair51_PPT.nwb\n"
     ]
    },
    {
     "name": "stderr",
     "output_type": "stream",
     "text": [
      "M:\\utilities\\analysis_utilities\\behavior_error_checks.py:70: SettingWithCopyWarning: \n",
      "A value is trying to be set on a copy of a slice from a DataFrame\n",
      "\n",
      "See the caveats in the documentation: https://pandas.pydata.org/pandas-docs/stable/user_guide/indexing.html#returning-a-view-versus-a-copy\n",
      "  stateonly.end.iloc[:-1] = round(stateonly.start.iloc[1:],3)-0.001\n",
      "C:\\Users\\Nerissa\\anaconda3\\envs\\voc230824\\lib\\site-packages\\hdmf\\build\\objectmapper.py:260: DtypeConversionWarning: Spec 'vole_metadata/colors': Value with data type int32 is being converted to data type float32 as specified.\n",
      "  warnings.warn(full_warning_msg, DtypeConversionWarning)\n"
     ]
    },
    {
     "name": "stdout",
     "output_type": "stream",
     "text": [
      "Nov22_Pair52_PPT.nwb\n"
     ]
    },
    {
     "name": "stderr",
     "output_type": "stream",
     "text": [
      "M:\\utilities\\analysis_utilities\\behavior_error_checks.py:70: SettingWithCopyWarning: \n",
      "A value is trying to be set on a copy of a slice from a DataFrame\n",
      "\n",
      "See the caveats in the documentation: https://pandas.pydata.org/pandas-docs/stable/user_guide/indexing.html#returning-a-view-versus-a-copy\n",
      "  stateonly.end.iloc[:-1] = round(stateonly.start.iloc[1:],3)-0.001\n",
      "C:\\Users\\Nerissa\\anaconda3\\envs\\voc230824\\lib\\site-packages\\hdmf\\build\\objectmapper.py:260: DtypeConversionWarning: Spec 'vole_metadata/colors': Value with data type int32 is being converted to data type float32 as specified.\n",
      "  warnings.warn(full_warning_msg, DtypeConversionWarning)\n"
     ]
    },
    {
     "name": "stdout",
     "output_type": "stream",
     "text": [
      "Nov22_Pair56_PPT.nwb\n"
     ]
    },
    {
     "name": "stderr",
     "output_type": "stream",
     "text": [
      "M:\\utilities\\analysis_utilities\\behavior_error_checks.py:70: SettingWithCopyWarning: \n",
      "A value is trying to be set on a copy of a slice from a DataFrame\n",
      "\n",
      "See the caveats in the documentation: https://pandas.pydata.org/pandas-docs/stable/user_guide/indexing.html#returning-a-view-versus-a-copy\n",
      "  stateonly.end.iloc[:-1] = round(stateonly.start.iloc[1:],3)-0.001\n",
      "C:\\Users\\Nerissa\\anaconda3\\envs\\voc230824\\lib\\site-packages\\hdmf\\build\\objectmapper.py:260: DtypeConversionWarning: Spec 'vole_metadata/colors': Value with data type int32 is being converted to data type float32 as specified.\n",
      "  warnings.warn(full_warning_msg, DtypeConversionWarning)\n"
     ]
    },
    {
     "name": "stdout",
     "output_type": "stream",
     "text": [
      "Nov22_Pair57_PPT.nwb\n"
     ]
    },
    {
     "name": "stderr",
     "output_type": "stream",
     "text": [
      "M:\\utilities\\analysis_utilities\\behavior_error_checks.py:70: SettingWithCopyWarning: \n",
      "A value is trying to be set on a copy of a slice from a DataFrame\n",
      "\n",
      "See the caveats in the documentation: https://pandas.pydata.org/pandas-docs/stable/user_guide/indexing.html#returning-a-view-versus-a-copy\n",
      "  stateonly.end.iloc[:-1] = round(stateonly.start.iloc[1:],3)-0.001\n",
      "C:\\Users\\Nerissa\\anaconda3\\envs\\voc230824\\lib\\site-packages\\hdmf\\build\\objectmapper.py:260: DtypeConversionWarning: Spec 'vole_metadata/colors': Value with data type int32 is being converted to data type float32 as specified.\n",
      "  warnings.warn(full_warning_msg, DtypeConversionWarning)\n"
     ]
    },
    {
     "name": "stdout",
     "output_type": "stream",
     "text": [
      "Nov22_Pair58_PPT.nwb\n"
     ]
    },
    {
     "name": "stderr",
     "output_type": "stream",
     "text": [
      "M:\\utilities\\analysis_utilities\\behavior_error_checks.py:70: SettingWithCopyWarning: \n",
      "A value is trying to be set on a copy of a slice from a DataFrame\n",
      "\n",
      "See the caveats in the documentation: https://pandas.pydata.org/pandas-docs/stable/user_guide/indexing.html#returning-a-view-versus-a-copy\n",
      "  stateonly.end.iloc[:-1] = round(stateonly.start.iloc[1:],3)-0.001\n",
      "C:\\Users\\Nerissa\\anaconda3\\envs\\voc230824\\lib\\site-packages\\hdmf\\build\\objectmapper.py:260: DtypeConversionWarning: Spec 'vole_metadata/colors': Value with data type int32 is being converted to data type float32 as specified.\n",
      "  warnings.warn(full_warning_msg, DtypeConversionWarning)\n"
     ]
    },
    {
     "name": "stdout",
     "output_type": "stream",
     "text": [
      "Nov22_Pair59_PPT.nwb\n"
     ]
    },
    {
     "name": "stderr",
     "output_type": "stream",
     "text": [
      "M:\\utilities\\analysis_utilities\\behavior_error_checks.py:70: SettingWithCopyWarning: \n",
      "A value is trying to be set on a copy of a slice from a DataFrame\n",
      "\n",
      "See the caveats in the documentation: https://pandas.pydata.org/pandas-docs/stable/user_guide/indexing.html#returning-a-view-versus-a-copy\n",
      "  stateonly.end.iloc[:-1] = round(stateonly.start.iloc[1:],3)-0.001\n",
      "C:\\Users\\Nerissa\\anaconda3\\envs\\voc230824\\lib\\site-packages\\hdmf\\build\\objectmapper.py:260: DtypeConversionWarning: Spec 'vole_metadata/colors': Value with data type int32 is being converted to data type float32 as specified.\n",
      "  warnings.warn(full_warning_msg, DtypeConversionWarning)\n"
     ]
    },
    {
     "name": "stdout",
     "output_type": "stream",
     "text": [
      "Nov22_Pair6_PPT.nwb\n"
     ]
    },
    {
     "name": "stderr",
     "output_type": "stream",
     "text": [
      "M:\\utilities\\analysis_utilities\\behavior_error_checks.py:70: SettingWithCopyWarning: \n",
      "A value is trying to be set on a copy of a slice from a DataFrame\n",
      "\n",
      "See the caveats in the documentation: https://pandas.pydata.org/pandas-docs/stable/user_guide/indexing.html#returning-a-view-versus-a-copy\n",
      "  stateonly.end.iloc[:-1] = round(stateonly.start.iloc[1:],3)-0.001\n",
      "C:\\Users\\Nerissa\\anaconda3\\envs\\voc230824\\lib\\site-packages\\hdmf\\build\\objectmapper.py:260: DtypeConversionWarning: Spec 'vole_metadata/colors': Value with data type int32 is being converted to data type float32 as specified.\n",
      "  warnings.warn(full_warning_msg, DtypeConversionWarning)\n"
     ]
    },
    {
     "name": "stdout",
     "output_type": "stream",
     "text": [
      "Nov22_Pair61_PPT.nwb\n"
     ]
    },
    {
     "name": "stderr",
     "output_type": "stream",
     "text": [
      "M:\\utilities\\analysis_utilities\\behavior_error_checks.py:70: SettingWithCopyWarning: \n",
      "A value is trying to be set on a copy of a slice from a DataFrame\n",
      "\n",
      "See the caveats in the documentation: https://pandas.pydata.org/pandas-docs/stable/user_guide/indexing.html#returning-a-view-versus-a-copy\n",
      "  stateonly.end.iloc[:-1] = round(stateonly.start.iloc[1:],3)-0.001\n",
      "C:\\Users\\Nerissa\\anaconda3\\envs\\voc230824\\lib\\site-packages\\hdmf\\build\\objectmapper.py:260: DtypeConversionWarning: Spec 'vole_metadata/colors': Value with data type int32 is being converted to data type float32 as specified.\n",
      "  warnings.warn(full_warning_msg, DtypeConversionWarning)\n"
     ]
    },
    {
     "name": "stdout",
     "output_type": "stream",
     "text": [
      "Nov22_Pair62_PPT.nwb\n"
     ]
    },
    {
     "name": "stderr",
     "output_type": "stream",
     "text": [
      "M:\\utilities\\analysis_utilities\\behavior_error_checks.py:70: SettingWithCopyWarning: \n",
      "A value is trying to be set on a copy of a slice from a DataFrame\n",
      "\n",
      "See the caveats in the documentation: https://pandas.pydata.org/pandas-docs/stable/user_guide/indexing.html#returning-a-view-versus-a-copy\n",
      "  stateonly.end.iloc[:-1] = round(stateonly.start.iloc[1:],3)-0.001\n",
      "C:\\Users\\Nerissa\\anaconda3\\envs\\voc230824\\lib\\site-packages\\hdmf\\build\\objectmapper.py:260: DtypeConversionWarning: Spec 'vole_metadata/colors': Value with data type int32 is being converted to data type float32 as specified.\n",
      "  warnings.warn(full_warning_msg, DtypeConversionWarning)\n"
     ]
    },
    {
     "name": "stdout",
     "output_type": "stream",
     "text": [
      "Nov22_Pair63_PPT.nwb\n"
     ]
    },
    {
     "name": "stderr",
     "output_type": "stream",
     "text": [
      "M:\\utilities\\analysis_utilities\\behavior_error_checks.py:70: SettingWithCopyWarning: \n",
      "A value is trying to be set on a copy of a slice from a DataFrame\n",
      "\n",
      "See the caveats in the documentation: https://pandas.pydata.org/pandas-docs/stable/user_guide/indexing.html#returning-a-view-versus-a-copy\n",
      "  stateonly.end.iloc[:-1] = round(stateonly.start.iloc[1:],3)-0.001\n",
      "C:\\Users\\Nerissa\\anaconda3\\envs\\voc230824\\lib\\site-packages\\hdmf\\build\\objectmapper.py:260: DtypeConversionWarning: Spec 'vole_metadata/colors': Value with data type int32 is being converted to data type float32 as specified.\n",
      "  warnings.warn(full_warning_msg, DtypeConversionWarning)\n"
     ]
    },
    {
     "name": "stdout",
     "output_type": "stream",
     "text": [
      "Nov22_Pair64_PPT.nwb\n"
     ]
    },
    {
     "name": "stderr",
     "output_type": "stream",
     "text": [
      "M:\\utilities\\analysis_utilities\\behavior_error_checks.py:70: SettingWithCopyWarning: \n",
      "A value is trying to be set on a copy of a slice from a DataFrame\n",
      "\n",
      "See the caveats in the documentation: https://pandas.pydata.org/pandas-docs/stable/user_guide/indexing.html#returning-a-view-versus-a-copy\n",
      "  stateonly.end.iloc[:-1] = round(stateonly.start.iloc[1:],3)-0.001\n",
      "C:\\Users\\Nerissa\\anaconda3\\envs\\voc230824\\lib\\site-packages\\hdmf\\build\\objectmapper.py:260: DtypeConversionWarning: Spec 'vole_metadata/colors': Value with data type int32 is being converted to data type float32 as specified.\n",
      "  warnings.warn(full_warning_msg, DtypeConversionWarning)\n"
     ]
    },
    {
     "name": "stdout",
     "output_type": "stream",
     "text": [
      "Nov22_Pair7_PPT.nwb\n"
     ]
    },
    {
     "name": "stderr",
     "output_type": "stream",
     "text": [
      "M:\\utilities\\analysis_utilities\\behavior_error_checks.py:70: SettingWithCopyWarning: \n",
      "A value is trying to be set on a copy of a slice from a DataFrame\n",
      "\n",
      "See the caveats in the documentation: https://pandas.pydata.org/pandas-docs/stable/user_guide/indexing.html#returning-a-view-versus-a-copy\n",
      "  stateonly.end.iloc[:-1] = round(stateonly.start.iloc[1:],3)-0.001\n",
      "C:\\Users\\Nerissa\\anaconda3\\envs\\voc230824\\lib\\site-packages\\hdmf\\build\\objectmapper.py:260: DtypeConversionWarning: Spec 'vole_metadata/colors': Value with data type int32 is being converted to data type float32 as specified.\n",
      "  warnings.warn(full_warning_msg, DtypeConversionWarning)\n"
     ]
    },
    {
     "name": "stdout",
     "output_type": "stream",
     "text": [
      "Nov22_Pair8_PPT.nwb\n"
     ]
    },
    {
     "name": "stderr",
     "output_type": "stream",
     "text": [
      "M:\\utilities\\analysis_utilities\\behavior_error_checks.py:70: SettingWithCopyWarning: \n",
      "A value is trying to be set on a copy of a slice from a DataFrame\n",
      "\n",
      "See the caveats in the documentation: https://pandas.pydata.org/pandas-docs/stable/user_guide/indexing.html#returning-a-view-versus-a-copy\n",
      "  stateonly.end.iloc[:-1] = round(stateonly.start.iloc[1:],3)-0.001\n",
      "C:\\Users\\Nerissa\\anaconda3\\envs\\voc230824\\lib\\site-packages\\hdmf\\build\\objectmapper.py:260: DtypeConversionWarning: Spec 'vole_metadata/colors': Value with data type int32 is being converted to data type float32 as specified.\n",
      "  warnings.warn(full_warning_msg, DtypeConversionWarning)\n"
     ]
    },
    {
     "name": "stdout",
     "output_type": "stream",
     "text": [
      "Nov22_Pair1_reunion.nwb\n"
     ]
    },
    {
     "name": "stderr",
     "output_type": "stream",
     "text": [
      "M:\\utilities\\analysis_utilities\\behavior_error_checks.py:70: SettingWithCopyWarning: \n",
      "A value is trying to be set on a copy of a slice from a DataFrame\n",
      "\n",
      "See the caveats in the documentation: https://pandas.pydata.org/pandas-docs/stable/user_guide/indexing.html#returning-a-view-versus-a-copy\n",
      "  stateonly.end.iloc[:-1] = round(stateonly.start.iloc[1:],3)-0.001\n",
      "C:\\Users\\Nerissa\\anaconda3\\envs\\voc230824\\lib\\site-packages\\hdmf\\build\\objectmapper.py:260: DtypeConversionWarning: Spec 'vole_metadata/colors': Value with data type int32 is being converted to data type float32 as specified.\n",
      "  warnings.warn(full_warning_msg, DtypeConversionWarning)\n"
     ]
    },
    {
     "name": "stdout",
     "output_type": "stream",
     "text": [
      "Nov22_Pair15_reunion.nwb\n"
     ]
    },
    {
     "name": "stderr",
     "output_type": "stream",
     "text": [
      "M:\\utilities\\analysis_utilities\\behavior_error_checks.py:70: SettingWithCopyWarning: \n",
      "A value is trying to be set on a copy of a slice from a DataFrame\n",
      "\n",
      "See the caveats in the documentation: https://pandas.pydata.org/pandas-docs/stable/user_guide/indexing.html#returning-a-view-versus-a-copy\n",
      "  stateonly.end.iloc[:-1] = round(stateonly.start.iloc[1:],3)-0.001\n",
      "C:\\Users\\Nerissa\\anaconda3\\envs\\voc230824\\lib\\site-packages\\hdmf\\build\\objectmapper.py:260: DtypeConversionWarning: Spec 'vole_metadata/colors': Value with data type int32 is being converted to data type float32 as specified.\n",
      "  warnings.warn(full_warning_msg, DtypeConversionWarning)\n"
     ]
    },
    {
     "name": "stdout",
     "output_type": "stream",
     "text": [
      "Nov22_Pair16_reunion.nwb\n"
     ]
    },
    {
     "name": "stderr",
     "output_type": "stream",
     "text": [
      "M:\\utilities\\analysis_utilities\\behavior_error_checks.py:70: SettingWithCopyWarning: \n",
      "A value is trying to be set on a copy of a slice from a DataFrame\n",
      "\n",
      "See the caveats in the documentation: https://pandas.pydata.org/pandas-docs/stable/user_guide/indexing.html#returning-a-view-versus-a-copy\n",
      "  stateonly.end.iloc[:-1] = round(stateonly.start.iloc[1:],3)-0.001\n",
      "C:\\Users\\Nerissa\\anaconda3\\envs\\voc230824\\lib\\site-packages\\hdmf\\build\\objectmapper.py:260: DtypeConversionWarning: Spec 'vole_metadata/colors': Value with data type int32 is being converted to data type float32 as specified.\n",
      "  warnings.warn(full_warning_msg, DtypeConversionWarning)\n"
     ]
    },
    {
     "name": "stdout",
     "output_type": "stream",
     "text": [
      "Nov22_Pair17_reunion.nwb\n"
     ]
    },
    {
     "name": "stderr",
     "output_type": "stream",
     "text": [
      "M:\\utilities\\analysis_utilities\\behavior_error_checks.py:70: SettingWithCopyWarning: \n",
      "A value is trying to be set on a copy of a slice from a DataFrame\n",
      "\n",
      "See the caveats in the documentation: https://pandas.pydata.org/pandas-docs/stable/user_guide/indexing.html#returning-a-view-versus-a-copy\n",
      "  stateonly.end.iloc[:-1] = round(stateonly.start.iloc[1:],3)-0.001\n",
      "C:\\Users\\Nerissa\\anaconda3\\envs\\voc230824\\lib\\site-packages\\hdmf\\build\\objectmapper.py:260: DtypeConversionWarning: Spec 'vole_metadata/colors': Value with data type int32 is being converted to data type float32 as specified.\n",
      "  warnings.warn(full_warning_msg, DtypeConversionWarning)\n"
     ]
    },
    {
     "name": "stdout",
     "output_type": "stream",
     "text": [
      "Nov22_Pair18_reunion.nwb\n"
     ]
    },
    {
     "name": "stderr",
     "output_type": "stream",
     "text": [
      "M:\\utilities\\analysis_utilities\\behavior_error_checks.py:70: SettingWithCopyWarning: \n",
      "A value is trying to be set on a copy of a slice from a DataFrame\n",
      "\n",
      "See the caveats in the documentation: https://pandas.pydata.org/pandas-docs/stable/user_guide/indexing.html#returning-a-view-versus-a-copy\n",
      "  stateonly.end.iloc[:-1] = round(stateonly.start.iloc[1:],3)-0.001\n",
      "C:\\Users\\Nerissa\\anaconda3\\envs\\voc230824\\lib\\site-packages\\hdmf\\build\\objectmapper.py:260: DtypeConversionWarning: Spec 'vole_metadata/colors': Value with data type int32 is being converted to data type float32 as specified.\n",
      "  warnings.warn(full_warning_msg, DtypeConversionWarning)\n"
     ]
    },
    {
     "name": "stdout",
     "output_type": "stream",
     "text": [
      "Nov22_Pair19_reunion.nwb\n"
     ]
    },
    {
     "name": "stderr",
     "output_type": "stream",
     "text": [
      "M:\\utilities\\analysis_utilities\\behavior_error_checks.py:70: SettingWithCopyWarning: \n",
      "A value is trying to be set on a copy of a slice from a DataFrame\n",
      "\n",
      "See the caveats in the documentation: https://pandas.pydata.org/pandas-docs/stable/user_guide/indexing.html#returning-a-view-versus-a-copy\n",
      "  stateonly.end.iloc[:-1] = round(stateonly.start.iloc[1:],3)-0.001\n"
     ]
    },
    {
     "name": "stdout",
     "output_type": "stream",
     "text": [
      "Nov22_Pair2_reunion.nwb\n"
     ]
    },
    {
     "name": "stderr",
     "output_type": "stream",
     "text": [
      "C:\\Users\\Nerissa\\anaconda3\\envs\\voc230824\\lib\\site-packages\\hdmf\\build\\objectmapper.py:260: DtypeConversionWarning: Spec 'vole_metadata/colors': Value with data type int32 is being converted to data type float32 as specified.\n",
      "  warnings.warn(full_warning_msg, DtypeConversionWarning)\n",
      "M:\\utilities\\analysis_utilities\\behavior_error_checks.py:70: SettingWithCopyWarning: \n",
      "A value is trying to be set on a copy of a slice from a DataFrame\n",
      "\n",
      "See the caveats in the documentation: https://pandas.pydata.org/pandas-docs/stable/user_guide/indexing.html#returning-a-view-versus-a-copy\n",
      "  stateonly.end.iloc[:-1] = round(stateonly.start.iloc[1:],3)-0.001\n",
      "C:\\Users\\Nerissa\\anaconda3\\envs\\voc230824\\lib\\site-packages\\hdmf\\build\\objectmapper.py:260: DtypeConversionWarning: Spec 'vole_metadata/colors': Value with data type int32 is being converted to data type float32 as specified.\n",
      "  warnings.warn(full_warning_msg, DtypeConversionWarning)\n"
     ]
    },
    {
     "name": "stdout",
     "output_type": "stream",
     "text": [
      "Nov22_Pair21_reunion.nwb\n"
     ]
    },
    {
     "name": "stderr",
     "output_type": "stream",
     "text": [
      "M:\\utilities\\analysis_utilities\\behavior_error_checks.py:70: SettingWithCopyWarning: \n",
      "A value is trying to be set on a copy of a slice from a DataFrame\n",
      "\n",
      "See the caveats in the documentation: https://pandas.pydata.org/pandas-docs/stable/user_guide/indexing.html#returning-a-view-versus-a-copy\n",
      "  stateonly.end.iloc[:-1] = round(stateonly.start.iloc[1:],3)-0.001\n",
      "C:\\Users\\Nerissa\\anaconda3\\envs\\voc230824\\lib\\site-packages\\hdmf\\build\\objectmapper.py:260: DtypeConversionWarning: Spec 'vole_metadata/colors': Value with data type int32 is being converted to data type float32 as specified.\n",
      "  warnings.warn(full_warning_msg, DtypeConversionWarning)\n"
     ]
    },
    {
     "name": "stdout",
     "output_type": "stream",
     "text": [
      "Nov22_Pair22_reunion.nwb\n"
     ]
    },
    {
     "name": "stderr",
     "output_type": "stream",
     "text": [
      "M:\\utilities\\analysis_utilities\\behavior_error_checks.py:70: SettingWithCopyWarning: \n",
      "A value is trying to be set on a copy of a slice from a DataFrame\n",
      "\n",
      "See the caveats in the documentation: https://pandas.pydata.org/pandas-docs/stable/user_guide/indexing.html#returning-a-view-versus-a-copy\n",
      "  stateonly.end.iloc[:-1] = round(stateonly.start.iloc[1:],3)-0.001\n"
     ]
    },
    {
     "name": "stdout",
     "output_type": "stream",
     "text": [
      "Nov22_Pair23_reunion.nwb\n"
     ]
    },
    {
     "name": "stderr",
     "output_type": "stream",
     "text": [
      "C:\\Users\\Nerissa\\anaconda3\\envs\\voc230824\\lib\\site-packages\\hdmf\\build\\objectmapper.py:260: DtypeConversionWarning: Spec 'vole_metadata/colors': Value with data type int32 is being converted to data type float32 as specified.\n",
      "  warnings.warn(full_warning_msg, DtypeConversionWarning)\n",
      "M:\\utilities\\analysis_utilities\\behavior_error_checks.py:70: SettingWithCopyWarning: \n",
      "A value is trying to be set on a copy of a slice from a DataFrame\n",
      "\n",
      "See the caveats in the documentation: https://pandas.pydata.org/pandas-docs/stable/user_guide/indexing.html#returning-a-view-versus-a-copy\n",
      "  stateonly.end.iloc[:-1] = round(stateonly.start.iloc[1:],3)-0.001\n",
      "C:\\Users\\Nerissa\\anaconda3\\envs\\voc230824\\lib\\site-packages\\hdmf\\build\\objectmapper.py:260: DtypeConversionWarning: Spec 'vole_metadata/colors': Value with data type int32 is being converted to data type float32 as specified.\n",
      "  warnings.warn(full_warning_msg, DtypeConversionWarning)\n"
     ]
    },
    {
     "name": "stdout",
     "output_type": "stream",
     "text": [
      "Nov22_Pair24_reunion.nwb\n"
     ]
    },
    {
     "name": "stderr",
     "output_type": "stream",
     "text": [
      "M:\\utilities\\analysis_utilities\\behavior_error_checks.py:70: SettingWithCopyWarning: \n",
      "A value is trying to be set on a copy of a slice from a DataFrame\n",
      "\n",
      "See the caveats in the documentation: https://pandas.pydata.org/pandas-docs/stable/user_guide/indexing.html#returning-a-view-versus-a-copy\n",
      "  stateonly.end.iloc[:-1] = round(stateonly.start.iloc[1:],3)-0.001\n",
      "C:\\Users\\Nerissa\\anaconda3\\envs\\voc230824\\lib\\site-packages\\hdmf\\build\\objectmapper.py:260: DtypeConversionWarning: Spec 'vole_metadata/colors': Value with data type int32 is being converted to data type float32 as specified.\n",
      "  warnings.warn(full_warning_msg, DtypeConversionWarning)\n"
     ]
    },
    {
     "name": "stdout",
     "output_type": "stream",
     "text": [
      "Nov22_Pair25_reunion.nwb\n"
     ]
    },
    {
     "name": "stderr",
     "output_type": "stream",
     "text": [
      "M:\\utilities\\analysis_utilities\\behavior_error_checks.py:70: SettingWithCopyWarning: \n",
      "A value is trying to be set on a copy of a slice from a DataFrame\n",
      "\n",
      "See the caveats in the documentation: https://pandas.pydata.org/pandas-docs/stable/user_guide/indexing.html#returning-a-view-versus-a-copy\n",
      "  stateonly.end.iloc[:-1] = round(stateonly.start.iloc[1:],3)-0.001\n",
      "C:\\Users\\Nerissa\\anaconda3\\envs\\voc230824\\lib\\site-packages\\hdmf\\build\\objectmapper.py:260: DtypeConversionWarning: Spec 'vole_metadata/colors': Value with data type int32 is being converted to data type float32 as specified.\n",
      "  warnings.warn(full_warning_msg, DtypeConversionWarning)\n"
     ]
    },
    {
     "name": "stdout",
     "output_type": "stream",
     "text": [
      "Nov22_Pair26_reunion.nwb\n"
     ]
    },
    {
     "name": "stderr",
     "output_type": "stream",
     "text": [
      "M:\\utilities\\analysis_utilities\\behavior_error_checks.py:70: SettingWithCopyWarning: \n",
      "A value is trying to be set on a copy of a slice from a DataFrame\n",
      "\n",
      "See the caveats in the documentation: https://pandas.pydata.org/pandas-docs/stable/user_guide/indexing.html#returning-a-view-versus-a-copy\n",
      "  stateonly.end.iloc[:-1] = round(stateonly.start.iloc[1:],3)-0.001\n",
      "C:\\Users\\Nerissa\\anaconda3\\envs\\voc230824\\lib\\site-packages\\hdmf\\build\\objectmapper.py:260: DtypeConversionWarning: Spec 'vole_metadata/colors': Value with data type int32 is being converted to data type float32 as specified.\n",
      "  warnings.warn(full_warning_msg, DtypeConversionWarning)\n"
     ]
    },
    {
     "name": "stdout",
     "output_type": "stream",
     "text": [
      "Nov22_Pair27_reunion.nwb\n"
     ]
    },
    {
     "name": "stderr",
     "output_type": "stream",
     "text": [
      "M:\\utilities\\analysis_utilities\\behavior_error_checks.py:70: SettingWithCopyWarning: \n",
      "A value is trying to be set on a copy of a slice from a DataFrame\n",
      "\n",
      "See the caveats in the documentation: https://pandas.pydata.org/pandas-docs/stable/user_guide/indexing.html#returning-a-view-versus-a-copy\n",
      "  stateonly.end.iloc[:-1] = round(stateonly.start.iloc[1:],3)-0.001\n",
      "C:\\Users\\Nerissa\\anaconda3\\envs\\voc230824\\lib\\site-packages\\hdmf\\build\\objectmapper.py:260: DtypeConversionWarning: Spec 'vole_metadata/colors': Value with data type int32 is being converted to data type float32 as specified.\n",
      "  warnings.warn(full_warning_msg, DtypeConversionWarning)\n"
     ]
    },
    {
     "name": "stdout",
     "output_type": "stream",
     "text": [
      "Nov22_Pair28_reunion.nwb\n"
     ]
    },
    {
     "name": "stderr",
     "output_type": "stream",
     "text": [
      "M:\\utilities\\analysis_utilities\\behavior_error_checks.py:70: SettingWithCopyWarning: \n",
      "A value is trying to be set on a copy of a slice from a DataFrame\n",
      "\n",
      "See the caveats in the documentation: https://pandas.pydata.org/pandas-docs/stable/user_guide/indexing.html#returning-a-view-versus-a-copy\n",
      "  stateonly.end.iloc[:-1] = round(stateonly.start.iloc[1:],3)-0.001\n",
      "C:\\Users\\Nerissa\\anaconda3\\envs\\voc230824\\lib\\site-packages\\hdmf\\build\\objectmapper.py:260: DtypeConversionWarning: Spec 'vole_metadata/colors': Value with data type int32 is being converted to data type float32 as specified.\n",
      "  warnings.warn(full_warning_msg, DtypeConversionWarning)\n"
     ]
    },
    {
     "name": "stdout",
     "output_type": "stream",
     "text": [
      "Nov22_Pair29_reunion.nwb\n"
     ]
    },
    {
     "name": "stderr",
     "output_type": "stream",
     "text": [
      "M:\\utilities\\analysis_utilities\\behavior_error_checks.py:70: SettingWithCopyWarning: \n",
      "A value is trying to be set on a copy of a slice from a DataFrame\n",
      "\n",
      "See the caveats in the documentation: https://pandas.pydata.org/pandas-docs/stable/user_guide/indexing.html#returning-a-view-versus-a-copy\n",
      "  stateonly.end.iloc[:-1] = round(stateonly.start.iloc[1:],3)-0.001\n",
      "C:\\Users\\Nerissa\\anaconda3\\envs\\voc230824\\lib\\site-packages\\hdmf\\build\\objectmapper.py:260: DtypeConversionWarning: Spec 'vole_metadata/colors': Value with data type int32 is being converted to data type float32 as specified.\n",
      "  warnings.warn(full_warning_msg, DtypeConversionWarning)\n"
     ]
    },
    {
     "name": "stdout",
     "output_type": "stream",
     "text": [
      "Nov22_Pair3_reunion.nwb\n"
     ]
    },
    {
     "name": "stderr",
     "output_type": "stream",
     "text": [
      "M:\\utilities\\analysis_utilities\\behavior_error_checks.py:70: SettingWithCopyWarning: \n",
      "A value is trying to be set on a copy of a slice from a DataFrame\n",
      "\n",
      "See the caveats in the documentation: https://pandas.pydata.org/pandas-docs/stable/user_guide/indexing.html#returning-a-view-versus-a-copy\n",
      "  stateonly.end.iloc[:-1] = round(stateonly.start.iloc[1:],3)-0.001\n",
      "C:\\Users\\Nerissa\\anaconda3\\envs\\voc230824\\lib\\site-packages\\hdmf\\build\\objectmapper.py:260: DtypeConversionWarning: Spec 'vole_metadata/colors': Value with data type int32 is being converted to data type float32 as specified.\n",
      "  warnings.warn(full_warning_msg, DtypeConversionWarning)\n"
     ]
    },
    {
     "name": "stdout",
     "output_type": "stream",
     "text": [
      "Nov22_Pair30_reunion.nwb\n"
     ]
    },
    {
     "name": "stderr",
     "output_type": "stream",
     "text": [
      "M:\\utilities\\analysis_utilities\\behavior_error_checks.py:70: SettingWithCopyWarning: \n",
      "A value is trying to be set on a copy of a slice from a DataFrame\n",
      "\n",
      "See the caveats in the documentation: https://pandas.pydata.org/pandas-docs/stable/user_guide/indexing.html#returning-a-view-versus-a-copy\n",
      "  stateonly.end.iloc[:-1] = round(stateonly.start.iloc[1:],3)-0.001\n",
      "C:\\Users\\Nerissa\\anaconda3\\envs\\voc230824\\lib\\site-packages\\hdmf\\build\\objectmapper.py:260: DtypeConversionWarning: Spec 'vole_metadata/colors': Value with data type int32 is being converted to data type float32 as specified.\n",
      "  warnings.warn(full_warning_msg, DtypeConversionWarning)\n"
     ]
    },
    {
     "name": "stdout",
     "output_type": "stream",
     "text": [
      "Nov22_Pair31_reunion.nwb\n"
     ]
    },
    {
     "name": "stderr",
     "output_type": "stream",
     "text": [
      "M:\\utilities\\analysis_utilities\\behavior_error_checks.py:70: SettingWithCopyWarning: \n",
      "A value is trying to be set on a copy of a slice from a DataFrame\n",
      "\n",
      "See the caveats in the documentation: https://pandas.pydata.org/pandas-docs/stable/user_guide/indexing.html#returning-a-view-versus-a-copy\n",
      "  stateonly.end.iloc[:-1] = round(stateonly.start.iloc[1:],3)-0.001\n",
      "C:\\Users\\Nerissa\\anaconda3\\envs\\voc230824\\lib\\site-packages\\hdmf\\build\\objectmapper.py:260: DtypeConversionWarning: Spec 'vole_metadata/colors': Value with data type int32 is being converted to data type float32 as specified.\n",
      "  warnings.warn(full_warning_msg, DtypeConversionWarning)\n"
     ]
    },
    {
     "name": "stdout",
     "output_type": "stream",
     "text": [
      "Nov22_Pair32_reunion.nwb\n"
     ]
    },
    {
     "name": "stderr",
     "output_type": "stream",
     "text": [
      "M:\\utilities\\analysis_utilities\\behavior_error_checks.py:70: SettingWithCopyWarning: \n",
      "A value is trying to be set on a copy of a slice from a DataFrame\n",
      "\n",
      "See the caveats in the documentation: https://pandas.pydata.org/pandas-docs/stable/user_guide/indexing.html#returning-a-view-versus-a-copy\n",
      "  stateonly.end.iloc[:-1] = round(stateonly.start.iloc[1:],3)-0.001\n",
      "C:\\Users\\Nerissa\\anaconda3\\envs\\voc230824\\lib\\site-packages\\hdmf\\build\\objectmapper.py:260: DtypeConversionWarning: Spec 'vole_metadata/colors': Value with data type int32 is being converted to data type float32 as specified.\n",
      "  warnings.warn(full_warning_msg, DtypeConversionWarning)\n"
     ]
    },
    {
     "name": "stdout",
     "output_type": "stream",
     "text": [
      "Nov22_Pair33_reunion.nwb\n"
     ]
    },
    {
     "name": "stderr",
     "output_type": "stream",
     "text": [
      "M:\\utilities\\analysis_utilities\\behavior_error_checks.py:70: SettingWithCopyWarning: \n",
      "A value is trying to be set on a copy of a slice from a DataFrame\n",
      "\n",
      "See the caveats in the documentation: https://pandas.pydata.org/pandas-docs/stable/user_guide/indexing.html#returning-a-view-versus-a-copy\n",
      "  stateonly.end.iloc[:-1] = round(stateonly.start.iloc[1:],3)-0.001\n",
      "C:\\Users\\Nerissa\\anaconda3\\envs\\voc230824\\lib\\site-packages\\hdmf\\build\\objectmapper.py:260: DtypeConversionWarning: Spec 'vole_metadata/colors': Value with data type int32 is being converted to data type float32 as specified.\n",
      "  warnings.warn(full_warning_msg, DtypeConversionWarning)\n"
     ]
    },
    {
     "name": "stdout",
     "output_type": "stream",
     "text": [
      "Nov22_Pair34_reunion.nwb\n"
     ]
    },
    {
     "name": "stderr",
     "output_type": "stream",
     "text": [
      "M:\\utilities\\analysis_utilities\\behavior_error_checks.py:70: SettingWithCopyWarning: \n",
      "A value is trying to be set on a copy of a slice from a DataFrame\n",
      "\n",
      "See the caveats in the documentation: https://pandas.pydata.org/pandas-docs/stable/user_guide/indexing.html#returning-a-view-versus-a-copy\n",
      "  stateonly.end.iloc[:-1] = round(stateonly.start.iloc[1:],3)-0.001\n",
      "C:\\Users\\Nerissa\\anaconda3\\envs\\voc230824\\lib\\site-packages\\hdmf\\build\\objectmapper.py:260: DtypeConversionWarning: Spec 'vole_metadata/colors': Value with data type int32 is being converted to data type float32 as specified.\n",
      "  warnings.warn(full_warning_msg, DtypeConversionWarning)\n"
     ]
    },
    {
     "name": "stdout",
     "output_type": "stream",
     "text": [
      "Nov22_Pair35_reunion.nwb\n"
     ]
    },
    {
     "name": "stderr",
     "output_type": "stream",
     "text": [
      "M:\\utilities\\analysis_utilities\\behavior_error_checks.py:70: SettingWithCopyWarning: \n",
      "A value is trying to be set on a copy of a slice from a DataFrame\n",
      "\n",
      "See the caveats in the documentation: https://pandas.pydata.org/pandas-docs/stable/user_guide/indexing.html#returning-a-view-versus-a-copy\n",
      "  stateonly.end.iloc[:-1] = round(stateonly.start.iloc[1:],3)-0.001\n",
      "C:\\Users\\Nerissa\\anaconda3\\envs\\voc230824\\lib\\site-packages\\hdmf\\build\\objectmapper.py:260: DtypeConversionWarning: Spec 'vole_metadata/colors': Value with data type int32 is being converted to data type float32 as specified.\n",
      "  warnings.warn(full_warning_msg, DtypeConversionWarning)\n"
     ]
    },
    {
     "name": "stdout",
     "output_type": "stream",
     "text": [
      "Nov22_Pair36_reunion.nwb\n"
     ]
    },
    {
     "name": "stderr",
     "output_type": "stream",
     "text": [
      "M:\\utilities\\analysis_utilities\\behavior_error_checks.py:70: SettingWithCopyWarning: \n",
      "A value is trying to be set on a copy of a slice from a DataFrame\n",
      "\n",
      "See the caveats in the documentation: https://pandas.pydata.org/pandas-docs/stable/user_guide/indexing.html#returning-a-view-versus-a-copy\n",
      "  stateonly.end.iloc[:-1] = round(stateonly.start.iloc[1:],3)-0.001\n",
      "C:\\Users\\Nerissa\\anaconda3\\envs\\voc230824\\lib\\site-packages\\hdmf\\build\\objectmapper.py:260: DtypeConversionWarning: Spec 'vole_metadata/colors': Value with data type int32 is being converted to data type float32 as specified.\n",
      "  warnings.warn(full_warning_msg, DtypeConversionWarning)\n"
     ]
    },
    {
     "name": "stdout",
     "output_type": "stream",
     "text": [
      "Nov22_Pair37_reunion.nwb\n"
     ]
    },
    {
     "name": "stderr",
     "output_type": "stream",
     "text": [
      "M:\\utilities\\analysis_utilities\\behavior_error_checks.py:70: SettingWithCopyWarning: \n",
      "A value is trying to be set on a copy of a slice from a DataFrame\n",
      "\n",
      "See the caveats in the documentation: https://pandas.pydata.org/pandas-docs/stable/user_guide/indexing.html#returning-a-view-versus-a-copy\n",
      "  stateonly.end.iloc[:-1] = round(stateonly.start.iloc[1:],3)-0.001\n",
      "C:\\Users\\Nerissa\\anaconda3\\envs\\voc230824\\lib\\site-packages\\hdmf\\build\\objectmapper.py:260: DtypeConversionWarning: Spec 'vole_metadata/colors': Value with data type int32 is being converted to data type float32 as specified.\n",
      "  warnings.warn(full_warning_msg, DtypeConversionWarning)\n"
     ]
    },
    {
     "name": "stdout",
     "output_type": "stream",
     "text": [
      "Nov22_Pair38_reunion.nwb\n"
     ]
    },
    {
     "name": "stderr",
     "output_type": "stream",
     "text": [
      "M:\\utilities\\analysis_utilities\\behavior_error_checks.py:70: SettingWithCopyWarning: \n",
      "A value is trying to be set on a copy of a slice from a DataFrame\n",
      "\n",
      "See the caveats in the documentation: https://pandas.pydata.org/pandas-docs/stable/user_guide/indexing.html#returning-a-view-versus-a-copy\n",
      "  stateonly.end.iloc[:-1] = round(stateonly.start.iloc[1:],3)-0.001\n",
      "C:\\Users\\Nerissa\\anaconda3\\envs\\voc230824\\lib\\site-packages\\hdmf\\build\\objectmapper.py:260: DtypeConversionWarning: Spec 'vole_metadata/colors': Value with data type int32 is being converted to data type float32 as specified.\n",
      "  warnings.warn(full_warning_msg, DtypeConversionWarning)\n"
     ]
    },
    {
     "name": "stdout",
     "output_type": "stream",
     "text": [
      "Nov22_Pair39_reunion.nwb\n"
     ]
    },
    {
     "name": "stderr",
     "output_type": "stream",
     "text": [
      "M:\\utilities\\analysis_utilities\\behavior_error_checks.py:70: SettingWithCopyWarning: \n",
      "A value is trying to be set on a copy of a slice from a DataFrame\n",
      "\n",
      "See the caveats in the documentation: https://pandas.pydata.org/pandas-docs/stable/user_guide/indexing.html#returning-a-view-versus-a-copy\n",
      "  stateonly.end.iloc[:-1] = round(stateonly.start.iloc[1:],3)-0.001\n",
      "C:\\Users\\Nerissa\\anaconda3\\envs\\voc230824\\lib\\site-packages\\hdmf\\build\\objectmapper.py:260: DtypeConversionWarning: Spec 'vole_metadata/colors': Value with data type int32 is being converted to data type float32 as specified.\n",
      "  warnings.warn(full_warning_msg, DtypeConversionWarning)\n"
     ]
    },
    {
     "name": "stdout",
     "output_type": "stream",
     "text": [
      "Nov22_Pair4_reunion.nwb\n"
     ]
    },
    {
     "name": "stderr",
     "output_type": "stream",
     "text": [
      "M:\\utilities\\analysis_utilities\\behavior_error_checks.py:70: SettingWithCopyWarning: \n",
      "A value is trying to be set on a copy of a slice from a DataFrame\n",
      "\n",
      "See the caveats in the documentation: https://pandas.pydata.org/pandas-docs/stable/user_guide/indexing.html#returning-a-view-versus-a-copy\n",
      "  stateonly.end.iloc[:-1] = round(stateonly.start.iloc[1:],3)-0.001\n",
      "C:\\Users\\Nerissa\\anaconda3\\envs\\voc230824\\lib\\site-packages\\hdmf\\build\\objectmapper.py:260: DtypeConversionWarning: Spec 'vole_metadata/colors': Value with data type int32 is being converted to data type float32 as specified.\n",
      "  warnings.warn(full_warning_msg, DtypeConversionWarning)\n"
     ]
    },
    {
     "name": "stdout",
     "output_type": "stream",
     "text": [
      "Nov22_Pair40_reunion.nwb\n"
     ]
    },
    {
     "name": "stderr",
     "output_type": "stream",
     "text": [
      "M:\\utilities\\analysis_utilities\\behavior_error_checks.py:70: SettingWithCopyWarning: \n",
      "A value is trying to be set on a copy of a slice from a DataFrame\n",
      "\n",
      "See the caveats in the documentation: https://pandas.pydata.org/pandas-docs/stable/user_guide/indexing.html#returning-a-view-versus-a-copy\n",
      "  stateonly.end.iloc[:-1] = round(stateonly.start.iloc[1:],3)-0.001\n",
      "C:\\Users\\Nerissa\\anaconda3\\envs\\voc230824\\lib\\site-packages\\hdmf\\build\\objectmapper.py:260: DtypeConversionWarning: Spec 'vole_metadata/colors': Value with data type int32 is being converted to data type float32 as specified.\n",
      "  warnings.warn(full_warning_msg, DtypeConversionWarning)\n"
     ]
    },
    {
     "name": "stdout",
     "output_type": "stream",
     "text": [
      "Nov22_Pair41_reunion.nwb\n"
     ]
    },
    {
     "name": "stderr",
     "output_type": "stream",
     "text": [
      "M:\\utilities\\analysis_utilities\\behavior_error_checks.py:70: SettingWithCopyWarning: \n",
      "A value is trying to be set on a copy of a slice from a DataFrame\n",
      "\n",
      "See the caveats in the documentation: https://pandas.pydata.org/pandas-docs/stable/user_guide/indexing.html#returning-a-view-versus-a-copy\n",
      "  stateonly.end.iloc[:-1] = round(stateonly.start.iloc[1:],3)-0.001\n",
      "C:\\Users\\Nerissa\\anaconda3\\envs\\voc230824\\lib\\site-packages\\hdmf\\build\\objectmapper.py:260: DtypeConversionWarning: Spec 'vole_metadata/colors': Value with data type int32 is being converted to data type float32 as specified.\n",
      "  warnings.warn(full_warning_msg, DtypeConversionWarning)\n"
     ]
    },
    {
     "name": "stdout",
     "output_type": "stream",
     "text": [
      "Nov22_Pair43_reunion.nwb\n"
     ]
    },
    {
     "name": "stderr",
     "output_type": "stream",
     "text": [
      "M:\\utilities\\analysis_utilities\\behavior_error_checks.py:70: SettingWithCopyWarning: \n",
      "A value is trying to be set on a copy of a slice from a DataFrame\n",
      "\n",
      "See the caveats in the documentation: https://pandas.pydata.org/pandas-docs/stable/user_guide/indexing.html#returning-a-view-versus-a-copy\n",
      "  stateonly.end.iloc[:-1] = round(stateonly.start.iloc[1:],3)-0.001\n",
      "C:\\Users\\Nerissa\\anaconda3\\envs\\voc230824\\lib\\site-packages\\hdmf\\build\\objectmapper.py:260: DtypeConversionWarning: Spec 'vole_metadata/colors': Value with data type int32 is being converted to data type float32 as specified.\n",
      "  warnings.warn(full_warning_msg, DtypeConversionWarning)\n"
     ]
    },
    {
     "name": "stdout",
     "output_type": "stream",
     "text": [
      "Nov22_Pair44_reunion.nwb\n"
     ]
    },
    {
     "name": "stderr",
     "output_type": "stream",
     "text": [
      "M:\\utilities\\analysis_utilities\\behavior_error_checks.py:70: SettingWithCopyWarning: \n",
      "A value is trying to be set on a copy of a slice from a DataFrame\n",
      "\n",
      "See the caveats in the documentation: https://pandas.pydata.org/pandas-docs/stable/user_guide/indexing.html#returning-a-view-versus-a-copy\n",
      "  stateonly.end.iloc[:-1] = round(stateonly.start.iloc[1:],3)-0.001\n",
      "C:\\Users\\Nerissa\\anaconda3\\envs\\voc230824\\lib\\site-packages\\hdmf\\build\\objectmapper.py:260: DtypeConversionWarning: Spec 'vole_metadata/colors': Value with data type int32 is being converted to data type float32 as specified.\n",
      "  warnings.warn(full_warning_msg, DtypeConversionWarning)\n"
     ]
    },
    {
     "name": "stdout",
     "output_type": "stream",
     "text": [
      "Nov22_Pair46_reunion.nwb\n"
     ]
    },
    {
     "name": "stderr",
     "output_type": "stream",
     "text": [
      "M:\\utilities\\analysis_utilities\\behavior_error_checks.py:70: SettingWithCopyWarning: \n",
      "A value is trying to be set on a copy of a slice from a DataFrame\n",
      "\n",
      "See the caveats in the documentation: https://pandas.pydata.org/pandas-docs/stable/user_guide/indexing.html#returning-a-view-versus-a-copy\n",
      "  stateonly.end.iloc[:-1] = round(stateonly.start.iloc[1:],3)-0.001\n",
      "C:\\Users\\Nerissa\\anaconda3\\envs\\voc230824\\lib\\site-packages\\hdmf\\build\\objectmapper.py:260: DtypeConversionWarning: Spec 'vole_metadata/colors': Value with data type int32 is being converted to data type float32 as specified.\n",
      "  warnings.warn(full_warning_msg, DtypeConversionWarning)\n"
     ]
    },
    {
     "name": "stdout",
     "output_type": "stream",
     "text": [
      "Nov22_Pair47_reunion.nwb\n"
     ]
    },
    {
     "name": "stderr",
     "output_type": "stream",
     "text": [
      "M:\\utilities\\analysis_utilities\\behavior_error_checks.py:70: SettingWithCopyWarning: \n",
      "A value is trying to be set on a copy of a slice from a DataFrame\n",
      "\n",
      "See the caveats in the documentation: https://pandas.pydata.org/pandas-docs/stable/user_guide/indexing.html#returning-a-view-versus-a-copy\n",
      "  stateonly.end.iloc[:-1] = round(stateonly.start.iloc[1:],3)-0.001\n",
      "C:\\Users\\Nerissa\\anaconda3\\envs\\voc230824\\lib\\site-packages\\hdmf\\build\\objectmapper.py:260: DtypeConversionWarning: Spec 'vole_metadata/colors': Value with data type int32 is being converted to data type float32 as specified.\n",
      "  warnings.warn(full_warning_msg, DtypeConversionWarning)\n"
     ]
    },
    {
     "name": "stdout",
     "output_type": "stream",
     "text": [
      "Nov22_Pair48_reunion.nwb\n"
     ]
    },
    {
     "name": "stderr",
     "output_type": "stream",
     "text": [
      "M:\\utilities\\analysis_utilities\\behavior_error_checks.py:70: SettingWithCopyWarning: \n",
      "A value is trying to be set on a copy of a slice from a DataFrame\n",
      "\n",
      "See the caveats in the documentation: https://pandas.pydata.org/pandas-docs/stable/user_guide/indexing.html#returning-a-view-versus-a-copy\n",
      "  stateonly.end.iloc[:-1] = round(stateonly.start.iloc[1:],3)-0.001\n",
      "C:\\Users\\Nerissa\\anaconda3\\envs\\voc230824\\lib\\site-packages\\hdmf\\build\\objectmapper.py:260: DtypeConversionWarning: Spec 'vole_metadata/colors': Value with data type int32 is being converted to data type float32 as specified.\n",
      "  warnings.warn(full_warning_msg, DtypeConversionWarning)\n"
     ]
    },
    {
     "name": "stdout",
     "output_type": "stream",
     "text": [
      "Nov22_Pair49_reunion.nwb\n"
     ]
    },
    {
     "name": "stderr",
     "output_type": "stream",
     "text": [
      "M:\\utilities\\analysis_utilities\\behavior_error_checks.py:70: SettingWithCopyWarning: \n",
      "A value is trying to be set on a copy of a slice from a DataFrame\n",
      "\n",
      "See the caveats in the documentation: https://pandas.pydata.org/pandas-docs/stable/user_guide/indexing.html#returning-a-view-versus-a-copy\n",
      "  stateonly.end.iloc[:-1] = round(stateonly.start.iloc[1:],3)-0.001\n"
     ]
    },
    {
     "name": "stdout",
     "output_type": "stream",
     "text": [
      "Nov22_Pair5_reunion.nwb\n"
     ]
    },
    {
     "name": "stderr",
     "output_type": "stream",
     "text": [
      "C:\\Users\\Nerissa\\anaconda3\\envs\\voc230824\\lib\\site-packages\\hdmf\\build\\objectmapper.py:260: DtypeConversionWarning: Spec 'vole_metadata/colors': Value with data type int32 is being converted to data type float32 as specified.\n",
      "  warnings.warn(full_warning_msg, DtypeConversionWarning)\n",
      "M:\\utilities\\analysis_utilities\\behavior_error_checks.py:70: SettingWithCopyWarning: \n",
      "A value is trying to be set on a copy of a slice from a DataFrame\n",
      "\n",
      "See the caveats in the documentation: https://pandas.pydata.org/pandas-docs/stable/user_guide/indexing.html#returning-a-view-versus-a-copy\n",
      "  stateonly.end.iloc[:-1] = round(stateonly.start.iloc[1:],3)-0.001\n",
      "C:\\Users\\Nerissa\\anaconda3\\envs\\voc230824\\lib\\site-packages\\hdmf\\build\\objectmapper.py:260: DtypeConversionWarning: Spec 'vole_metadata/colors': Value with data type int32 is being converted to data type float32 as specified.\n",
      "  warnings.warn(full_warning_msg, DtypeConversionWarning)\n"
     ]
    },
    {
     "name": "stdout",
     "output_type": "stream",
     "text": [
      "Nov22_Pair50_reunion.nwb\n"
     ]
    },
    {
     "name": "stderr",
     "output_type": "stream",
     "text": [
      "M:\\utilities\\analysis_utilities\\behavior_error_checks.py:70: SettingWithCopyWarning: \n",
      "A value is trying to be set on a copy of a slice from a DataFrame\n",
      "\n",
      "See the caveats in the documentation: https://pandas.pydata.org/pandas-docs/stable/user_guide/indexing.html#returning-a-view-versus-a-copy\n",
      "  stateonly.end.iloc[:-1] = round(stateonly.start.iloc[1:],3)-0.001\n",
      "C:\\Users\\Nerissa\\anaconda3\\envs\\voc230824\\lib\\site-packages\\hdmf\\build\\objectmapper.py:260: DtypeConversionWarning: Spec 'vole_metadata/colors': Value with data type int32 is being converted to data type float32 as specified.\n",
      "  warnings.warn(full_warning_msg, DtypeConversionWarning)\n"
     ]
    },
    {
     "name": "stdout",
     "output_type": "stream",
     "text": [
      "Nov22_Pair51_reunion.nwb\n"
     ]
    },
    {
     "name": "stderr",
     "output_type": "stream",
     "text": [
      "M:\\utilities\\analysis_utilities\\behavior_error_checks.py:70: SettingWithCopyWarning: \n",
      "A value is trying to be set on a copy of a slice from a DataFrame\n",
      "\n",
      "See the caveats in the documentation: https://pandas.pydata.org/pandas-docs/stable/user_guide/indexing.html#returning-a-view-versus-a-copy\n",
      "  stateonly.end.iloc[:-1] = round(stateonly.start.iloc[1:],3)-0.001\n",
      "C:\\Users\\Nerissa\\anaconda3\\envs\\voc230824\\lib\\site-packages\\hdmf\\build\\objectmapper.py:260: DtypeConversionWarning: Spec 'vole_metadata/colors': Value with data type int32 is being converted to data type float32 as specified.\n",
      "  warnings.warn(full_warning_msg, DtypeConversionWarning)\n"
     ]
    },
    {
     "name": "stdout",
     "output_type": "stream",
     "text": [
      "Nov22_Pair52_reunion.nwb\n"
     ]
    },
    {
     "name": "stderr",
     "output_type": "stream",
     "text": [
      "M:\\utilities\\analysis_utilities\\behavior_error_checks.py:70: SettingWithCopyWarning: \n",
      "A value is trying to be set on a copy of a slice from a DataFrame\n",
      "\n",
      "See the caveats in the documentation: https://pandas.pydata.org/pandas-docs/stable/user_guide/indexing.html#returning-a-view-versus-a-copy\n",
      "  stateonly.end.iloc[:-1] = round(stateonly.start.iloc[1:],3)-0.001\n",
      "C:\\Users\\Nerissa\\anaconda3\\envs\\voc230824\\lib\\site-packages\\hdmf\\build\\objectmapper.py:260: DtypeConversionWarning: Spec 'vole_metadata/colors': Value with data type int32 is being converted to data type float32 as specified.\n",
      "  warnings.warn(full_warning_msg, DtypeConversionWarning)\n"
     ]
    },
    {
     "name": "stdout",
     "output_type": "stream",
     "text": [
      "Nov22_Pair56_reunion.nwb\n"
     ]
    },
    {
     "name": "stderr",
     "output_type": "stream",
     "text": [
      "M:\\utilities\\analysis_utilities\\behavior_error_checks.py:70: SettingWithCopyWarning: \n",
      "A value is trying to be set on a copy of a slice from a DataFrame\n",
      "\n",
      "See the caveats in the documentation: https://pandas.pydata.org/pandas-docs/stable/user_guide/indexing.html#returning-a-view-versus-a-copy\n",
      "  stateonly.end.iloc[:-1] = round(stateonly.start.iloc[1:],3)-0.001\n",
      "C:\\Users\\Nerissa\\anaconda3\\envs\\voc230824\\lib\\site-packages\\hdmf\\build\\objectmapper.py:260: DtypeConversionWarning: Spec 'vole_metadata/colors': Value with data type int32 is being converted to data type float32 as specified.\n",
      "  warnings.warn(full_warning_msg, DtypeConversionWarning)\n"
     ]
    },
    {
     "name": "stdout",
     "output_type": "stream",
     "text": [
      "Nov22_Pair57_reunion.nwb\n"
     ]
    },
    {
     "name": "stderr",
     "output_type": "stream",
     "text": [
      "M:\\utilities\\analysis_utilities\\behavior_error_checks.py:70: SettingWithCopyWarning: \n",
      "A value is trying to be set on a copy of a slice from a DataFrame\n",
      "\n",
      "See the caveats in the documentation: https://pandas.pydata.org/pandas-docs/stable/user_guide/indexing.html#returning-a-view-versus-a-copy\n",
      "  stateonly.end.iloc[:-1] = round(stateonly.start.iloc[1:],3)-0.001\n",
      "C:\\Users\\Nerissa\\anaconda3\\envs\\voc230824\\lib\\site-packages\\hdmf\\build\\objectmapper.py:260: DtypeConversionWarning: Spec 'vole_metadata/colors': Value with data type int32 is being converted to data type float32 as specified.\n",
      "  warnings.warn(full_warning_msg, DtypeConversionWarning)\n"
     ]
    },
    {
     "name": "stdout",
     "output_type": "stream",
     "text": [
      "Nov22_Pair58_reunion.nwb\n"
     ]
    },
    {
     "name": "stderr",
     "output_type": "stream",
     "text": [
      "M:\\utilities\\analysis_utilities\\behavior_error_checks.py:70: SettingWithCopyWarning: \n",
      "A value is trying to be set on a copy of a slice from a DataFrame\n",
      "\n",
      "See the caveats in the documentation: https://pandas.pydata.org/pandas-docs/stable/user_guide/indexing.html#returning-a-view-versus-a-copy\n",
      "  stateonly.end.iloc[:-1] = round(stateonly.start.iloc[1:],3)-0.001\n",
      "C:\\Users\\Nerissa\\anaconda3\\envs\\voc230824\\lib\\site-packages\\hdmf\\build\\objectmapper.py:260: DtypeConversionWarning: Spec 'vole_metadata/colors': Value with data type int32 is being converted to data type float32 as specified.\n",
      "  warnings.warn(full_warning_msg, DtypeConversionWarning)\n"
     ]
    },
    {
     "name": "stdout",
     "output_type": "stream",
     "text": [
      "Nov22_Pair59_reunion.nwb\n"
     ]
    },
    {
     "name": "stderr",
     "output_type": "stream",
     "text": [
      "M:\\utilities\\analysis_utilities\\behavior_error_checks.py:70: SettingWithCopyWarning: \n",
      "A value is trying to be set on a copy of a slice from a DataFrame\n",
      "\n",
      "See the caveats in the documentation: https://pandas.pydata.org/pandas-docs/stable/user_guide/indexing.html#returning-a-view-versus-a-copy\n",
      "  stateonly.end.iloc[:-1] = round(stateonly.start.iloc[1:],3)-0.001\n",
      "C:\\Users\\Nerissa\\anaconda3\\envs\\voc230824\\lib\\site-packages\\hdmf\\build\\objectmapper.py:260: DtypeConversionWarning: Spec 'vole_metadata/colors': Value with data type int32 is being converted to data type float32 as specified.\n",
      "  warnings.warn(full_warning_msg, DtypeConversionWarning)\n"
     ]
    },
    {
     "name": "stdout",
     "output_type": "stream",
     "text": [
      "Nov22_Pair6_reunion.nwb\n"
     ]
    },
    {
     "name": "stderr",
     "output_type": "stream",
     "text": [
      "M:\\utilities\\analysis_utilities\\behavior_error_checks.py:70: SettingWithCopyWarning: \n",
      "A value is trying to be set on a copy of a slice from a DataFrame\n",
      "\n",
      "See the caveats in the documentation: https://pandas.pydata.org/pandas-docs/stable/user_guide/indexing.html#returning-a-view-versus-a-copy\n",
      "  stateonly.end.iloc[:-1] = round(stateonly.start.iloc[1:],3)-0.001\n",
      "C:\\Users\\Nerissa\\anaconda3\\envs\\voc230824\\lib\\site-packages\\hdmf\\build\\objectmapper.py:260: DtypeConversionWarning: Spec 'vole_metadata/colors': Value with data type int32 is being converted to data type float32 as specified.\n",
      "  warnings.warn(full_warning_msg, DtypeConversionWarning)\n"
     ]
    },
    {
     "name": "stdout",
     "output_type": "stream",
     "text": [
      "Nov22_Pair60_reunion.nwb\n"
     ]
    },
    {
     "name": "stderr",
     "output_type": "stream",
     "text": [
      "M:\\utilities\\analysis_utilities\\behavior_error_checks.py:70: SettingWithCopyWarning: \n",
      "A value is trying to be set on a copy of a slice from a DataFrame\n",
      "\n",
      "See the caveats in the documentation: https://pandas.pydata.org/pandas-docs/stable/user_guide/indexing.html#returning-a-view-versus-a-copy\n",
      "  stateonly.end.iloc[:-1] = round(stateonly.start.iloc[1:],3)-0.001\n",
      "C:\\Users\\Nerissa\\anaconda3\\envs\\voc230824\\lib\\site-packages\\hdmf\\build\\objectmapper.py:260: DtypeConversionWarning: Spec 'vole_metadata/colors': Value with data type int32 is being converted to data type float32 as specified.\n",
      "  warnings.warn(full_warning_msg, DtypeConversionWarning)\n"
     ]
    },
    {
     "name": "stdout",
     "output_type": "stream",
     "text": [
      "Nov22_Pair61_reunion.nwb\n"
     ]
    },
    {
     "name": "stderr",
     "output_type": "stream",
     "text": [
      "M:\\utilities\\analysis_utilities\\behavior_error_checks.py:70: SettingWithCopyWarning: \n",
      "A value is trying to be set on a copy of a slice from a DataFrame\n",
      "\n",
      "See the caveats in the documentation: https://pandas.pydata.org/pandas-docs/stable/user_guide/indexing.html#returning-a-view-versus-a-copy\n",
      "  stateonly.end.iloc[:-1] = round(stateonly.start.iloc[1:],3)-0.001\n",
      "C:\\Users\\Nerissa\\anaconda3\\envs\\voc230824\\lib\\site-packages\\hdmf\\build\\objectmapper.py:260: DtypeConversionWarning: Spec 'vole_metadata/colors': Value with data type int32 is being converted to data type float32 as specified.\n",
      "  warnings.warn(full_warning_msg, DtypeConversionWarning)\n"
     ]
    },
    {
     "name": "stdout",
     "output_type": "stream",
     "text": [
      "Nov22_Pair62_reunion.nwb\n"
     ]
    },
    {
     "name": "stderr",
     "output_type": "stream",
     "text": [
      "M:\\utilities\\analysis_utilities\\behavior_error_checks.py:70: SettingWithCopyWarning: \n",
      "A value is trying to be set on a copy of a slice from a DataFrame\n",
      "\n",
      "See the caveats in the documentation: https://pandas.pydata.org/pandas-docs/stable/user_guide/indexing.html#returning-a-view-versus-a-copy\n",
      "  stateonly.end.iloc[:-1] = round(stateonly.start.iloc[1:],3)-0.001\n"
     ]
    },
    {
     "name": "stdout",
     "output_type": "stream",
     "text": [
      "Nov22_Pair64_reunion.nwb\n"
     ]
    },
    {
     "name": "stderr",
     "output_type": "stream",
     "text": [
      "C:\\Users\\Nerissa\\anaconda3\\envs\\voc230824\\lib\\site-packages\\hdmf\\build\\objectmapper.py:260: DtypeConversionWarning: Spec 'vole_metadata/colors': Value with data type int32 is being converted to data type float32 as specified.\n",
      "  warnings.warn(full_warning_msg, DtypeConversionWarning)\n",
      "M:\\utilities\\analysis_utilities\\behavior_error_checks.py:70: SettingWithCopyWarning: \n",
      "A value is trying to be set on a copy of a slice from a DataFrame\n",
      "\n",
      "See the caveats in the documentation: https://pandas.pydata.org/pandas-docs/stable/user_guide/indexing.html#returning-a-view-versus-a-copy\n",
      "  stateonly.end.iloc[:-1] = round(stateonly.start.iloc[1:],3)-0.001\n",
      "C:\\Users\\Nerissa\\anaconda3\\envs\\voc230824\\lib\\site-packages\\hdmf\\build\\objectmapper.py:260: DtypeConversionWarning: Spec 'vole_metadata/colors': Value with data type int32 is being converted to data type float32 as specified.\n",
      "  warnings.warn(full_warning_msg, DtypeConversionWarning)\n"
     ]
    },
    {
     "name": "stdout",
     "output_type": "stream",
     "text": [
      "Nov22_Pair7_reunion.nwb\n"
     ]
    },
    {
     "name": "stderr",
     "output_type": "stream",
     "text": [
      "M:\\utilities\\analysis_utilities\\behavior_error_checks.py:70: SettingWithCopyWarning: \n",
      "A value is trying to be set on a copy of a slice from a DataFrame\n",
      "\n",
      "See the caveats in the documentation: https://pandas.pydata.org/pandas-docs/stable/user_guide/indexing.html#returning-a-view-versus-a-copy\n",
      "  stateonly.end.iloc[:-1] = round(stateonly.start.iloc[1:],3)-0.001\n",
      "C:\\Users\\Nerissa\\anaconda3\\envs\\voc230824\\lib\\site-packages\\hdmf\\build\\objectmapper.py:260: DtypeConversionWarning: Spec 'vole_metadata/colors': Value with data type int32 is being converted to data type float32 as specified.\n",
      "  warnings.warn(full_warning_msg, DtypeConversionWarning)\n"
     ]
    },
    {
     "name": "stdout",
     "output_type": "stream",
     "text": [
      "Nov22_Pair8_reunion.nwb\n"
     ]
    },
    {
     "name": "stderr",
     "output_type": "stream",
     "text": [
      "M:\\utilities\\analysis_utilities\\behavior_error_checks.py:70: SettingWithCopyWarning: \n",
      "A value is trying to be set on a copy of a slice from a DataFrame\n",
      "\n",
      "See the caveats in the documentation: https://pandas.pydata.org/pandas-docs/stable/user_guide/indexing.html#returning-a-view-versus-a-copy\n",
      "  stateonly.end.iloc[:-1] = round(stateonly.start.iloc[1:],3)-0.001\n"
     ]
    },
    {
     "name": "stdout",
     "output_type": "stream",
     "text": [
      "Nov22_Pair1_aggression.nwb\n"
     ]
    },
    {
     "name": "stderr",
     "output_type": "stream",
     "text": [
      "C:\\Users\\Nerissa\\anaconda3\\envs\\voc230824\\lib\\site-packages\\hdmf\\build\\objectmapper.py:260: DtypeConversionWarning: Spec 'vole_metadata/colors': Value with data type int32 is being converted to data type float32 as specified.\n",
      "  warnings.warn(full_warning_msg, DtypeConversionWarning)\n",
      "M:\\utilities\\analysis_utilities\\behavior_error_checks.py:70: SettingWithCopyWarning: \n",
      "A value is trying to be set on a copy of a slice from a DataFrame\n",
      "\n",
      "See the caveats in the documentation: https://pandas.pydata.org/pandas-docs/stable/user_guide/indexing.html#returning-a-view-versus-a-copy\n",
      "  stateonly.end.iloc[:-1] = round(stateonly.start.iloc[1:],3)-0.001\n",
      "C:\\Users\\Nerissa\\anaconda3\\envs\\voc230824\\lib\\site-packages\\hdmf\\build\\objectmapper.py:260: DtypeConversionWarning: Spec 'vole_metadata/colors': Value with data type int32 is being converted to data type float32 as specified.\n",
      "  warnings.warn(full_warning_msg, DtypeConversionWarning)\n"
     ]
    },
    {
     "name": "stdout",
     "output_type": "stream",
     "text": [
      "Nov22_Pair15_aggression.nwb\n"
     ]
    },
    {
     "name": "stderr",
     "output_type": "stream",
     "text": [
      "M:\\utilities\\analysis_utilities\\behavior_error_checks.py:70: SettingWithCopyWarning: \n",
      "A value is trying to be set on a copy of a slice from a DataFrame\n",
      "\n",
      "See the caveats in the documentation: https://pandas.pydata.org/pandas-docs/stable/user_guide/indexing.html#returning-a-view-versus-a-copy\n",
      "  stateonly.end.iloc[:-1] = round(stateonly.start.iloc[1:],3)-0.001\n",
      "C:\\Users\\Nerissa\\anaconda3\\envs\\voc230824\\lib\\site-packages\\hdmf\\build\\objectmapper.py:260: DtypeConversionWarning: Spec 'vole_metadata/colors': Value with data type int32 is being converted to data type float32 as specified.\n",
      "  warnings.warn(full_warning_msg, DtypeConversionWarning)\n"
     ]
    },
    {
     "name": "stdout",
     "output_type": "stream",
     "text": [
      "Nov22_Pair16_aggression.nwb\n"
     ]
    },
    {
     "name": "stderr",
     "output_type": "stream",
     "text": [
      "M:\\utilities\\analysis_utilities\\behavior_error_checks.py:70: SettingWithCopyWarning: \n",
      "A value is trying to be set on a copy of a slice from a DataFrame\n",
      "\n",
      "See the caveats in the documentation: https://pandas.pydata.org/pandas-docs/stable/user_guide/indexing.html#returning-a-view-versus-a-copy\n",
      "  stateonly.end.iloc[:-1] = round(stateonly.start.iloc[1:],3)-0.001\n",
      "C:\\Users\\Nerissa\\anaconda3\\envs\\voc230824\\lib\\site-packages\\hdmf\\build\\objectmapper.py:260: DtypeConversionWarning: Spec 'vole_metadata/colors': Value with data type int32 is being converted to data type float32 as specified.\n",
      "  warnings.warn(full_warning_msg, DtypeConversionWarning)\n"
     ]
    },
    {
     "name": "stdout",
     "output_type": "stream",
     "text": [
      "Nov22_Pair17_aggression.nwb\n"
     ]
    },
    {
     "name": "stderr",
     "output_type": "stream",
     "text": [
      "M:\\utilities\\analysis_utilities\\behavior_error_checks.py:70: SettingWithCopyWarning: \n",
      "A value is trying to be set on a copy of a slice from a DataFrame\n",
      "\n",
      "See the caveats in the documentation: https://pandas.pydata.org/pandas-docs/stable/user_guide/indexing.html#returning-a-view-versus-a-copy\n",
      "  stateonly.end.iloc[:-1] = round(stateonly.start.iloc[1:],3)-0.001\n",
      "C:\\Users\\Nerissa\\anaconda3\\envs\\voc230824\\lib\\site-packages\\hdmf\\build\\objectmapper.py:260: DtypeConversionWarning: Spec 'vole_metadata/colors': Value with data type int32 is being converted to data type float32 as specified.\n",
      "  warnings.warn(full_warning_msg, DtypeConversionWarning)\n"
     ]
    },
    {
     "name": "stdout",
     "output_type": "stream",
     "text": [
      "Nov22_Pair18_aggression.nwb\n"
     ]
    },
    {
     "name": "stderr",
     "output_type": "stream",
     "text": [
      "M:\\utilities\\analysis_utilities\\behavior_error_checks.py:70: SettingWithCopyWarning: \n",
      "A value is trying to be set on a copy of a slice from a DataFrame\n",
      "\n",
      "See the caveats in the documentation: https://pandas.pydata.org/pandas-docs/stable/user_guide/indexing.html#returning-a-view-versus-a-copy\n",
      "  stateonly.end.iloc[:-1] = round(stateonly.start.iloc[1:],3)-0.001\n",
      "C:\\Users\\Nerissa\\anaconda3\\envs\\voc230824\\lib\\site-packages\\hdmf\\build\\objectmapper.py:260: DtypeConversionWarning: Spec 'vole_metadata/colors': Value with data type int32 is being converted to data type float32 as specified.\n",
      "  warnings.warn(full_warning_msg, DtypeConversionWarning)\n"
     ]
    },
    {
     "name": "stdout",
     "output_type": "stream",
     "text": [
      "Nov22_Pair19_aggression.nwb\n"
     ]
    },
    {
     "name": "stderr",
     "output_type": "stream",
     "text": [
      "M:\\utilities\\analysis_utilities\\behavior_error_checks.py:70: SettingWithCopyWarning: \n",
      "A value is trying to be set on a copy of a slice from a DataFrame\n",
      "\n",
      "See the caveats in the documentation: https://pandas.pydata.org/pandas-docs/stable/user_guide/indexing.html#returning-a-view-versus-a-copy\n",
      "  stateonly.end.iloc[:-1] = round(stateonly.start.iloc[1:],3)-0.001\n",
      "C:\\Users\\Nerissa\\anaconda3\\envs\\voc230824\\lib\\site-packages\\hdmf\\build\\objectmapper.py:260: DtypeConversionWarning: Spec 'vole_metadata/colors': Value with data type int32 is being converted to data type float32 as specified.\n",
      "  warnings.warn(full_warning_msg, DtypeConversionWarning)\n"
     ]
    },
    {
     "name": "stdout",
     "output_type": "stream",
     "text": [
      "Nov22_Pair2_aggression.nwb\n"
     ]
    },
    {
     "name": "stderr",
     "output_type": "stream",
     "text": [
      "M:\\utilities\\analysis_utilities\\behavior_error_checks.py:70: SettingWithCopyWarning: \n",
      "A value is trying to be set on a copy of a slice from a DataFrame\n",
      "\n",
      "See the caveats in the documentation: https://pandas.pydata.org/pandas-docs/stable/user_guide/indexing.html#returning-a-view-versus-a-copy\n",
      "  stateonly.end.iloc[:-1] = round(stateonly.start.iloc[1:],3)-0.001\n",
      "C:\\Users\\Nerissa\\anaconda3\\envs\\voc230824\\lib\\site-packages\\hdmf\\build\\objectmapper.py:260: DtypeConversionWarning: Spec 'vole_metadata/colors': Value with data type int32 is being converted to data type float32 as specified.\n",
      "  warnings.warn(full_warning_msg, DtypeConversionWarning)\n"
     ]
    },
    {
     "name": "stdout",
     "output_type": "stream",
     "text": [
      "Nov22_Pair21_aggression.nwb\n"
     ]
    },
    {
     "name": "stderr",
     "output_type": "stream",
     "text": [
      "M:\\utilities\\analysis_utilities\\behavior_error_checks.py:70: SettingWithCopyWarning: \n",
      "A value is trying to be set on a copy of a slice from a DataFrame\n",
      "\n",
      "See the caveats in the documentation: https://pandas.pydata.org/pandas-docs/stable/user_guide/indexing.html#returning-a-view-versus-a-copy\n",
      "  stateonly.end.iloc[:-1] = round(stateonly.start.iloc[1:],3)-0.001\n",
      "C:\\Users\\Nerissa\\anaconda3\\envs\\voc230824\\lib\\site-packages\\hdmf\\build\\objectmapper.py:260: DtypeConversionWarning: Spec 'vole_metadata/colors': Value with data type int32 is being converted to data type float32 as specified.\n",
      "  warnings.warn(full_warning_msg, DtypeConversionWarning)\n"
     ]
    },
    {
     "name": "stdout",
     "output_type": "stream",
     "text": [
      "Nov22_Pair22_aggression.nwb\n"
     ]
    },
    {
     "name": "stderr",
     "output_type": "stream",
     "text": [
      "M:\\utilities\\analysis_utilities\\behavior_error_checks.py:70: SettingWithCopyWarning: \n",
      "A value is trying to be set on a copy of a slice from a DataFrame\n",
      "\n",
      "See the caveats in the documentation: https://pandas.pydata.org/pandas-docs/stable/user_guide/indexing.html#returning-a-view-versus-a-copy\n",
      "  stateonly.end.iloc[:-1] = round(stateonly.start.iloc[1:],3)-0.001\n",
      "C:\\Users\\Nerissa\\anaconda3\\envs\\voc230824\\lib\\site-packages\\hdmf\\build\\objectmapper.py:260: DtypeConversionWarning: Spec 'vole_metadata/colors': Value with data type int32 is being converted to data type float32 as specified.\n",
      "  warnings.warn(full_warning_msg, DtypeConversionWarning)\n"
     ]
    },
    {
     "name": "stdout",
     "output_type": "stream",
     "text": [
      "Nov22_Pair23_aggression.nwb\n"
     ]
    },
    {
     "name": "stderr",
     "output_type": "stream",
     "text": [
      "M:\\utilities\\analysis_utilities\\behavior_error_checks.py:70: SettingWithCopyWarning: \n",
      "A value is trying to be set on a copy of a slice from a DataFrame\n",
      "\n",
      "See the caveats in the documentation: https://pandas.pydata.org/pandas-docs/stable/user_guide/indexing.html#returning-a-view-versus-a-copy\n",
      "  stateonly.end.iloc[:-1] = round(stateonly.start.iloc[1:],3)-0.001\n",
      "C:\\Users\\Nerissa\\anaconda3\\envs\\voc230824\\lib\\site-packages\\hdmf\\build\\objectmapper.py:260: DtypeConversionWarning: Spec 'vole_metadata/colors': Value with data type int32 is being converted to data type float32 as specified.\n",
      "  warnings.warn(full_warning_msg, DtypeConversionWarning)\n"
     ]
    },
    {
     "name": "stdout",
     "output_type": "stream",
     "text": [
      "Nov22_Pair24_aggression.nwb\n"
     ]
    },
    {
     "name": "stderr",
     "output_type": "stream",
     "text": [
      "M:\\utilities\\analysis_utilities\\behavior_error_checks.py:70: SettingWithCopyWarning: \n",
      "A value is trying to be set on a copy of a slice from a DataFrame\n",
      "\n",
      "See the caveats in the documentation: https://pandas.pydata.org/pandas-docs/stable/user_guide/indexing.html#returning-a-view-versus-a-copy\n",
      "  stateonly.end.iloc[:-1] = round(stateonly.start.iloc[1:],3)-0.001\n",
      "C:\\Users\\Nerissa\\anaconda3\\envs\\voc230824\\lib\\site-packages\\hdmf\\build\\objectmapper.py:260: DtypeConversionWarning: Spec 'vole_metadata/colors': Value with data type int32 is being converted to data type float32 as specified.\n",
      "  warnings.warn(full_warning_msg, DtypeConversionWarning)\n"
     ]
    },
    {
     "name": "stdout",
     "output_type": "stream",
     "text": [
      "Nov22_Pair25_aggression.nwb\n"
     ]
    },
    {
     "name": "stderr",
     "output_type": "stream",
     "text": [
      "M:\\utilities\\analysis_utilities\\behavior_error_checks.py:70: SettingWithCopyWarning: \n",
      "A value is trying to be set on a copy of a slice from a DataFrame\n",
      "\n",
      "See the caveats in the documentation: https://pandas.pydata.org/pandas-docs/stable/user_guide/indexing.html#returning-a-view-versus-a-copy\n",
      "  stateonly.end.iloc[:-1] = round(stateonly.start.iloc[1:],3)-0.001\n",
      "C:\\Users\\Nerissa\\anaconda3\\envs\\voc230824\\lib\\site-packages\\hdmf\\build\\objectmapper.py:260: DtypeConversionWarning: Spec 'vole_metadata/colors': Value with data type int32 is being converted to data type float32 as specified.\n",
      "  warnings.warn(full_warning_msg, DtypeConversionWarning)\n"
     ]
    },
    {
     "name": "stdout",
     "output_type": "stream",
     "text": [
      "Nov22_Pair26_aggression.nwb\n"
     ]
    },
    {
     "name": "stderr",
     "output_type": "stream",
     "text": [
      "M:\\utilities\\analysis_utilities\\behavior_error_checks.py:70: SettingWithCopyWarning: \n",
      "A value is trying to be set on a copy of a slice from a DataFrame\n",
      "\n",
      "See the caveats in the documentation: https://pandas.pydata.org/pandas-docs/stable/user_guide/indexing.html#returning-a-view-versus-a-copy\n",
      "  stateonly.end.iloc[:-1] = round(stateonly.start.iloc[1:],3)-0.001\n",
      "C:\\Users\\Nerissa\\anaconda3\\envs\\voc230824\\lib\\site-packages\\hdmf\\build\\objectmapper.py:260: DtypeConversionWarning: Spec 'vole_metadata/colors': Value with data type int32 is being converted to data type float32 as specified.\n",
      "  warnings.warn(full_warning_msg, DtypeConversionWarning)\n"
     ]
    },
    {
     "name": "stdout",
     "output_type": "stream",
     "text": [
      "Nov22_Pair27_aggression.nwb\n"
     ]
    },
    {
     "name": "stderr",
     "output_type": "stream",
     "text": [
      "M:\\utilities\\analysis_utilities\\behavior_error_checks.py:70: SettingWithCopyWarning: \n",
      "A value is trying to be set on a copy of a slice from a DataFrame\n",
      "\n",
      "See the caveats in the documentation: https://pandas.pydata.org/pandas-docs/stable/user_guide/indexing.html#returning-a-view-versus-a-copy\n",
      "  stateonly.end.iloc[:-1] = round(stateonly.start.iloc[1:],3)-0.001\n",
      "C:\\Users\\Nerissa\\anaconda3\\envs\\voc230824\\lib\\site-packages\\hdmf\\build\\objectmapper.py:260: DtypeConversionWarning: Spec 'vole_metadata/colors': Value with data type int32 is being converted to data type float32 as specified.\n",
      "  warnings.warn(full_warning_msg, DtypeConversionWarning)\n"
     ]
    },
    {
     "name": "stdout",
     "output_type": "stream",
     "text": [
      "Nov22_Pair28_aggression.nwb\n"
     ]
    },
    {
     "name": "stderr",
     "output_type": "stream",
     "text": [
      "M:\\utilities\\analysis_utilities\\behavior_error_checks.py:70: SettingWithCopyWarning: \n",
      "A value is trying to be set on a copy of a slice from a DataFrame\n",
      "\n",
      "See the caveats in the documentation: https://pandas.pydata.org/pandas-docs/stable/user_guide/indexing.html#returning-a-view-versus-a-copy\n",
      "  stateonly.end.iloc[:-1] = round(stateonly.start.iloc[1:],3)-0.001\n",
      "C:\\Users\\Nerissa\\anaconda3\\envs\\voc230824\\lib\\site-packages\\hdmf\\build\\objectmapper.py:260: DtypeConversionWarning: Spec 'vole_metadata/colors': Value with data type int32 is being converted to data type float32 as specified.\n",
      "  warnings.warn(full_warning_msg, DtypeConversionWarning)\n"
     ]
    },
    {
     "name": "stdout",
     "output_type": "stream",
     "text": [
      "Nov22_Pair29_aggression.nwb\n"
     ]
    },
    {
     "name": "stderr",
     "output_type": "stream",
     "text": [
      "M:\\utilities\\analysis_utilities\\behavior_error_checks.py:70: SettingWithCopyWarning: \n",
      "A value is trying to be set on a copy of a slice from a DataFrame\n",
      "\n",
      "See the caveats in the documentation: https://pandas.pydata.org/pandas-docs/stable/user_guide/indexing.html#returning-a-view-versus-a-copy\n",
      "  stateonly.end.iloc[:-1] = round(stateonly.start.iloc[1:],3)-0.001\n",
      "C:\\Users\\Nerissa\\anaconda3\\envs\\voc230824\\lib\\site-packages\\hdmf\\build\\objectmapper.py:260: DtypeConversionWarning: Spec 'vole_metadata/colors': Value with data type int32 is being converted to data type float32 as specified.\n",
      "  warnings.warn(full_warning_msg, DtypeConversionWarning)\n"
     ]
    },
    {
     "name": "stdout",
     "output_type": "stream",
     "text": [
      "Nov22_Pair3_aggression.nwb\n"
     ]
    },
    {
     "name": "stderr",
     "output_type": "stream",
     "text": [
      "M:\\utilities\\analysis_utilities\\behavior_error_checks.py:70: SettingWithCopyWarning: \n",
      "A value is trying to be set on a copy of a slice from a DataFrame\n",
      "\n",
      "See the caveats in the documentation: https://pandas.pydata.org/pandas-docs/stable/user_guide/indexing.html#returning-a-view-versus-a-copy\n",
      "  stateonly.end.iloc[:-1] = round(stateonly.start.iloc[1:],3)-0.001\n",
      "C:\\Users\\Nerissa\\anaconda3\\envs\\voc230824\\lib\\site-packages\\hdmf\\build\\objectmapper.py:260: DtypeConversionWarning: Spec 'vole_metadata/colors': Value with data type int32 is being converted to data type float32 as specified.\n",
      "  warnings.warn(full_warning_msg, DtypeConversionWarning)\n"
     ]
    },
    {
     "name": "stdout",
     "output_type": "stream",
     "text": [
      "Nov22_Pair30_aggression.nwb\n"
     ]
    },
    {
     "name": "stderr",
     "output_type": "stream",
     "text": [
      "M:\\utilities\\analysis_utilities\\behavior_error_checks.py:70: SettingWithCopyWarning: \n",
      "A value is trying to be set on a copy of a slice from a DataFrame\n",
      "\n",
      "See the caveats in the documentation: https://pandas.pydata.org/pandas-docs/stable/user_guide/indexing.html#returning-a-view-versus-a-copy\n",
      "  stateonly.end.iloc[:-1] = round(stateonly.start.iloc[1:],3)-0.001\n",
      "C:\\Users\\Nerissa\\anaconda3\\envs\\voc230824\\lib\\site-packages\\hdmf\\build\\objectmapper.py:260: DtypeConversionWarning: Spec 'vole_metadata/colors': Value with data type int32 is being converted to data type float32 as specified.\n",
      "  warnings.warn(full_warning_msg, DtypeConversionWarning)\n"
     ]
    },
    {
     "name": "stdout",
     "output_type": "stream",
     "text": [
      "Nov22_Pair31_aggression.nwb\n"
     ]
    },
    {
     "name": "stderr",
     "output_type": "stream",
     "text": [
      "M:\\utilities\\analysis_utilities\\behavior_error_checks.py:70: SettingWithCopyWarning: \n",
      "A value is trying to be set on a copy of a slice from a DataFrame\n",
      "\n",
      "See the caveats in the documentation: https://pandas.pydata.org/pandas-docs/stable/user_guide/indexing.html#returning-a-view-versus-a-copy\n",
      "  stateonly.end.iloc[:-1] = round(stateonly.start.iloc[1:],3)-0.001\n",
      "C:\\Users\\Nerissa\\anaconda3\\envs\\voc230824\\lib\\site-packages\\hdmf\\build\\objectmapper.py:260: DtypeConversionWarning: Spec 'vole_metadata/colors': Value with data type int32 is being converted to data type float32 as specified.\n",
      "  warnings.warn(full_warning_msg, DtypeConversionWarning)\n"
     ]
    },
    {
     "name": "stdout",
     "output_type": "stream",
     "text": [
      "Nov22_Pair32_aggression.nwb\n"
     ]
    },
    {
     "name": "stderr",
     "output_type": "stream",
     "text": [
      "M:\\utilities\\analysis_utilities\\behavior_error_checks.py:70: SettingWithCopyWarning: \n",
      "A value is trying to be set on a copy of a slice from a DataFrame\n",
      "\n",
      "See the caveats in the documentation: https://pandas.pydata.org/pandas-docs/stable/user_guide/indexing.html#returning-a-view-versus-a-copy\n",
      "  stateonly.end.iloc[:-1] = round(stateonly.start.iloc[1:],3)-0.001\n",
      "C:\\Users\\Nerissa\\anaconda3\\envs\\voc230824\\lib\\site-packages\\hdmf\\build\\objectmapper.py:260: DtypeConversionWarning: Spec 'vole_metadata/colors': Value with data type int32 is being converted to data type float32 as specified.\n",
      "  warnings.warn(full_warning_msg, DtypeConversionWarning)\n"
     ]
    },
    {
     "name": "stdout",
     "output_type": "stream",
     "text": [
      "Nov22_Pair33_aggression.nwb\n"
     ]
    },
    {
     "name": "stderr",
     "output_type": "stream",
     "text": [
      "M:\\utilities\\analysis_utilities\\behavior_error_checks.py:70: SettingWithCopyWarning: \n",
      "A value is trying to be set on a copy of a slice from a DataFrame\n",
      "\n",
      "See the caveats in the documentation: https://pandas.pydata.org/pandas-docs/stable/user_guide/indexing.html#returning-a-view-versus-a-copy\n",
      "  stateonly.end.iloc[:-1] = round(stateonly.start.iloc[1:],3)-0.001\n",
      "C:\\Users\\Nerissa\\anaconda3\\envs\\voc230824\\lib\\site-packages\\hdmf\\build\\objectmapper.py:260: DtypeConversionWarning: Spec 'vole_metadata/colors': Value with data type int32 is being converted to data type float32 as specified.\n",
      "  warnings.warn(full_warning_msg, DtypeConversionWarning)\n"
     ]
    },
    {
     "name": "stdout",
     "output_type": "stream",
     "text": [
      "Nov22_Pair34_aggression.nwb\n"
     ]
    },
    {
     "name": "stderr",
     "output_type": "stream",
     "text": [
      "M:\\utilities\\analysis_utilities\\behavior_error_checks.py:70: SettingWithCopyWarning: \n",
      "A value is trying to be set on a copy of a slice from a DataFrame\n",
      "\n",
      "See the caveats in the documentation: https://pandas.pydata.org/pandas-docs/stable/user_guide/indexing.html#returning-a-view-versus-a-copy\n",
      "  stateonly.end.iloc[:-1] = round(stateonly.start.iloc[1:],3)-0.001\n",
      "C:\\Users\\Nerissa\\anaconda3\\envs\\voc230824\\lib\\site-packages\\hdmf\\build\\objectmapper.py:260: DtypeConversionWarning: Spec 'vole_metadata/colors': Value with data type int32 is being converted to data type float32 as specified.\n",
      "  warnings.warn(full_warning_msg, DtypeConversionWarning)\n"
     ]
    },
    {
     "name": "stdout",
     "output_type": "stream",
     "text": [
      "Nov22_Pair35_aggression.nwb\n"
     ]
    },
    {
     "name": "stderr",
     "output_type": "stream",
     "text": [
      "M:\\utilities\\analysis_utilities\\behavior_error_checks.py:70: SettingWithCopyWarning: \n",
      "A value is trying to be set on a copy of a slice from a DataFrame\n",
      "\n",
      "See the caveats in the documentation: https://pandas.pydata.org/pandas-docs/stable/user_guide/indexing.html#returning-a-view-versus-a-copy\n",
      "  stateonly.end.iloc[:-1] = round(stateonly.start.iloc[1:],3)-0.001\n",
      "C:\\Users\\Nerissa\\anaconda3\\envs\\voc230824\\lib\\site-packages\\hdmf\\build\\objectmapper.py:260: DtypeConversionWarning: Spec 'vole_metadata/colors': Value with data type int32 is being converted to data type float32 as specified.\n",
      "  warnings.warn(full_warning_msg, DtypeConversionWarning)\n"
     ]
    },
    {
     "name": "stdout",
     "output_type": "stream",
     "text": [
      "Nov22_Pair36_aggression.nwb\n"
     ]
    },
    {
     "name": "stderr",
     "output_type": "stream",
     "text": [
      "M:\\utilities\\analysis_utilities\\behavior_error_checks.py:70: SettingWithCopyWarning: \n",
      "A value is trying to be set on a copy of a slice from a DataFrame\n",
      "\n",
      "See the caveats in the documentation: https://pandas.pydata.org/pandas-docs/stable/user_guide/indexing.html#returning-a-view-versus-a-copy\n",
      "  stateonly.end.iloc[:-1] = round(stateonly.start.iloc[1:],3)-0.001\n",
      "C:\\Users\\Nerissa\\anaconda3\\envs\\voc230824\\lib\\site-packages\\hdmf\\build\\objectmapper.py:260: DtypeConversionWarning: Spec 'vole_metadata/colors': Value with data type int32 is being converted to data type float32 as specified.\n",
      "  warnings.warn(full_warning_msg, DtypeConversionWarning)\n"
     ]
    },
    {
     "name": "stdout",
     "output_type": "stream",
     "text": [
      "Nov22_Pair37_aggression.nwb\n"
     ]
    },
    {
     "name": "stderr",
     "output_type": "stream",
     "text": [
      "M:\\utilities\\analysis_utilities\\behavior_error_checks.py:70: SettingWithCopyWarning: \n",
      "A value is trying to be set on a copy of a slice from a DataFrame\n",
      "\n",
      "See the caveats in the documentation: https://pandas.pydata.org/pandas-docs/stable/user_guide/indexing.html#returning-a-view-versus-a-copy\n",
      "  stateonly.end.iloc[:-1] = round(stateonly.start.iloc[1:],3)-0.001\n",
      "C:\\Users\\Nerissa\\anaconda3\\envs\\voc230824\\lib\\site-packages\\hdmf\\build\\objectmapper.py:260: DtypeConversionWarning: Spec 'vole_metadata/colors': Value with data type int32 is being converted to data type float32 as specified.\n",
      "  warnings.warn(full_warning_msg, DtypeConversionWarning)\n"
     ]
    },
    {
     "name": "stdout",
     "output_type": "stream",
     "text": [
      "Nov22_Pair38_aggression.nwb\n"
     ]
    },
    {
     "name": "stderr",
     "output_type": "stream",
     "text": [
      "M:\\utilities\\analysis_utilities\\behavior_error_checks.py:70: SettingWithCopyWarning: \n",
      "A value is trying to be set on a copy of a slice from a DataFrame\n",
      "\n",
      "See the caveats in the documentation: https://pandas.pydata.org/pandas-docs/stable/user_guide/indexing.html#returning-a-view-versus-a-copy\n",
      "  stateonly.end.iloc[:-1] = round(stateonly.start.iloc[1:],3)-0.001\n",
      "C:\\Users\\Nerissa\\anaconda3\\envs\\voc230824\\lib\\site-packages\\hdmf\\build\\objectmapper.py:260: DtypeConversionWarning: Spec 'vole_metadata/colors': Value with data type int32 is being converted to data type float32 as specified.\n",
      "  warnings.warn(full_warning_msg, DtypeConversionWarning)\n"
     ]
    },
    {
     "name": "stdout",
     "output_type": "stream",
     "text": [
      "Nov22_Pair39_aggression.nwb\n"
     ]
    },
    {
     "name": "stderr",
     "output_type": "stream",
     "text": [
      "M:\\utilities\\analysis_utilities\\behavior_error_checks.py:70: SettingWithCopyWarning: \n",
      "A value is trying to be set on a copy of a slice from a DataFrame\n",
      "\n",
      "See the caveats in the documentation: https://pandas.pydata.org/pandas-docs/stable/user_guide/indexing.html#returning-a-view-versus-a-copy\n",
      "  stateonly.end.iloc[:-1] = round(stateonly.start.iloc[1:],3)-0.001\n",
      "C:\\Users\\Nerissa\\anaconda3\\envs\\voc230824\\lib\\site-packages\\hdmf\\build\\objectmapper.py:260: DtypeConversionWarning: Spec 'vole_metadata/colors': Value with data type int32 is being converted to data type float32 as specified.\n",
      "  warnings.warn(full_warning_msg, DtypeConversionWarning)\n"
     ]
    },
    {
     "name": "stdout",
     "output_type": "stream",
     "text": [
      "Nov22_Pair4_aggression.nwb\n"
     ]
    },
    {
     "name": "stderr",
     "output_type": "stream",
     "text": [
      "M:\\utilities\\analysis_utilities\\behavior_error_checks.py:70: SettingWithCopyWarning: \n",
      "A value is trying to be set on a copy of a slice from a DataFrame\n",
      "\n",
      "See the caveats in the documentation: https://pandas.pydata.org/pandas-docs/stable/user_guide/indexing.html#returning-a-view-versus-a-copy\n",
      "  stateonly.end.iloc[:-1] = round(stateonly.start.iloc[1:],3)-0.001\n",
      "C:\\Users\\Nerissa\\anaconda3\\envs\\voc230824\\lib\\site-packages\\hdmf\\build\\objectmapper.py:260: DtypeConversionWarning: Spec 'vole_metadata/colors': Value with data type int32 is being converted to data type float32 as specified.\n",
      "  warnings.warn(full_warning_msg, DtypeConversionWarning)\n"
     ]
    },
    {
     "name": "stdout",
     "output_type": "stream",
     "text": [
      "Nov22_Pair40_aggression.nwb\n"
     ]
    },
    {
     "name": "stderr",
     "output_type": "stream",
     "text": [
      "M:\\utilities\\analysis_utilities\\behavior_error_checks.py:70: SettingWithCopyWarning: \n",
      "A value is trying to be set on a copy of a slice from a DataFrame\n",
      "\n",
      "See the caveats in the documentation: https://pandas.pydata.org/pandas-docs/stable/user_guide/indexing.html#returning-a-view-versus-a-copy\n",
      "  stateonly.end.iloc[:-1] = round(stateonly.start.iloc[1:],3)-0.001\n",
      "C:\\Users\\Nerissa\\anaconda3\\envs\\voc230824\\lib\\site-packages\\hdmf\\build\\objectmapper.py:260: DtypeConversionWarning: Spec 'vole_metadata/colors': Value with data type int32 is being converted to data type float32 as specified.\n",
      "  warnings.warn(full_warning_msg, DtypeConversionWarning)\n"
     ]
    },
    {
     "name": "stdout",
     "output_type": "stream",
     "text": [
      "Nov22_Pair41_aggression.nwb\n"
     ]
    },
    {
     "name": "stderr",
     "output_type": "stream",
     "text": [
      "M:\\utilities\\analysis_utilities\\behavior_error_checks.py:70: SettingWithCopyWarning: \n",
      "A value is trying to be set on a copy of a slice from a DataFrame\n",
      "\n",
      "See the caveats in the documentation: https://pandas.pydata.org/pandas-docs/stable/user_guide/indexing.html#returning-a-view-versus-a-copy\n",
      "  stateonly.end.iloc[:-1] = round(stateonly.start.iloc[1:],3)-0.001\n",
      "C:\\Users\\Nerissa\\anaconda3\\envs\\voc230824\\lib\\site-packages\\hdmf\\build\\objectmapper.py:260: DtypeConversionWarning: Spec 'vole_metadata/colors': Value with data type int32 is being converted to data type float32 as specified.\n",
      "  warnings.warn(full_warning_msg, DtypeConversionWarning)\n"
     ]
    },
    {
     "name": "stdout",
     "output_type": "stream",
     "text": [
      "Nov22_Pair43_aggression.nwb\n"
     ]
    },
    {
     "name": "stderr",
     "output_type": "stream",
     "text": [
      "M:\\utilities\\analysis_utilities\\behavior_error_checks.py:70: SettingWithCopyWarning: \n",
      "A value is trying to be set on a copy of a slice from a DataFrame\n",
      "\n",
      "See the caveats in the documentation: https://pandas.pydata.org/pandas-docs/stable/user_guide/indexing.html#returning-a-view-versus-a-copy\n",
      "  stateonly.end.iloc[:-1] = round(stateonly.start.iloc[1:],3)-0.001\n",
      "C:\\Users\\Nerissa\\anaconda3\\envs\\voc230824\\lib\\site-packages\\hdmf\\build\\objectmapper.py:260: DtypeConversionWarning: Spec 'vole_metadata/colors': Value with data type int32 is being converted to data type float32 as specified.\n",
      "  warnings.warn(full_warning_msg, DtypeConversionWarning)\n"
     ]
    },
    {
     "name": "stdout",
     "output_type": "stream",
     "text": [
      "Nov22_Pair44_aggression.nwb\n"
     ]
    },
    {
     "name": "stderr",
     "output_type": "stream",
     "text": [
      "M:\\utilities\\analysis_utilities\\behavior_error_checks.py:70: SettingWithCopyWarning: \n",
      "A value is trying to be set on a copy of a slice from a DataFrame\n",
      "\n",
      "See the caveats in the documentation: https://pandas.pydata.org/pandas-docs/stable/user_guide/indexing.html#returning-a-view-versus-a-copy\n",
      "  stateonly.end.iloc[:-1] = round(stateonly.start.iloc[1:],3)-0.001\n",
      "C:\\Users\\Nerissa\\anaconda3\\envs\\voc230824\\lib\\site-packages\\hdmf\\build\\objectmapper.py:260: DtypeConversionWarning: Spec 'vole_metadata/colors': Value with data type int32 is being converted to data type float32 as specified.\n",
      "  warnings.warn(full_warning_msg, DtypeConversionWarning)\n"
     ]
    },
    {
     "name": "stdout",
     "output_type": "stream",
     "text": [
      "Nov22_Pair46_aggression.nwb\n"
     ]
    },
    {
     "name": "stderr",
     "output_type": "stream",
     "text": [
      "M:\\utilities\\analysis_utilities\\behavior_error_checks.py:70: SettingWithCopyWarning: \n",
      "A value is trying to be set on a copy of a slice from a DataFrame\n",
      "\n",
      "See the caveats in the documentation: https://pandas.pydata.org/pandas-docs/stable/user_guide/indexing.html#returning-a-view-versus-a-copy\n",
      "  stateonly.end.iloc[:-1] = round(stateonly.start.iloc[1:],3)-0.001\n",
      "C:\\Users\\Nerissa\\anaconda3\\envs\\voc230824\\lib\\site-packages\\hdmf\\build\\objectmapper.py:260: DtypeConversionWarning: Spec 'vole_metadata/colors': Value with data type int32 is being converted to data type float32 as specified.\n",
      "  warnings.warn(full_warning_msg, DtypeConversionWarning)\n"
     ]
    },
    {
     "name": "stdout",
     "output_type": "stream",
     "text": [
      "Nov22_Pair47_aggression.nwb\n"
     ]
    },
    {
     "name": "stderr",
     "output_type": "stream",
     "text": [
      "M:\\utilities\\analysis_utilities\\behavior_error_checks.py:70: SettingWithCopyWarning: \n",
      "A value is trying to be set on a copy of a slice from a DataFrame\n",
      "\n",
      "See the caveats in the documentation: https://pandas.pydata.org/pandas-docs/stable/user_guide/indexing.html#returning-a-view-versus-a-copy\n",
      "  stateonly.end.iloc[:-1] = round(stateonly.start.iloc[1:],3)-0.001\n",
      "C:\\Users\\Nerissa\\anaconda3\\envs\\voc230824\\lib\\site-packages\\hdmf\\build\\objectmapper.py:260: DtypeConversionWarning: Spec 'vole_metadata/colors': Value with data type int32 is being converted to data type float32 as specified.\n",
      "  warnings.warn(full_warning_msg, DtypeConversionWarning)\n"
     ]
    },
    {
     "name": "stdout",
     "output_type": "stream",
     "text": [
      "Nov22_Pair48_aggression.nwb\n"
     ]
    },
    {
     "name": "stderr",
     "output_type": "stream",
     "text": [
      "M:\\utilities\\analysis_utilities\\behavior_error_checks.py:70: SettingWithCopyWarning: \n",
      "A value is trying to be set on a copy of a slice from a DataFrame\n",
      "\n",
      "See the caveats in the documentation: https://pandas.pydata.org/pandas-docs/stable/user_guide/indexing.html#returning-a-view-versus-a-copy\n",
      "  stateonly.end.iloc[:-1] = round(stateonly.start.iloc[1:],3)-0.001\n",
      "C:\\Users\\Nerissa\\anaconda3\\envs\\voc230824\\lib\\site-packages\\hdmf\\build\\objectmapper.py:260: DtypeConversionWarning: Spec 'vole_metadata/colors': Value with data type int32 is being converted to data type float32 as specified.\n",
      "  warnings.warn(full_warning_msg, DtypeConversionWarning)\n"
     ]
    },
    {
     "name": "stdout",
     "output_type": "stream",
     "text": [
      "Nov22_Pair49_aggression.nwb\n"
     ]
    },
    {
     "name": "stderr",
     "output_type": "stream",
     "text": [
      "M:\\utilities\\analysis_utilities\\behavior_error_checks.py:70: SettingWithCopyWarning: \n",
      "A value is trying to be set on a copy of a slice from a DataFrame\n",
      "\n",
      "See the caveats in the documentation: https://pandas.pydata.org/pandas-docs/stable/user_guide/indexing.html#returning-a-view-versus-a-copy\n",
      "  stateonly.end.iloc[:-1] = round(stateonly.start.iloc[1:],3)-0.001\n",
      "C:\\Users\\Nerissa\\anaconda3\\envs\\voc230824\\lib\\site-packages\\hdmf\\build\\objectmapper.py:260: DtypeConversionWarning: Spec 'vole_metadata/colors': Value with data type int32 is being converted to data type float32 as specified.\n",
      "  warnings.warn(full_warning_msg, DtypeConversionWarning)\n"
     ]
    },
    {
     "name": "stdout",
     "output_type": "stream",
     "text": [
      "Nov22_Pair5_aggression.nwb\n"
     ]
    },
    {
     "name": "stderr",
     "output_type": "stream",
     "text": [
      "M:\\utilities\\analysis_utilities\\behavior_error_checks.py:70: SettingWithCopyWarning: \n",
      "A value is trying to be set on a copy of a slice from a DataFrame\n",
      "\n",
      "See the caveats in the documentation: https://pandas.pydata.org/pandas-docs/stable/user_guide/indexing.html#returning-a-view-versus-a-copy\n",
      "  stateonly.end.iloc[:-1] = round(stateonly.start.iloc[1:],3)-0.001\n",
      "C:\\Users\\Nerissa\\anaconda3\\envs\\voc230824\\lib\\site-packages\\hdmf\\build\\objectmapper.py:260: DtypeConversionWarning: Spec 'vole_metadata/colors': Value with data type int32 is being converted to data type float32 as specified.\n",
      "  warnings.warn(full_warning_msg, DtypeConversionWarning)\n"
     ]
    },
    {
     "name": "stdout",
     "output_type": "stream",
     "text": [
      "Nov22_Pair50_aggression.nwb\n"
     ]
    },
    {
     "name": "stderr",
     "output_type": "stream",
     "text": [
      "M:\\utilities\\analysis_utilities\\behavior_error_checks.py:70: SettingWithCopyWarning: \n",
      "A value is trying to be set on a copy of a slice from a DataFrame\n",
      "\n",
      "See the caveats in the documentation: https://pandas.pydata.org/pandas-docs/stable/user_guide/indexing.html#returning-a-view-versus-a-copy\n",
      "  stateonly.end.iloc[:-1] = round(stateonly.start.iloc[1:],3)-0.001\n",
      "C:\\Users\\Nerissa\\anaconda3\\envs\\voc230824\\lib\\site-packages\\hdmf\\build\\objectmapper.py:260: DtypeConversionWarning: Spec 'vole_metadata/colors': Value with data type int32 is being converted to data type float32 as specified.\n",
      "  warnings.warn(full_warning_msg, DtypeConversionWarning)\n"
     ]
    },
    {
     "name": "stdout",
     "output_type": "stream",
     "text": [
      "Nov22_Pair51_aggression.nwb\n"
     ]
    },
    {
     "name": "stderr",
     "output_type": "stream",
     "text": [
      "M:\\utilities\\analysis_utilities\\behavior_error_checks.py:70: SettingWithCopyWarning: \n",
      "A value is trying to be set on a copy of a slice from a DataFrame\n",
      "\n",
      "See the caveats in the documentation: https://pandas.pydata.org/pandas-docs/stable/user_guide/indexing.html#returning-a-view-versus-a-copy\n",
      "  stateonly.end.iloc[:-1] = round(stateonly.start.iloc[1:],3)-0.001\n",
      "C:\\Users\\Nerissa\\anaconda3\\envs\\voc230824\\lib\\site-packages\\hdmf\\build\\objectmapper.py:260: DtypeConversionWarning: Spec 'vole_metadata/colors': Value with data type int32 is being converted to data type float32 as specified.\n",
      "  warnings.warn(full_warning_msg, DtypeConversionWarning)\n"
     ]
    },
    {
     "name": "stdout",
     "output_type": "stream",
     "text": [
      "Nov22_Pair52_aggression.nwb\n"
     ]
    },
    {
     "name": "stderr",
     "output_type": "stream",
     "text": [
      "M:\\utilities\\analysis_utilities\\behavior_error_checks.py:70: SettingWithCopyWarning: \n",
      "A value is trying to be set on a copy of a slice from a DataFrame\n",
      "\n",
      "See the caveats in the documentation: https://pandas.pydata.org/pandas-docs/stable/user_guide/indexing.html#returning-a-view-versus-a-copy\n",
      "  stateonly.end.iloc[:-1] = round(stateonly.start.iloc[1:],3)-0.001\n",
      "C:\\Users\\Nerissa\\anaconda3\\envs\\voc230824\\lib\\site-packages\\hdmf\\build\\objectmapper.py:260: DtypeConversionWarning: Spec 'vole_metadata/colors': Value with data type int32 is being converted to data type float32 as specified.\n",
      "  warnings.warn(full_warning_msg, DtypeConversionWarning)\n"
     ]
    },
    {
     "name": "stdout",
     "output_type": "stream",
     "text": [
      "Nov22_Pair56_aggression.nwb\n"
     ]
    },
    {
     "name": "stderr",
     "output_type": "stream",
     "text": [
      "M:\\utilities\\analysis_utilities\\behavior_error_checks.py:70: SettingWithCopyWarning: \n",
      "A value is trying to be set on a copy of a slice from a DataFrame\n",
      "\n",
      "See the caveats in the documentation: https://pandas.pydata.org/pandas-docs/stable/user_guide/indexing.html#returning-a-view-versus-a-copy\n",
      "  stateonly.end.iloc[:-1] = round(stateonly.start.iloc[1:],3)-0.001\n",
      "C:\\Users\\Nerissa\\anaconda3\\envs\\voc230824\\lib\\site-packages\\hdmf\\build\\objectmapper.py:260: DtypeConversionWarning: Spec 'vole_metadata/colors': Value with data type int32 is being converted to data type float32 as specified.\n",
      "  warnings.warn(full_warning_msg, DtypeConversionWarning)\n"
     ]
    },
    {
     "name": "stdout",
     "output_type": "stream",
     "text": [
      "Nov22_Pair57_aggression.nwb\n"
     ]
    },
    {
     "name": "stderr",
     "output_type": "stream",
     "text": [
      "M:\\utilities\\analysis_utilities\\behavior_error_checks.py:70: SettingWithCopyWarning: \n",
      "A value is trying to be set on a copy of a slice from a DataFrame\n",
      "\n",
      "See the caveats in the documentation: https://pandas.pydata.org/pandas-docs/stable/user_guide/indexing.html#returning-a-view-versus-a-copy\n",
      "  stateonly.end.iloc[:-1] = round(stateonly.start.iloc[1:],3)-0.001\n",
      "C:\\Users\\Nerissa\\anaconda3\\envs\\voc230824\\lib\\site-packages\\hdmf\\build\\objectmapper.py:260: DtypeConversionWarning: Spec 'vole_metadata/colors': Value with data type int32 is being converted to data type float32 as specified.\n",
      "  warnings.warn(full_warning_msg, DtypeConversionWarning)\n"
     ]
    },
    {
     "name": "stdout",
     "output_type": "stream",
     "text": [
      "Nov22_Pair58_aggression.nwb\n"
     ]
    },
    {
     "name": "stderr",
     "output_type": "stream",
     "text": [
      "M:\\utilities\\analysis_utilities\\behavior_error_checks.py:70: SettingWithCopyWarning: \n",
      "A value is trying to be set on a copy of a slice from a DataFrame\n",
      "\n",
      "See the caveats in the documentation: https://pandas.pydata.org/pandas-docs/stable/user_guide/indexing.html#returning-a-view-versus-a-copy\n",
      "  stateonly.end.iloc[:-1] = round(stateonly.start.iloc[1:],3)-0.001\n",
      "C:\\Users\\Nerissa\\anaconda3\\envs\\voc230824\\lib\\site-packages\\hdmf\\build\\objectmapper.py:260: DtypeConversionWarning: Spec 'vole_metadata/colors': Value with data type int32 is being converted to data type float32 as specified.\n",
      "  warnings.warn(full_warning_msg, DtypeConversionWarning)\n"
     ]
    },
    {
     "name": "stdout",
     "output_type": "stream",
     "text": [
      "Nov22_Pair6_aggression.nwb\n"
     ]
    },
    {
     "name": "stderr",
     "output_type": "stream",
     "text": [
      "M:\\utilities\\analysis_utilities\\behavior_error_checks.py:70: SettingWithCopyWarning: \n",
      "A value is trying to be set on a copy of a slice from a DataFrame\n",
      "\n",
      "See the caveats in the documentation: https://pandas.pydata.org/pandas-docs/stable/user_guide/indexing.html#returning-a-view-versus-a-copy\n",
      "  stateonly.end.iloc[:-1] = round(stateonly.start.iloc[1:],3)-0.001\n",
      "C:\\Users\\Nerissa\\anaconda3\\envs\\voc230824\\lib\\site-packages\\hdmf\\build\\objectmapper.py:260: DtypeConversionWarning: Spec 'vole_metadata/colors': Value with data type int32 is being converted to data type float32 as specified.\n",
      "  warnings.warn(full_warning_msg, DtypeConversionWarning)\n"
     ]
    },
    {
     "name": "stdout",
     "output_type": "stream",
     "text": [
      "Nov22_Pair61_aggression.nwb\n"
     ]
    },
    {
     "name": "stderr",
     "output_type": "stream",
     "text": [
      "M:\\utilities\\analysis_utilities\\behavior_error_checks.py:70: SettingWithCopyWarning: \n",
      "A value is trying to be set on a copy of a slice from a DataFrame\n",
      "\n",
      "See the caveats in the documentation: https://pandas.pydata.org/pandas-docs/stable/user_guide/indexing.html#returning-a-view-versus-a-copy\n",
      "  stateonly.end.iloc[:-1] = round(stateonly.start.iloc[1:],3)-0.001\n",
      "C:\\Users\\Nerissa\\anaconda3\\envs\\voc230824\\lib\\site-packages\\hdmf\\build\\objectmapper.py:260: DtypeConversionWarning: Spec 'vole_metadata/colors': Value with data type int32 is being converted to data type float32 as specified.\n",
      "  warnings.warn(full_warning_msg, DtypeConversionWarning)\n"
     ]
    },
    {
     "name": "stdout",
     "output_type": "stream",
     "text": [
      "Nov22_Pair62_aggression.nwb\n"
     ]
    },
    {
     "name": "stderr",
     "output_type": "stream",
     "text": [
      "M:\\utilities\\analysis_utilities\\behavior_error_checks.py:70: SettingWithCopyWarning: \n",
      "A value is trying to be set on a copy of a slice from a DataFrame\n",
      "\n",
      "See the caveats in the documentation: https://pandas.pydata.org/pandas-docs/stable/user_guide/indexing.html#returning-a-view-versus-a-copy\n",
      "  stateonly.end.iloc[:-1] = round(stateonly.start.iloc[1:],3)-0.001\n",
      "C:\\Users\\Nerissa\\anaconda3\\envs\\voc230824\\lib\\site-packages\\hdmf\\build\\objectmapper.py:260: DtypeConversionWarning: Spec 'vole_metadata/colors': Value with data type int32 is being converted to data type float32 as specified.\n",
      "  warnings.warn(full_warning_msg, DtypeConversionWarning)\n"
     ]
    },
    {
     "name": "stdout",
     "output_type": "stream",
     "text": [
      "Nov22_Pair63_aggression.nwb\n"
     ]
    },
    {
     "name": "stderr",
     "output_type": "stream",
     "text": [
      "M:\\utilities\\analysis_utilities\\behavior_error_checks.py:70: SettingWithCopyWarning: \n",
      "A value is trying to be set on a copy of a slice from a DataFrame\n",
      "\n",
      "See the caveats in the documentation: https://pandas.pydata.org/pandas-docs/stable/user_guide/indexing.html#returning-a-view-versus-a-copy\n",
      "  stateonly.end.iloc[:-1] = round(stateonly.start.iloc[1:],3)-0.001\n",
      "C:\\Users\\Nerissa\\anaconda3\\envs\\voc230824\\lib\\site-packages\\hdmf\\build\\objectmapper.py:260: DtypeConversionWarning: Spec 'vole_metadata/colors': Value with data type int32 is being converted to data type float32 as specified.\n",
      "  warnings.warn(full_warning_msg, DtypeConversionWarning)\n"
     ]
    },
    {
     "name": "stdout",
     "output_type": "stream",
     "text": [
      "Nov22_Pair64_aggression.nwb\n"
     ]
    },
    {
     "name": "stderr",
     "output_type": "stream",
     "text": [
      "M:\\utilities\\analysis_utilities\\behavior_error_checks.py:70: SettingWithCopyWarning: \n",
      "A value is trying to be set on a copy of a slice from a DataFrame\n",
      "\n",
      "See the caveats in the documentation: https://pandas.pydata.org/pandas-docs/stable/user_guide/indexing.html#returning-a-view-versus-a-copy\n",
      "  stateonly.end.iloc[:-1] = round(stateonly.start.iloc[1:],3)-0.001\n",
      "C:\\Users\\Nerissa\\anaconda3\\envs\\voc230824\\lib\\site-packages\\hdmf\\build\\objectmapper.py:260: DtypeConversionWarning: Spec 'vole_metadata/colors': Value with data type int32 is being converted to data type float32 as specified.\n",
      "  warnings.warn(full_warning_msg, DtypeConversionWarning)\n"
     ]
    },
    {
     "name": "stdout",
     "output_type": "stream",
     "text": [
      "Nov22_Pair7_aggression.nwb\n"
     ]
    },
    {
     "name": "stderr",
     "output_type": "stream",
     "text": [
      "M:\\utilities\\analysis_utilities\\behavior_error_checks.py:70: SettingWithCopyWarning: \n",
      "A value is trying to be set on a copy of a slice from a DataFrame\n",
      "\n",
      "See the caveats in the documentation: https://pandas.pydata.org/pandas-docs/stable/user_guide/indexing.html#returning-a-view-versus-a-copy\n",
      "  stateonly.end.iloc[:-1] = round(stateonly.start.iloc[1:],3)-0.001\n",
      "C:\\Users\\Nerissa\\anaconda3\\envs\\voc230824\\lib\\site-packages\\hdmf\\build\\objectmapper.py:260: DtypeConversionWarning: Spec 'vole_metadata/colors': Value with data type int32 is being converted to data type float32 as specified.\n",
      "  warnings.warn(full_warning_msg, DtypeConversionWarning)\n"
     ]
    },
    {
     "name": "stdout",
     "output_type": "stream",
     "text": [
      "Nov22_Pair8_aggression.nwb\n"
     ]
    },
    {
     "name": "stderr",
     "output_type": "stream",
     "text": [
      "M:\\utilities\\analysis_utilities\\behavior_error_checks.py:70: SettingWithCopyWarning: \n",
      "A value is trying to be set on a copy of a slice from a DataFrame\n",
      "\n",
      "See the caveats in the documentation: https://pandas.pydata.org/pandas-docs/stable/user_guide/indexing.html#returning-a-view-versus-a-copy\n",
      "  stateonly.end.iloc[:-1] = round(stateonly.start.iloc[1:],3)-0.001\n",
      "C:\\Users\\Nerissa\\anaconda3\\envs\\voc230824\\lib\\site-packages\\hdmf\\build\\objectmapper.py:260: DtypeConversionWarning: Spec 'vole_metadata/colors': Value with data type int32 is being converted to data type float32 as specified.\n",
      "  warnings.warn(full_warning_msg, DtypeConversionWarning)\n"
     ]
    }
   ],
   "source": [
    "# --- USER PARAMETERS ---\n",
    "\n",
    "# metadata_files = ['metadata_intros_v4.csv','metadata_TMs.csv','metadata_ppts_v2.csv','metadata_reunions.csv','metadata_aggressions.csv']\n",
    "# metadata_files = ['metadata_TMs.csv','metadata_ppts_v2.csv','metadata_reunions.csv','metadata_aggressions.csv']\n",
    "metadata_files = ['metadata_ppts_v2.csv','metadata_reunions.csv','metadata_aggressions.csv']\n",
    "\n",
    "\n",
    "\n",
    "lab = \"Manoli @ UCSF\"\n",
    "excl = False # include all the assays\n",
    "timeline = 'Matches Shank3 assays.'\n",
    "# path to storage for NWB files\n",
    "nwbfile_path = os.path.join('M:\\\\','scn2a-paper-GWJSNH','NWB-files')\n",
    "# whether to write NWB files to disk yet\n",
    "write_NWB_to_disk = True\n",
    "\n",
    "for metadata_file in metadata_files:\n",
    "\n",
    "    # load metadata\n",
    "    meta = pd.read_csv(metadata_file)\n",
    "    meta.FocalColor = meta.FocalColor.apply(literal_eval) # convert the colors to real arrays\n",
    "\n",
    "    # -- loop over metadata\n",
    "    for i, ptag in enumerate(meta.PairTag):\n",
    "        assay_type = meta.AssayType[i]\n",
    "        nwbfilename = f'{ptag}_{assay_type}.nwb'\n",
    "        print(nwbfilename)\n",
    "\n",
    "        # check if file already exists\n",
    "        wfullpath = os.path.join(nwbfile_path,nwbfilename)    \n",
    "        if not os.path.exists(wfullpath):    \n",
    "\n",
    "            # get session specific metadata\n",
    "            thisdate = str(meta.RecDate[i])\n",
    "            pairdate = str(meta.PairDate[i])\n",
    "\n",
    "            # calculate days post pairing\n",
    "            rdate = date(int(thisdate[0:4]),int(thisdate[4:6]),int(thisdate[6:]))\n",
    "            pdate = date(int(pairdate[0:4]),int(pairdate[4:6]),int(pairdate[6:]))\n",
    "            dpp = rdate-pdate\n",
    "\n",
    "            # set up recording time... it would be nice to get actual video data for the times\n",
    "            datepieces = get_date_from_block(thisdate)\n",
    "            rtime = meta.RecTime[i]\n",
    "            timepieces = rtime.split(':')\n",
    "            sess_start = datetime(datepieces[0],datepieces[1],datepieces[2],int(timepieces[0]),int(timepieces[1]),0,0,tzlocal())\n",
    "\n",
    "            session_description = f'Behavioral annotations from Scn2a phenotyping pair {ptag} in a(n) {assay_type} assay.'\n",
    "\n",
    "            # make NWB file\n",
    "            nwbfile = NWBFile(\n",
    "                session_description=session_description,\n",
    "                identifier = str(uuid4()),\n",
    "                session_start_time = sess_start,\n",
    "                lab=lab,\n",
    "                experimenter=meta.RanBy[i],\n",
    "                session_id = nwbfilename[0:-4], # check this\n",
    "            )\n",
    "\n",
    "            # add subject info\n",
    "            nwbfile.subject = Subject(\n",
    "                subject_id = meta.FocalID[i],\n",
    "                species = 'Microtus ochrogaster',\n",
    "                sex = meta.FocalSex[i],\n",
    "                genotype = meta.FocalGT[i]\n",
    "            )\n",
    "\n",
    "            # get assay duration\n",
    "            dur = float(meta.AssayDuration[i])\n",
    "\n",
    "            # figure out partner info\n",
    "    #         if meta.FocalSex[i]=='F':\n",
    "    #             pGT = meta.MaleGT[i]\n",
    "    #         elif meta.FocalSex[i]=='M':\n",
    "\n",
    "    #             pGT = meta.FemaleGT[i]\n",
    "    #         else:\n",
    "    #             print(f'Focal sex is neither F nor M; something is wrong with {ptag}.')\n",
    "            pGT = 'WT'\n",
    "\n",
    "            # calculate time since pairing\n",
    "            days = meta.RecDate[i] - meta.PairDate[i]\n",
    "\n",
    "            # add lab metadata\n",
    "\n",
    "    #         room = meta.AssayRoom[i]\n",
    "            room = '?'\n",
    "            colors = meta.FocalColor[i][0]\n",
    "    #         etho = meta.Ethogram[i]\n",
    "            exp = meta.ScoredBy[i]\n",
    "            timeline_comp = meta.FullTimeline[i]\n",
    "            annotations = os.path.join(meta.ScorePath[i],meta.ScoreFile[i])\n",
    "            dpostpair = int(dpp.days)\n",
    "\n",
    "            match assay_type:\n",
    "                case 'introduction':\n",
    "                    metaObj = AssayMetadata(\n",
    "                        assay_type=assay_type,\n",
    "                        exclude_flag=excl,\n",
    "                        duration=dur,\n",
    "                        room=room,\n",
    "                        timeline=timeline,\n",
    "                        ethogram='JS_Scn2aX12022_Intro_RI_061124.boris',\n",
    "                        scorer=exp,\n",
    "                        timeline_complete=timeline_comp,\n",
    "                        colors=colors,\n",
    "                        assay_type__partner_GT=pGT,\n",
    "                        assay_type__description='Introduction.',\n",
    "                        assay_type__days_post_pairing=dpostpair,\n",
    "                        assay_type__annotations=annotations\n",
    "                    )\n",
    "\n",
    "\n",
    "                case 'mating':\n",
    "                    metaObj = AssayMetadata(\n",
    "                        assay_type=assay_type,\n",
    "                        exclude_flag=excl,\n",
    "                        duration=dur,\n",
    "                        room=room,\n",
    "                        timeline=timeline,\n",
    "                        ethogram='Scn2aX12022_TM_GW.boris',\n",
    "                        scorer=exp,\n",
    "                        timeline_complete=timeline_comp,\n",
    "                        colors=colors,\n",
    "                        assay_type__partner_GT=pGT,\n",
    "                        assay_type__description='Timed mating.',\n",
    "                        assay_type__days_post_pairing=dpostpair,\n",
    "                        assay_type__annotations=annotations\n",
    "\n",
    "                    )\n",
    "\n",
    "\n",
    "                case 'PPT':\n",
    "\n",
    "                    if meta.LeftType[i]=='Partner':\n",
    "                        pchamb = 'Left'\n",
    "                    else:\n",
    "                        pchamb = 'Right'\n",
    "\n",
    "                    metaObj = AssayMetadata(\n",
    "                        assay_type=assay_type,\n",
    "                        exclude_flag=excl,\n",
    "                        duration=dur,\n",
    "                        room=room,\n",
    "                        timeline=timeline,\n",
    "                        ethogram='Scn2aX12022_PPT_GW.boris',\n",
    "                        scorer=exp,\n",
    "                        timeline_complete=timeline_comp,\n",
    "                        colors=colors,\n",
    "                        assay_type__partner_GT=pGT,\n",
    "                        assay_type__description='Linear three chamber tethered partner preference test.',\n",
    "                        assay_type__days_post_pairing=dpostpair,\n",
    "                        assay_type__stranger_GT='WT',\n",
    "                        assay_type__PPT_lane=meta.PPTlane[i],\n",
    "                        assay_type__partner_chamber=pchamb,\n",
    "                        assay_type__left_GT=meta.LeftGT[i],\n",
    "                        assay_type__left_sex=meta.LeftSex[i],\n",
    "                        assay_type__right_GT=meta.RightGT[i],\n",
    "                        assay_type__right_sex=meta.RightSex[i],\n",
    "                        assay_type__left_type=meta.LeftType[i],\n",
    "                        assay_type__right_type=meta.RightType[i],\n",
    "                        assay_type__annotations=annotations                \n",
    "                    )\n",
    "\n",
    "                case 'reunion':\n",
    "                    metaObj = AssayMetadata(\n",
    "                        assay_type=assay_type,\n",
    "                        exclude_flag=excl,\n",
    "                        duration=dur,\n",
    "                        room=room,\n",
    "                        timeline=timeline,\n",
    "                        ethogram='NK_CompiledObservations.boris',\n",
    "                        scorer=exp,\n",
    "                        timeline_complete=timeline_comp,\n",
    "                        colors=colors,\n",
    "                        assay_type__partner_GT=pGT,\n",
    "                        assay_type__description='Separation/reunion.',\n",
    "                        assay_type__days_post_pairing=dpostpair,\n",
    "                        assay_type__isolation_length=60*60,\n",
    "                        assay_type__annotations=annotations\n",
    "\n",
    "                    )\n",
    "\n",
    "                case 'aggression':\n",
    "                    metaObj = AssayMetadata(\n",
    "                        assay_type=assay_type,\n",
    "                        exclude_flag=excl,\n",
    "                        duration=dur,\n",
    "                        room=room,\n",
    "                        timeline=timeline,\n",
    "                        ethogram='JS_Scn2aX12022_Intro_RI_061124.boris',\n",
    "                        scorer=exp,\n",
    "                        timeline_complete=timeline_comp,\n",
    "                        colors=colors,\n",
    "                        assay_type__stranger_GT='WT',\n",
    "                        assay_type__description='Aggression towards an opposite-sex intruder to the homecage.',\n",
    "                        assay_type__days_post_pairing=dpostpair,\n",
    "                        assay_type__isolation_length=60*60,\n",
    "                        assay_type__annotations=annotations\n",
    "\n",
    "                    )\n",
    "\n",
    "            # Add the test LabMetaDataExtensionExample to the NWBFile\n",
    "            nwbfile.add_lab_meta_data(lab_meta_data=metaObj)\n",
    "\n",
    "            # Add video file\n",
    "            video_ext_file = ImageSeries(\n",
    "                name='behaviorVideo',\n",
    "                description='Raw original video.',\n",
    "                unit='n.a.',\n",
    "                external_file=[os.path.join(meta.VideoPath[i],meta.VideoFile[i])],\n",
    "                format='external',\n",
    "                starting_time=0.0,\n",
    "                rate=25.0,\n",
    "            )\n",
    "\n",
    "            nwbfile.add_acquisition(video_ext_file)\n",
    "\n",
    "            # --- Add annotated behavior data\n",
    "\n",
    "            # Make sure these files are downloaded with the same path configuration as listed in the metadata\n",
    "            # Or adjust here as I did with telling the code to go up a level\n",
    "            scoretab = pd.read_csv(os.path.join('..',meta.ScorePath[i],meta.ScoreFile[i])) # load up csv of annotations\n",
    "\n",
    "            # change problematic column names\n",
    "            scoretab.rename(columns={'Start (s)':'start'}, inplace=True)\n",
    "            scoretab.rename(columns={'Stop (s)':'end'}, inplace=True)\n",
    "            scoretab.rename(columns={'Duration (s)':'duration'}, inplace=True)\n",
    "            scoretab.rename(columns={'Behavior type':'behavior_type'}, inplace=True)\n",
    "\n",
    "            # --- Clean up small gaps in the behavior table\n",
    "            # this assumes the score files have already been reviewed for major problems; everything at this stage should pass\n",
    "\n",
    "            cleantab = set_event_ends(scoretab)\n",
    "\n",
    "            # make NWB object corresponding to the annotation table\n",
    "            behavior_intervals = TimeIntervals(name=\"annotated_behavior\",\n",
    "                description=\"Intervals of scored behavior.\")\n",
    "\n",
    "            behavior_intervals.add_column(name=\"behavior\", description=\"The annotation from the ethogram.\")\n",
    "            behavior_intervals.add_column(name=\"duration\", description=\"Duration of the behavior.\")\n",
    "            behavior_intervals.add_column(name=\"atype\", description=\"Point or state event.\")\n",
    "\n",
    "            # populate table\n",
    "            for i, start in enumerate(cleantab.start):\n",
    "                end = cleantab.end[i]\n",
    "                behav = cleantab.Behavior[i]\n",
    "                atype = cleantab.behavior_type[i]\n",
    "                dur = cleantab.duration[i]\n",
    "                behavior_intervals.add_row(start_time=start,stop_time=end,behavior=behav,atype=atype,duration=dur)\n",
    "\n",
    "            # add to NWB file\n",
    "            nwbfile.add_time_intervals(behavior_intervals)\n",
    "            \n",
    "                    # write file to disk\n",
    "            if write_NWB_to_disk:\n",
    "                with NWBHDF5IO(wfullpath, \"w\") as io:\n",
    "                    io.write(nwbfile)"
   ]
  },
  {
   "cell_type": "code",
   "execution_count": 32,
   "id": "e23dfee9",
   "metadata": {},
   "outputs": [
    {
     "name": "stdout",
     "output_type": "stream",
     "text": [
      "Nov22_Pair1_timedMating.nwb\n"
     ]
    },
    {
     "name": "stderr",
     "output_type": "stream",
     "text": [
      "M:\\utilities\\analysis_utilities\\behavior_error_checks.py:70: SettingWithCopyWarning: \n",
      "A value is trying to be set on a copy of a slice from a DataFrame\n",
      "\n",
      "See the caveats in the documentation: https://pandas.pydata.org/pandas-docs/stable/user_guide/indexing.html#returning-a-view-versus-a-copy\n",
      "  stateonly.end.iloc[:-1] = round(stateonly.start.iloc[1:],3)-0.001\n",
      "C:\\Users\\Nerissa\\anaconda3\\envs\\voc230824\\lib\\site-packages\\hdmf\\build\\objectmapper.py:260: DtypeConversionWarning: Spec 'vole_metadata/colors': Value with data type int32 is being converted to data type float32 as specified.\n",
      "  warnings.warn(full_warning_msg, DtypeConversionWarning)\n"
     ]
    },
    {
     "name": "stdout",
     "output_type": "stream",
     "text": [
      "Nov22_Pair15_timedMating.nwb\n"
     ]
    },
    {
     "name": "stderr",
     "output_type": "stream",
     "text": [
      "M:\\utilities\\analysis_utilities\\behavior_error_checks.py:70: SettingWithCopyWarning: \n",
      "A value is trying to be set on a copy of a slice from a DataFrame\n",
      "\n",
      "See the caveats in the documentation: https://pandas.pydata.org/pandas-docs/stable/user_guide/indexing.html#returning-a-view-versus-a-copy\n",
      "  stateonly.end.iloc[:-1] = round(stateonly.start.iloc[1:],3)-0.001\n",
      "C:\\Users\\Nerissa\\anaconda3\\envs\\voc230824\\lib\\site-packages\\hdmf\\build\\objectmapper.py:260: DtypeConversionWarning: Spec 'vole_metadata/colors': Value with data type int32 is being converted to data type float32 as specified.\n",
      "  warnings.warn(full_warning_msg, DtypeConversionWarning)\n"
     ]
    },
    {
     "name": "stdout",
     "output_type": "stream",
     "text": [
      "Nov22_Pair16_timedMating.nwb\n"
     ]
    },
    {
     "name": "stderr",
     "output_type": "stream",
     "text": [
      "M:\\utilities\\analysis_utilities\\behavior_error_checks.py:70: SettingWithCopyWarning: \n",
      "A value is trying to be set on a copy of a slice from a DataFrame\n",
      "\n",
      "See the caveats in the documentation: https://pandas.pydata.org/pandas-docs/stable/user_guide/indexing.html#returning-a-view-versus-a-copy\n",
      "  stateonly.end.iloc[:-1] = round(stateonly.start.iloc[1:],3)-0.001\n",
      "C:\\Users\\Nerissa\\anaconda3\\envs\\voc230824\\lib\\site-packages\\hdmf\\build\\objectmapper.py:260: DtypeConversionWarning: Spec 'vole_metadata/colors': Value with data type int32 is being converted to data type float32 as specified.\n",
      "  warnings.warn(full_warning_msg, DtypeConversionWarning)\n"
     ]
    },
    {
     "name": "stdout",
     "output_type": "stream",
     "text": [
      "Nov22_Pair17_timedMating.nwb\n"
     ]
    },
    {
     "name": "stderr",
     "output_type": "stream",
     "text": [
      "M:\\utilities\\analysis_utilities\\behavior_error_checks.py:70: SettingWithCopyWarning: \n",
      "A value is trying to be set on a copy of a slice from a DataFrame\n",
      "\n",
      "See the caveats in the documentation: https://pandas.pydata.org/pandas-docs/stable/user_guide/indexing.html#returning-a-view-versus-a-copy\n",
      "  stateonly.end.iloc[:-1] = round(stateonly.start.iloc[1:],3)-0.001\n",
      "C:\\Users\\Nerissa\\anaconda3\\envs\\voc230824\\lib\\site-packages\\hdmf\\build\\objectmapper.py:260: DtypeConversionWarning: Spec 'vole_metadata/colors': Value with data type int32 is being converted to data type float32 as specified.\n",
      "  warnings.warn(full_warning_msg, DtypeConversionWarning)\n"
     ]
    },
    {
     "name": "stdout",
     "output_type": "stream",
     "text": [
      "Nov22_Pair18_timedMating.nwb\n"
     ]
    },
    {
     "name": "stderr",
     "output_type": "stream",
     "text": [
      "M:\\utilities\\analysis_utilities\\behavior_error_checks.py:70: SettingWithCopyWarning: \n",
      "A value is trying to be set on a copy of a slice from a DataFrame\n",
      "\n",
      "See the caveats in the documentation: https://pandas.pydata.org/pandas-docs/stable/user_guide/indexing.html#returning-a-view-versus-a-copy\n",
      "  stateonly.end.iloc[:-1] = round(stateonly.start.iloc[1:],3)-0.001\n",
      "C:\\Users\\Nerissa\\anaconda3\\envs\\voc230824\\lib\\site-packages\\hdmf\\build\\objectmapper.py:260: DtypeConversionWarning: Spec 'vole_metadata/colors': Value with data type int32 is being converted to data type float32 as specified.\n",
      "  warnings.warn(full_warning_msg, DtypeConversionWarning)\n"
     ]
    },
    {
     "name": "stdout",
     "output_type": "stream",
     "text": [
      "Nov22_Pair19_timedMating.nwb\n"
     ]
    },
    {
     "name": "stderr",
     "output_type": "stream",
     "text": [
      "M:\\utilities\\analysis_utilities\\behavior_error_checks.py:70: SettingWithCopyWarning: \n",
      "A value is trying to be set on a copy of a slice from a DataFrame\n",
      "\n",
      "See the caveats in the documentation: https://pandas.pydata.org/pandas-docs/stable/user_guide/indexing.html#returning-a-view-versus-a-copy\n",
      "  stateonly.end.iloc[:-1] = round(stateonly.start.iloc[1:],3)-0.001\n",
      "C:\\Users\\Nerissa\\anaconda3\\envs\\voc230824\\lib\\site-packages\\hdmf\\build\\objectmapper.py:260: DtypeConversionWarning: Spec 'vole_metadata/colors': Value with data type int32 is being converted to data type float32 as specified.\n",
      "  warnings.warn(full_warning_msg, DtypeConversionWarning)\n"
     ]
    },
    {
     "name": "stdout",
     "output_type": "stream",
     "text": [
      "Nov22_Pair2_timedMating.nwb\n"
     ]
    },
    {
     "name": "stderr",
     "output_type": "stream",
     "text": [
      "M:\\utilities\\analysis_utilities\\behavior_error_checks.py:70: SettingWithCopyWarning: \n",
      "A value is trying to be set on a copy of a slice from a DataFrame\n",
      "\n",
      "See the caveats in the documentation: https://pandas.pydata.org/pandas-docs/stable/user_guide/indexing.html#returning-a-view-versus-a-copy\n",
      "  stateonly.end.iloc[:-1] = round(stateonly.start.iloc[1:],3)-0.001\n",
      "C:\\Users\\Nerissa\\anaconda3\\envs\\voc230824\\lib\\site-packages\\hdmf\\build\\objectmapper.py:260: DtypeConversionWarning: Spec 'vole_metadata/colors': Value with data type int32 is being converted to data type float32 as specified.\n",
      "  warnings.warn(full_warning_msg, DtypeConversionWarning)\n"
     ]
    },
    {
     "name": "stdout",
     "output_type": "stream",
     "text": [
      "Nov22_Pair21_timedMating.nwb\n"
     ]
    },
    {
     "name": "stderr",
     "output_type": "stream",
     "text": [
      "M:\\utilities\\analysis_utilities\\behavior_error_checks.py:70: SettingWithCopyWarning: \n",
      "A value is trying to be set on a copy of a slice from a DataFrame\n",
      "\n",
      "See the caveats in the documentation: https://pandas.pydata.org/pandas-docs/stable/user_guide/indexing.html#returning-a-view-versus-a-copy\n",
      "  stateonly.end.iloc[:-1] = round(stateonly.start.iloc[1:],3)-0.001\n",
      "C:\\Users\\Nerissa\\anaconda3\\envs\\voc230824\\lib\\site-packages\\hdmf\\build\\objectmapper.py:260: DtypeConversionWarning: Spec 'vole_metadata/colors': Value with data type int32 is being converted to data type float32 as specified.\n",
      "  warnings.warn(full_warning_msg, DtypeConversionWarning)\n"
     ]
    },
    {
     "name": "stdout",
     "output_type": "stream",
     "text": [
      "Nov22_Pair22_timedMating.nwb\n"
     ]
    },
    {
     "name": "stderr",
     "output_type": "stream",
     "text": [
      "M:\\utilities\\analysis_utilities\\behavior_error_checks.py:70: SettingWithCopyWarning: \n",
      "A value is trying to be set on a copy of a slice from a DataFrame\n",
      "\n",
      "See the caveats in the documentation: https://pandas.pydata.org/pandas-docs/stable/user_guide/indexing.html#returning-a-view-versus-a-copy\n",
      "  stateonly.end.iloc[:-1] = round(stateonly.start.iloc[1:],3)-0.001\n",
      "C:\\Users\\Nerissa\\anaconda3\\envs\\voc230824\\lib\\site-packages\\hdmf\\build\\objectmapper.py:260: DtypeConversionWarning: Spec 'vole_metadata/colors': Value with data type int32 is being converted to data type float32 as specified.\n",
      "  warnings.warn(full_warning_msg, DtypeConversionWarning)\n"
     ]
    },
    {
     "name": "stdout",
     "output_type": "stream",
     "text": [
      "Nov22_Pair23_timedMating.nwb\n"
     ]
    },
    {
     "name": "stderr",
     "output_type": "stream",
     "text": [
      "M:\\utilities\\analysis_utilities\\behavior_error_checks.py:70: SettingWithCopyWarning: \n",
      "A value is trying to be set on a copy of a slice from a DataFrame\n",
      "\n",
      "See the caveats in the documentation: https://pandas.pydata.org/pandas-docs/stable/user_guide/indexing.html#returning-a-view-versus-a-copy\n",
      "  stateonly.end.iloc[:-1] = round(stateonly.start.iloc[1:],3)-0.001\n",
      "C:\\Users\\Nerissa\\anaconda3\\envs\\voc230824\\lib\\site-packages\\hdmf\\build\\objectmapper.py:260: DtypeConversionWarning: Spec 'vole_metadata/colors': Value with data type int32 is being converted to data type float32 as specified.\n",
      "  warnings.warn(full_warning_msg, DtypeConversionWarning)\n"
     ]
    },
    {
     "name": "stdout",
     "output_type": "stream",
     "text": [
      "Nov22_Pair24_timedMating.nwb\n"
     ]
    },
    {
     "name": "stderr",
     "output_type": "stream",
     "text": [
      "M:\\utilities\\analysis_utilities\\behavior_error_checks.py:70: SettingWithCopyWarning: \n",
      "A value is trying to be set on a copy of a slice from a DataFrame\n",
      "\n",
      "See the caveats in the documentation: https://pandas.pydata.org/pandas-docs/stable/user_guide/indexing.html#returning-a-view-versus-a-copy\n",
      "  stateonly.end.iloc[:-1] = round(stateonly.start.iloc[1:],3)-0.001\n",
      "C:\\Users\\Nerissa\\anaconda3\\envs\\voc230824\\lib\\site-packages\\hdmf\\build\\objectmapper.py:260: DtypeConversionWarning: Spec 'vole_metadata/colors': Value with data type int32 is being converted to data type float32 as specified.\n",
      "  warnings.warn(full_warning_msg, DtypeConversionWarning)\n"
     ]
    },
    {
     "name": "stdout",
     "output_type": "stream",
     "text": [
      "Nov22_Pair25_timedMating.nwb\n"
     ]
    },
    {
     "name": "stderr",
     "output_type": "stream",
     "text": [
      "M:\\utilities\\analysis_utilities\\behavior_error_checks.py:70: SettingWithCopyWarning: \n",
      "A value is trying to be set on a copy of a slice from a DataFrame\n",
      "\n",
      "See the caveats in the documentation: https://pandas.pydata.org/pandas-docs/stable/user_guide/indexing.html#returning-a-view-versus-a-copy\n",
      "  stateonly.end.iloc[:-1] = round(stateonly.start.iloc[1:],3)-0.001\n",
      "C:\\Users\\Nerissa\\anaconda3\\envs\\voc230824\\lib\\site-packages\\hdmf\\build\\objectmapper.py:260: DtypeConversionWarning: Spec 'vole_metadata/colors': Value with data type int32 is being converted to data type float32 as specified.\n",
      "  warnings.warn(full_warning_msg, DtypeConversionWarning)\n"
     ]
    },
    {
     "name": "stdout",
     "output_type": "stream",
     "text": [
      "Nov22_Pair26_timedMating.nwb\n"
     ]
    },
    {
     "name": "stderr",
     "output_type": "stream",
     "text": [
      "M:\\utilities\\analysis_utilities\\behavior_error_checks.py:70: SettingWithCopyWarning: \n",
      "A value is trying to be set on a copy of a slice from a DataFrame\n",
      "\n",
      "See the caveats in the documentation: https://pandas.pydata.org/pandas-docs/stable/user_guide/indexing.html#returning-a-view-versus-a-copy\n",
      "  stateonly.end.iloc[:-1] = round(stateonly.start.iloc[1:],3)-0.001\n",
      "C:\\Users\\Nerissa\\anaconda3\\envs\\voc230824\\lib\\site-packages\\hdmf\\build\\objectmapper.py:260: DtypeConversionWarning: Spec 'vole_metadata/colors': Value with data type int32 is being converted to data type float32 as specified.\n",
      "  warnings.warn(full_warning_msg, DtypeConversionWarning)\n"
     ]
    },
    {
     "name": "stdout",
     "output_type": "stream",
     "text": [
      "Nov22_Pair27_timedMating.nwb\n"
     ]
    },
    {
     "name": "stderr",
     "output_type": "stream",
     "text": [
      "M:\\utilities\\analysis_utilities\\behavior_error_checks.py:70: SettingWithCopyWarning: \n",
      "A value is trying to be set on a copy of a slice from a DataFrame\n",
      "\n",
      "See the caveats in the documentation: https://pandas.pydata.org/pandas-docs/stable/user_guide/indexing.html#returning-a-view-versus-a-copy\n",
      "  stateonly.end.iloc[:-1] = round(stateonly.start.iloc[1:],3)-0.001\n",
      "C:\\Users\\Nerissa\\anaconda3\\envs\\voc230824\\lib\\site-packages\\hdmf\\build\\objectmapper.py:260: DtypeConversionWarning: Spec 'vole_metadata/colors': Value with data type int32 is being converted to data type float32 as specified.\n",
      "  warnings.warn(full_warning_msg, DtypeConversionWarning)\n"
     ]
    },
    {
     "name": "stdout",
     "output_type": "stream",
     "text": [
      "Nov22_Pair28_timedMating.nwb\n"
     ]
    },
    {
     "name": "stderr",
     "output_type": "stream",
     "text": [
      "M:\\utilities\\analysis_utilities\\behavior_error_checks.py:70: SettingWithCopyWarning: \n",
      "A value is trying to be set on a copy of a slice from a DataFrame\n",
      "\n",
      "See the caveats in the documentation: https://pandas.pydata.org/pandas-docs/stable/user_guide/indexing.html#returning-a-view-versus-a-copy\n",
      "  stateonly.end.iloc[:-1] = round(stateonly.start.iloc[1:],3)-0.001\n",
      "C:\\Users\\Nerissa\\anaconda3\\envs\\voc230824\\lib\\site-packages\\hdmf\\build\\objectmapper.py:260: DtypeConversionWarning: Spec 'vole_metadata/colors': Value with data type int32 is being converted to data type float32 as specified.\n",
      "  warnings.warn(full_warning_msg, DtypeConversionWarning)\n"
     ]
    },
    {
     "name": "stdout",
     "output_type": "stream",
     "text": [
      "Nov22_Pair29_timedMating.nwb\n"
     ]
    },
    {
     "name": "stderr",
     "output_type": "stream",
     "text": [
      "M:\\utilities\\analysis_utilities\\behavior_error_checks.py:70: SettingWithCopyWarning: \n",
      "A value is trying to be set on a copy of a slice from a DataFrame\n",
      "\n",
      "See the caveats in the documentation: https://pandas.pydata.org/pandas-docs/stable/user_guide/indexing.html#returning-a-view-versus-a-copy\n",
      "  stateonly.end.iloc[:-1] = round(stateonly.start.iloc[1:],3)-0.001\n",
      "C:\\Users\\Nerissa\\anaconda3\\envs\\voc230824\\lib\\site-packages\\hdmf\\build\\objectmapper.py:260: DtypeConversionWarning: Spec 'vole_metadata/colors': Value with data type int32 is being converted to data type float32 as specified.\n",
      "  warnings.warn(full_warning_msg, DtypeConversionWarning)\n"
     ]
    },
    {
     "name": "stdout",
     "output_type": "stream",
     "text": [
      "Nov22_Pair3_timedMating.nwb\n"
     ]
    },
    {
     "name": "stderr",
     "output_type": "stream",
     "text": [
      "M:\\utilities\\analysis_utilities\\behavior_error_checks.py:70: SettingWithCopyWarning: \n",
      "A value is trying to be set on a copy of a slice from a DataFrame\n",
      "\n",
      "See the caveats in the documentation: https://pandas.pydata.org/pandas-docs/stable/user_guide/indexing.html#returning-a-view-versus-a-copy\n",
      "  stateonly.end.iloc[:-1] = round(stateonly.start.iloc[1:],3)-0.001\n",
      "C:\\Users\\Nerissa\\anaconda3\\envs\\voc230824\\lib\\site-packages\\hdmf\\build\\objectmapper.py:260: DtypeConversionWarning: Spec 'vole_metadata/colors': Value with data type int32 is being converted to data type float32 as specified.\n",
      "  warnings.warn(full_warning_msg, DtypeConversionWarning)\n"
     ]
    },
    {
     "name": "stdout",
     "output_type": "stream",
     "text": [
      "Nov22_Pair30_timedMating.nwb\n"
     ]
    },
    {
     "name": "stderr",
     "output_type": "stream",
     "text": [
      "M:\\utilities\\analysis_utilities\\behavior_error_checks.py:70: SettingWithCopyWarning: \n",
      "A value is trying to be set on a copy of a slice from a DataFrame\n",
      "\n",
      "See the caveats in the documentation: https://pandas.pydata.org/pandas-docs/stable/user_guide/indexing.html#returning-a-view-versus-a-copy\n",
      "  stateonly.end.iloc[:-1] = round(stateonly.start.iloc[1:],3)-0.001\n",
      "C:\\Users\\Nerissa\\anaconda3\\envs\\voc230824\\lib\\site-packages\\hdmf\\build\\objectmapper.py:260: DtypeConversionWarning: Spec 'vole_metadata/colors': Value with data type int32 is being converted to data type float32 as specified.\n",
      "  warnings.warn(full_warning_msg, DtypeConversionWarning)\n"
     ]
    },
    {
     "name": "stdout",
     "output_type": "stream",
     "text": [
      "Nov22_Pair31_timedMating.nwb\n"
     ]
    },
    {
     "name": "stderr",
     "output_type": "stream",
     "text": [
      "M:\\utilities\\analysis_utilities\\behavior_error_checks.py:70: SettingWithCopyWarning: \n",
      "A value is trying to be set on a copy of a slice from a DataFrame\n",
      "\n",
      "See the caveats in the documentation: https://pandas.pydata.org/pandas-docs/stable/user_guide/indexing.html#returning-a-view-versus-a-copy\n",
      "  stateonly.end.iloc[:-1] = round(stateonly.start.iloc[1:],3)-0.001\n",
      "C:\\Users\\Nerissa\\anaconda3\\envs\\voc230824\\lib\\site-packages\\hdmf\\build\\objectmapper.py:260: DtypeConversionWarning: Spec 'vole_metadata/colors': Value with data type int32 is being converted to data type float32 as specified.\n",
      "  warnings.warn(full_warning_msg, DtypeConversionWarning)\n"
     ]
    },
    {
     "name": "stdout",
     "output_type": "stream",
     "text": [
      "Nov22_Pair32_timedMating.nwb\n"
     ]
    },
    {
     "name": "stderr",
     "output_type": "stream",
     "text": [
      "M:\\utilities\\analysis_utilities\\behavior_error_checks.py:70: SettingWithCopyWarning: \n",
      "A value is trying to be set on a copy of a slice from a DataFrame\n",
      "\n",
      "See the caveats in the documentation: https://pandas.pydata.org/pandas-docs/stable/user_guide/indexing.html#returning-a-view-versus-a-copy\n",
      "  stateonly.end.iloc[:-1] = round(stateonly.start.iloc[1:],3)-0.001\n",
      "C:\\Users\\Nerissa\\anaconda3\\envs\\voc230824\\lib\\site-packages\\hdmf\\build\\objectmapper.py:260: DtypeConversionWarning: Spec 'vole_metadata/colors': Value with data type int32 is being converted to data type float32 as specified.\n",
      "  warnings.warn(full_warning_msg, DtypeConversionWarning)\n"
     ]
    },
    {
     "name": "stdout",
     "output_type": "stream",
     "text": [
      "Nov22_Pair33_timedMating.nwb\n"
     ]
    },
    {
     "name": "stderr",
     "output_type": "stream",
     "text": [
      "M:\\utilities\\analysis_utilities\\behavior_error_checks.py:70: SettingWithCopyWarning: \n",
      "A value is trying to be set on a copy of a slice from a DataFrame\n",
      "\n",
      "See the caveats in the documentation: https://pandas.pydata.org/pandas-docs/stable/user_guide/indexing.html#returning-a-view-versus-a-copy\n",
      "  stateonly.end.iloc[:-1] = round(stateonly.start.iloc[1:],3)-0.001\n",
      "C:\\Users\\Nerissa\\anaconda3\\envs\\voc230824\\lib\\site-packages\\hdmf\\build\\objectmapper.py:260: DtypeConversionWarning: Spec 'vole_metadata/colors': Value with data type int32 is being converted to data type float32 as specified.\n",
      "  warnings.warn(full_warning_msg, DtypeConversionWarning)\n"
     ]
    },
    {
     "name": "stdout",
     "output_type": "stream",
     "text": [
      "Nov22_Pair34_timedMating.nwb\n"
     ]
    },
    {
     "name": "stderr",
     "output_type": "stream",
     "text": [
      "M:\\utilities\\analysis_utilities\\behavior_error_checks.py:70: SettingWithCopyWarning: \n",
      "A value is trying to be set on a copy of a slice from a DataFrame\n",
      "\n",
      "See the caveats in the documentation: https://pandas.pydata.org/pandas-docs/stable/user_guide/indexing.html#returning-a-view-versus-a-copy\n",
      "  stateonly.end.iloc[:-1] = round(stateonly.start.iloc[1:],3)-0.001\n",
      "C:\\Users\\Nerissa\\anaconda3\\envs\\voc230824\\lib\\site-packages\\hdmf\\build\\objectmapper.py:260: DtypeConversionWarning: Spec 'vole_metadata/colors': Value with data type int32 is being converted to data type float32 as specified.\n",
      "  warnings.warn(full_warning_msg, DtypeConversionWarning)\n"
     ]
    },
    {
     "name": "stdout",
     "output_type": "stream",
     "text": [
      "Nov22_Pair37_timedMating.nwb\n"
     ]
    },
    {
     "name": "stderr",
     "output_type": "stream",
     "text": [
      "M:\\utilities\\analysis_utilities\\behavior_error_checks.py:70: SettingWithCopyWarning: \n",
      "A value is trying to be set on a copy of a slice from a DataFrame\n",
      "\n",
      "See the caveats in the documentation: https://pandas.pydata.org/pandas-docs/stable/user_guide/indexing.html#returning-a-view-versus-a-copy\n",
      "  stateonly.end.iloc[:-1] = round(stateonly.start.iloc[1:],3)-0.001\n",
      "C:\\Users\\Nerissa\\anaconda3\\envs\\voc230824\\lib\\site-packages\\hdmf\\build\\objectmapper.py:260: DtypeConversionWarning: Spec 'vole_metadata/colors': Value with data type int32 is being converted to data type float32 as specified.\n",
      "  warnings.warn(full_warning_msg, DtypeConversionWarning)\n"
     ]
    },
    {
     "name": "stdout",
     "output_type": "stream",
     "text": [
      "Nov22_Pair38_timedMating.nwb\n"
     ]
    },
    {
     "name": "stderr",
     "output_type": "stream",
     "text": [
      "M:\\utilities\\analysis_utilities\\behavior_error_checks.py:70: SettingWithCopyWarning: \n",
      "A value is trying to be set on a copy of a slice from a DataFrame\n",
      "\n",
      "See the caveats in the documentation: https://pandas.pydata.org/pandas-docs/stable/user_guide/indexing.html#returning-a-view-versus-a-copy\n",
      "  stateonly.end.iloc[:-1] = round(stateonly.start.iloc[1:],3)-0.001\n",
      "C:\\Users\\Nerissa\\anaconda3\\envs\\voc230824\\lib\\site-packages\\hdmf\\build\\objectmapper.py:260: DtypeConversionWarning: Spec 'vole_metadata/colors': Value with data type int32 is being converted to data type float32 as specified.\n",
      "  warnings.warn(full_warning_msg, DtypeConversionWarning)\n"
     ]
    },
    {
     "name": "stdout",
     "output_type": "stream",
     "text": [
      "Nov22_Pair39_timedMating.nwb\n"
     ]
    },
    {
     "name": "stderr",
     "output_type": "stream",
     "text": [
      "M:\\utilities\\analysis_utilities\\behavior_error_checks.py:70: SettingWithCopyWarning: \n",
      "A value is trying to be set on a copy of a slice from a DataFrame\n",
      "\n",
      "See the caveats in the documentation: https://pandas.pydata.org/pandas-docs/stable/user_guide/indexing.html#returning-a-view-versus-a-copy\n",
      "  stateonly.end.iloc[:-1] = round(stateonly.start.iloc[1:],3)-0.001\n",
      "C:\\Users\\Nerissa\\anaconda3\\envs\\voc230824\\lib\\site-packages\\hdmf\\build\\objectmapper.py:260: DtypeConversionWarning: Spec 'vole_metadata/colors': Value with data type int32 is being converted to data type float32 as specified.\n",
      "  warnings.warn(full_warning_msg, DtypeConversionWarning)\n"
     ]
    },
    {
     "name": "stdout",
     "output_type": "stream",
     "text": [
      "Nov22_Pair40_timedMating.nwb\n"
     ]
    },
    {
     "name": "stderr",
     "output_type": "stream",
     "text": [
      "M:\\utilities\\analysis_utilities\\behavior_error_checks.py:70: SettingWithCopyWarning: \n",
      "A value is trying to be set on a copy of a slice from a DataFrame\n",
      "\n",
      "See the caveats in the documentation: https://pandas.pydata.org/pandas-docs/stable/user_guide/indexing.html#returning-a-view-versus-a-copy\n",
      "  stateonly.end.iloc[:-1] = round(stateonly.start.iloc[1:],3)-0.001\n",
      "C:\\Users\\Nerissa\\anaconda3\\envs\\voc230824\\lib\\site-packages\\hdmf\\build\\objectmapper.py:260: DtypeConversionWarning: Spec 'vole_metadata/colors': Value with data type int32 is being converted to data type float32 as specified.\n",
      "  warnings.warn(full_warning_msg, DtypeConversionWarning)\n"
     ]
    },
    {
     "name": "stdout",
     "output_type": "stream",
     "text": [
      "Nov22_Pair41_timedMating.nwb\n"
     ]
    },
    {
     "name": "stderr",
     "output_type": "stream",
     "text": [
      "M:\\utilities\\analysis_utilities\\behavior_error_checks.py:70: SettingWithCopyWarning: \n",
      "A value is trying to be set on a copy of a slice from a DataFrame\n",
      "\n",
      "See the caveats in the documentation: https://pandas.pydata.org/pandas-docs/stable/user_guide/indexing.html#returning-a-view-versus-a-copy\n",
      "  stateonly.end.iloc[:-1] = round(stateonly.start.iloc[1:],3)-0.001\n",
      "C:\\Users\\Nerissa\\anaconda3\\envs\\voc230824\\lib\\site-packages\\hdmf\\build\\objectmapper.py:260: DtypeConversionWarning: Spec 'vole_metadata/colors': Value with data type int32 is being converted to data type float32 as specified.\n",
      "  warnings.warn(full_warning_msg, DtypeConversionWarning)\n"
     ]
    },
    {
     "name": "stdout",
     "output_type": "stream",
     "text": [
      "Nov22_Pair42_timedMating.nwb\n"
     ]
    },
    {
     "name": "stderr",
     "output_type": "stream",
     "text": [
      "M:\\utilities\\analysis_utilities\\behavior_error_checks.py:70: SettingWithCopyWarning: \n",
      "A value is trying to be set on a copy of a slice from a DataFrame\n",
      "\n",
      "See the caveats in the documentation: https://pandas.pydata.org/pandas-docs/stable/user_guide/indexing.html#returning-a-view-versus-a-copy\n",
      "  stateonly.end.iloc[:-1] = round(stateonly.start.iloc[1:],3)-0.001\n",
      "C:\\Users\\Nerissa\\anaconda3\\envs\\voc230824\\lib\\site-packages\\hdmf\\build\\objectmapper.py:260: DtypeConversionWarning: Spec 'vole_metadata/colors': Value with data type int32 is being converted to data type float32 as specified.\n",
      "  warnings.warn(full_warning_msg, DtypeConversionWarning)\n"
     ]
    },
    {
     "name": "stdout",
     "output_type": "stream",
     "text": [
      "Nov22_Pair43_timedMating.nwb\n"
     ]
    },
    {
     "name": "stderr",
     "output_type": "stream",
     "text": [
      "M:\\utilities\\analysis_utilities\\behavior_error_checks.py:70: SettingWithCopyWarning: \n",
      "A value is trying to be set on a copy of a slice from a DataFrame\n",
      "\n",
      "See the caveats in the documentation: https://pandas.pydata.org/pandas-docs/stable/user_guide/indexing.html#returning-a-view-versus-a-copy\n",
      "  stateonly.end.iloc[:-1] = round(stateonly.start.iloc[1:],3)-0.001\n",
      "C:\\Users\\Nerissa\\anaconda3\\envs\\voc230824\\lib\\site-packages\\hdmf\\build\\objectmapper.py:260: DtypeConversionWarning: Spec 'vole_metadata/colors': Value with data type int32 is being converted to data type float32 as specified.\n",
      "  warnings.warn(full_warning_msg, DtypeConversionWarning)\n"
     ]
    },
    {
     "name": "stdout",
     "output_type": "stream",
     "text": [
      "Nov22_Pair44_timedMating.nwb\n"
     ]
    },
    {
     "name": "stderr",
     "output_type": "stream",
     "text": [
      "M:\\utilities\\analysis_utilities\\behavior_error_checks.py:70: SettingWithCopyWarning: \n",
      "A value is trying to be set on a copy of a slice from a DataFrame\n",
      "\n",
      "See the caveats in the documentation: https://pandas.pydata.org/pandas-docs/stable/user_guide/indexing.html#returning-a-view-versus-a-copy\n",
      "  stateonly.end.iloc[:-1] = round(stateonly.start.iloc[1:],3)-0.001\n",
      "C:\\Users\\Nerissa\\anaconda3\\envs\\voc230824\\lib\\site-packages\\hdmf\\build\\objectmapper.py:260: DtypeConversionWarning: Spec 'vole_metadata/colors': Value with data type int32 is being converted to data type float32 as specified.\n",
      "  warnings.warn(full_warning_msg, DtypeConversionWarning)\n"
     ]
    },
    {
     "name": "stdout",
     "output_type": "stream",
     "text": [
      "Nov22_Pair46_timedMating.nwb\n"
     ]
    },
    {
     "name": "stderr",
     "output_type": "stream",
     "text": [
      "M:\\utilities\\analysis_utilities\\behavior_error_checks.py:70: SettingWithCopyWarning: \n",
      "A value is trying to be set on a copy of a slice from a DataFrame\n",
      "\n",
      "See the caveats in the documentation: https://pandas.pydata.org/pandas-docs/stable/user_guide/indexing.html#returning-a-view-versus-a-copy\n",
      "  stateonly.end.iloc[:-1] = round(stateonly.start.iloc[1:],3)-0.001\n",
      "C:\\Users\\Nerissa\\anaconda3\\envs\\voc230824\\lib\\site-packages\\hdmf\\build\\objectmapper.py:260: DtypeConversionWarning: Spec 'vole_metadata/colors': Value with data type int32 is being converted to data type float32 as specified.\n",
      "  warnings.warn(full_warning_msg, DtypeConversionWarning)\n"
     ]
    },
    {
     "name": "stdout",
     "output_type": "stream",
     "text": [
      "Nov22_Pair47_timedMating.nwb\n"
     ]
    },
    {
     "name": "stderr",
     "output_type": "stream",
     "text": [
      "M:\\utilities\\analysis_utilities\\behavior_error_checks.py:70: SettingWithCopyWarning: \n",
      "A value is trying to be set on a copy of a slice from a DataFrame\n",
      "\n",
      "See the caveats in the documentation: https://pandas.pydata.org/pandas-docs/stable/user_guide/indexing.html#returning-a-view-versus-a-copy\n",
      "  stateonly.end.iloc[:-1] = round(stateonly.start.iloc[1:],3)-0.001\n",
      "C:\\Users\\Nerissa\\anaconda3\\envs\\voc230824\\lib\\site-packages\\hdmf\\build\\objectmapper.py:260: DtypeConversionWarning: Spec 'vole_metadata/colors': Value with data type int32 is being converted to data type float32 as specified.\n",
      "  warnings.warn(full_warning_msg, DtypeConversionWarning)\n"
     ]
    },
    {
     "name": "stdout",
     "output_type": "stream",
     "text": [
      "Nov22_Pair48_timedMating.nwb\n"
     ]
    },
    {
     "name": "stderr",
     "output_type": "stream",
     "text": [
      "M:\\utilities\\analysis_utilities\\behavior_error_checks.py:70: SettingWithCopyWarning: \n",
      "A value is trying to be set on a copy of a slice from a DataFrame\n",
      "\n",
      "See the caveats in the documentation: https://pandas.pydata.org/pandas-docs/stable/user_guide/indexing.html#returning-a-view-versus-a-copy\n",
      "  stateonly.end.iloc[:-1] = round(stateonly.start.iloc[1:],3)-0.001\n",
      "C:\\Users\\Nerissa\\anaconda3\\envs\\voc230824\\lib\\site-packages\\hdmf\\build\\objectmapper.py:260: DtypeConversionWarning: Spec 'vole_metadata/colors': Value with data type int32 is being converted to data type float32 as specified.\n",
      "  warnings.warn(full_warning_msg, DtypeConversionWarning)\n"
     ]
    },
    {
     "name": "stdout",
     "output_type": "stream",
     "text": [
      "Nov22_Pair49_timedMating.nwb\n"
     ]
    },
    {
     "name": "stderr",
     "output_type": "stream",
     "text": [
      "M:\\utilities\\analysis_utilities\\behavior_error_checks.py:70: SettingWithCopyWarning: \n",
      "A value is trying to be set on a copy of a slice from a DataFrame\n",
      "\n",
      "See the caveats in the documentation: https://pandas.pydata.org/pandas-docs/stable/user_guide/indexing.html#returning-a-view-versus-a-copy\n",
      "  stateonly.end.iloc[:-1] = round(stateonly.start.iloc[1:],3)-0.001\n",
      "C:\\Users\\Nerissa\\anaconda3\\envs\\voc230824\\lib\\site-packages\\hdmf\\build\\objectmapper.py:260: DtypeConversionWarning: Spec 'vole_metadata/colors': Value with data type int32 is being converted to data type float32 as specified.\n",
      "  warnings.warn(full_warning_msg, DtypeConversionWarning)\n"
     ]
    },
    {
     "name": "stdout",
     "output_type": "stream",
     "text": [
      "Nov22_Pair5_timedMating.nwb\n"
     ]
    },
    {
     "name": "stderr",
     "output_type": "stream",
     "text": [
      "M:\\utilities\\analysis_utilities\\behavior_error_checks.py:70: SettingWithCopyWarning: \n",
      "A value is trying to be set on a copy of a slice from a DataFrame\n",
      "\n",
      "See the caveats in the documentation: https://pandas.pydata.org/pandas-docs/stable/user_guide/indexing.html#returning-a-view-versus-a-copy\n",
      "  stateonly.end.iloc[:-1] = round(stateonly.start.iloc[1:],3)-0.001\n",
      "C:\\Users\\Nerissa\\anaconda3\\envs\\voc230824\\lib\\site-packages\\hdmf\\build\\objectmapper.py:260: DtypeConversionWarning: Spec 'vole_metadata/colors': Value with data type int32 is being converted to data type float32 as specified.\n",
      "  warnings.warn(full_warning_msg, DtypeConversionWarning)\n"
     ]
    },
    {
     "name": "stdout",
     "output_type": "stream",
     "text": [
      "Nov22_Pair50_timedMating.nwb\n"
     ]
    },
    {
     "name": "stderr",
     "output_type": "stream",
     "text": [
      "M:\\utilities\\analysis_utilities\\behavior_error_checks.py:70: SettingWithCopyWarning: \n",
      "A value is trying to be set on a copy of a slice from a DataFrame\n",
      "\n",
      "See the caveats in the documentation: https://pandas.pydata.org/pandas-docs/stable/user_guide/indexing.html#returning-a-view-versus-a-copy\n",
      "  stateonly.end.iloc[:-1] = round(stateonly.start.iloc[1:],3)-0.001\n",
      "C:\\Users\\Nerissa\\anaconda3\\envs\\voc230824\\lib\\site-packages\\hdmf\\build\\objectmapper.py:260: DtypeConversionWarning: Spec 'vole_metadata/colors': Value with data type int32 is being converted to data type float32 as specified.\n",
      "  warnings.warn(full_warning_msg, DtypeConversionWarning)\n"
     ]
    },
    {
     "name": "stdout",
     "output_type": "stream",
     "text": [
      "Nov22_Pair51_timedMating.nwb\n"
     ]
    },
    {
     "name": "stderr",
     "output_type": "stream",
     "text": [
      "M:\\utilities\\analysis_utilities\\behavior_error_checks.py:70: SettingWithCopyWarning: \n",
      "A value is trying to be set on a copy of a slice from a DataFrame\n",
      "\n",
      "See the caveats in the documentation: https://pandas.pydata.org/pandas-docs/stable/user_guide/indexing.html#returning-a-view-versus-a-copy\n",
      "  stateonly.end.iloc[:-1] = round(stateonly.start.iloc[1:],3)-0.001\n",
      "C:\\Users\\Nerissa\\anaconda3\\envs\\voc230824\\lib\\site-packages\\hdmf\\build\\objectmapper.py:260: DtypeConversionWarning: Spec 'vole_metadata/colors': Value with data type int32 is being converted to data type float32 as specified.\n",
      "  warnings.warn(full_warning_msg, DtypeConversionWarning)\n"
     ]
    },
    {
     "name": "stdout",
     "output_type": "stream",
     "text": [
      "Nov22_Pair52_timedMating.nwb\n"
     ]
    },
    {
     "name": "stderr",
     "output_type": "stream",
     "text": [
      "M:\\utilities\\analysis_utilities\\behavior_error_checks.py:70: SettingWithCopyWarning: \n",
      "A value is trying to be set on a copy of a slice from a DataFrame\n",
      "\n",
      "See the caveats in the documentation: https://pandas.pydata.org/pandas-docs/stable/user_guide/indexing.html#returning-a-view-versus-a-copy\n",
      "  stateonly.end.iloc[:-1] = round(stateonly.start.iloc[1:],3)-0.001\n",
      "C:\\Users\\Nerissa\\anaconda3\\envs\\voc230824\\lib\\site-packages\\hdmf\\build\\objectmapper.py:260: DtypeConversionWarning: Spec 'vole_metadata/colors': Value with data type int32 is being converted to data type float32 as specified.\n",
      "  warnings.warn(full_warning_msg, DtypeConversionWarning)\n"
     ]
    },
    {
     "name": "stdout",
     "output_type": "stream",
     "text": [
      "Nov22_Pair56_timedMating.nwb\n"
     ]
    },
    {
     "name": "stderr",
     "output_type": "stream",
     "text": [
      "M:\\utilities\\analysis_utilities\\behavior_error_checks.py:70: SettingWithCopyWarning: \n",
      "A value is trying to be set on a copy of a slice from a DataFrame\n",
      "\n",
      "See the caveats in the documentation: https://pandas.pydata.org/pandas-docs/stable/user_guide/indexing.html#returning-a-view-versus-a-copy\n",
      "  stateonly.end.iloc[:-1] = round(stateonly.start.iloc[1:],3)-0.001\n",
      "C:\\Users\\Nerissa\\anaconda3\\envs\\voc230824\\lib\\site-packages\\hdmf\\build\\objectmapper.py:260: DtypeConversionWarning: Spec 'vole_metadata/colors': Value with data type int32 is being converted to data type float32 as specified.\n",
      "  warnings.warn(full_warning_msg, DtypeConversionWarning)\n"
     ]
    },
    {
     "name": "stdout",
     "output_type": "stream",
     "text": [
      "Nov22_Pair57_timedMating.nwb\n"
     ]
    },
    {
     "name": "stderr",
     "output_type": "stream",
     "text": [
      "M:\\utilities\\analysis_utilities\\behavior_error_checks.py:70: SettingWithCopyWarning: \n",
      "A value is trying to be set on a copy of a slice from a DataFrame\n",
      "\n",
      "See the caveats in the documentation: https://pandas.pydata.org/pandas-docs/stable/user_guide/indexing.html#returning-a-view-versus-a-copy\n",
      "  stateonly.end.iloc[:-1] = round(stateonly.start.iloc[1:],3)-0.001\n",
      "C:\\Users\\Nerissa\\anaconda3\\envs\\voc230824\\lib\\site-packages\\hdmf\\build\\objectmapper.py:260: DtypeConversionWarning: Spec 'vole_metadata/colors': Value with data type int32 is being converted to data type float32 as specified.\n",
      "  warnings.warn(full_warning_msg, DtypeConversionWarning)\n"
     ]
    },
    {
     "name": "stdout",
     "output_type": "stream",
     "text": [
      "Nov22_Pair58_timedMating.nwb\n"
     ]
    },
    {
     "name": "stderr",
     "output_type": "stream",
     "text": [
      "M:\\utilities\\analysis_utilities\\behavior_error_checks.py:70: SettingWithCopyWarning: \n",
      "A value is trying to be set on a copy of a slice from a DataFrame\n",
      "\n",
      "See the caveats in the documentation: https://pandas.pydata.org/pandas-docs/stable/user_guide/indexing.html#returning-a-view-versus-a-copy\n",
      "  stateonly.end.iloc[:-1] = round(stateonly.start.iloc[1:],3)-0.001\n",
      "C:\\Users\\Nerissa\\anaconda3\\envs\\voc230824\\lib\\site-packages\\hdmf\\build\\objectmapper.py:260: DtypeConversionWarning: Spec 'vole_metadata/colors': Value with data type int32 is being converted to data type float32 as specified.\n",
      "  warnings.warn(full_warning_msg, DtypeConversionWarning)\n"
     ]
    },
    {
     "name": "stdout",
     "output_type": "stream",
     "text": [
      "Nov22_Pair59_timedMating.nwb\n"
     ]
    },
    {
     "name": "stderr",
     "output_type": "stream",
     "text": [
      "M:\\utilities\\analysis_utilities\\behavior_error_checks.py:70: SettingWithCopyWarning: \n",
      "A value is trying to be set on a copy of a slice from a DataFrame\n",
      "\n",
      "See the caveats in the documentation: https://pandas.pydata.org/pandas-docs/stable/user_guide/indexing.html#returning-a-view-versus-a-copy\n",
      "  stateonly.end.iloc[:-1] = round(stateonly.start.iloc[1:],3)-0.001\n",
      "C:\\Users\\Nerissa\\anaconda3\\envs\\voc230824\\lib\\site-packages\\hdmf\\build\\objectmapper.py:260: DtypeConversionWarning: Spec 'vole_metadata/colors': Value with data type int32 is being converted to data type float32 as specified.\n",
      "  warnings.warn(full_warning_msg, DtypeConversionWarning)\n"
     ]
    },
    {
     "name": "stdout",
     "output_type": "stream",
     "text": [
      "Nov22_Pair6_timedMating.nwb\n"
     ]
    },
    {
     "name": "stderr",
     "output_type": "stream",
     "text": [
      "M:\\utilities\\analysis_utilities\\behavior_error_checks.py:70: SettingWithCopyWarning: \n",
      "A value is trying to be set on a copy of a slice from a DataFrame\n",
      "\n",
      "See the caveats in the documentation: https://pandas.pydata.org/pandas-docs/stable/user_guide/indexing.html#returning-a-view-versus-a-copy\n",
      "  stateonly.end.iloc[:-1] = round(stateonly.start.iloc[1:],3)-0.001\n",
      "C:\\Users\\Nerissa\\anaconda3\\envs\\voc230824\\lib\\site-packages\\hdmf\\build\\objectmapper.py:260: DtypeConversionWarning: Spec 'vole_metadata/colors': Value with data type int32 is being converted to data type float32 as specified.\n",
      "  warnings.warn(full_warning_msg, DtypeConversionWarning)\n"
     ]
    },
    {
     "name": "stdout",
     "output_type": "stream",
     "text": [
      "Nov22_Pair60_timedMating.nwb\n"
     ]
    },
    {
     "name": "stderr",
     "output_type": "stream",
     "text": [
      "M:\\utilities\\analysis_utilities\\behavior_error_checks.py:70: SettingWithCopyWarning: \n",
      "A value is trying to be set on a copy of a slice from a DataFrame\n",
      "\n",
      "See the caveats in the documentation: https://pandas.pydata.org/pandas-docs/stable/user_guide/indexing.html#returning-a-view-versus-a-copy\n",
      "  stateonly.end.iloc[:-1] = round(stateonly.start.iloc[1:],3)-0.001\n",
      "C:\\Users\\Nerissa\\anaconda3\\envs\\voc230824\\lib\\site-packages\\hdmf\\build\\objectmapper.py:260: DtypeConversionWarning: Spec 'vole_metadata/colors': Value with data type int32 is being converted to data type float32 as specified.\n",
      "  warnings.warn(full_warning_msg, DtypeConversionWarning)\n"
     ]
    },
    {
     "name": "stdout",
     "output_type": "stream",
     "text": [
      "Nov22_Pair61_timedMating.nwb\n"
     ]
    },
    {
     "name": "stderr",
     "output_type": "stream",
     "text": [
      "M:\\utilities\\analysis_utilities\\behavior_error_checks.py:70: SettingWithCopyWarning: \n",
      "A value is trying to be set on a copy of a slice from a DataFrame\n",
      "\n",
      "See the caveats in the documentation: https://pandas.pydata.org/pandas-docs/stable/user_guide/indexing.html#returning-a-view-versus-a-copy\n",
      "  stateonly.end.iloc[:-1] = round(stateonly.start.iloc[1:],3)-0.001\n",
      "C:\\Users\\Nerissa\\anaconda3\\envs\\voc230824\\lib\\site-packages\\hdmf\\build\\objectmapper.py:260: DtypeConversionWarning: Spec 'vole_metadata/colors': Value with data type int32 is being converted to data type float32 as specified.\n",
      "  warnings.warn(full_warning_msg, DtypeConversionWarning)\n"
     ]
    },
    {
     "name": "stdout",
     "output_type": "stream",
     "text": [
      "Nov22_Pair62_timedMating.nwb\n"
     ]
    },
    {
     "name": "stderr",
     "output_type": "stream",
     "text": [
      "M:\\utilities\\analysis_utilities\\behavior_error_checks.py:70: SettingWithCopyWarning: \n",
      "A value is trying to be set on a copy of a slice from a DataFrame\n",
      "\n",
      "See the caveats in the documentation: https://pandas.pydata.org/pandas-docs/stable/user_guide/indexing.html#returning-a-view-versus-a-copy\n",
      "  stateonly.end.iloc[:-1] = round(stateonly.start.iloc[1:],3)-0.001\n",
      "C:\\Users\\Nerissa\\anaconda3\\envs\\voc230824\\lib\\site-packages\\hdmf\\build\\objectmapper.py:260: DtypeConversionWarning: Spec 'vole_metadata/colors': Value with data type int32 is being converted to data type float32 as specified.\n",
      "  warnings.warn(full_warning_msg, DtypeConversionWarning)\n"
     ]
    },
    {
     "name": "stdout",
     "output_type": "stream",
     "text": [
      "Nov22_Pair63_timedMating.nwb\n"
     ]
    },
    {
     "name": "stderr",
     "output_type": "stream",
     "text": [
      "M:\\utilities\\analysis_utilities\\behavior_error_checks.py:70: SettingWithCopyWarning: \n",
      "A value is trying to be set on a copy of a slice from a DataFrame\n",
      "\n",
      "See the caveats in the documentation: https://pandas.pydata.org/pandas-docs/stable/user_guide/indexing.html#returning-a-view-versus-a-copy\n",
      "  stateonly.end.iloc[:-1] = round(stateonly.start.iloc[1:],3)-0.001\n",
      "C:\\Users\\Nerissa\\anaconda3\\envs\\voc230824\\lib\\site-packages\\hdmf\\build\\objectmapper.py:260: DtypeConversionWarning: Spec 'vole_metadata/colors': Value with data type int32 is being converted to data type float32 as specified.\n",
      "  warnings.warn(full_warning_msg, DtypeConversionWarning)\n"
     ]
    },
    {
     "name": "stdout",
     "output_type": "stream",
     "text": [
      "Nov22_Pair64_timedMating.nwb\n"
     ]
    },
    {
     "name": "stderr",
     "output_type": "stream",
     "text": [
      "M:\\utilities\\analysis_utilities\\behavior_error_checks.py:70: SettingWithCopyWarning: \n",
      "A value is trying to be set on a copy of a slice from a DataFrame\n",
      "\n",
      "See the caveats in the documentation: https://pandas.pydata.org/pandas-docs/stable/user_guide/indexing.html#returning-a-view-versus-a-copy\n",
      "  stateonly.end.iloc[:-1] = round(stateonly.start.iloc[1:],3)-0.001\n",
      "C:\\Users\\Nerissa\\anaconda3\\envs\\voc230824\\lib\\site-packages\\hdmf\\build\\objectmapper.py:260: DtypeConversionWarning: Spec 'vole_metadata/colors': Value with data type int32 is being converted to data type float32 as specified.\n",
      "  warnings.warn(full_warning_msg, DtypeConversionWarning)\n"
     ]
    },
    {
     "name": "stdout",
     "output_type": "stream",
     "text": [
      "Nov22_Pair7_timedMating.nwb\n"
     ]
    },
    {
     "name": "stderr",
     "output_type": "stream",
     "text": [
      "M:\\utilities\\analysis_utilities\\behavior_error_checks.py:70: SettingWithCopyWarning: \n",
      "A value is trying to be set on a copy of a slice from a DataFrame\n",
      "\n",
      "See the caveats in the documentation: https://pandas.pydata.org/pandas-docs/stable/user_guide/indexing.html#returning-a-view-versus-a-copy\n",
      "  stateonly.end.iloc[:-1] = round(stateonly.start.iloc[1:],3)-0.001\n",
      "C:\\Users\\Nerissa\\anaconda3\\envs\\voc230824\\lib\\site-packages\\hdmf\\build\\objectmapper.py:260: DtypeConversionWarning: Spec 'vole_metadata/colors': Value with data type int32 is being converted to data type float32 as specified.\n",
      "  warnings.warn(full_warning_msg, DtypeConversionWarning)\n"
     ]
    },
    {
     "name": "stdout",
     "output_type": "stream",
     "text": [
      "Nov22_Pair8_timedMating.nwb\n"
     ]
    },
    {
     "name": "stderr",
     "output_type": "stream",
     "text": [
      "M:\\utilities\\analysis_utilities\\behavior_error_checks.py:70: SettingWithCopyWarning: \n",
      "A value is trying to be set on a copy of a slice from a DataFrame\n",
      "\n",
      "See the caveats in the documentation: https://pandas.pydata.org/pandas-docs/stable/user_guide/indexing.html#returning-a-view-versus-a-copy\n",
      "  stateonly.end.iloc[:-1] = round(stateonly.start.iloc[1:],3)-0.001\n",
      "C:\\Users\\Nerissa\\anaconda3\\envs\\voc230824\\lib\\site-packages\\hdmf\\build\\objectmapper.py:260: DtypeConversionWarning: Spec 'vole_metadata/colors': Value with data type int32 is being converted to data type float32 as specified.\n",
      "  warnings.warn(full_warning_msg, DtypeConversionWarning)\n"
     ]
    }
   ],
   "source": [
    "# load metadata\n",
    "metadata_file = 'metadata_TMs.csv'\n",
    "meta = pd.read_csv(metadata_file)\n",
    "meta.FocalColor = meta.FocalColor.apply(literal_eval) # convert the colors to real arrays\n",
    "\n",
    "lab = \"Manoli @ UCSF\"\n",
    "excl = False # include all the assays\n",
    "timeline = 'Matches Shank3 assays.'\n",
    "# path to storage for NWB files\n",
    "nwbfile_path = os.path.join('M:\\\\','scn2a-paper-GWJSNH','NWB-files')\n",
    "# whether to write NWB files to disk yet\n",
    "write_NWB_to_disk = True\n",
    "\n",
    "# -- loop over metadata\n",
    "for i, ptag in enumerate(meta.PairTag):\n",
    "    assay_type = meta.AssayType[i]\n",
    "    nwbfilename = f'{ptag}_{assay_type}.nwb'\n",
    "    print(nwbfilename)\n",
    "\n",
    "    # check if file already exists\n",
    "    wfullpath = os.path.join(nwbfile_path,nwbfilename)    \n",
    "    if not os.path.exists(wfullpath):    \n",
    "\n",
    "        # get session specific metadata\n",
    "        thisdate = str(meta.RecDate[i])\n",
    "        pairdate = str(meta.PairDate[i])\n",
    "\n",
    "        # calculate days post pairing\n",
    "        rdate = date(int(thisdate[0:4]),int(thisdate[4:6]),int(thisdate[6:]))\n",
    "        pdate = date(int(pairdate[0:4]),int(pairdate[4:6]),int(pairdate[6:]))\n",
    "        dpp = rdate-pdate\n",
    "\n",
    "        # set up recording time... it would be nice to get actual video data for the times\n",
    "        datepieces = get_date_from_block(thisdate)\n",
    "        rtime = meta.RecTime[i]\n",
    "        timepieces = rtime.split(':')\n",
    "        sess_start = datetime(datepieces[0],datepieces[1],datepieces[2],int(timepieces[0]),int(timepieces[1]),0,0,tzlocal())\n",
    "\n",
    "        session_description = f'Behavioral annotations from Scn2a phenotyping pair {ptag} in a(n) {assay_type} assay.'\n",
    "\n",
    "        # make NWB file\n",
    "        nwbfile = NWBFile(\n",
    "            session_description=session_description,\n",
    "            identifier = str(uuid4()),\n",
    "            session_start_time = sess_start,\n",
    "            lab=lab,\n",
    "            experimenter=meta.RanBy[i],\n",
    "            session_id = nwbfilename[0:-4], # check this\n",
    "        )\n",
    "\n",
    "        # add subject info\n",
    "        nwbfile.subject = Subject(\n",
    "            subject_id = meta.FocalID[i],\n",
    "            species = 'Microtus ochrogaster',\n",
    "            sex = meta.FocalSex[i],\n",
    "            genotype = meta.FocalGT[i]\n",
    "        )\n",
    "\n",
    "        # get assay duration\n",
    "        dur = float(meta.AssayDuration[i])\n",
    "\n",
    "        # figure out partner info\n",
    "#         if meta.FocalSex[i]=='F':\n",
    "#             pGT = meta.MaleGT[i]\n",
    "#         elif meta.FocalSex[i]=='M':\n",
    "\n",
    "#             pGT = meta.FemaleGT[i]\n",
    "#         else:\n",
    "#             print(f'Focal sex is neither F nor M; something is wrong with {ptag}.')\n",
    "        pGT = 'WT'\n",
    "\n",
    "        # calculate time since pairing\n",
    "        days = meta.RecDate[i] - meta.PairDate[i]\n",
    "\n",
    "        # add lab metadata\n",
    "\n",
    "#         room = meta.AssayRoom[i]\n",
    "        room = '?'\n",
    "        colors = meta.FocalColor[i][0]\n",
    "#         etho = meta.Ethogram[i]\n",
    "        exp = meta.ScoredBy[i]\n",
    "        timeline_comp = meta.FullTimeline[i]\n",
    "        annotations = os.path.join(meta.ScorePath[i],meta.ScoreFile[i])\n",
    "        dpostpair = int(dpp.days)\n",
    "\n",
    "        match assay_type:\n",
    "            case 'introduction':\n",
    "                metaObj = AssayMetadata(\n",
    "                    assay_type=assay_type,\n",
    "                    exclude_flag=excl,\n",
    "                    duration=dur,\n",
    "                    room=room,\n",
    "                    timeline=timeline,\n",
    "                    ethogram='JS_Scn2aX12022_Intro_RI_061124.boris',\n",
    "                    scorer=exp,\n",
    "                    timeline_complete=timeline_comp,\n",
    "                    colors=colors,\n",
    "                    assay_type__partner_GT=pGT,\n",
    "                    assay_type__description='Introduction.',\n",
    "                    assay_type__days_post_pairing=dpostpair,\n",
    "                    assay_type__annotations=annotations\n",
    "                )\n",
    "\n",
    "\n",
    "            case 'timedMating':\n",
    "                metaObj = AssayMetadata(\n",
    "                    assay_type=assay_type,\n",
    "                    exclude_flag=excl,\n",
    "                    duration=dur,\n",
    "                    room=room,\n",
    "                    timeline=timeline,\n",
    "                    ethogram='Scn2aX12022_TM_GW.boris',\n",
    "                    scorer=exp,\n",
    "                    timeline_complete=timeline_comp,\n",
    "                    colors=colors,\n",
    "                    assay_type__partner_GT=pGT,\n",
    "                    assay_type__description='Timed mating.',\n",
    "                    assay_type__days_post_pairing=dpostpair,\n",
    "                    assay_type__annotations=annotations\n",
    "\n",
    "                )\n",
    "\n",
    "\n",
    "            case 'PPT':\n",
    "\n",
    "                if meta.LeftType[i]=='Partner':\n",
    "                    pchamb = 'Left'\n",
    "                else:\n",
    "                    pchamb = 'Right'\n",
    "\n",
    "                metaObj = AssayMetadata(\n",
    "                    assay_type=assay_type,\n",
    "                    exclude_flag=excl,\n",
    "                    duration=dur,\n",
    "                    room=room,\n",
    "                    timeline=timeline,\n",
    "                    ethogram='Scn2aX12022_PPT_GW.boris',\n",
    "                    scorer=exp,\n",
    "                    timeline_complete=timeline_comp,\n",
    "                    colors=colors,\n",
    "                    assay_type__partner_GT=pGT,\n",
    "                    assay_type__description='Linear three chamber tethered partner preference test.',\n",
    "                    assay_type__days_post_pairing=dpostpair,\n",
    "                    assay_type__stranger_GT='WT',\n",
    "                    assay_type__PPT_lane=meta.PPTlane[i],\n",
    "                    assay_type__partner_chamber=pchamb,\n",
    "                    assay_type__left_GT=meta.LeftGT[i],\n",
    "                    assay_type__left_sex=meta.LeftSex[i],\n",
    "                    assay_type__right_GT=meta.RightGT[i],\n",
    "                    assay_type__right_sex=meta.RightSex[i],\n",
    "                    assay_type__left_type=meta.LeftType[i],\n",
    "                    assay_type__right_type=meta.RightType[i],\n",
    "                    assay_type__annotations=annotations                \n",
    "                )\n",
    "\n",
    "            case 'reunion':\n",
    "                metaObj = AssayMetadata(\n",
    "                    assay_type=assay_type,\n",
    "                    exclude_flag=excl,\n",
    "                    duration=dur,\n",
    "                    room=room,\n",
    "                    timeline=timeline,\n",
    "                    ethogram='NK_CompiledObservations.boris',\n",
    "                    scorer=exp,\n",
    "                    timeline_complete=timeline_comp,\n",
    "                    colors=colors,\n",
    "                    assay_type__partner_GT=pGT,\n",
    "                    assay_type__description='Separation/reunion.',\n",
    "                    assay_type__days_post_pairing=dpostpair,\n",
    "                    assay_type__isolation_length=60*60,\n",
    "                    assay_type__annotations=annotations\n",
    "\n",
    "                )\n",
    "\n",
    "            case 'aggression':\n",
    "                metaObj = AssayMetadata(\n",
    "                    assay_type=assay_type,\n",
    "                    exclude_flag=excl,\n",
    "                    duration=dur,\n",
    "                    room=room,\n",
    "                    timeline=timeline,\n",
    "                    ethogram='JS_Scn2aX12022_Intro_RI_061124.boris',\n",
    "                    scorer=exp,\n",
    "                    timeline_complete=timeline_comp,\n",
    "                    colors=colors,\n",
    "                    assay_type__stranger_GT='WT',\n",
    "                    assay_type__description='Aggression towards an opposite-sex intruder to the homecage.',\n",
    "                    assay_type__days_post_pairing=dpostpair,\n",
    "                    assay_type__isolation_length=60*60,\n",
    "                    assay_type__annotations=annotations\n",
    "\n",
    "                )\n",
    "\n",
    "        # Add the test LabMetaDataExtensionExample to the NWBFile\n",
    "        nwbfile.add_lab_meta_data(lab_meta_data=metaObj)\n",
    "\n",
    "        # Add video file\n",
    "        video_ext_file = ImageSeries(\n",
    "            name='behaviorVideo',\n",
    "            description='Raw original video.',\n",
    "            unit='n.a.',\n",
    "            external_file=[os.path.join(meta.VideoPath[i],meta.VideoFile[i])],\n",
    "            format='external',\n",
    "            starting_time=0.0,\n",
    "            rate=25.0,\n",
    "        )\n",
    "\n",
    "        nwbfile.add_acquisition(video_ext_file)\n",
    "\n",
    "        # --- Add annotated behavior data\n",
    "\n",
    "        # Make sure these files are downloaded with the same path configuration as listed in the metadata\n",
    "        # Or adjust here as I did with telling the code to go up a level\n",
    "        scoretab = pd.read_csv(os.path.join('..',meta.ScorePath[i],meta.ScoreFile[i])) # load up csv of annotations\n",
    "\n",
    "        # change problematic column names\n",
    "        scoretab.rename(columns={'Start (s)':'start'}, inplace=True)\n",
    "        scoretab.rename(columns={'Stop (s)':'end'}, inplace=True)\n",
    "        scoretab.rename(columns={'Duration (s)':'duration'}, inplace=True)\n",
    "        scoretab.rename(columns={'Behavior type':'behavior_type'}, inplace=True)\n",
    "\n",
    "        # --- Clean up small gaps in the behavior table\n",
    "        # this assumes the score files have already been reviewed for major problems; everything at this stage should pass\n",
    "\n",
    "        cleantab = set_event_ends(scoretab)\n",
    "\n",
    "        # make NWB object corresponding to the annotation table\n",
    "        behavior_intervals = TimeIntervals(name=\"annotated_behavior\",\n",
    "            description=\"Intervals of scored behavior.\")\n",
    "\n",
    "        behavior_intervals.add_column(name=\"behavior\", description=\"The annotation from the ethogram.\")\n",
    "        behavior_intervals.add_column(name=\"duration\", description=\"Duration of the behavior.\")\n",
    "        behavior_intervals.add_column(name=\"atype\", description=\"Point or state event.\")\n",
    "\n",
    "        # populate table\n",
    "        for i, start in enumerate(cleantab.start):\n",
    "            end = cleantab.end[i]\n",
    "            behav = cleantab.Behavior[i]\n",
    "            atype = cleantab.behavior_type[i]\n",
    "            dur = cleantab.duration[i]\n",
    "            behavior_intervals.add_row(start_time=start,stop_time=end,behavior=behav,atype=atype,duration=dur)\n",
    "\n",
    "        # add to NWB file\n",
    "        nwbfile.add_time_intervals(behavior_intervals)\n",
    "\n",
    "                # write file to disk\n",
    "        if write_NWB_to_disk:\n",
    "            with NWBHDF5IO(wfullpath, \"w\") as io:\n",
    "                io.write(nwbfile)"
   ]
  },
  {
   "cell_type": "code",
   "execution_count": 31,
   "id": "c338aea4",
   "metadata": {},
   "outputs": [
    {
     "data": {
      "text/html": [
       "\n",
       "        <style>\n",
       "            .container-fields {\n",
       "                font-family: \"Open Sans\", Arial, sans-serif;\n",
       "            }\n",
       "            .container-fields .field-value {\n",
       "                color: #00788E;\n",
       "            }\n",
       "            .container-fields details > summary {\n",
       "                cursor: pointer;\n",
       "                display: list-item;\n",
       "            }\n",
       "            .container-fields details > summary:hover {\n",
       "                color: #0A6EAA;\n",
       "            }\n",
       "        </style>\n",
       "        \n",
       "        <script>\n",
       "            function copyToClipboard(text) {\n",
       "                navigator.clipboard.writeText(text).then(function() {\n",
       "                    console.log('Copied to clipboard: ' + text);\n",
       "                }, function(err) {\n",
       "                    console.error('Could not copy text: ', err);\n",
       "                });\n",
       "            }\n",
       "\n",
       "            document.addEventListener('DOMContentLoaded', function() {\n",
       "                let fieldKeys = document.querySelectorAll('.container-fields .field-key');\n",
       "                fieldKeys.forEach(function(fieldKey) {\n",
       "                    fieldKey.addEventListener('click', function() {\n",
       "                        let accessCode = fieldKey.getAttribute('title').replace('Access code: ', '');\n",
       "                        copyToClipboard(accessCode);\n",
       "                    });\n",
       "                });\n",
       "            });\n",
       "        </script>\n",
       "        <div class='container-wrap'><div class='container-header'><div class='xr-obj-type'><h3>root (NWBFile)</h3></div></div><div style=\"margin-left: 0px;\" class=\"container-fields\"><span class=\"field-key\" title=\".session_description\">session_description: </span><span class=\"field-value\">Behavioral annotations from Scn2a phenotyping pair Nov22_Pair8 in a(n) timedMating assay.</span></div><div style=\"margin-left: 0px;\" class=\"container-fields\"><span class=\"field-key\" title=\".identifier\">identifier: </span><span class=\"field-value\">6078d716-e5d5-4c10-b714-a7402ff93945</span></div><details><summary style=\"display: list-item; margin-left: 0px;\" class=\"container-fields field-key\" title=\".session_start_time\"><b>session_start_time</b></summary><span class=\"field-key\">2022-12-01 13:10:00-08:00</span></details><details><summary style=\"display: list-item; margin-left: 0px;\" class=\"container-fields field-key\" title=\".timestamps_reference_time\"><b>timestamps_reference_time</b></summary><span class=\"field-key\">2022-12-01 13:10:00-08:00</span></details><details><summary style=\"display: list-item; margin-left: 0px;\" class=\"container-fields field-key\" title=\".file_create_date\"><b>file_create_date</b></summary><details><summary style=\"display: list-item; margin-left: 20px;\" class=\"container-fields field-key\" title=\".file_create_date[0]\"><b>0</b></summary><span class=\"field-key\">2024-06-14 17:42:12.791626-07:00</span></details></details><details><summary style=\"display: list-item; margin-left: 0px;\" class=\"container-fields field-key\" title=\".experimenter\"><b>experimenter</b></summary><span class=\"field-key\">('Gina Williams',)</span></details><details><summary style=\"display: list-item; margin-left: 0px;\" class=\"container-fields field-key\" title=\".epoch_tags\"><b>epoch_tags</b></summary><span class=\"field-key\">set()</span></details><div style=\"margin-left: 0px;\" class=\"container-fields\"><span class=\"field-key\" title=\".session_id\">session_id: </span><span class=\"field-value\">Nov22_Pair8_timedMating</span></div><div style=\"margin-left: 0px;\" class=\"container-fields\"><span class=\"field-key\" title=\".lab\">lab: </span><span class=\"field-value\">Manoli @ UCSF</span></div><details><summary style=\"display: list-item; margin-left: 0px;\" class=\"container-fields field-key\" title=\".subject\"><b>subject</b></summary><div style=\"margin-left: 20px;\" class=\"container-fields\"><span class=\"field-key\" title=\".subject.age__reference\">age__reference: </span><span class=\"field-value\">birth</span></div><div style=\"margin-left: 20px;\" class=\"container-fields\"><span class=\"field-key\" title=\".subject.genotype\">genotype: </span><span class=\"field-value\">WT</span></div><div style=\"margin-left: 20px;\" class=\"container-fields\"><span class=\"field-key\" title=\".subject.sex\">sex: </span><span class=\"field-value\">F</span></div><div style=\"margin-left: 20px;\" class=\"container-fields\"><span class=\"field-key\" title=\".subject.species\">species: </span><span class=\"field-value\">Microtus ochrogaster</span></div><div style=\"margin-left: 20px;\" class=\"container-fields\"><span class=\"field-key\" title=\".subject.subject_id\">subject_id: </span><span class=\"field-value\">B8019</span></div></details><details><summary style=\"display: list-item; margin-left: 0px;\" class=\"container-fields field-key\" title=\".lab_meta_data\"><b>lab_meta_data</b></summary><details><summary style=\"display: list-item; margin-left: 20px;\" class=\"container-fields field-key\" title=\".lab_meta_data['vole_metadata']\"><b>vole_metadata</b></summary><div style=\"margin-left: 40px;\" class=\"container-fields\"><span class=\"field-key\" title=\".lab_meta_data['vole_metadata'].assay_type\">assay_type: </span><span class=\"field-value\">timedMating</span></div><div style=\"margin-left: 40px;\" class=\"container-fields\"><span class=\"field-key\" title=\".lab_meta_data['vole_metadata'].assay_type__description\">assay_type__description: </span><span class=\"field-value\">Timed mating.</span></div><div style=\"margin-left: 40px;\" class=\"container-fields\"><span class=\"field-key\" title=\".lab_meta_data['vole_metadata'].assay_type__annotations\">assay_type__annotations: </span><span class=\"field-value\">Scn2a_X1Behavior_Nov22\\Aggregated_Events\\Nov22_Pair8_TM.csv</span></div><div style=\"margin-left: 40px;\" class=\"container-fields\"><span class=\"field-key\" title=\".lab_meta_data['vole_metadata'].assay_type__partner_GT\">assay_type__partner_GT: </span><span class=\"field-value\">WT</span></div><div style=\"margin-left: 40px;\" class=\"container-fields\"><span class=\"field-key\" title=\".lab_meta_data['vole_metadata'].assay_type__days_post_pairing\">assay_type__days_post_pairing: </span><span class=\"field-value\">2</span></div><div style=\"margin-left: 40px;\" class=\"container-fields\"><span class=\"field-key\" title=\".lab_meta_data['vole_metadata'].exclude_flag\">exclude_flag: </span><span class=\"field-value\">False</span></div><div style=\"margin-left: 40px;\" class=\"container-fields\"><span class=\"field-key\" title=\".lab_meta_data['vole_metadata'].duration\">duration: </span><span class=\"field-value\">1800.0</span></div><div style=\"margin-left: 40px;\" class=\"container-fields\"><span class=\"field-key\" title=\".lab_meta_data['vole_metadata'].room\">room: </span><span class=\"field-value\">?</span></div><div style=\"margin-left: 40px;\" class=\"container-fields\"><span class=\"field-key\" title=\".lab_meta_data['vole_metadata'].timeline\">timeline: </span><span class=\"field-value\">Matches Shank3 assays.</span></div><div style=\"margin-left: 40px;\" class=\"container-fields\"><span class=\"field-key\" title=\".lab_meta_data['vole_metadata'].ethogram\">ethogram: </span><span class=\"field-value\">Scn2aX12022_TM_GW.boris</span></div><div style=\"margin-left: 40px;\" class=\"container-fields\"><span class=\"field-key\" title=\".lab_meta_data['vole_metadata'].scorer\">scorer: </span><span class=\"field-value\">Gina Williams</span></div><details><summary style=\"display: list-item; margin-left: 40px;\" class=\"container-fields field-key\" title=\".lab_meta_data['vole_metadata'].timeline_complete\"><b>timeline_complete</b></summary><span class=\"field-key\">True</span></details><details><summary style=\"display: list-item; margin-left: 40px;\" class=\"container-fields field-key\" title=\".lab_meta_data['vole_metadata'].colors\"><b>colors</b></summary><div style=\"margin-left: 60px;\" class=\"container-fields\"><span class=\"field-key\" title=\".lab_meta_data['vole_metadata'].colors[0]\">0: </span><span class=\"field-value\">160</span></div><div style=\"margin-left: 60px;\" class=\"container-fields\"><span class=\"field-key\" title=\".lab_meta_data['vole_metadata'].colors[0][1]\">1: </span><span class=\"field-value\">146</span></div><div style=\"margin-left: 60px;\" class=\"container-fields\"><span class=\"field-key\" title=\".lab_meta_data['vole_metadata'].colors[0][1][2]\">2: </span><span class=\"field-value\">95</span></div></details></details></details><details><summary style=\"display: list-item; margin-left: 0px;\" class=\"container-fields field-key\" title=\".acquisition\"><b>acquisition</b></summary><details><summary style=\"display: list-item; margin-left: 20px;\" class=\"container-fields field-key\" title=\".acquisition['behaviorVideo']\"><b>behaviorVideo</b></summary><div style=\"margin-left: 40px;\" class=\"container-fields\"><span class=\"field-key\" title=\".acquisition['behaviorVideo'].starting_time\">starting_time: </span><span class=\"field-value\">0.0</span></div><div style=\"margin-left: 40px;\" class=\"container-fields\"><span class=\"field-key\" title=\".acquisition['behaviorVideo'].rate\">rate: </span><span class=\"field-value\">25.0</span></div><div style=\"margin-left: 40px;\" class=\"container-fields\"><span class=\"field-key\" title=\".acquisition['behaviorVideo'].resolution\">resolution: </span><span class=\"field-value\">-1.0</span></div><div style=\"margin-left: 40px;\" class=\"container-fields\"><span class=\"field-key\" title=\".acquisition['behaviorVideo'].comments\">comments: </span><span class=\"field-value\">no comments</span></div><div style=\"margin-left: 40px;\" class=\"container-fields\"><span class=\"field-key\" title=\".acquisition['behaviorVideo'].description\">description: </span><span class=\"field-value\">Raw original video.</span></div><div style=\"margin-left: 40px;\" class=\"container-fields\"><span class=\"field-key\" title=\".acquisition['behaviorVideo'].conversion\">conversion: </span><span class=\"field-value\">1.0</span></div><div style=\"margin-left: 40px;\" class=\"container-fields\"><span class=\"field-key\" title=\".acquisition['behaviorVideo'].offset\">offset: </span><span class=\"field-value\">0.0</span></div><div style=\"margin-left: 40px;\" class=\"container-fields\"><span class=\"field-key\" title=\".acquisition['behaviorVideo'].unit\">unit: </span><span class=\"field-value\">n.a.</span></div><details><summary style=\"display: list-item; margin-left: 40px;\" class=\"container-fields field-key\" title=\".acquisition['behaviorVideo'].data\"><b>data</b></summary><div style=\"margin-left: 60px;\" class=\"container-fields\">[]</div></details><div style=\"margin-left: 40px;\" class=\"container-fields\"><span class=\"field-key\" title=\".acquisition['behaviorVideo'].starting_time_unit\">starting_time_unit: </span><span class=\"field-value\">seconds</span></div><details><summary style=\"display: list-item; margin-left: 40px;\" class=\"container-fields field-key\" title=\".acquisition['behaviorVideo'].external_file\"><b>external_file</b></summary><div style=\"margin-left: 60px;\" class=\"container-fields\"><span class=\"field-key\" title=\".acquisition['behaviorVideo'].external_file[0]\">0: </span><span class=\"field-value\">\\Scn2a_X1Behavior_Nov22\\Female TMs\\12012022\\Nov22_Pair8_TM_WIN_20221201_13_07_43_Pro.mp4</span></div></details><details><summary style=\"display: list-item; margin-left: 40px;\" class=\"container-fields field-key\" title=\".acquisition['behaviorVideo'].starting_frame\"><b>starting_frame</b></summary><div style=\"margin-left: 60px;\" class=\"container-fields\"><span class=\"field-key\" title=\".acquisition['behaviorVideo'].starting_frame[0]\">0: </span><span class=\"field-value\">0</span></div></details><div style=\"margin-left: 40px;\" class=\"container-fields\"><span class=\"field-key\" title=\".acquisition['behaviorVideo'].format\">format: </span><span class=\"field-value\">external</span></div></details></details><details><summary style=\"display: list-item; margin-left: 0px;\" class=\"container-fields field-key\" title=\".intervals\"><b>intervals</b></summary><details><summary style=\"display: list-item; margin-left: 20px;\" class=\"container-fields field-key\" title=\".intervals['annotated_behavior']\"><b>annotated_behavior</b></summary><div style=\"margin-left: 40px;\" class=\"container-fields\"><span class=\"field-key\" title=\".intervals['annotated_behavior']\">description: </span><span class=\"field-value\">Intervals of scored behavior.</span></div><details><summary style=\"display: list-item; margin-left: 40px;\" class=\"container-fields field-key\" title=\".intervals['annotated_behavior']\"><b>table</b></summary><table border=\"1\" class=\"dataframe\">\n",
       "  <thead>\n",
       "    <tr style=\"text-align: right;\">\n",
       "      <th></th>\n",
       "      <th>start_time</th>\n",
       "      <th>stop_time</th>\n",
       "      <th>behavior</th>\n",
       "      <th>duration</th>\n",
       "      <th>atype</th>\n",
       "    </tr>\n",
       "    <tr>\n",
       "      <th>id</th>\n",
       "      <th></th>\n",
       "      <th></th>\n",
       "      <th></th>\n",
       "      <th></th>\n",
       "      <th></th>\n",
       "    </tr>\n",
       "  </thead>\n",
       "  <tbody>\n",
       "    <tr>\n",
       "      <th>0</th>\n",
       "      <td>90.722</td>\n",
       "      <td>90.722</td>\n",
       "      <td>Start assay</td>\n",
       "      <td>NaN</td>\n",
       "      <td>POINT</td>\n",
       "    </tr>\n",
       "    <tr>\n",
       "      <th>1</th>\n",
       "      <td>90.723</td>\n",
       "      <td>101.401</td>\n",
       "      <td>No interaction</td>\n",
       "      <td>10.678</td>\n",
       "      <td>STATE</td>\n",
       "    </tr>\n",
       "    <tr>\n",
       "      <th>2</th>\n",
       "      <td>101.402</td>\n",
       "      <td>101.902</td>\n",
       "      <td>Investigate</td>\n",
       "      <td>0.500</td>\n",
       "      <td>STATE</td>\n",
       "    </tr>\n",
       "    <tr>\n",
       "      <th>3</th>\n",
       "      <td>101.903</td>\n",
       "      <td>107.904</td>\n",
       "      <td>No interaction</td>\n",
       "      <td>6.001</td>\n",
       "      <td>STATE</td>\n",
       "    </tr>\n",
       "  </tbody>\n",
       "</table><p>... and 355 more rows.</p></details></details></details></div>"
      ],
      "text/plain": [
       "root pynwb.file.NWBFile at 0x2114628363808\n",
       "Fields:\n",
       "  acquisition: {\n",
       "    behaviorVideo <class 'pynwb.image.ImageSeries'>\n",
       "  }\n",
       "  experimenter: ['Gina Williams']\n",
       "  file_create_date: [datetime.datetime(2024, 6, 14, 17, 42, 12, 791626, tzinfo=tzlocal())]\n",
       "  identifier: 6078d716-e5d5-4c10-b714-a7402ff93945\n",
       "  intervals: {\n",
       "    annotated_behavior <class 'pynwb.epoch.TimeIntervals'>\n",
       "  }\n",
       "  lab: Manoli @ UCSF\n",
       "  lab_meta_data: {\n",
       "    vole_metadata <class 'abc.AssayMetadata'>\n",
       "  }\n",
       "  session_description: Behavioral annotations from Scn2a phenotyping pair Nov22_Pair8 in a(n) timedMating assay.\n",
       "  session_id: Nov22_Pair8_timedMating\n",
       "  session_start_time: 2022-12-01 13:10:00-08:00\n",
       "  subject: subject pynwb.file.Subject at 0x2114628363904\n",
       "Fields:\n",
       "  age__reference: birth\n",
       "  genotype: WT\n",
       "  sex: F\n",
       "  species: Microtus ochrogaster\n",
       "  subject_id: B8019\n",
       "\n",
       "  timestamps_reference_time: 2022-12-01 13:10:00-08:00"
      ]
     },
     "execution_count": 31,
     "metadata": {},
     "output_type": "execute_result"
    }
   ],
   "source": [
    "nwbfile"
   ]
  },
  {
   "cell_type": "code",
   "execution_count": null,
   "id": "3b0e1740",
   "metadata": {},
   "outputs": [],
   "source": [
    "# ----- Generate metadata object based on metadata read in from table -----\n",
    "\n",
    "def make_metadata_object(atype,excl,dur,room,timeline,etho,exp,timeline_comp,\n",
    "                         colors,pGT,dpostpair,annotations,sID=None,sGT=None,lane=None,chamber=None,\n",
    "                        leftGT=None,leftSex=None,rightGT=None,rightSex=None,leftType=None,rightType=None):\n",
    "\n",
    "        \n",
    "    match atype:\n",
    "        case 'introduction':\n",
    "            metaObj = AssayMetadata(\n",
    "                assay_type=atype,\n",
    "                exclude_flag=excl,\n",
    "                duration=dur,\n",
    "                room=room,\n",
    "                timeline=timeline,\n",
    "                ethogram=etho,\n",
    "                scorer=exp,\n",
    "                timeline_complete=timeline_comp,\n",
    "                colors=colors,\n",
    "                assay_type__partner_GT=pGT,\n",
    "                assay_type__description='Introduction.',\n",
    "                assay_type__days_post_pairing=dpostpair,\n",
    "                assay_type__annotations=annotations\n",
    "            )\n",
    "\n",
    "            \n",
    "        case 'mating':\n",
    "            metaObj = AssayMetadata(\n",
    "                assay_type=atype,\n",
    "                exclude_flag=excl,\n",
    "                duration=dur,\n",
    "                room=room,\n",
    "                timeline=timeline,\n",
    "                ethogram=etho,\n",
    "                scorer=exp,\n",
    "                timeline_complete=timeline_comp,\n",
    "                colors=colors,\n",
    "                assay_type__partner_GT=pGT,\n",
    "                assay_type__description='Timed mating.',\n",
    "                assay_type__days_post_pairing=dpostpair,\n",
    "                assay_type__annotations=annotations\n",
    "\n",
    "            )\n",
    "            \n",
    "            \n",
    "        case 'PPT':\n",
    "            metaObj = AssayMetadata(\n",
    "                assay_type=atype,\n",
    "                exclude_flag=excl,\n",
    "                duration=dur,\n",
    "                room=room,\n",
    "                timeline=timeline,\n",
    "                ethogram=etho,\n",
    "                scorer=exp,\n",
    "                timeline_complete=timeline_comp,\n",
    "                colors=colors,\n",
    "                assay_type__partner_ID=pID,\n",
    "                assay_type__partner_GT=pGT,\n",
    "                assay_type__description='Linear three chamber tethered partner preference test.',\n",
    "                assay_type__days_post_pairing=dpostpair,\n",
    "                assay_type__stranger_GT=sGT,\n",
    "                assay_type__PPT_lane=lane,\n",
    "                assay_type__partner_chamber=chamber,\n",
    "                assay_type__leftGT=leftGT,\n",
    "                assay_type__leftSex=leftSex,\n",
    "                assay_type__rightGT=rightGT,\n",
    "                assay_type__rightSex=rightSex,\n",
    "                assay_type__leftType=leftType,\n",
    "                assay_type__rightType=rightType,\n",
    "                assay_type__annotations=annotations                \n",
    "            )\n",
    "            \n",
    "        case 'reunion':\n",
    "            metaObj = AssayMetadata(\n",
    "                assay_type=atype,\n",
    "                exclude_flag=excl,\n",
    "                duration=dur,\n",
    "                room=room,\n",
    "                timeline=timeline,\n",
    "                ethogram=etho,\n",
    "                scorer=exp,\n",
    "                timeline_complete=timeline_comp,\n",
    "                colors=colors,\n",
    "                assay_type__partner_GT=pGT,\n",
    "                assay_type__description='Separation/reunion.',\n",
    "                assay_type__days_post_pairing=dpostpair,\n",
    "                assay_type__annotations=annotations\n",
    "            \n",
    "            )\n",
    "            \n",
    "        case 'aggression':\n",
    "            metaObj = AssayMetadata(\n",
    "                assay_type=atype,\n",
    "                exclude_flag=excl,\n",
    "                duration=dur,\n",
    "                room=room,\n",
    "                timeline=timeline,\n",
    "                ethogram=etho,\n",
    "                scorer=exp,\n",
    "                timeline_complete=timeline_comp,\n",
    "                colors=colors,\n",
    "                assay_type__stranger_GT=sGT,\n",
    "                assay_type__description='Aggression towards an opposite-sex intruder to the homecage.',\n",
    "                assay_type__days_post_pairing=dpostpair,\n",
    "                assay_type__annotations=annotations\n",
    "            \n",
    "            )\n",
    "            \n",
    "    return metaObj"
   ]
  }
 ],
 "metadata": {
  "kernelspec": {
   "display_name": "Python 3 (ipykernel)",
   "language": "python",
   "name": "python3"
  },
  "language_info": {
   "codemirror_mode": {
    "name": "ipython",
    "version": 3
   },
   "file_extension": ".py",
   "mimetype": "text/x-python",
   "name": "python",
   "nbconvert_exporter": "python",
   "pygments_lexer": "ipython3",
   "version": "3.10.6"
  }
 },
 "nbformat": 4,
 "nbformat_minor": 5
}
