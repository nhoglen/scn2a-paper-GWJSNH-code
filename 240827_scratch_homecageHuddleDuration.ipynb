{
 "cells": [
  {
   "cell_type": "code",
   "execution_count": 1,
   "id": "6f3bacf6",
   "metadata": {},
   "outputs": [],
   "source": [
    "import numpy as np\n",
    "from numpy import matlib as ml\n",
    "import pandas as pd\n",
    "import os\n",
    "import warnings\n",
    "import librosa\n",
    "import matplotlib.pyplot as plt\n",
    "import matplotlib.colors as mcolors\n",
    "import seaborn as sns\n",
    "from random import shuffle\n",
    "import scipy.stats as st\n",
    "\n",
    "from pynwb import NWBHDF5IO\n",
    "\n",
    "import matplotlib as mpl\n",
    "import matplotlib.pyplot as plt\n",
    "import matplotlib.gridspec as grid_spec\n",
    "\n",
    "import pdb\n",
    "warnings.filterwarnings('ignore')"
   ]
  },
  {
   "cell_type": "code",
   "execution_count": 2,
   "id": "10561e9b",
   "metadata": {},
   "outputs": [],
   "source": [
    "# ----- SET UP COLORS -----\n",
    "acols = [[0.627451,   0.57254905, 0.37254903],\n",
    "        [0.9607843,  0.7882353,  0.15294118],\n",
    "        [0.34901962, 0.35686275, 0.49019608],\n",
    "        [0.24705882, 0.30588236, 0.9607843 ]]\n",
    "\n",
    "fcols = acols[0:2]\n",
    "mcols = acols[2:]\n",
    "\n",
    "fpal = sns.color_palette(fcols)\n",
    "mpal = sns.color_palette(mcols)\n",
    "apal = sns.color_palette(acols)\n",
    "\n",
    "# set hue order\n",
    "ho = ['WT','Het']"
   ]
  },
  {
   "cell_type": "code",
   "execution_count": 3,
   "id": "e5d9ff9e",
   "metadata": {},
   "outputs": [],
   "source": [
    "# ----- LOAD DATA -----\n",
    "data = pd.read_csv('all_annotations.csv')"
   ]
  },
  {
   "cell_type": "code",
   "execution_count": 12,
   "id": "1353ee56",
   "metadata": {},
   "outputs": [],
   "source": [
    "# ----- DICE UP DATA -----\n",
    "\n",
    "assays = ['introduction','reunion','aggression','timedMating']\n",
    "behavior = ['Huddle']\n",
    "GT = ['WT']\n",
    "sex = ['M']\n",
    "\n",
    "# filtering indices -- makes a list of true/false values for each data entry about whether it matches the criterion\n",
    "assayIdx = data.assay.isin(assays)\n",
    "behaviorIdx = data.behavior.isin(behavior)\n",
    "gtIdx = data.GT.isin(GT)\n",
    "sexIdx = data.sex.isin(sex)\n",
    "\n",
    "idx1 = np.logical_and(assayIdx,behaviorIdx)\n",
    "idx2 = np.logical_and(gtIdx,sexIdx)\n",
    "allIdx = np.logical_and(idx1,idx2)\n",
    "\n",
    "# filtered data\n",
    "wtmdf = data[allIdx]"
   ]
  },
  {
   "cell_type": "code",
   "execution_count": 13,
   "id": "55e134d4",
   "metadata": {},
   "outputs": [
    {
     "data": {
      "text/html": [
       "<div>\n",
       "<style scoped>\n",
       "    .dataframe tbody tr th:only-of-type {\n",
       "        vertical-align: middle;\n",
       "    }\n",
       "\n",
       "    .dataframe tbody tr th {\n",
       "        vertical-align: top;\n",
       "    }\n",
       "\n",
       "    .dataframe thead th {\n",
       "        text-align: right;\n",
       "    }\n",
       "</style>\n",
       "<table border=\"1\" class=\"dataframe\">\n",
       "  <thead>\n",
       "    <tr style=\"text-align: right;\">\n",
       "      <th></th>\n",
       "      <th>Unnamed: 0</th>\n",
       "      <th>id</th>\n",
       "      <th>start_time</th>\n",
       "      <th>stop_time</th>\n",
       "      <th>behavior</th>\n",
       "      <th>duration</th>\n",
       "      <th>atype</th>\n",
       "      <th>pair_tag</th>\n",
       "      <th>sex</th>\n",
       "      <th>GT</th>\n",
       "      <th>color</th>\n",
       "      <th>assay</th>\n",
       "      <th>pair_num</th>\n",
       "    </tr>\n",
       "  </thead>\n",
       "  <tbody>\n",
       "    <tr>\n",
       "      <th>7402</th>\n",
       "      <td>7402</td>\n",
       "      <td>25</td>\n",
       "      <td>39.744</td>\n",
       "      <td>39.992</td>\n",
       "      <td>Huddle</td>\n",
       "      <td>0.248</td>\n",
       "      <td>STATE</td>\n",
       "      <td>Pair18</td>\n",
       "      <td>M</td>\n",
       "      <td>WT</td>\n",
       "      <td>[ 89.  91. 125.]</td>\n",
       "      <td>aggression</td>\n",
       "      <td>0</td>\n",
       "    </tr>\n",
       "    <tr>\n",
       "      <th>7407</th>\n",
       "      <td>7407</td>\n",
       "      <td>30</td>\n",
       "      <td>50.493</td>\n",
       "      <td>51.744</td>\n",
       "      <td>Huddle</td>\n",
       "      <td>1.251</td>\n",
       "      <td>STATE</td>\n",
       "      <td>Pair18</td>\n",
       "      <td>M</td>\n",
       "      <td>WT</td>\n",
       "      <td>[ 89.  91. 125.]</td>\n",
       "      <td>aggression</td>\n",
       "      <td>0</td>\n",
       "    </tr>\n",
       "    <tr>\n",
       "      <th>7409</th>\n",
       "      <td>7409</td>\n",
       "      <td>32</td>\n",
       "      <td>51.993</td>\n",
       "      <td>54.423</td>\n",
       "      <td>Huddle</td>\n",
       "      <td>2.430</td>\n",
       "      <td>STATE</td>\n",
       "      <td>Pair18</td>\n",
       "      <td>M</td>\n",
       "      <td>WT</td>\n",
       "      <td>[ 89.  91. 125.]</td>\n",
       "      <td>aggression</td>\n",
       "      <td>0</td>\n",
       "    </tr>\n",
       "    <tr>\n",
       "      <th>7416</th>\n",
       "      <td>7416</td>\n",
       "      <td>39</td>\n",
       "      <td>59.160</td>\n",
       "      <td>60.160</td>\n",
       "      <td>Huddle</td>\n",
       "      <td>1.000</td>\n",
       "      <td>STATE</td>\n",
       "      <td>Pair18</td>\n",
       "      <td>M</td>\n",
       "      <td>WT</td>\n",
       "      <td>[ 89.  91. 125.]</td>\n",
       "      <td>aggression</td>\n",
       "      <td>0</td>\n",
       "    </tr>\n",
       "    <tr>\n",
       "      <th>7438</th>\n",
       "      <td>7438</td>\n",
       "      <td>61</td>\n",
       "      <td>78.581</td>\n",
       "      <td>80.492</td>\n",
       "      <td>Huddle</td>\n",
       "      <td>1.911</td>\n",
       "      <td>STATE</td>\n",
       "      <td>Pair18</td>\n",
       "      <td>M</td>\n",
       "      <td>WT</td>\n",
       "      <td>[ 89.  91. 125.]</td>\n",
       "      <td>aggression</td>\n",
       "      <td>0</td>\n",
       "    </tr>\n",
       "  </tbody>\n",
       "</table>\n",
       "</div>"
      ],
      "text/plain": [
       "      Unnamed: 0  id  start_time  stop_time behavior  duration  atype  \\\n",
       "7402        7402  25      39.744     39.992   Huddle     0.248  STATE   \n",
       "7407        7407  30      50.493     51.744   Huddle     1.251  STATE   \n",
       "7409        7409  32      51.993     54.423   Huddle     2.430  STATE   \n",
       "7416        7416  39      59.160     60.160   Huddle     1.000  STATE   \n",
       "7438        7438  61      78.581     80.492   Huddle     1.911  STATE   \n",
       "\n",
       "     pair_tag sex  GT             color       assay  pair_num  \n",
       "7402   Pair18   M  WT  [ 89.  91. 125.]  aggression         0  \n",
       "7407   Pair18   M  WT  [ 89.  91. 125.]  aggression         0  \n",
       "7409   Pair18   M  WT  [ 89.  91. 125.]  aggression         0  \n",
       "7416   Pair18   M  WT  [ 89.  91. 125.]  aggression         0  \n",
       "7438   Pair18   M  WT  [ 89.  91. 125.]  aggression         0  "
      ]
     },
     "execution_count": 13,
     "metadata": {},
     "output_type": "execute_result"
    }
   ],
   "source": [
    "wtmdf.head()"
   ]
  },
  {
   "cell_type": "code",
   "execution_count": 27,
   "id": "cae52163",
   "metadata": {},
   "outputs": [
    {
     "data": {
      "text/plain": [
       "<AxesSubplot: xlabel='duration', ylabel='Count'>"
      ]
     },
     "execution_count": 27,
     "metadata": {},
     "output_type": "execute_result"
    },
    {
     "data": {
      "image/png": "[encoded data removed]",
      "text/plain": [
       "<Figure size 432x288 with 1 Axes>"
      ]
     },
     "metadata": {
      "needs_background": "light"
     },
     "output_type": "display_data"
    }
   ],
   "source": [
    "sns.histplot(data=wtmdf,x='duration',bins=80,log_scale=(10,False))"
   ]
  },
  {
   "cell_type": "code",
   "execution_count": null,
   "id": "167edd03",
   "metadata": {},
   "outputs": [],
   "source": []
  }
 ],
 "metadata": {
  "kernelspec": {
   "display_name": "Python 3 (ipykernel)",
   "language": "python",
   "name": "python3"
  },
  "language_info": {
   "codemirror_mode": {
    "name": "ipython",
    "version": 3
   },
   "file_extension": ".py",
   "mimetype": "text/x-python",
   "name": "python",
   "nbconvert_exporter": "python",
   "pygments_lexer": "ipython3",
   "version": "3.10.6"
  }
 },
 "nbformat": 4,
 "nbformat_minor": 5
}
