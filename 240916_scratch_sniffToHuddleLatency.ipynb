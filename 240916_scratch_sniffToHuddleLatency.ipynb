{
 "cells": [
  {
   "cell_type": "code",
   "execution_count": 1,
   "id": "4737ff55",
   "metadata": {},
   "outputs": [],
   "source": [
    "import numpy as np\n",
    "from numpy import matlib as ml\n",
    "import pandas as pd\n",
    "import os\n",
    "import warnings\n",
    "import librosa\n",
    "import matplotlib as mpl\n",
    "import matplotlib.pyplot as plt\n",
    "import matplotlib.colors as mcolors\n",
    "import seaborn as sns\n",
    "from random import shuffle\n",
    "import scipy.stats as st\n",
    "\n",
    "from pynwb import NWBHDF5IO\n",
    "\n",
    "import matplotlib as mpl\n",
    "import matplotlib.pyplot as plt\n",
    "import matplotlib.gridspec as grid_spec\n",
    "\n",
    "import pdb"
   ]
  },
  {
   "cell_type": "code",
   "execution_count": 2,
   "id": "50cf3a75",
   "metadata": {},
   "outputs": [],
   "source": [
    "# ----- LOAD DATA -----\n",
    "data = pd.read_csv('all_annotations.csv')\n",
    "\n",
    "# ----- FIGURES -----\n",
    "outp = os.path.join('figures','2024September')"
   ]
  },
  {
   "cell_type": "code",
   "execution_count": 3,
   "id": "f23a2cc8",
   "metadata": {},
   "outputs": [],
   "source": [
    "# ----- SET UP COLORS -----\n",
    "acols = [[0.627451,   0.57254905, 0.37254903],\n",
    "        [0.9607843,  0.7882353,  0.15294118],\n",
    "        [0.34901962, 0.35686275, 0.49019608],\n",
    "        [0.24705882, 0.30588236, 0.9607843 ]]\n",
    "\n",
    "fcols = acols[0:2]\n",
    "mcols = acols[2:]\n",
    "\n",
    "fpal = sns.color_palette(fcols)\n",
    "mpal = sns.color_palette(mcols)\n",
    "apal = sns.color_palette(acols)\n",
    "\n",
    "# set hue order\n",
    "ho = ['WT','Het']"
   ]
  },
  {
   "cell_type": "code",
   "execution_count": null,
   "id": "365baf26",
   "metadata": {},
   "outputs": [],
   "source": [
    "# ----- FUNCTIONS -----\n",
    "\n",
    "# find first sniff\n",
    "# - filter to sniffs\n",
    "# - get min start time\n",
    "\n",
    "# find first huddle after sniff\n",
    "# - filter to huddles\n",
    "# - find min time > sniff time\n",
    "\n",
    "def find_first_behavior(behavior,mintime):\n",
    "    "
   ]
  },
  {
   "cell_type": "code",
   "execution_count": 26,
   "id": "dba4a7b7",
   "metadata": {},
   "outputs": [],
   "source": [
    "# scratch\n",
    "\n",
    "data['first_sniff'] = data[data.behavior=='Sniff'].groupby(['pair_tag','assay'])['start_time'].transform('min')\n",
    "data['first_sniff_all'] = data.groupby(['pair_tag','assay'])['first_sniff'].transform(lambda x: np.unique(x)[0])\n",
    "\n",
    "huds = data[data.behavior=='Huddle']\n",
    "huds['use_huds'] = huds.start_time>huds.first_sniff_all"
   ]
  },
  {
   "cell_type": "code",
   "execution_count": 28,
   "id": "d416b256",
   "metadata": {},
   "outputs": [
    {
     "name": "stderr",
     "output_type": "stream",
     "text": [
      "C:\\Users\\nhogl\\AppData\\Local\\Temp\\ipykernel_22848\\3392802181.py:2: SettingWithCopyWarning: \n",
      "A value is trying to be set on a copy of a slice from a DataFrame.\n",
      "Try using .loc[row_indexer,col_indexer] = value instead\n",
      "\n",
      "See the caveats in the documentation: https://pandas.pydata.org/pandas-docs/stable/user_guide/indexing.html#returning-a-view-versus-a-copy\n",
      "  huds['use_huds'] = huds.start_time>huds.first_sniff_all\n"
     ]
    }
   ],
   "source": [
    "huds = data[data.behavior=='Huddle']\n",
    "huds['use_huds'] = huds.start_time>huds.first_sniff_all"
   ]
  },
  {
   "cell_type": "code",
   "execution_count": 29,
   "id": "10089ca5",
   "metadata": {},
   "outputs": [
    {
     "data": {
      "text/html": [
       "<div>\n",
       "<style scoped>\n",
       "    .dataframe tbody tr th:only-of-type {\n",
       "        vertical-align: middle;\n",
       "    }\n",
       "\n",
       "    .dataframe tbody tr th {\n",
       "        vertical-align: top;\n",
       "    }\n",
       "\n",
       "    .dataframe thead th {\n",
       "        text-align: right;\n",
       "    }\n",
       "</style>\n",
       "<table border=\"1\" class=\"dataframe\">\n",
       "  <thead>\n",
       "    <tr style=\"text-align: right;\">\n",
       "      <th></th>\n",
       "      <th>Unnamed: 0</th>\n",
       "      <th>id</th>\n",
       "      <th>start_time</th>\n",
       "      <th>stop_time</th>\n",
       "      <th>behavior</th>\n",
       "      <th>duration</th>\n",
       "      <th>atype</th>\n",
       "      <th>pair_tag</th>\n",
       "      <th>sex</th>\n",
       "      <th>GT</th>\n",
       "      <th>color</th>\n",
       "      <th>assay</th>\n",
       "      <th>pair_num</th>\n",
       "      <th>first_sniff</th>\n",
       "      <th>first_sniff_all</th>\n",
       "      <th>use_huds</th>\n",
       "    </tr>\n",
       "  </thead>\n",
       "  <tbody>\n",
       "    <tr>\n",
       "      <th>37</th>\n",
       "      <td>37</td>\n",
       "      <td>38</td>\n",
       "      <td>89.248</td>\n",
       "      <td>89.660</td>\n",
       "      <td>Huddle</td>\n",
       "      <td>0.413</td>\n",
       "      <td>STATE</td>\n",
       "      <td>Pair15</td>\n",
       "      <td>F</td>\n",
       "      <td>Het</td>\n",
       "      <td>[245. 201.  39.]</td>\n",
       "      <td>aggression</td>\n",
       "      <td>1</td>\n",
       "      <td>NaN</td>\n",
       "      <td>3.556</td>\n",
       "      <td>True</td>\n",
       "    </tr>\n",
       "    <tr>\n",
       "      <th>46</th>\n",
       "      <td>46</td>\n",
       "      <td>47</td>\n",
       "      <td>122.410</td>\n",
       "      <td>123.661</td>\n",
       "      <td>Huddle</td>\n",
       "      <td>1.251</td>\n",
       "      <td>STATE</td>\n",
       "      <td>Pair15</td>\n",
       "      <td>F</td>\n",
       "      <td>Het</td>\n",
       "      <td>[245. 201.  39.]</td>\n",
       "      <td>aggression</td>\n",
       "      <td>1</td>\n",
       "      <td>NaN</td>\n",
       "      <td>3.556</td>\n",
       "      <td>True</td>\n",
       "    </tr>\n",
       "    <tr>\n",
       "      <th>51</th>\n",
       "      <td>51</td>\n",
       "      <td>52</td>\n",
       "      <td>130.161</td>\n",
       "      <td>130.328</td>\n",
       "      <td>Huddle</td>\n",
       "      <td>0.167</td>\n",
       "      <td>STATE</td>\n",
       "      <td>Pair15</td>\n",
       "      <td>F</td>\n",
       "      <td>Het</td>\n",
       "      <td>[245. 201.  39.]</td>\n",
       "      <td>aggression</td>\n",
       "      <td>1</td>\n",
       "      <td>NaN</td>\n",
       "      <td>3.556</td>\n",
       "      <td>True</td>\n",
       "    </tr>\n",
       "    <tr>\n",
       "      <th>65</th>\n",
       "      <td>65</td>\n",
       "      <td>66</td>\n",
       "      <td>160.579</td>\n",
       "      <td>162.578</td>\n",
       "      <td>Huddle</td>\n",
       "      <td>1.999</td>\n",
       "      <td>STATE</td>\n",
       "      <td>Pair15</td>\n",
       "      <td>F</td>\n",
       "      <td>Het</td>\n",
       "      <td>[245. 201.  39.]</td>\n",
       "      <td>aggression</td>\n",
       "      <td>1</td>\n",
       "      <td>NaN</td>\n",
       "      <td>3.556</td>\n",
       "      <td>True</td>\n",
       "    </tr>\n",
       "    <tr>\n",
       "      <th>78</th>\n",
       "      <td>78</td>\n",
       "      <td>79</td>\n",
       "      <td>210.496</td>\n",
       "      <td>211.553</td>\n",
       "      <td>Huddle</td>\n",
       "      <td>1.057</td>\n",
       "      <td>STATE</td>\n",
       "      <td>Pair15</td>\n",
       "      <td>F</td>\n",
       "      <td>Het</td>\n",
       "      <td>[245. 201.  39.]</td>\n",
       "      <td>aggression</td>\n",
       "      <td>1</td>\n",
       "      <td>NaN</td>\n",
       "      <td>3.556</td>\n",
       "      <td>True</td>\n",
       "    </tr>\n",
       "  </tbody>\n",
       "</table>\n",
       "</div>"
      ],
      "text/plain": [
       "    Unnamed: 0  id  start_time  stop_time behavior  duration  atype pair_tag  \\\n",
       "37          37  38      89.248     89.660   Huddle     0.413  STATE   Pair15   \n",
       "46          46  47     122.410    123.661   Huddle     1.251  STATE   Pair15   \n",
       "51          51  52     130.161    130.328   Huddle     0.167  STATE   Pair15   \n",
       "65          65  66     160.579    162.578   Huddle     1.999  STATE   Pair15   \n",
       "78          78  79     210.496    211.553   Huddle     1.057  STATE   Pair15   \n",
       "\n",
       "   sex   GT             color       assay  pair_num  first_sniff  \\\n",
       "37   F  Het  [245. 201.  39.]  aggression         1          NaN   \n",
       "46   F  Het  [245. 201.  39.]  aggression         1          NaN   \n",
       "51   F  Het  [245. 201.  39.]  aggression         1          NaN   \n",
       "65   F  Het  [245. 201.  39.]  aggression         1          NaN   \n",
       "78   F  Het  [245. 201.  39.]  aggression         1          NaN   \n",
       "\n",
       "    first_sniff_all  use_huds  \n",
       "37            3.556      True  \n",
       "46            3.556      True  \n",
       "51            3.556      True  \n",
       "65            3.556      True  \n",
       "78            3.556      True  "
      ]
     },
     "execution_count": 29,
     "metadata": {},
     "output_type": "execute_result"
    }
   ],
   "source": [
    "huds.head()"
   ]
  },
  {
   "cell_type": "code",
   "execution_count": 24,
   "id": "b561dd4d",
   "metadata": {},
   "outputs": [
    {
     "data": {
      "text/plain": [
       "3.556"
      ]
     },
     "execution_count": 24,
     "metadata": {},
     "output_type": "execute_result"
    }
   ],
   "source": [
    "test = [np.NaN,3.556]\n",
    "np.unique(test)[0]"
   ]
  },
  {
   "cell_type": "code",
   "execution_count": null,
   "id": "136eb306",
   "metadata": {},
   "outputs": [],
   "source": [
    "# ----- LOOP OVER TEST GROUPS AND INDIVIDUALS -----"
   ]
  }
 ],
 "metadata": {
  "kernelspec": {
   "display_name": "Python 3 (ipykernel)",
   "language": "python",
   "name": "python3"
  },
  "language_info": {
   "codemirror_mode": {
    "name": "ipython",
    "version": 3
   },
   "file_extension": ".py",
   "mimetype": "text/x-python",
   "name": "python",
   "nbconvert_exporter": "python",
   "pygments_lexer": "ipython3",
   "version": "3.10.6"
  }
 },
 "nbformat": 4,
 "nbformat_minor": 5
}
