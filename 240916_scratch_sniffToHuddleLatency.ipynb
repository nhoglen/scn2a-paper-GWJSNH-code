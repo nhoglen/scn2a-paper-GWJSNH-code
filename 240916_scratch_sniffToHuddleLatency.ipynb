{
 "cells": [
  {
   "cell_type": "code",
   "execution_count": null,
   "id": "4737ff55",
   "metadata": {},
   "outputs": [],
   "source": [
    "import numpy as np\n",
    "from numpy import matlib as ml\n",
    "import pandas as pd\n",
    "import os\n",
    "import warnings\n",
    "import librosa\n",
    "import matplotlib as mpl\n",
    "import matplotlib.pyplot as plt\n",
    "import matplotlib.colors as mcolors\n",
    "import seaborn as sns\n",
    "from random import shuffle\n",
    "import scipy.stats as st\n",
    "\n",
    "from pynwb import NWBHDF5IO\n",
    "\n",
    "import matplotlib as mpl\n",
    "import matplotlib.pyplot as plt\n",
    "import matplotlib.gridspec as grid_spec\n",
    "\n",
    "import pdb"
   ]
  },
  {
   "cell_type": "code",
   "execution_count": null,
   "id": "50cf3a75",
   "metadata": {},
   "outputs": [],
   "source": [
    "# ----- LOAD DATA -----\n",
    "data = pd.read_csv('all_annotations.csv')\n",
    "\n",
    "# ----- FIGURES -----\n",
    "outp = os.path.join('figures','2024September')"
   ]
  },
  {
   "cell_type": "code",
   "execution_count": null,
   "id": "f23a2cc8",
   "metadata": {},
   "outputs": [],
   "source": [
    "# ----- SET UP COLORS -----\n",
    "acols = [[0.627451,   0.57254905, 0.37254903],\n",
    "        [0.9607843,  0.7882353,  0.15294118],\n",
    "        [0.34901962, 0.35686275, 0.49019608],\n",
    "        [0.24705882, 0.30588236, 0.9607843 ]]\n",
    "\n",
    "fcols = acols[0:2]\n",
    "mcols = acols[2:]\n",
    "\n",
    "fpal = sns.color_palette(fcols)\n",
    "mpal = sns.color_palette(mcols)\n",
    "apal = sns.color_palette(acols)\n",
    "\n",
    "# set hue order\n",
    "ho = ['WT','Het']"
   ]
  },
  {
   "cell_type": "code",
   "execution_count": null,
   "id": "365baf26",
   "metadata": {},
   "outputs": [],
   "source": [
    "# ----- FUNCTIONS -----\n",
    "\n",
    "# find first sniff\n",
    "# - filter to sniffs\n",
    "# - get min start time\n",
    "\n",
    "# find first huddle after sniff\n",
    "# - filter to huddles\n",
    "# - find min time > sniff time\n",
    "\n",
    "def find_first_behavior(behavior,mintime):\n",
    "    "
   ]
  },
  {
   "cell_type": "code",
   "execution_count": null,
   "id": "136eb306",
   "metadata": {},
   "outputs": [],
   "source": [
    "# ----- LOOP OVER TEST GROUPS AND INDIVIDUALS -----"
   ]
  }
 ],
 "metadata": {
  "kernelspec": {
   "display_name": "Python 3 (ipykernel)",
   "language": "python",
   "name": "python3"
  },
  "language_info": {
   "codemirror_mode": {
    "name": "ipython",
    "version": 3
   },
   "file_extension": ".py",
   "mimetype": "text/x-python",
   "name": "python",
   "nbconvert_exporter": "python",
   "pygments_lexer": "ipython3",
   "version": "3.10.6"
  }
 },
 "nbformat": 4,
 "nbformat_minor": 5
}
