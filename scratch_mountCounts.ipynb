{
 "cells": [
  {
   "cell_type": "code",
   "execution_count": 1,
   "id": "85fd7979",
   "metadata": {},
   "outputs": [],
   "source": [
    "import numpy as np\n",
    "import pandas as pd\n",
    "import os\n",
    "import warnings\n",
    "import librosa\n",
    "import matplotlib.pyplot as plt\n",
    "import matplotlib.colors as mcolors\n",
    "import seaborn as sns\n",
    "from random import shuffle\n",
    "import scipy.stats as st\n",
    "\n",
    "from pynwb import NWBHDF5IO\n",
    "from pynwb.image import ImageSeries\n",
    "from pynwb.epoch import TimeIntervals"
   ]
  },
  {
   "cell_type": "code",
   "execution_count": 3,
   "id": "0d57c424",
   "metadata": {},
   "outputs": [],
   "source": [
    "# ----- SET UP FILE HANDLING -----\n",
    "\n",
    "computer = 'Dorian'\n",
    "\n",
    "match computer:\n",
    "    case 'Dorian':\n",
    "        nwbpath = 'M:\\\\scn2a-paper-GWJSNH\\\\NWB-files'\n",
    "        \n",
    "    case 'Ernest':\n",
    "        nwbpath = 'C:\\\\Users\\\\nhogl\\\\Documents\\\\GitHub\\\\scn2a-paper-GWJSNH-code\\\\NWB'\n",
    "\n",
    "assay = 'timedMating'\n",
    "allnwb = []\n",
    "allnwb += [os.path.join(nwbpath,each) for each in os.listdir(nwbpath) if assay in each]\n",
    "\n",
    "figp=os.path.join('figures','2024July') # where to save figures\n",
    "saveplots=False\n",
    "\n",
    "usefield = 'single_behavior_Mount'"
   ]
  },
  {
   "cell_type": "code",
   "execution_count": null,
   "id": "36624483",
   "metadata": {},
   "outputs": [],
   "source": [
    "# ---- Look at count of mounts in timed matings ----\n",
    "\n",
    "# keep track of details in arrays\n",
    "allGT = []\n",
    "allSex = []\n",
    "times = []\n",
    "colors = []\n",
    "nroccurrences = []\n",
    "# behav='Mount'\n",
    "\n",
    "# loop over nwb files matching specified assay name\n",
    "for i,fname in enumerate(allnwb):\n",
    "    # open file\n",
    "    io = NWBHDF5IO(os.path.join(nwbpath,fname), mode=\"r\") # <-- open in write to append snippets?\n",
    "    nwbfile = io.read()\n",
    "    \n",
    "    # for sanity check, print out the name of the file being handled\n",
    "    pathsplit = fname.split('\\\\')\n",
    "    recstem = pathsplit[-1].strip('.nwb')\n",
    "    print(recstem)\n",
    "    \n",
    "    # filter out files that don't have complete timelines\n",
    "    \n",
    "    # keep track of metadata\n",
    "    allSex.append(nwbfile.subject.sex)\n",
    "    allGT.append(nwbfile.subject.genotype)\n",
    "    colors.append(nwbfile.lab_meta_data['vole_metadata'].colors[:])\n",
    "       \n",
    "    # -- Get time of first behavior --\n",
    "    \n",
    "    # load up the BORIS table from the NWB file\n",
    "    statsdf = nwbfile.intervals[usefield].to_dataframe()\n",
    "    \n",
    "    # find start time of assay\n",
    "    firstBehav = np.min(statsdf.start_time)\n",
    "    times.append(firstBehav)\n",
    "    # count total number of mounts\n",
    "    nroccurrences.append(statsdf.shape[0])"
   ]
  }
 ],
 "metadata": {
  "kernelspec": {
   "display_name": "Python 3 (ipykernel)",
   "language": "python",
   "name": "python3"
  },
  "language_info": {
   "codemirror_mode": {
    "name": "ipython",
    "version": 3
   },
   "file_extension": ".py",
   "mimetype": "text/x-python",
   "name": "python",
   "nbconvert_exporter": "python",
   "pygments_lexer": "ipython3",
   "version": "3.10.6"
  }
 },
 "nbformat": 4,
 "nbformat_minor": 5
}
