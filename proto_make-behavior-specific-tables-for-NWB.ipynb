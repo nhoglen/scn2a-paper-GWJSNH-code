{
 "cells": [
  {
   "cell_type": "code",
   "execution_count": 1,
   "id": "89dd8d0b",
   "metadata": {},
   "outputs": [],
   "source": [
    "import numpy as np\n",
    "import pandas as pd\n",
    "import os\n",
    "import warnings\n",
    "import librosa\n",
    "import matplotlib.pyplot as plt\n",
    "import matplotlib.colors as mcolors\n",
    "import seaborn as sns\n",
    "from random import shuffle\n",
    "import scipy.stats as st\n",
    "\n",
    "from pynwb import NWBHDF5IO\n",
    "from pynwb.image import ImageSeries\n",
    "from pynwb.epoch import TimeIntervals"
   ]
  },
  {
   "cell_type": "code",
   "execution_count": 2,
   "id": "663e657a",
   "metadata": {},
   "outputs": [],
   "source": [
    "# ----- User defined parameters -----\n",
    "nwbpath = 'M:\\\\scn2a-paper-GWJSNH\\\\NWB-files'\n",
    "usefield = 'annotated_behavior'\n",
    "writeToDisk = False"
   ]
  },
  {
   "cell_type": "code",
   "execution_count": 3,
   "id": "3896f078",
   "metadata": {},
   "outputs": [],
   "source": [
    "# ----- File handling -----\n",
    "allnwb = []\n",
    "allnwb += [os.path.join(nwbpath,each) for each in os.listdir(nwbpath) if each.endswith('.nwb')]"
   ]
  },
  {
   "cell_type": "code",
   "execution_count": 5,
   "id": "559c0299",
   "metadata": {},
   "outputs": [],
   "source": [
    "allnwb\n",
    "test = [allnwb[0]]"
   ]
  },
  {
   "cell_type": "code",
   "execution_count": 17,
   "id": "3088a386",
   "metadata": {},
   "outputs": [
    {
     "name": "stdout",
     "output_type": "stream",
     "text": [
      "Nov22_Pair15_aggressio\n",
      "Isolating behavior Aggression receipt\n",
      "Isolating behavior Defensive rear\n",
      "Isolating behavior Defensive strike\n",
      "Isolating behavior Huddle\n",
      "Isolating behavior Investigate\n",
      "Isolating behavior No interaction\n",
      "Isolating behavior Sniff\n",
      "Isolating behavior Strike\n",
      "Isolating behavior Tussle\n"
     ]
    },
    {
     "name": "stderr",
     "output_type": "stream",
     "text": [
      "C:\\Users\\Nerissa\\AppData\\Local\\Temp\\ipykernel_13004\\1324250382.py:33: SettingWithCopyWarning: \n",
      "A value is trying to be set on a copy of a slice from a DataFrame.\n",
      "Try using .loc[row_indexer,col_indexer] = value instead\n",
      "\n",
      "See the caveats in the documentation: https://pandas.pydata.org/pandas-docs/stable/user_guide/indexing.html#returning-a-view-versus-a-copy\n",
      "  thisb.start_time = thisb.start_time-assayStart\n",
      "C:\\Users\\Nerissa\\AppData\\Local\\Temp\\ipykernel_13004\\1324250382.py:34: SettingWithCopyWarning: \n",
      "A value is trying to be set on a copy of a slice from a DataFrame.\n",
      "Try using .loc[row_indexer,col_indexer] = value instead\n",
      "\n",
      "See the caveats in the documentation: https://pandas.pydata.org/pandas-docs/stable/user_guide/indexing.html#returning-a-view-versus-a-copy\n",
      "  thisb.stop_time = thisb.stop_time-assayStart\n"
     ]
    }
   ],
   "source": [
    "# ----- Get all times, durations of requested behavior -----\n",
    "\n",
    "# loop over files\n",
    "for i,fname in enumerate(test):\n",
    "    # open file\n",
    "    io = NWBHDF5IO(os.path.join(nwbpath,fname), mode=\"r\") # <-- open in write to append snippets?\n",
    "    nwbfile = io.read()\n",
    "    \n",
    "    pathsplit = fname.split('\\\\')\n",
    "    recstem = pathsplit[-1].strip('.nwb')\n",
    "    \n",
    "    print(recstem)\n",
    "       \n",
    "    # get aggregated annotation table\n",
    "    statsdf = nwbfile.intervals[usefield].to_dataframe()\n",
    "    \n",
    "    # find start time of assay\n",
    "    assayStart = float(statsdf.start_time[statsdf.behavior=='Start assay'])\n",
    "    \n",
    "    # get a list of all behaviors\n",
    "    allbehav = np.unique(statsdf.behavior)\n",
    "    \n",
    "    # remove the start assay code\n",
    "    behav = []\n",
    "    behav += [each for each in allbehav if each != 'Start assay']\n",
    "    \n",
    "    # loop over each behavior to make a separated table\n",
    "    for bhv in behav:\n",
    "        print(f'Isolating behavior {bhv}')\n",
    "        thisb = statsdf[statsdf.behavior==bhv]\n",
    "\n",
    "        # make a table of start_time, stop_time, duration labeled with the behavior annotation\n",
    "        thisb.start_time = thisb.start_time-assayStart\n",
    "        thisb.stop_time = thisb.stop_time-assayStart\n",
    "\n",
    "        # save that back to the NWB file\n",
    "        \n",
    "            # handle PPTs\n",
    "        if nwbfile.lab_meta_data['vole_metadata'].assay_type == 'PPT':\n",
    "            pchamb = nwbfile.lab_meta_data['vole_metadata'].assay_type__partner_chamber\n",
    "            \n",
    "            # FIX THIS TO LABEL BY PARTNER AND STRANGER CHAMBER\n",
    "            \n",
    "            if pchamb in bhv:\n",
    "                \n",
    "        \n",
    "        this_behav_table = TimeIntervals.from_dataframe(thisb,f'single_behavior_{bhv}',\n",
    "                                          table_description=f'Assay-aligned annotations for behavior coded {bhv}.')\n",
    "\n",
    "        # add data\n",
    "        nwbfile.add_time_intervals(this_behav_table)\n",
    "        \n",
    "    if writeToDisk:    \n",
    "        io.write(nwbfile)\n",
    "    \n",
    "    io.close()"
   ]
  },
  {
   "cell_type": "code",
   "execution_count": 24,
   "id": "28c55e82",
   "metadata": {},
   "outputs": [
    {
     "data": {
      "text/plain": [
       "8"
      ]
     },
     "execution_count": 24,
     "metadata": {},
     "output_type": "execute_result"
    }
   ],
   "source": [
    "nwbfile.lab_meta_data['vole_metadata'].assay_type__days_post_pairing"
   ]
  },
  {
   "cell_type": "code",
   "execution_count": 9,
   "id": "8ec2fc97",
   "metadata": {},
   "outputs": [
    {
     "data": {
      "text/plain": [
       "array(['Aggression receipt', 'Defensive rear', 'Defensive strike',\n",
       "       'Huddle', 'Investigate', 'No interaction', 'Sniff', 'Start assay',\n",
       "       'Strike', 'Tussle'], dtype=object)"
      ]
     },
     "execution_count": 9,
     "metadata": {},
     "output_type": "execute_result"
    }
   ],
   "source": [
    "allbehav"
   ]
  },
  {
   "cell_type": "code",
   "execution_count": null,
   "id": "9ced5b2d",
   "metadata": {},
   "outputs": [],
   "source": [
    "# ----- Notes -----\n",
    "# when I want something like counts and latencies, I can just ask for the size and first instance from those tables\n",
    "# they will be easy to feed into rasters and histograms"
   ]
  }
 ],
 "metadata": {
  "kernelspec": {
   "display_name": "Python 3 (ipykernel)",
   "language": "python",
   "name": "python3"
  },
  "language_info": {
   "codemirror_mode": {
    "name": "ipython",
    "version": 3
   },
   "file_extension": ".py",
   "mimetype": "text/x-python",
   "name": "python",
   "nbconvert_exporter": "python",
   "pygments_lexer": "ipython3",
   "version": "3.9.7"
  }
 },
 "nbformat": 4,
 "nbformat_minor": 5
}
