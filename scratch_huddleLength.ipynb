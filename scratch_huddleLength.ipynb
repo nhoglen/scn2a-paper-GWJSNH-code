{
 "cells": [
  {
   "cell_type": "code",
   "execution_count": null,
   "id": "80000666",
   "metadata": {},
   "outputs": [],
   "source": [
    "import numpy as np\n",
    "import pandas as pd\n",
    "import os\n",
    "import warnings\n",
    "import librosa\n",
    "import matplotlib.pyplot as plt\n",
    "import matplotlib.colors as mcolors\n",
    "import seaborn as sns\n",
    "from random import shuffle\n",
    "import scipy.stats as st\n",
    "\n",
    "from pynwb import NWBHDF5IO\n",
    "from pynwb.image import ImageSeries\n",
    "from pynwb.epoch import TimeIntervals"
   ]
  },
  {
   "cell_type": "code",
   "execution_count": null,
   "id": "76389d7e",
   "metadata": {},
   "outputs": [],
   "source": [
    "nwbpath = 'C:\\\\Users\\\\nhogl\\\\Documents\\\\GitHub\\\\scn2a-paper-GWJSNH-code\\\\NWB'\n",
    "\n",
    "assay = 'reunion'\n",
    "allnwb = []\n",
    "allnwb += [os.path.join(nwbpath,each) for each in os.listdir(nwbpath) if assay in each]\n",
    "\n",
    "# usefield = 'single_behavior_Huddle'"
   ]
  },
  {
   "cell_type": "code",
   "execution_count": null,
   "id": "e1f475ea",
   "metadata": {},
   "outputs": [],
   "source": [
    "# compare huddle length of partner vs stranger per group\n",
    "# distributions per individual\n",
    "# collect all durations for partner and stranger for each individual and put those in a dataframe\n",
    "# can add histograms to dataframe\n",
    "# show paired medians per individual\n",
    "# collapse into a single distribution? per group\n",
    "\n",
    "# ID, sex, GT, dur, partner, stranger, time\n",
    "\n",
    "\n",
    "# loop over files\n",
    "# make a table of specified info\n",
    "# add to big table\n",
    "\n",
    "for i,fname in enumerate(allnwb):\n",
    "    # open file\n",
    "    io = NWBHDF5IO(os.path.join(nwbpath,fname), mode=\"r\") # <-- open in write to append snippets?\n",
    "    nwbfile = io.read()\n",
    "    \n",
    "    # for sanity check, print out the name of the file being handled\n",
    "    pathsplit = fname.split('\\\\')\n",
    "    recstem = pathsplit[-1].strip('.nwb')\n",
    "    print(recstem)\n",
    "    \n",
    "    # filter out files that don't have complete timelines\n",
    "    \n",
    "    try:\n",
    "        partnerdf = nwbfile.intervals['single_behavior_Huddle Partner'].to_dataframe()\n",
    "        nrpartner = partnerdf.shape[0]\n",
    "        masspartner = ['partner']*nrpartner\n",
    "    except:\n",
    "        print('No partner huddles')\n",
    "    try:\n",
    "        strangerdf = nwbfile.intervals['single_behavior_Huddle Stranger'].to_dataframe()\n",
    "        nrstranger = strangerdf.shape[0]\n",
    "        massstranger = ['stranger']*nrstranger\n",
    "    except:\n",
    "        print('No stranger huddles')\n",
    "        \n",
    "    # make new dataframe with start times, durations, and labels\n",
    "    \n",
    "    combdf = pd.concat([partnerdf, strangerdf])\n",
    "    \n",
    "    nrentries = combdf.shape[0]\n",
    "    \n",
    "    massGT = [GT]*nrentries\n",
    "    massPairtag = [pair_tag]*nrcalls\n",
    "    massSex = [nwbfile.subject.sex]*nrcalls\n",
    "    \n",
    "    nrcols = statsdf.shape[1]\n",
    "    \n",
    "    # add columns\n",
    "#     statsdf.insert(nrcols, 'Experiment', massExpt, True)\n",
    "#     statsdf.insert(nrcols+1, 'Pairtag', massPairtag, True)\n",
    "#     statsdf.insert(nrcols+2, 'RecSess', massRecSess, True)\n",
    "#     statsdf.insert(nrcols+3, 'GT', massGT, True)"
   ]
  }
 ],
 "metadata": {
  "kernelspec": {
   "display_name": "Python 3 (ipykernel)",
   "language": "python",
   "name": "python3"
  },
  "language_info": {
   "codemirror_mode": {
    "name": "ipython",
    "version": 3
   },
   "file_extension": ".py",
   "mimetype": "text/x-python",
   "name": "python",
   "nbconvert_exporter": "python",
   "pygments_lexer": "ipython3",
   "version": "3.10.6"
  }
 },
 "nbformat": 4,
 "nbformat_minor": 5
}
