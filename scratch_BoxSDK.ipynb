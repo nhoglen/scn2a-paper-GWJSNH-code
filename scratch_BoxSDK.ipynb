{
 "cells": [
  {
   "cell_type": "code",
   "execution_count": 33,
   "id": "ae87e647",
   "metadata": {},
   "outputs": [],
   "source": [
    "import os\n",
    "from boxsdk import OAuth2, Client\n",
    "import pandas as pd\n",
    "import re"
   ]
  },
  {
   "cell_type": "code",
   "execution_count": 63,
   "id": "8a10952b",
   "metadata": {},
   "outputs": [],
   "source": [
    "# ---- Get login credentials from environment variables -----\n",
    "\n",
    "# - note this needs to be adjusted for each authorized user... ask Nerissa about getting and setting this information\n",
    "# - developer access tokens expire quickly, so this probably needs to be set at startup and perhaps even while working\n",
    "client_id = os.environ.get('box_client_id')\n",
    "client_secret = os.environ.get('box_client_secret')\n",
    "# access_token = os.environ.get('box_access_token') # just put this one in here because it expires anyway\n",
    "access_token = '0mpL1aOubspUV7vl7VT43oa8G5HD8yJa'\n",
    "\n",
    "\n",
    "# ----- Open a connection to the Box server -----\n",
    "\n",
    "auth = OAuth2(\n",
    "    client_id=client_id, # put these in environmental variables\n",
    "    client_secret=client_secret,\n",
    "    access_token=access_token,\n",
    ")\n",
    "client = Client(auth)"
   ]
  },
  {
   "cell_type": "code",
   "execution_count": 4,
   "id": "e38073ae",
   "metadata": {},
   "outputs": [
    {
     "name": "stdout",
     "output_type": "stream",
     "text": [
      "Folder 238576018931 is named \"Aggregated_Events\"\n",
      "Folder 202955487033 is named \"April2023_ShortCoHab_Females\"\n",
      "Folder 226890392440 is named \"BorisFiles\"\n",
      "Folder 196172227913 is named \"Female Intros\"\n",
      "Folder 196173015061 is named \"Female PPTs\"\n",
      "Folder 196170422974 is named \"Female RI\"\n",
      "Folder 196169230497 is named \"Female SepReunion\"\n",
      "Folder 196171174766 is named \"Female TMs\"\n",
      "Folder 214178119262 is named \"June2023_ControlBehaviors\"\n",
      "Folder 196166676922 is named \"Male Intros\"\n",
      "Folder 196172624162 is named \"Male PPTs\"\n",
      "Folder 196171675763 is named \"Male RI\"\n",
      "Folder 196172896956 is named \"Male SepReunion\"\n",
      "Folder 196172739371 is named \"Male TMs\"\n",
      "Folder 248394520156 is named \"Naive_Choice\"\n",
      "Folder 229587753245 is named \"Oct2023_JuvenileBehavior\"\n",
      "File 1177298175085 is named \"Scn2aX1Nov22_Key.xlsx\"\n"
     ]
    }
   ],
   "source": [
    "# ----- Work on directory structure -----\n",
    "\n",
    "# get the list of items in the whole Scn2a folder\n",
    "items = client.folder(folder_id='196168550606').get_items()\n",
    "\n",
    "# list contents\n",
    "for item in items:\n",
    "    print(f'{item.type.capitalize()} {item.id} is named \"{item.name}\"')"
   ]
  },
  {
   "cell_type": "code",
   "execution_count": 26,
   "id": "5c396be6",
   "metadata": {},
   "outputs": [],
   "source": [
    "def visit_all_dirs_files(usedir,full_list,curr_path):\n",
    "    \n",
    "    # get all the items in the current folder\n",
    "    theseitems = client.folder(folder_id=usedir).get_items()\n",
    "    \n",
    "    for item in theseitems:     # loop over items\n",
    "        tp = item.type # get key fields from directory items\n",
    "        nm = item.name\n",
    "        iid = item.id\n",
    "        \n",
    "        if tp == 'folder': # recursion if a folder is found\n",
    "            curr_path.append(nm) # add directory to path\n",
    "            full_list = visit_all_dirs_files(iid,full_list,curr_path) # look for more folders/files\n",
    "            curr_path.pop() # clean the folder back off the path when going up a level\n",
    "        else: # keep track of all the paths when there are files\n",
    "            tpath = os.path.join(*curr_path)\n",
    "            full_list.append(os.path.join(tpath,nm))           \n",
    "    \n",
    "    return full_list"
   ]
  },
  {
   "cell_type": "code",
   "execution_count": 25,
   "id": "f10eeca1",
   "metadata": {},
   "outputs": [
    {
     "name": "stdout",
     "output_type": "stream",
     "text": [
      "['Scn2a_X1Behavior_Nov22', 'Female Intros', '01032023']\n",
      "['Scn2a_X1Behavior_Nov22', 'Female Intros', '01242023']\n",
      "['Scn2a_X1Behavior_Nov22', 'Female Intros', '02072023']\n",
      "['Scn2a_X1Behavior_Nov22', 'Female Intros', '02282023']\n",
      "['Scn2a_X1Behavior_Nov22', 'Female Intros', '08082023']\n",
      "['Scn2a_X1Behavior_Nov22', 'Female Intros', '09052023']\n",
      "['Scn2a_X1Behavior_Nov22', 'Female Intros', '11072023']\n",
      "['Scn2a_X1Behavior_Nov22', 'Female Intros', '11142022']\n",
      "['Scn2a_X1Behavior_Nov22', 'Female Intros', '11292022']\n",
      "['Scn2a_X1Behavior_Nov22', 'Male Intros', '01042023']\n",
      "['Scn2a_X1Behavior_Nov22', 'Male Intros', '01252023']\n",
      "['Scn2a_X1Behavior_Nov22', 'Male Intros', '02082023']\n",
      "['Scn2a_X1Behavior_Nov22', 'Male Intros', '03012023']\n",
      "['Scn2a_X1Behavior_Nov22', 'Male Intros', '03152023']\n",
      "['Scn2a_X1Behavior_Nov22', 'Male Intros', '03222023']\n",
      "['Scn2a_X1Behavior_Nov22', 'Male Intros', '04052023']\n",
      "['Scn2a_X1Behavior_Nov22', 'Male Intros', '04122023']\n",
      "['Scn2a_X1Behavior_Nov22', 'Male Intros', '04192023']\n",
      "['Scn2a_X1Behavior_Nov22', 'Male Intros', '08092023']\n",
      "['Scn2a_X1Behavior_Nov22', 'Male Intros', 'DoNotScore_11302022']\n",
      "['Scn2a_X1Behavior_Nov22\\\\Female Intros\\\\01032023\\\\Nov22_Pair13_Intro_WIN_20230103_13_45_14_Pro.mp4', 'Scn2a_X1Behavior_Nov22\\\\Female Intros\\\\01032023\\\\Nov22_Pair14-Intro_WIN_20230103_13_45_36_Pro.mp4', 'Scn2a_X1Behavior_Nov22\\\\Female Intros\\\\01032023\\\\Nov22_Pair15_Intro.mov', 'Scn2a_X1Behavior_Nov22\\\\Female Intros\\\\01032023\\\\Nov22_Pair16_Intro_WIN_20230103_13_46_48_Pro.mp4', 'Scn2a_X1Behavior_Nov22\\\\Female Intros\\\\01242023\\\\Nov22_Pair21_Intro_2023-01-24 13-25-51.mp4', 'Scn2a_X1Behavior_Nov22\\\\Female Intros\\\\01242023\\\\Nov22_Pair22_Intro_2023-01-24 13-25-52.mp4', 'Scn2a_X1Behavior_Nov22\\\\Female Intros\\\\01242023\\\\Nov22_Pair23_Intro_2023-01-24 13-25-55.mp4', 'Scn2a_X1Behavior_Nov22\\\\Female Intros\\\\02072023\\\\Nov22_Pair28_Intro_2023-02-07 13-18-12.mp4', 'Scn2a_X1Behavior_Nov22\\\\Female Intros\\\\02072023\\\\Nov22_Pair29_Intro_2023-02-07 13-18-14.mp4', 'Scn2a_X1Behavior_Nov22\\\\Female Intros\\\\02072023\\\\Nov22_Pair30_Intro_2023-02-07 13-18-15.mp4', 'Scn2a_X1Behavior_Nov22\\\\Female Intros\\\\02072023\\\\Nov22_Pair31_Intro_WIN_20230207_13_18_15_Pro.mp4', 'Scn2a_X1Behavior_Nov22\\\\Female Intros\\\\02282023\\\\Nov22_Pair35_Intro_2023-02-28 14-02-19.mp4', 'Scn2a_X1Behavior_Nov22\\\\Female Intros\\\\02282023\\\\Nov22_Pair36_Intro_2023-02-28 14-02-28.mp4', 'Scn2a_X1Behavior_Nov22\\\\Female Intros\\\\08082023\\\\Nov22_Pair56_Intro_2023-08-08 13-13-52.mp4', 'Scn2a_X1Behavior_Nov22\\\\Female Intros\\\\09052023\\\\Nov22_Pair59_Intro_2023-09-05 13-52-22.mp4', 'Scn2a_X1Behavior_Nov22\\\\Female Intros\\\\09052023\\\\Nov22_Pair60_Intro_2023-09-05 13-52-23.mp4', 'Scn2a_X1Behavior_Nov22\\\\Female Intros\\\\11072023\\\\Nov22_Pair61_Intro_2023-11-07 13-05-43.mp4', 'Scn2a_X1Behavior_Nov22\\\\Female Intros\\\\11072023\\\\Nov22_Pair62_Intro_2023-11-07 13-05-44.mp4', 'Scn2a_X1Behavior_Nov22\\\\Female Intros\\\\11072023\\\\Nov22_Pair63_Intro_2023-11-07 13-05-47.mp4', 'Scn2a_X1Behavior_Nov22\\\\Female Intros\\\\11072023\\\\Nov22_Pair64_Intro.mov', 'Scn2a_X1Behavior_Nov22\\\\Female Intros\\\\11142022\\\\Nov22_Pair1Intro_WIN_20221114_12_47_25_Pro.mp4', 'Scn2a_X1Behavior_Nov22\\\\Female Intros\\\\11142022\\\\Nov22_Pair2Intro_WIN_20221114_12_47_37_Pro.mp4', 'Scn2a_X1Behavior_Nov22\\\\Female Intros\\\\11142022\\\\Nov22_Pair3Intro.mov', 'Scn2a_X1Behavior_Nov22\\\\Female Intros\\\\11142022\\\\Nov22_Pair4Intro.mov', 'Scn2a_X1Behavior_Nov22\\\\Female Intros\\\\11292022\\\\Nov22_Pair5_Intro_WIN_20221129_13_09_22_Pro.mp4', 'Scn2a_X1Behavior_Nov22\\\\Female Intros\\\\11292022\\\\Nov22_Pair6_intro_WIN_20221129_13_09_21_Pro.mp4', 'Scn2a_X1Behavior_Nov22\\\\Female Intros\\\\11292022\\\\Nov22_Pair7_Intro.mov', 'Scn2a_X1Behavior_Nov22\\\\Female Intros\\\\11292022\\\\Nov22_Pair8_Intro_WIN_20221129_13_12_28_Pro.mp4', 'Scn2a_X1Behavior_Nov22\\\\Male Intros\\\\01042023\\\\Nov22_Pair17_Intro_WIN_20230104_12_24_30_Pro.mp4', 'Scn2a_X1Behavior_Nov22\\\\Male Intros\\\\01042023\\\\Nov22_Pair18_Intro_WIN_20230104_12_25_08_Pro.mp4', 'Scn2a_X1Behavior_Nov22\\\\Male Intros\\\\01042023\\\\Nov22_Pair19_Intro.mov', 'Scn2a_X1Behavior_Nov22\\\\Male Intros\\\\01042023\\\\Nov22_Pair20_Intro_WIN_20230104_12_25_49_Pro.mp4', 'Scn2a_X1Behavior_Nov22\\\\Male Intros\\\\01252023\\\\Nov22_Pair24_Intro_2023-01-25 13-23-32.mp4', 'Scn2a_X1Behavior_Nov22\\\\Male Intros\\\\01252023\\\\Nov22_Pair25_Intro_2023-01-25 13-23-35.mp4', 'Scn2a_X1Behavior_Nov22\\\\Male Intros\\\\01252023\\\\Nov22_Pair26_Intro_2023-01-25 13-23-52.mp4', 'Scn2a_X1Behavior_Nov22\\\\Male Intros\\\\01252023\\\\Nov22_Pair27_Intro_WIN_20230125_13_23_38_Pro.mp4', 'Scn2a_X1Behavior_Nov22\\\\Male Intros\\\\02082023\\\\Nov22_Pair32_Intro_2023-02-08 13-31-20.mp4', 'Scn2a_X1Behavior_Nov22\\\\Male Intros\\\\02082023\\\\Nov22_Pair33_Intro_2023-02-08 13-31-22.mp4', 'Scn2a_X1Behavior_Nov22\\\\Male Intros\\\\02082023\\\\Nov22_Pair34_Intro_2023-02-08 13-31-23.mp4', 'Scn2a_X1Behavior_Nov22\\\\Male Intros\\\\03012023\\\\Nov22_Pair37_Intro_2023-03-01 13-29-49.mp4', 'Scn2a_X1Behavior_Nov22\\\\Male Intros\\\\03012023\\\\Nov22_Pair38_Intro_2023-03-01 13-29-51.mp4', 'Scn2a_X1Behavior_Nov22\\\\Male Intros\\\\03152023\\\\Nov22_Pair39_Intro_2023-03-15 13-54-04.mp4', 'Scn2a_X1Behavior_Nov22\\\\Male Intros\\\\03152023\\\\Nov22_Pair40_Intro_2023-03-15 13-54-07.mp4', 'Scn2a_X1Behavior_Nov22\\\\Male Intros\\\\03152023\\\\Nov22_Pair41_Intro_2023-03-15 13-54-09.mp4', 'Scn2a_X1Behavior_Nov22\\\\Male Intros\\\\03222023\\\\Nov22_Pair42_Intro_2023-03-22 12-37-10.mp4', 'Scn2a_X1Behavior_Nov22\\\\Male Intros\\\\03222023\\\\Nov22_Pair43_Intro_2023-03-22 12-37-08.mp4', 'Scn2a_X1Behavior_Nov22\\\\Male Intros\\\\04052023\\\\DONOTSCORE_Nov22_Pair45_Intro_2023-04-05 14-10-24.mp4', 'Scn2a_X1Behavior_Nov22\\\\Male Intros\\\\04052023\\\\Nov22_Pair44_Intro_2023-04-05 14-10-23.mp4', 'Scn2a_X1Behavior_Nov22\\\\Male Intros\\\\04052023\\\\Nov22_Pair46_Intro_2023-04-05 14-10-29.mp4', 'Scn2a_X1Behavior_Nov22\\\\Male Intros\\\\04122023\\\\Nov22_Pair47_Intro_2023-04-12 13-45-11.mp4', 'Scn2a_X1Behavior_Nov22\\\\Male Intros\\\\04122023\\\\Nov22_pair48_Intro_2023-04-12 13-45-13.mp4', 'Scn2a_X1Behavior_Nov22\\\\Male Intros\\\\04122023\\\\Nov22_Pair49_Intro_2023-04-12 13-45-16.mp4', 'Scn2a_X1Behavior_Nov22\\\\Male Intros\\\\04122023\\\\Nov22_Pair50_Intro_WIN_20230412_13_45_26_Pro.mp4', 'Scn2a_X1Behavior_Nov22\\\\Male Intros\\\\04192023\\\\Nov22_Pair51_Intro_2023-04-19 12-55-25.mp4', 'Scn2a_X1Behavior_Nov22\\\\Male Intros\\\\04192023\\\\Nov22_Pair52_Intro_2023-04-19 12-55-27.mp4', 'Scn2a_X1Behavior_Nov22\\\\Male Intros\\\\08092023\\\\Nov22_Pair57_Intro_2023-08-09 13-07-27.mp4', 'Scn2a_X1Behavior_Nov22\\\\Male Intros\\\\08092023\\\\Nov22_Pair58_Intro_2023-08-09 13-07-28.mp4', 'Scn2a_X1Behavior_Nov22\\\\Male Intros\\\\DoNotScore_11302022\\\\DONOTSCORE_Nov22_Pair9_Intro_WIN_20221130_13_54_56_Pro.mp4', 'Scn2a_X1Behavior_Nov22\\\\Male Intros\\\\DoNotScore_11302022\\\\Nov22_Pair10_Intro_WIN_20221130_13_54_57_Pro.mp4', 'Scn2a_X1Behavior_Nov22\\\\Male Intros\\\\DoNotScore_11302022\\\\Nov22_Pair11_Intro.mov', 'Scn2a_X1Behavior_Nov22\\\\Male Intros\\\\DoNotScore_11302022\\\\Nov22_Pair12_Intro_WIN_20221130_13_58_05_Pro.mp4']\n"
     ]
    }
   ],
   "source": [
    "# --- figure out which directories have intros\n",
    "\n",
    "assaykeyword = 'Intros'\n",
    "\n",
    "usedirs = []\n",
    "items = client.folder(folder_id='196168550606').get_items()\n",
    "\n",
    "for item in items:\n",
    "    iid = item.id\n",
    "    inm = item.name\n",
    "    if inm.find(assaykeyword)>-1:\n",
    "        usedirs.append(iid)\n",
    "\n",
    "# print(usedirs)\n",
    "\n",
    "# --- collect all the paths and filenames\n",
    "\n",
    "rootpath = ['Scn2a_X1Behavior_Nov22']\n",
    "\n",
    "allpaths = []\n",
    "\n",
    "for usedir in usedirs: \n",
    "    \n",
    "    # add starting folder to curr_path\n",
    "    udnm = client.folder(folder_id=usedir).get(fields=['name']).name\n",
    "    curr_path = rootpath + [udnm]\n",
    "    \n",
    "    # search for files\n",
    "    thesepaths = visit_all_dirs_files(usedir,[],curr_path)\n",
    "\n",
    "    # consolidate\n",
    "    allpaths += thesepaths\n",
    "    \n",
    "print(allpaths)\n",
    "    \n",
    "# --- loop over info in metadata to find intro video files\n",
    "\n",
    "# load up metadata\n",
    "# meta = pd.read_csv('metadata_intros_v1.csv')\n",
    "\n",
    "# keep track of paths to log file names and full paths\n",
    "# do the same thing for the Boris aggregated events\n",
    "# do the same thing for the Boris files"
   ]
  },
  {
   "cell_type": "code",
   "execution_count": 28,
   "id": "056ccd2c",
   "metadata": {},
   "outputs": [],
   "source": [
    "# get a list of just file names to hunt through\n",
    "justfiles = []\n",
    "for pth in allpaths:\n",
    "    justfiles.append(os.path.basename(pth))"
   ]
  },
  {
   "cell_type": "code",
   "execution_count": 30,
   "id": "7e9d8979",
   "metadata": {},
   "outputs": [
    {
     "name": "stdout",
     "output_type": "stream",
     "text": [
      "Nov22_Pair13_Intro_WIN_20230103_13_45_14_Pro.mp4\n",
      "Nov22_Pair14-Intro_WIN_20230103_13_45_36_Pro.mp4\n",
      "Nov22_Pair15_Intro.mov\n",
      "Nov22_Pair16_Intro_WIN_20230103_13_46_48_Pro.mp4\n",
      "Nov22_Pair21_Intro_2023-01-24 13-25-51.mp4\n",
      "Nov22_Pair22_Intro_2023-01-24 13-25-52.mp4\n",
      "Nov22_Pair23_Intro_2023-01-24 13-25-55.mp4\n",
      "Nov22_Pair28_Intro_2023-02-07 13-18-12.mp4\n",
      "Nov22_Pair29_Intro_2023-02-07 13-18-14.mp4\n",
      "Nov22_Pair30_Intro_2023-02-07 13-18-15.mp4\n",
      "Nov22_Pair31_Intro_WIN_20230207_13_18_15_Pro.mp4\n",
      "Nov22_Pair35_Intro_2023-02-28 14-02-19.mp4\n",
      "Nov22_Pair36_Intro_2023-02-28 14-02-28.mp4\n",
      "Nov22_Pair56_Intro_2023-08-08 13-13-52.mp4\n",
      "Nov22_Pair59_Intro_2023-09-05 13-52-22.mp4\n",
      "Nov22_Pair60_Intro_2023-09-05 13-52-23.mp4\n",
      "Nov22_Pair61_Intro_2023-11-07 13-05-43.mp4\n",
      "Nov22_Pair62_Intro_2023-11-07 13-05-44.mp4\n",
      "Nov22_Pair63_Intro_2023-11-07 13-05-47.mp4\n",
      "Nov22_Pair64_Intro.mov\n",
      "Nov22_Pair1Intro_WIN_20221114_12_47_25_Pro.mp4\n",
      "Nov22_Pair2Intro_WIN_20221114_12_47_37_Pro.mp4\n",
      "Nov22_Pair3Intro.mov\n",
      "Nov22_Pair4Intro.mov\n",
      "Nov22_Pair5_Intro_WIN_20221129_13_09_22_Pro.mp4\n",
      "Nov22_Pair6_intro_WIN_20221129_13_09_21_Pro.mp4\n",
      "Nov22_Pair7_Intro.mov\n",
      "Nov22_Pair8_Intro_WIN_20221129_13_12_28_Pro.mp4\n",
      "Nov22_Pair17_Intro_WIN_20230104_12_24_30_Pro.mp4\n",
      "Nov22_Pair18_Intro_WIN_20230104_12_25_08_Pro.mp4\n",
      "Nov22_Pair19_Intro.mov\n",
      "Nov22_Pair20_Intro_WIN_20230104_12_25_49_Pro.mp4\n",
      "Nov22_Pair24_Intro_2023-01-25 13-23-32.mp4\n",
      "Nov22_Pair25_Intro_2023-01-25 13-23-35.mp4\n",
      "Nov22_Pair26_Intro_2023-01-25 13-23-52.mp4\n",
      "Nov22_Pair27_Intro_WIN_20230125_13_23_38_Pro.mp4\n",
      "Nov22_Pair32_Intro_2023-02-08 13-31-20.mp4\n",
      "Nov22_Pair33_Intro_2023-02-08 13-31-22.mp4\n",
      "Nov22_Pair34_Intro_2023-02-08 13-31-23.mp4\n",
      "Nov22_Pair37_Intro_2023-03-01 13-29-49.mp4\n",
      "Nov22_Pair38_Intro_2023-03-01 13-29-51.mp4\n",
      "Nov22_Pair39_Intro_2023-03-15 13-54-04.mp4\n",
      "Nov22_Pair40_Intro_2023-03-15 13-54-07.mp4\n",
      "Nov22_Pair41_Intro_2023-03-15 13-54-09.mp4\n",
      "Nov22_Pair42_Intro_2023-03-22 12-37-10.mp4\n",
      "Nov22_Pair43_Intro_2023-03-22 12-37-08.mp4\n",
      "DONOTSCORE_Nov22_Pair45_Intro_2023-04-05 14-10-24.mp4\n",
      "Nov22_Pair44_Intro_2023-04-05 14-10-23.mp4\n",
      "Nov22_Pair46_Intro_2023-04-05 14-10-29.mp4\n",
      "Nov22_Pair47_Intro_2023-04-12 13-45-11.mp4\n",
      "Nov22_pair48_Intro_2023-04-12 13-45-13.mp4\n",
      "Nov22_Pair49_Intro_2023-04-12 13-45-16.mp4\n",
      "Nov22_Pair50_Intro_WIN_20230412_13_45_26_Pro.mp4\n",
      "Nov22_Pair51_Intro_2023-04-19 12-55-25.mp4\n",
      "Nov22_Pair52_Intro_2023-04-19 12-55-27.mp4\n",
      "Nov22_Pair57_Intro_2023-08-09 13-07-27.mp4\n",
      "Nov22_Pair58_Intro_2023-08-09 13-07-28.mp4\n",
      "DONOTSCORE_Nov22_Pair9_Intro_WIN_20221130_13_54_56_Pro.mp4\n",
      "Nov22_Pair10_Intro_WIN_20221130_13_54_57_Pro.mp4\n",
      "Nov22_Pair11_Intro.mov\n",
      "Nov22_Pair12_Intro_WIN_20221130_13_58_05_Pro.mp4\n"
     ]
    }
   ],
   "source": [
    "for fname in justfiles:\n",
    "    print(fname)"
   ]
  },
  {
   "cell_type": "code",
   "execution_count": 44,
   "id": "181a88f3",
   "metadata": {},
   "outputs": [],
   "source": [
    "def find_in_list(lst, item):\n",
    "    result = []\n",
    "    for i, x in enumerate(lst):\n",
    "        if re.search(f'{item}[_|-|I|i]',x,re.IGNORECASE):\n",
    "            result.append(i)\n",
    "    return result"
   ]
  },
  {
   "cell_type": "code",
   "execution_count": 46,
   "id": "e7141322",
   "metadata": {},
   "outputs": [],
   "source": [
    "# loop over metadata table\n",
    "# load up metadata\n",
    "meta = pd.read_csv('metadata_intros_v1.csv')\n",
    "\n",
    "# generate a regex of possible matches for filename\n",
    "fileIndex = []\n",
    "for tag in meta.PairTag:\n",
    "    match = find_in_list(justfiles,tag)\n",
    "    if len(match)==1:\n",
    "        fileIndex.append(match[0])\n",
    "    else:\n",
    "        print(f'No match for {tag}:')\n",
    "\n",
    "# will have pair number, dash, underscore, or no space and then intro or Intro"
   ]
  },
  {
   "cell_type": "code",
   "execution_count": 55,
   "id": "465cf474",
   "metadata": {},
   "outputs": [],
   "source": [
    "# use fileIndex to look up file names and paths and add to the metadata table -- then save table\n",
    "metafiles = []\n",
    "metapaths = []\n",
    "for i,tag in enumerate(meta.PairTag):\n",
    "    metafiles.append(justfiles[fileIndex[i]])\n",
    "    metapaths.append('\\\\'+os.path.dirname(allpaths[fileIndex[i]]))"
   ]
  },
  {
   "cell_type": "code",
   "execution_count": 51,
   "id": "7bd48782",
   "metadata": {},
   "outputs": [
    {
     "data": {
      "text/plain": [
       "'Scn2a_X1Behavior_Nov22\\\\Female Intros\\\\01032023'"
      ]
     },
     "execution_count": 51,
     "metadata": {},
     "output_type": "execute_result"
    }
   ],
   "source": [
    "os.path.dirname(allpaths[0])"
   ]
  },
  {
   "cell_type": "code",
   "execution_count": 67,
   "id": "c8e2b0c3",
   "metadata": {},
   "outputs": [
    {
     "data": {
      "text/plain": [
       "53"
      ]
     },
     "execution_count": 67,
     "metadata": {},
     "output_type": "execute_result"
    }
   ],
   "source": [
    "len(metafiles)"
   ]
  },
  {
   "cell_type": "code",
   "execution_count": 58,
   "id": "f2fc715e",
   "metadata": {},
   "outputs": [],
   "source": [
    "meta.VideoFile = metafiles"
   ]
  },
  {
   "cell_type": "code",
   "execution_count": 60,
   "id": "1beedf75",
   "metadata": {},
   "outputs": [],
   "source": [
    "meta.VideoPath = metapaths"
   ]
  },
  {
   "cell_type": "code",
   "execution_count": 66,
   "id": "90df0600",
   "metadata": {},
   "outputs": [
    {
     "name": "stdout",
     "output_type": "stream",
     "text": [
      "['Nov22_Pair15_Intro.csv', 'Nov22_Pair16_Intro.csv', 'Nov22_Pair17_Intro.csv', 'Nov22_Pair18_Intro.csv', 'Nov22_Pair19_Intro.csv', 'Nov22_Pair1_Intro.csv', 'Nov22_Pair21_Intro.csv', 'Nov22_Pair22_Intro.csv', 'Nov22_Pair23_Intro.csv', 'Nov22_Pair24_Intro.csv', 'Nov22_Pair25_Intro.csv', 'Nov22_Pair26_Intro.csv', 'Nov22_Pair27_Intro.csv', 'Nov22_Pair2_Intro.csv', 'Nov22_Pair3_Intro.csv', 'Nov22_Pair4_Intro.csv', 'Nov22_Pair5_Intro.csv', 'Nov22_Pair6_Intro.csv', 'Nov22_Pair7_Intro.csv', 'Nov22_Pair8_Intro.csv']\n",
      "20\n"
     ]
    }
   ],
   "source": [
    "# ----- Get BORIS scored aggregated events file names -----\n",
    "keyword = \"Intro\"\n",
    "aggfiles = []\n",
    "items = client.folder(folder_id='238576018931').get_items()\n",
    "\n",
    "for item in items:\n",
    "    inm = item.name\n",
    "    if inm.find(keyword)>-1:\n",
    "        aggfiles.append(inm)\n",
    "        \n",
    "print(aggfiles)\n",
    "print(len(aggfiles))"
   ]
  },
  {
   "cell_type": "code",
   "execution_count": 61,
   "id": "3742223d",
   "metadata": {},
   "outputs": [
    {
     "data": {
      "text/html": [
       "<div>\n",
       "<style scoped>\n",
       "    .dataframe tbody tr th:only-of-type {\n",
       "        vertical-align: middle;\n",
       "    }\n",
       "\n",
       "    .dataframe tbody tr th {\n",
       "        vertical-align: top;\n",
       "    }\n",
       "\n",
       "    .dataframe thead th {\n",
       "        text-align: right;\n",
       "    }\n",
       "</style>\n",
       "<table border=\"1\" class=\"dataframe\">\n",
       "  <thead>\n",
       "    <tr style=\"text-align: right;\">\n",
       "      <th></th>\n",
       "      <th>PairTag</th>\n",
       "      <th>AssayType</th>\n",
       "      <th>RecDate</th>\n",
       "      <th>VideoFile</th>\n",
       "      <th>ScoreFile</th>\n",
       "      <th>FemaleID</th>\n",
       "      <th>FemaleGT</th>\n",
       "      <th>FemaleFam</th>\n",
       "      <th>FemaleDOB</th>\n",
       "      <th>MaleID</th>\n",
       "      <th>...</th>\n",
       "      <th>Timeline</th>\n",
       "      <th>Ethogram</th>\n",
       "      <th>RanBy</th>\n",
       "      <th>ScoredBy</th>\n",
       "      <th>FullTimeline</th>\n",
       "      <th>FocalColor</th>\n",
       "      <th>StrangerID</th>\n",
       "      <th>StrangerGT</th>\n",
       "      <th>PPTlane</th>\n",
       "      <th>PartnerChamber</th>\n",
       "    </tr>\n",
       "  </thead>\n",
       "  <tbody>\n",
       "    <tr>\n",
       "      <th>0</th>\n",
       "      <td>Nov22_Pair1</td>\n",
       "      <td>introduction</td>\n",
       "      <td>11/14/2022</td>\n",
       "      <td>Nov22_Pair1Intro_WIN_20221114_12_47_25_Pro.mp4</td>\n",
       "      <td>NaN</td>\n",
       "      <td>B8002</td>\n",
       "      <td>Het</td>\n",
       "      <td>NaN</td>\n",
       "      <td>NaN</td>\n",
       "      <td>NaN</td>\n",
       "      <td>...</td>\n",
       "      <td>NaN</td>\n",
       "      <td>NaN</td>\n",
       "      <td>Gina Williams</td>\n",
       "      <td>Josh Steighner</td>\n",
       "      <td>True</td>\n",
       "      <td>NaN</td>\n",
       "      <td>NaN</td>\n",
       "      <td>NaN</td>\n",
       "      <td>NaN</td>\n",
       "      <td>NaN</td>\n",
       "    </tr>\n",
       "    <tr>\n",
       "      <th>1</th>\n",
       "      <td>Nov22_Pair15</td>\n",
       "      <td>introduction</td>\n",
       "      <td>1/3/2023</td>\n",
       "      <td>Nov22_Pair15_Intro.mov</td>\n",
       "      <td>NaN</td>\n",
       "      <td>B6614</td>\n",
       "      <td>Het</td>\n",
       "      <td>NaN</td>\n",
       "      <td>NaN</td>\n",
       "      <td>NaN</td>\n",
       "      <td>...</td>\n",
       "      <td>NaN</td>\n",
       "      <td>NaN</td>\n",
       "      <td>Gina Williams</td>\n",
       "      <td>Josh Steighner</td>\n",
       "      <td>True</td>\n",
       "      <td>NaN</td>\n",
       "      <td>NaN</td>\n",
       "      <td>NaN</td>\n",
       "      <td>NaN</td>\n",
       "      <td>NaN</td>\n",
       "    </tr>\n",
       "    <tr>\n",
       "      <th>2</th>\n",
       "      <td>Nov22_Pair16</td>\n",
       "      <td>introduction</td>\n",
       "      <td>1/3/2023</td>\n",
       "      <td>Nov22_Pair16_Intro_WIN_20230103_13_46_48_Pro.mp4</td>\n",
       "      <td>NaN</td>\n",
       "      <td>B6615</td>\n",
       "      <td>WT</td>\n",
       "      <td>NaN</td>\n",
       "      <td>NaN</td>\n",
       "      <td>NaN</td>\n",
       "      <td>...</td>\n",
       "      <td>NaN</td>\n",
       "      <td>NaN</td>\n",
       "      <td>Gina Williams</td>\n",
       "      <td>Josh Steighner</td>\n",
       "      <td>True</td>\n",
       "      <td>NaN</td>\n",
       "      <td>NaN</td>\n",
       "      <td>NaN</td>\n",
       "      <td>NaN</td>\n",
       "      <td>NaN</td>\n",
       "    </tr>\n",
       "    <tr>\n",
       "      <th>3</th>\n",
       "      <td>Nov22_Pair17</td>\n",
       "      <td>introduction</td>\n",
       "      <td>1/4/2023</td>\n",
       "      <td>Nov22_Pair17_Intro_WIN_20230104_12_24_30_Pro.mp4</td>\n",
       "      <td>NaN</td>\n",
       "      <td>NaN</td>\n",
       "      <td>NaN</td>\n",
       "      <td>NaN</td>\n",
       "      <td>NaN</td>\n",
       "      <td>B6611</td>\n",
       "      <td>...</td>\n",
       "      <td>NaN</td>\n",
       "      <td>NaN</td>\n",
       "      <td>Gina Williams</td>\n",
       "      <td>Josh Steighner</td>\n",
       "      <td>True</td>\n",
       "      <td>NaN</td>\n",
       "      <td>NaN</td>\n",
       "      <td>NaN</td>\n",
       "      <td>NaN</td>\n",
       "      <td>NaN</td>\n",
       "    </tr>\n",
       "    <tr>\n",
       "      <th>4</th>\n",
       "      <td>Nov22_Pair18</td>\n",
       "      <td>introduction</td>\n",
       "      <td>1/4/2023</td>\n",
       "      <td>Nov22_Pair18_Intro_WIN_20230104_12_25_08_Pro.mp4</td>\n",
       "      <td>NaN</td>\n",
       "      <td>NaN</td>\n",
       "      <td>NaN</td>\n",
       "      <td>NaN</td>\n",
       "      <td>NaN</td>\n",
       "      <td>B6613</td>\n",
       "      <td>...</td>\n",
       "      <td>NaN</td>\n",
       "      <td>NaN</td>\n",
       "      <td>Gina Williams</td>\n",
       "      <td>Josh Steighner</td>\n",
       "      <td>True</td>\n",
       "      <td>NaN</td>\n",
       "      <td>NaN</td>\n",
       "      <td>NaN</td>\n",
       "      <td>NaN</td>\n",
       "      <td>NaN</td>\n",
       "    </tr>\n",
       "  </tbody>\n",
       "</table>\n",
       "<p>5 rows × 32 columns</p>\n",
       "</div>"
      ],
      "text/plain": [
       "        PairTag     AssayType     RecDate  \\\n",
       "0   Nov22_Pair1  introduction  11/14/2022   \n",
       "1  Nov22_Pair15  introduction    1/3/2023   \n",
       "2  Nov22_Pair16  introduction    1/3/2023   \n",
       "3  Nov22_Pair17  introduction    1/4/2023   \n",
       "4  Nov22_Pair18  introduction    1/4/2023   \n",
       "\n",
       "                                          VideoFile  ScoreFile FemaleID  \\\n",
       "0    Nov22_Pair1Intro_WIN_20221114_12_47_25_Pro.mp4        NaN    B8002   \n",
       "1                            Nov22_Pair15_Intro.mov        NaN    B6614   \n",
       "2  Nov22_Pair16_Intro_WIN_20230103_13_46_48_Pro.mp4        NaN    B6615   \n",
       "3  Nov22_Pair17_Intro_WIN_20230104_12_24_30_Pro.mp4        NaN      NaN   \n",
       "4  Nov22_Pair18_Intro_WIN_20230104_12_25_08_Pro.mp4        NaN      NaN   \n",
       "\n",
       "  FemaleGT  FemaleFam  FemaleDOB MaleID  ... Timeline  Ethogram  \\\n",
       "0      Het        NaN        NaN    NaN  ...      NaN       NaN   \n",
       "1      Het        NaN        NaN    NaN  ...      NaN       NaN   \n",
       "2       WT        NaN        NaN    NaN  ...      NaN       NaN   \n",
       "3      NaN        NaN        NaN  B6611  ...      NaN       NaN   \n",
       "4      NaN        NaN        NaN  B6613  ...      NaN       NaN   \n",
       "\n",
       "           RanBy        ScoredBy FullTimeline FocalColor  StrangerID  \\\n",
       "0  Gina Williams  Josh Steighner         True        NaN         NaN   \n",
       "1  Gina Williams  Josh Steighner         True        NaN         NaN   \n",
       "2  Gina Williams  Josh Steighner         True        NaN         NaN   \n",
       "3  Gina Williams  Josh Steighner         True        NaN         NaN   \n",
       "4  Gina Williams  Josh Steighner         True        NaN         NaN   \n",
       "\n",
       "  StrangerGT PPTlane PartnerChamber  \n",
       "0        NaN     NaN            NaN  \n",
       "1        NaN     NaN            NaN  \n",
       "2        NaN     NaN            NaN  \n",
       "3        NaN     NaN            NaN  \n",
       "4        NaN     NaN            NaN  \n",
       "\n",
       "[5 rows x 32 columns]"
      ]
     },
     "execution_count": 61,
     "metadata": {},
     "output_type": "execute_result"
    }
   ],
   "source": [
    "meta.head()"
   ]
  },
  {
   "cell_type": "code",
   "execution_count": null,
   "id": "a2163a0e",
   "metadata": {},
   "outputs": [],
   "source": [
    "# ----- BELOW THIS IS OUTDATED SCRATCH TESTING -----"
   ]
  },
  {
   "cell_type": "code",
   "execution_count": 2,
   "id": "3b14d5b4",
   "metadata": {},
   "outputs": [
    {
     "name": "stdout",
     "output_type": "stream",
     "text": [
      "Enter developer token: H8AyUtNZ9dFurHIpYNSgjza5FeH7E2jA\n"
     ]
    }
   ],
   "source": [
    "from boxsdk import DevelopmentClient\n",
    "client = DevelopmentClient()"
   ]
  },
  {
   "cell_type": "code",
   "execution_count": 3,
   "id": "455da6a1",
   "metadata": {},
   "outputs": [
    {
     "name": "stdout",
     "output_type": "stream",
     "text": [
      "\u001b[36mGET https://api.box.com/2.0/users/me {'headers': {'Authorization': '---E2jA',\n",
      "             'User-Agent': 'box-python-sdk-3.9.2',\n",
      "             'X-Box-UA': 'agent=box-python-sdk/3.9.2; env=python/3.10.6'},\n",
      " 'params': None}\u001b[0m\n",
      "\u001b[32m\"GET https://api.box.com/2.0/users/me\" 200 468\n",
      "{'Date': 'Fri, 29 Mar 2024 00:52:41 GMT', 'Content-Type': 'application/json', 'x-envoy-upstream-service-time': '126', 'box-request-id': '05a3a064a1faabb3244d7c86099a582a1', 'cache-control': 'no-cache, no-store', 'strict-transport-security': 'max-age=31536000', 'Via': '1.1 google', 'Alt-Svc': 'h3=\":443\"; ma=2592000,h3-29=\":443\"; ma=2592000', 'Transfer-Encoding': 'chunked'}\n",
      "{'address': '',\n",
      " 'avatar_url': 'https://ucsf.app.box.com/api/avatar/large/226757841',\n",
      " 'created_at': '2014-10-31T14:13:47-07:00',\n",
      " 'id': '226757841',\n",
      " 'job_title': '',\n",
      " 'language': 'en',\n",
      " 'login': 'nerissa.hoglen@ucsf.edu',\n",
      " 'max_upload_size': 53687091200,\n",
      " 'modified_at': '2024-03-28T17:41:33-07:00',\n",
      " 'name': 'Nerissa Hoglen',\n",
      " 'notification_email': None,\n",
      " 'phone': '',\n",
      " 'space_amount': 999999999999999,\n",
      " 'space_used': 12883098040551,\n",
      " 'status': 'active',\n",
      " 'timezone': 'America/Los_Angeles',\n",
      " 'type': 'user'}\n",
      "\u001b[0m\n"
     ]
    }
   ],
   "source": [
    "user = client.user().get()"
   ]
  },
  {
   "cell_type": "code",
   "execution_count": 4,
   "id": "a5308747",
   "metadata": {},
   "outputs": [
    {
     "name": "stdout",
     "output_type": "stream",
     "text": [
      "The current user ID is 226757841\n"
     ]
    }
   ],
   "source": [
    "print(f'The current user ID is {user.id}')"
   ]
  },
  {
   "cell_type": "code",
   "execution_count": 5,
   "id": "1fe328ed",
   "metadata": {},
   "outputs": [
    {
     "name": "stdout",
     "output_type": "stream",
     "text": [
      "\u001b[36mGET https://api.box.com/2.0/users/me {'headers': {'Authorization': '---E2jA',\n",
      "             'User-Agent': 'box-python-sdk-3.9.2',\n",
      "             'X-Box-UA': 'agent=box-python-sdk/3.9.2; env=python/3.10.6'},\n",
      " 'params': None}\u001b[0m\n",
      "\u001b[32m\"GET https://api.box.com/2.0/users/me\" 200 468\n",
      "{'Date': 'Fri, 29 Mar 2024 00:54:30 GMT', 'Content-Type': 'application/json', 'x-envoy-upstream-service-time': '299', 'box-request-id': '039ca7333399583dc1c05f00d61dd6b99', 'cache-control': 'no-cache, no-store', 'strict-transport-security': 'max-age=31536000', 'Via': '1.1 google', 'Alt-Svc': 'h3=\":443\"; ma=2592000,h3-29=\":443\"; ma=2592000', 'Transfer-Encoding': 'chunked'}\n",
      "{'address': '',\n",
      " 'avatar_url': 'https://ucsf.app.box.com/api/avatar/large/226757841',\n",
      " 'created_at': '2014-10-31T14:13:47-07:00',\n",
      " 'id': '226757841',\n",
      " 'job_title': '',\n",
      " 'language': 'en',\n",
      " 'login': 'nerissa.hoglen@ucsf.edu',\n",
      " 'max_upload_size': 53687091200,\n",
      " 'modified_at': '2024-03-28T17:41:33-07:00',\n",
      " 'name': 'Nerissa Hoglen',\n",
      " 'notification_email': None,\n",
      " 'phone': '',\n",
      " 'space_amount': 999999999999999,\n",
      " 'space_used': 12883098040551,\n",
      " 'status': 'active',\n",
      " 'timezone': 'America/Los_Angeles',\n",
      " 'type': 'user'}\n",
      "\u001b[0m\n",
      "The current user ID is 226757841\n"
     ]
    }
   ],
   "source": [
    "from boxsdk import OAuth2, Client\n",
    "\n",
    "auth = OAuth2(\n",
    "    client_id='xxx', # put these in environmental variables\n",
    "    client_secret='xxx',\n",
    "    access_token='xxx',\n",
    ")\n",
    "client = Client(auth)\n",
    "\n",
    "user = client.user().get()\n",
    "print(f'The current user ID is {user.id}')\n",
    "\n",
    "# box_client_id\n",
    "# box_client_secret\n",
    "# box_access_token"
   ]
  },
  {
   "cell_type": "code",
   "execution_count": 7,
   "id": "95a6b4f9",
   "metadata": {},
   "outputs": [
    {
     "name": "stdout",
     "output_type": "stream",
     "text": [
      "\u001b[36mGET https://api.box.com/2.0/shared_items {'headers': {'Authorization': '---E2jA',\n",
      "             'BoxApi': 'shared_link=https://ucsf.box.com/s/bqdy1uhw0i0l3dxfq06reaoylwoqc9sd',\n",
      "             'User-Agent': 'box-python-sdk-3.9.2',\n",
      "             'X-Box-UA': 'agent=box-python-sdk/3.9.2; env=python/3.10.6'}}\u001b[0m\n",
      "\u001b[32m\"GET https://api.box.com/2.0/shared_items\" 200 1117\n",
      "{'Date': 'Fri, 29 Mar 2024 01:03:57 GMT', 'Content-Type': 'application/json', 'x-envoy-upstream-service-time': '484', 'etag': '\"0\"', 'box-request-id': '03787fbc377a00a44b7dfdf600c85038f', 'cache-control': 'no-cache, no-store', 'strict-transport-security': 'max-age=31536000', 'Via': '1.1 google', 'Alt-Svc': 'h3=\":443\"; ma=2592000,h3-29=\":443\"; ma=2592000', 'Transfer-Encoding': 'chunked'}\n",
      "{'content_created_at': '2023-03-15T12:24:04-07:00',\n",
      " 'content_modified_at': '2023-03-16T12:19:46-07:00',\n",
      " 'created_at': '2023-03-15T12:24:04-07:00',\n",
      " 'created_by': {'id': '6932270721',\n",
      "                'login': 'gina.williams@ucsf.edu',\n",
      "                'name': 'Gina Williams',\n",
      "                'type': 'user'},\n",
      " 'description': '',\n",
      " 'etag': '0',\n",
      " 'folder_upload_email': None,\n",
      " 'id': '199141947208',\n",
      " 'item_status': 'active',\n",
      " 'modified_at': '2023-03-16T12:19:46-07:00',\n",
      " 'modified_by': {'id': '6932270721',\n",
      "                 'login': 'gina.williams@ucsf.edu',\n",
      "                 'name': 'Gina Williams',\n",
      "                 'type': 'user'},\n",
      " 'name': '02102023',\n",
      " 'owned_by': {'id': '6932270721',\n",
      "              'login': 'gina.williams@ucsf.edu',\n",
      "              'name': 'Gina Williams',\n",
      "              'type': 'user'},\n",
      " 'parent': {'etag': '0',\n",
      "            'id': '196172739371',\n",
      "            'name': 'Male TMs',\n",
      "            'sequence_id': '0',\n",
      "            'type': 'folder'},\n",
      " 'path_collection': {'entries': [{'etag': None,\n",
      "                                  'id': '0',\n",
      "                                  'name': 'All Files',\n",
      "                                  'sequence_id': None,\n",
      "                                  'type': 'folder'},\n",
      "                                 {'etag': '0',\n",
      "                                  'id': '196168550606',\n",
      "                                  'name': 'Scn2a_X1Behavior_Nov22',\n",
      "                                  'sequence_id': '0',\n",
      "                                  'type': 'folder'},\n",
      "                                 {'etag': '0',\n",
      "                                  'id': '196172739371',\n",
      "                                  'name': 'Male TMs',\n",
      "                                  'sequence_id': '0',\n",
      "                                  'type': 'folder'}],\n",
      "                     'total_count': 3},\n",
      " 'purged_at': None,\n",
      " 'sequence_id': '0',\n",
      " 'shared_link': None,\n",
      " 'size': 29533586350,\n",
      " 'trashed_at': None,\n",
      " 'type': 'folder'}\n",
      "\u001b[0m\n",
      "<Box Folder - 199141947208 (02102023)>\n"
     ]
    }
   ],
   "source": [
    "file = client.get_shared_item('https://ucsf.box.com/s/bqdy1uhw0i0l3dxfq06reaoylwoqc9sd')\n",
    "# https://ucsf.app.box.com/folder/196172739371\n",
    "print(file)"
   ]
  },
  {
   "cell_type": "code",
   "execution_count": 8,
   "id": "3eceaf26",
   "metadata": {},
   "outputs": [
    {
     "name": "stdout",
     "output_type": "stream",
     "text": [
      "<boxsdk.pagination.limit_offset_based_object_collection.LimitOffsetBasedObjectCollection object at 0x000001EDFCB32F80>\n"
     ]
    }
   ],
   "source": [
    "colls = client.collections()"
   ]
  },
  {
   "cell_type": "code",
   "execution_count": 12,
   "id": "716a1ead",
   "metadata": {},
   "outputs": [
    {
     "data": {
      "text/plain": [
       "<Box Folder - 199141947208 (02102023)>"
      ]
     },
     "execution_count": 12,
     "metadata": {},
     "output_type": "execute_result"
    }
   ],
   "source": [
    "file"
   ]
  },
  {
   "cell_type": "code",
   "execution_count": 13,
   "id": "4b4bf81f",
   "metadata": {},
   "outputs": [
    {
     "name": "stdout",
     "output_type": "stream",
     "text": [
      "\u001b[36mGET https://api.box.com/2.0/folders/199141947208/items {'headers': {'Authorization': '---E2jA',\n",
      "             'User-Agent': 'box-python-sdk-3.9.2',\n",
      "             'X-Box-UA': 'agent=box-python-sdk/3.9.2; env=python/3.10.6'},\n",
      " 'params': {'offset': 0}}\u001b[0m\n",
      "\u001b[32m\"GET https://api.box.com/2.0/folders/199141947208/items?offset=0\" 200 951\n",
      "{'Date': 'Fri, 29 Mar 2024 01:07:57 GMT', 'Content-Type': 'application/json', 'x-envoy-upstream-service-time': '252', 'box-request-id': '0718c90a6e576119b95f1c8eccccfe176', 'cache-control': 'no-cache, no-store', 'strict-transport-security': 'max-age=31536000', 'Via': '1.1 google', 'Alt-Svc': 'h3=\":443\"; ma=2592000,h3-29=\":443\"; ma=2592000', 'Transfer-Encoding': 'chunked'}\n",
      "{'entries': [{'etag': '1',\n",
      "              'file_version': {'id': '1270039394831',\n",
      "                               'sha1': 'efb1bd1b1d2bf768216b3d2c7125afb2f2d537bc',\n",
      "                               'type': 'file_version'},\n",
      "              'id': '1166052074831',\n",
      "              'name': 'Nov22_Pair32_TM_2023-02-10 13-37-20.mp4',\n",
      "              'sequence_id': '1',\n",
      "              'sha1': 'efb1bd1b1d2bf768216b3d2c7125afb2f2d537bc',\n",
      "              'type': 'file'},\n",
      "             {'etag': '1',\n",
      "              'file_version': {'id': '1270050284068',\n",
      "                               'sha1': 'bc3a8dac2a84ad9ac76de5145642174c5720ef85',\n",
      "                               'type': 'file_version'},\n",
      "              'id': '1166061324868',\n",
      "              'name': 'Nov22_Pair33_TM_2023-02-10 13-37-23.mp4',\n",
      "              'sequence_id': '1',\n",
      "              'sha1': 'bc3a8dac2a84ad9ac76de5145642174c5720ef85',\n",
      "              'type': 'file'},\n",
      "             {'etag': '1',\n",
      "              'file_version': {'id': '1270029871912',\n",
      "                               'sha1': 'b02002401ab41ceb4b06c9798effeb36ce9afad9',\n",
      "                               'type': 'file_version'},\n",
      "              'id': '1166044097512',\n",
      "              'name': 'Nov22_Pair34_TM_2023-02-10 13-37-25.mp4',\n",
      "              'sequence_id': '1',\n",
      "              'sha1': 'b02002401ab41ceb4b06c9798effeb36ce9afad9',\n",
      "              'type': 'file'}],\n",
      " 'limit': 100,\n",
      " 'offset': 0,\n",
      " 'order': [{'by': 'type', 'direction': 'ASC'},\n",
      "           {'by': 'name', 'direction': 'ASC'}],\n",
      " 'total_count': 3}\n",
      "\u001b[0m\n",
      "File 1166052074831 is named \"Nov22_Pair32_TM_2023-02-10 13-37-20.mp4\"\n",
      "File 1166061324868 is named \"Nov22_Pair33_TM_2023-02-10 13-37-23.mp4\"\n",
      "File 1166044097512 is named \"Nov22_Pair34_TM_2023-02-10 13-37-25.mp4\"\n"
     ]
    }
   ],
   "source": [
    "items = client.folder(folder_id='199141947208').get_items()\n",
    "for item in items:\n",
    "    print(f'{item.type.capitalize()} {item.id} is named \"{item.name}\"')"
   ]
  },
  {
   "cell_type": "code",
   "execution_count": 2,
   "id": "667f6e55",
   "metadata": {},
   "outputs": [
    {
     "name": "stdout",
     "output_type": "stream",
     "text": [
      "value\n"
     ]
    }
   ],
   "source": [
    "test = os.environ.get('my_var')\n",
    "print(test)"
   ]
  }
 ],
 "metadata": {
  "kernelspec": {
   "display_name": "Python 3 (ipykernel)",
   "language": "python",
   "name": "python3"
  },
  "language_info": {
   "codemirror_mode": {
    "name": "ipython",
    "version": 3
   },
   "file_extension": ".py",
   "mimetype": "text/x-python",
   "name": "python",
   "nbconvert_exporter": "python",
   "pygments_lexer": "ipython3",
   "version": "3.10.6"
  }
 },
 "nbformat": 4,
 "nbformat_minor": 5
}
