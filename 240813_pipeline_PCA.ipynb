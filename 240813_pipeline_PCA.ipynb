{
 "cells": [
  {
   "cell_type": "code",
   "execution_count": null,
   "id": "61ef3f04",
   "metadata": {},
   "outputs": [],
   "source": [
    "import numpy as np\n",
    "from numpy import matlib as ml\n",
    "import pandas as pd\n",
    "import os\n",
    "import warnings\n",
    "import librosa\n",
    "import matplotlib.pyplot as plt\n",
    "import matplotlib.colors as mcolors\n",
    "import seaborn as sns\n",
    "from random import shuffle\n",
    "import scipy.stats as st\n",
    "\n",
    "from pynwb import NWBHDF5IO\n",
    "from pynwb.epoch import TimeIntervals\n",
    "\n",
    "from sklearn.decomposition import PCA"
   ]
  },
  {
   "cell_type": "code",
   "execution_count": null,
   "id": "6868ddfb",
   "metadata": {},
   "outputs": [],
   "source": [
    "# ----- SET UP FILE HANDLING -----\n",
    "\n",
    "# !! Josh -- you will need to edit this block with your local path to the NWB files\n",
    "# You can/should just download the NWB folder from the Scn2a project Box, then you can just point to that directory here\n",
    "# and everything should just work (haha famous last words)\n",
    "# If we end up collaborating on files enough to make it stupid to switch back and forth between your computer(s) and mine,\n",
    "# we can set up environmental variables that will take care of it, but for now this dumb kludge should be okay\n",
    "\n",
    "# computer = 'Dorian'\n",
    "computer = 'Ernest'\n",
    "# computer = 'Josh'\n",
    "\n",
    "match computer:\n",
    "    case 'Dorian':\n",
    "        nwbpath = 'M:\\\\scn2a-paper-GWJSNH\\\\NWB-files'\n",
    "        \n",
    "    case 'Ernest':\n",
    "        nwbpath = 'C:\\\\Users\\\\nhogl\\\\Documents\\\\GitHub\\\\scn2a-paper-GWJSNH-code\\\\NWB'\n",
    "        \n",
    "    case 'Josh':\n",
    "        nwbpath = '\\your\\path\\here' # EDIT ME\n",
    "\n",
    "allnwb = []\n",
    "allnwb += [os.path.join(nwbpath,each) for each in os.listdir(nwbpath) if each.endswith('.nwb')]\n",
    "\n",
    "printy = True # EDIT ME if you don't want the loop over each file to print the file name"
   ]
  },
  {
   "cell_type": "code",
   "execution_count": null,
   "id": "8f432592",
   "metadata": {},
   "outputs": [],
   "source": [
    "# ----- COLLATE TIME SPENT IN EACH STATE BEHAVIOR AND COUNTS OF EACH POINT BEHAVIOR FOR EACH ASSAY -----\n",
    "\n",
    "# This cell looks in each NWB file and creates the summary metrics.  The idea is to do this once at the beginning then\n",
    "# reconfigure the resulting dataframe for all subsequent analyses.  I did not functionalize it because it should just\n",
    "# happen once at the beginning, but it might bear refactoring if we want more flexibility on the metrics\n",
    "\n",
    "for i,fname in enumerate(allnwb): # loop over files\n",
    "    # open file\n",
    "    io = NWBHDF5IO(os.path.join(nwbpath,fname), mode=\"r\") # <-- open in write to append snippets?\n",
    "    nwbfile = io.read()\n",
    "    \n",
    "    # for sanity check, print out the name of the file being handled\n",
    "    pathsplit = fname.split('\\\\')\n",
    "    recstem = pathsplit[-1].strip('.nwb')\n",
    "    if printy: # you can turn off filename printing by setting this to false\n",
    "        print(recstem)\n",
    "    \n",
    "    # filter out files that don't have complete timelines\n",
    "    if nwbfile.lab_meta_data['vole_metadata'].timeline_complete: # can I just get rid of this?\n",
    "        data = nwbfile.intervals['annotated_behavior'].to_dataframe() # convert annotation table to dataframe\n",
    "        df = data.copy()\n",
    "        df=df[df.behavior!='Start assay']\n",
    "        # get counts of all events and add a column to label as such\n",
    "        counts = df.groupby('behavior')['start_time'].count().reset_index(name='number')\n",
    "        nrcountsentries = counts.shape[0]\n",
    "        counts['metric_label'] = ['count']*nrcountsentries\n",
    "        # do median duration for state events and add a column to label as such\n",
    "        medians = df[df.atype=='STATE'].groupby(['behavior'])['duration'].apply(np.median).reset_index(name='number')\n",
    "        nrmediansentries = medians.shape[0]\n",
    "        medians['metric_label'] = ['median']*nrmediansentries\n",
    "        combined = pd.concat([counts,medians]) # combine table\n",
    "        # PPT label conversion\n",
    "        if nwbfile.lab_meta_data['vole_metadata'].assay_type=='PPT':\n",
    "            if nwbfile.lab_meta_data['vole_metadata'].assay_type__partner_chamber=='Left':\n",
    "                combined.behavior.replace({'Left':'Partner'}, regex=True,inplace=True)\n",
    "                combined.behavior.replace({'Right':'Stranger'}, regex=True,inplace=True)\n",
    "            elif nwbfile.lab_meta_data['vole_metadata'].assay_type__partner_chamber=='Right':\n",
    "                combined.behavior.replace({'Right':'Partner'}, regex=True,inplace=True)\n",
    "                combined.behavior.replace({'Left':'Stranger'}, regex=True,inplace=True)\n",
    "            else:\n",
    "                print('Invalid value for partner chamber.')\n",
    "        nrbehav = combined.shape[0]\n",
    "        # add metadata labels\n",
    "        combined['ET'] = [nwbfile.subject.subject_id]*nrbehav\n",
    "        combined['sex'] = [nwbfile.subject.sex]*nrbehav\n",
    "        combined['GT'] = [nwbfile.subject.genotype]*nrbehav\n",
    "        combined['assay'] = [nwbfile.lab_meta_data['vole_metadata'].assay_type]*nrbehav\n",
    "        \n",
    "        if i==0:\n",
    "            rundf = combined\n",
    "        else:\n",
    "            rundf = pd.concat([rundf,combined])\n",
    "        \n",
    "    else:\n",
    "        print('Incomplete timeline; skipping.')\n",
    "        \n",
    "# ----- ADJUST LABELS IN DATAFRAME AND CONVERT TO WIDE FORMAT FOR PCA -----\n",
    "\n",
    "# add a column to cross reference behaviors to assays and metric\n",
    "rundf['a-b-m'] = rundf['assay'].add('-').add(rundf['behavior']).add('-').add(rundf['metric_label'])\n",
    "\n",
    "# rearrange table so that each individual has a row of data\n",
    "wide = rundf.pivot(index=['ET','sex','GT'], columns='a-b-m', values='number')\n",
    "\n",
    "# THIS STEP WILL BE A PROBLEM WITH ASSAYS THAT DON'T EXIST\n",
    "# replace any missing values with zeros (as they did not occur)\n",
    "filled = wide.fillna(0)\n",
    "\n",
    "# pull metadata out of indices\n",
    "filled = filled.reset_index(level=['sex', 'GT'])\n",
    "\n",
    "# generate master list of observations; inventory of which behaviors appear in which assays\n",
    "allcols = filled.columns"
   ]
  },
  {
   "cell_type": "code",
   "execution_count": null,
   "id": "1294ae01",
   "metadata": {},
   "outputs": [],
   "source": [
    "# ----- SET UP COLORS -----\n",
    "\n",
    "# I have found that just hardcoding this is most effective in practice, will need to be subbed if we change the colors\n",
    "\n",
    "acols = [[0.627451,   0.57254905, 0.37254903], # all colors\n",
    "        [0.9607843,  0.7882353,  0.15294118],\n",
    "        [0.34901962, 0.35686275, 0.49019608],\n",
    "        [0.24705882, 0.30588236, 0.9607843 ]]\n",
    "\n",
    "fcols = acols[0:2] # female colors, WT first\n",
    "mcols = acols[2:] # male colors, WT first\n",
    "\n",
    "fpal = sns.color_palette(fcols) # create seaborn palettes for plotting\n",
    "mpal = sns.color_palette(mcols)\n",
    "apal = sns.color_palette(acols)"
   ]
  },
  {
   "cell_type": "code",
   "execution_count": null,
   "id": "44fbe1a0",
   "metadata": {},
   "outputs": [],
   "source": [
    "def check_column_labels(toUse,allCols):\n",
    "    \n",
    "    use = [] # keep track of which synthesized labels are represented\n",
    "    \n",
    "    for i,label in enumerate(toUse): # iterate over labels\n",
    "        if label in allCols: # check whether the label exists in the column list\n",
    "            use.append(label)\n",
    "            \n",
    "    return use\n",
    "\n",
    "def generate_prospective_columns(useAssays,useBehaviors,useMetrics):\n",
    "    colsToUse = [assay+'-'+behav+'-'+metric for metric in useMetrics for behav in useBehaviors for assay in useAssays]\n",
    "    return colsToUse\n",
    "\n",
    "def "
   ]
  },
  {
   "cell_type": "code",
   "execution_count": 1,
   "id": "4d1f2d95",
   "metadata": {},
   "outputs": [],
   "source": [
    "useBehaviors = ['Huddle','Sniff','Investigate']\n",
    "useAssays = ['introduction','aggression']\n",
    "useMetrics = ['count','median']"
   ]
  },
  {
   "cell_type": "code",
   "execution_count": 2,
   "id": "5b76fa48",
   "metadata": {},
   "outputs": [],
   "source": [
    "colsToUse = [assay+'-'+behav+'-'+metric for metric in useMetrics for behav in useBehaviors for assay in useAssays]"
   ]
  },
  {
   "cell_type": "code",
   "execution_count": 3,
   "id": "3085b6ee",
   "metadata": {},
   "outputs": [
    {
     "data": {
      "text/plain": [
       "['introduction-Huddle-count',\n",
       " 'aggression-Huddle-count',\n",
       " 'introduction-Sniff-count',\n",
       " 'aggression-Sniff-count',\n",
       " 'introduction-Investigate-count',\n",
       " 'aggression-Investigate-count',\n",
       " 'introduction-Huddle-median',\n",
       " 'aggression-Huddle-median',\n",
       " 'introduction-Sniff-median',\n",
       " 'aggression-Sniff-median',\n",
       " 'introduction-Investigate-median',\n",
       " 'aggression-Investigate-median']"
      ]
     },
     "execution_count": 3,
     "metadata": {},
     "output_type": "execute_result"
    }
   ],
   "source": [
    "colsToUse"
   ]
  },
  {
   "cell_type": "code",
   "execution_count": null,
   "id": "4e2c7fca",
   "metadata": {},
   "outputs": [],
   "source": []
  }
 ],
 "metadata": {
  "kernelspec": {
   "display_name": "Python 3 (ipykernel)",
   "language": "python",
   "name": "python3"
  },
  "language_info": {
   "codemirror_mode": {
    "name": "ipython",
    "version": 3
   },
   "file_extension": ".py",
   "mimetype": "text/x-python",
   "name": "python",
   "nbconvert_exporter": "python",
   "pygments_lexer": "ipython3",
   "version": "3.10.6"
  }
 },
 "nbformat": 4,
 "nbformat_minor": 5
}
