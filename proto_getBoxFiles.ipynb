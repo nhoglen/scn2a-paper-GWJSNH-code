{
 "cells": [
  {
   "cell_type": "code",
   "execution_count": 57,
   "id": "d6df18b9",
   "metadata": {},
   "outputs": [],
   "source": [
    "import os\n",
    "from boxsdk import OAuth2, Client\n",
    "import re\n",
    "import warnings\n",
    "\n",
    "from datetime import datetime, date\n",
    "from uuid import uuid4\n",
    "from dateutil.tz import tzlocal\n",
    "from ast import literal_eval\n",
    "\n",
    "import numpy as np\n",
    "import pandas as pd\n",
    "import warnings\n",
    "import librosa\n",
    "import pickle\n",
    "\n",
    "from pynwb import NWBHDF5IO, NWBFile, TimeSeries\n",
    "from pynwb.file import Subject\n",
    "from pynwb.epoch import TimeIntervals\n",
    "from pynwb.image import ImageSeries\n",
    "from ndx_manoli_meta import AssayMetadata\n",
    "\n",
    "from nwb_utils import get_date_from_block"
   ]
  },
  {
   "cell_type": "code",
   "execution_count": 2,
   "id": "0d90aac3",
   "metadata": {},
   "outputs": [],
   "source": [
    "# ----- Support functions -----\n",
    "\n",
    "def visit_all_dirs_files(usedir,full_list,curr_path,client):\n",
    "    \n",
    "    # get all the items in the current folder\n",
    "    theseitems = client.folder(folder_id=usedir).get_items()\n",
    "    \n",
    "    for item in theseitems:     # loop over items\n",
    "        tp = item.type # get key fields from directory items\n",
    "        nm = item.name\n",
    "        iid = item.id\n",
    "        \n",
    "        if tp == 'folder': # recursion if a folder is found\n",
    "            curr_path.append(nm) # add directory to path\n",
    "            full_list = visit_all_dirs_files(iid,full_list,curr_path) # look for more folders/files\n",
    "            curr_path.pop() # clean the folder back off the path when going up a level\n",
    "        else: # keep track of all the paths when there are files\n",
    "            tpath = os.path.join(*curr_path)\n",
    "            full_list.append(os.path.join(tpath,nm))           \n",
    "    \n",
    "    return full_list\n",
    "\n",
    "def find_in_list(lst, item):\n",
    "    result = []\n",
    "    for i, x in enumerate(lst):\n",
    "        if re.search(f'{item}[_|-|I|i]',x,re.IGNORECASE):\n",
    "            result.append(i)\n",
    "    return result"
   ]
  },
  {
   "cell_type": "code",
   "execution_count": 3,
   "id": "4844a483",
   "metadata": {},
   "outputs": [
    {
     "name": "stdout",
     "output_type": "stream",
     "text": [
      "Folder 238576018931 is named \"Aggregated_Events\"\n",
      "Folder 202955487033 is named \"April2023_ShortCoHab_Females\"\n",
      "Folder 226890392440 is named \"BorisFiles\"\n",
      "Folder 196172227913 is named \"Female Intros\"\n",
      "Folder 196173015061 is named \"Female PPTs\"\n",
      "Folder 196170422974 is named \"Female RI\"\n",
      "Folder 196169230497 is named \"Female SepReunion\"\n",
      "Folder 196171174766 is named \"Female TMs\"\n",
      "Folder 214178119262 is named \"June2023_ControlBehaviors\"\n",
      "Folder 196166676922 is named \"Male Intros\"\n",
      "Folder 196172624162 is named \"Male PPTs\"\n",
      "Folder 196171675763 is named \"Male RI\"\n",
      "Folder 196172896956 is named \"Male SepReunion\"\n",
      "Folder 196172739371 is named \"Male TMs\"\n",
      "Folder 248394520156 is named \"Naive_Choice\"\n",
      "Folder 229587753245 is named \"Oct2023_JuvenileBehavior\"\n",
      "File 1177298175085 is named \"Scn2aX1Nov22_Key.xlsx\"\n"
     ]
    }
   ],
   "source": [
    "# ---- Get login credentials from environment variables -----\n",
    "\n",
    "# - note this needs to be adjusted for each authorized user... ask Nerissa about getting and setting this information\n",
    "# - developer access tokens expire quickly, so this probably needs to be set at startup and perhaps even while working\n",
    "client_id = os.environ.get('box_client_id')\n",
    "client_secret = os.environ.get('box_client_secret')\n",
    "# access_token = os.environ.get('box_access_token') # just put this one in here because it expires anyway\n",
    "access_token = 'tqzcU5UovRjEP7CnHvtuSLN6hw9BhHmg'\n",
    "\n",
    "\n",
    "# ----- Open a connection to the Box server -----\n",
    "\n",
    "auth = OAuth2(\n",
    "    client_id=client_id, # put these in environmental variables\n",
    "    client_secret=client_secret,\n",
    "    access_token=access_token,\n",
    ")\n",
    "client = Client(auth)\n",
    "\n",
    "# ----- Work on directory structure -----\n",
    "\n",
    "# get the list of items in the whole Scn2a folder\n",
    "items = client.folder(folder_id='196168550606').get_items()\n",
    "\n",
    "# list contents\n",
    "for item in items:\n",
    "    print(f'{item.type.capitalize()} {item.id} is named \"{item.name}\"')"
   ]
  },
  {
   "cell_type": "code",
   "execution_count": 4,
   "id": "ed9e7a67",
   "metadata": {},
   "outputs": [
    {
     "name": "stdout",
     "output_type": "stream",
     "text": [
      "['Scn2a_X1Behavior_Nov22\\\\Female Intros\\\\01032023\\\\Nov22_Pair13_Intro_WIN_20230103_13_45_14_Pro.mp4', 'Scn2a_X1Behavior_Nov22\\\\Female Intros\\\\01032023\\\\Nov22_Pair14-Intro_WIN_20230103_13_45_36_Pro.mp4', 'Scn2a_X1Behavior_Nov22\\\\Female Intros\\\\01032023\\\\Nov22_Pair15_Intro.mov', 'Scn2a_X1Behavior_Nov22\\\\Female Intros\\\\01032023\\\\Nov22_Pair16_Intro_WIN_20230103_13_46_48_Pro.mp4', 'Scn2a_X1Behavior_Nov22\\\\Female Intros\\\\01242023\\\\Nov22_Pair21_Intro_2023-01-24 13-25-51.mp4', 'Scn2a_X1Behavior_Nov22\\\\Female Intros\\\\01242023\\\\Nov22_Pair22_Intro_2023-01-24 13-25-52.mp4', 'Scn2a_X1Behavior_Nov22\\\\Female Intros\\\\01242023\\\\Nov22_Pair23_Intro_2023-01-24 13-25-55.mp4', 'Scn2a_X1Behavior_Nov22\\\\Female Intros\\\\02072023\\\\Nov22_Pair28_Intro_2023-02-07 13-18-12.mp4', 'Scn2a_X1Behavior_Nov22\\\\Female Intros\\\\02072023\\\\Nov22_Pair29_Intro_2023-02-07 13-18-14.mp4', 'Scn2a_X1Behavior_Nov22\\\\Female Intros\\\\02072023\\\\Nov22_Pair30_Intro_2023-02-07 13-18-15.mp4', 'Scn2a_X1Behavior_Nov22\\\\Female Intros\\\\02072023\\\\Nov22_Pair31_Intro_WIN_20230207_13_18_15_Pro.mp4', 'Scn2a_X1Behavior_Nov22\\\\Female Intros\\\\02282023\\\\Nov22_Pair35_Intro_2023-02-28 14-02-19.mp4', 'Scn2a_X1Behavior_Nov22\\\\Female Intros\\\\02282023\\\\Nov22_Pair36_Intro_2023-02-28 14-02-28.mp4', 'Scn2a_X1Behavior_Nov22\\\\Female Intros\\\\08082023\\\\Nov22_Pair56_Intro_2023-08-08 13-13-52.mp4', 'Scn2a_X1Behavior_Nov22\\\\Female Intros\\\\09052023\\\\Nov22_Pair59_Intro_2023-09-05 13-52-22.mp4', 'Scn2a_X1Behavior_Nov22\\\\Female Intros\\\\09052023\\\\Nov22_Pair60_Intro_2023-09-05 13-52-23.mp4', 'Scn2a_X1Behavior_Nov22\\\\Female Intros\\\\11072023\\\\Nov22_Pair61_Intro_2023-11-07 13-05-43.mp4', 'Scn2a_X1Behavior_Nov22\\\\Female Intros\\\\11072023\\\\Nov22_Pair62_Intro_2023-11-07 13-05-44.mp4', 'Scn2a_X1Behavior_Nov22\\\\Female Intros\\\\11072023\\\\Nov22_Pair63_Intro_2023-11-07 13-05-47.mp4', 'Scn2a_X1Behavior_Nov22\\\\Female Intros\\\\11072023\\\\Nov22_Pair64_Intro.mov', 'Scn2a_X1Behavior_Nov22\\\\Female Intros\\\\11142022\\\\Nov22_Pair1Intro_WIN_20221114_12_47_25_Pro.mp4', 'Scn2a_X1Behavior_Nov22\\\\Female Intros\\\\11142022\\\\Nov22_Pair2Intro_WIN_20221114_12_47_37_Pro.mp4', 'Scn2a_X1Behavior_Nov22\\\\Female Intros\\\\11142022\\\\Nov22_Pair3Intro.mov', 'Scn2a_X1Behavior_Nov22\\\\Female Intros\\\\11142022\\\\Nov22_Pair4Intro.mov', 'Scn2a_X1Behavior_Nov22\\\\Female Intros\\\\11292022\\\\Nov22_Pair5_Intro_WIN_20221129_13_09_22_Pro.mp4', 'Scn2a_X1Behavior_Nov22\\\\Female Intros\\\\11292022\\\\Nov22_Pair6_intro_WIN_20221129_13_09_21_Pro.mp4', 'Scn2a_X1Behavior_Nov22\\\\Female Intros\\\\11292022\\\\Nov22_Pair7_Intro.mov', 'Scn2a_X1Behavior_Nov22\\\\Female Intros\\\\11292022\\\\Nov22_Pair8_Intro_WIN_20221129_13_12_28_Pro.mp4', 'Scn2a_X1Behavior_Nov22\\\\Male Intros\\\\01042023\\\\Nov22_Pair17_Intro_WIN_20230104_12_24_30_Pro.mp4', 'Scn2a_X1Behavior_Nov22\\\\Male Intros\\\\01042023\\\\Nov22_Pair18_Intro_WIN_20230104_12_25_08_Pro.mp4', 'Scn2a_X1Behavior_Nov22\\\\Male Intros\\\\01042023\\\\Nov22_Pair19_Intro.mov', 'Scn2a_X1Behavior_Nov22\\\\Male Intros\\\\01042023\\\\Nov22_Pair20_Intro_WIN_20230104_12_25_49_Pro.mp4', 'Scn2a_X1Behavior_Nov22\\\\Male Intros\\\\01252023\\\\Nov22_Pair24_Intro_2023-01-25 13-23-32.mp4', 'Scn2a_X1Behavior_Nov22\\\\Male Intros\\\\01252023\\\\Nov22_Pair25_Intro_2023-01-25 13-23-35.mp4', 'Scn2a_X1Behavior_Nov22\\\\Male Intros\\\\01252023\\\\Nov22_Pair26_Intro_2023-01-25 13-23-52.mp4', 'Scn2a_X1Behavior_Nov22\\\\Male Intros\\\\01252023\\\\Nov22_Pair27_Intro_WIN_20230125_13_23_38_Pro.mp4', 'Scn2a_X1Behavior_Nov22\\\\Male Intros\\\\02082023\\\\Nov22_Pair32_Intro_2023-02-08 13-31-20.mp4', 'Scn2a_X1Behavior_Nov22\\\\Male Intros\\\\02082023\\\\Nov22_Pair33_Intro_2023-02-08 13-31-22.mp4', 'Scn2a_X1Behavior_Nov22\\\\Male Intros\\\\02082023\\\\Nov22_Pair34_Intro_2023-02-08 13-31-23.mp4', 'Scn2a_X1Behavior_Nov22\\\\Male Intros\\\\03012023\\\\Nov22_Pair37_Intro_2023-03-01 13-29-49.mp4', 'Scn2a_X1Behavior_Nov22\\\\Male Intros\\\\03012023\\\\Nov22_Pair38_Intro_2023-03-01 13-29-51.mp4', 'Scn2a_X1Behavior_Nov22\\\\Male Intros\\\\03152023\\\\Nov22_Pair39_Intro_2023-03-15 13-54-04.mp4', 'Scn2a_X1Behavior_Nov22\\\\Male Intros\\\\03152023\\\\Nov22_Pair40_Intro_2023-03-15 13-54-07.mp4', 'Scn2a_X1Behavior_Nov22\\\\Male Intros\\\\03152023\\\\Nov22_Pair41_Intro_2023-03-15 13-54-09.mp4', 'Scn2a_X1Behavior_Nov22\\\\Male Intros\\\\03222023\\\\Nov22_Pair42_Intro_2023-03-22 12-37-10.mp4', 'Scn2a_X1Behavior_Nov22\\\\Male Intros\\\\03222023\\\\Nov22_Pair43_Intro_2023-03-22 12-37-08.mp4', 'Scn2a_X1Behavior_Nov22\\\\Male Intros\\\\04052023\\\\DONOTSCORE_Nov22_Pair45_Intro_2023-04-05 14-10-24.mp4', 'Scn2a_X1Behavior_Nov22\\\\Male Intros\\\\04052023\\\\Nov22_Pair44_Intro_2023-04-05 14-10-23.mp4', 'Scn2a_X1Behavior_Nov22\\\\Male Intros\\\\04052023\\\\Nov22_Pair46_Intro_2023-04-05 14-10-29.mp4', 'Scn2a_X1Behavior_Nov22\\\\Male Intros\\\\04122023\\\\Nov22_Pair47_Intro_2023-04-12 13-45-11.mp4', 'Scn2a_X1Behavior_Nov22\\\\Male Intros\\\\04122023\\\\Nov22_pair48_Intro_2023-04-12 13-45-13.mp4', 'Scn2a_X1Behavior_Nov22\\\\Male Intros\\\\04122023\\\\Nov22_Pair49_Intro_2023-04-12 13-45-16.mp4', 'Scn2a_X1Behavior_Nov22\\\\Male Intros\\\\04122023\\\\Nov22_Pair50_Intro_WIN_20230412_13_45_26_Pro.mp4', 'Scn2a_X1Behavior_Nov22\\\\Male Intros\\\\04192023\\\\Nov22_Pair51_Intro_2023-04-19 12-55-25.mp4', 'Scn2a_X1Behavior_Nov22\\\\Male Intros\\\\04192023\\\\Nov22_Pair52_Intro_2023-04-19 12-55-27.mp4', 'Scn2a_X1Behavior_Nov22\\\\Male Intros\\\\08092023\\\\Nov22_Pair57_Intro_2023-08-09 13-07-27.mp4', 'Scn2a_X1Behavior_Nov22\\\\Male Intros\\\\08092023\\\\Nov22_Pair58_Intro_2023-08-09 13-07-28.mp4', 'Scn2a_X1Behavior_Nov22\\\\Male Intros\\\\DoNotScore_11302022\\\\DONOTSCORE_Nov22_Pair9_Intro_WIN_20221130_13_54_56_Pro.mp4', 'Scn2a_X1Behavior_Nov22\\\\Male Intros\\\\DoNotScore_11302022\\\\Nov22_Pair10_Intro_WIN_20221130_13_54_57_Pro.mp4', 'Scn2a_X1Behavior_Nov22\\\\Male Intros\\\\DoNotScore_11302022\\\\Nov22_Pair11_Intro.mov', 'Scn2a_X1Behavior_Nov22\\\\Male Intros\\\\DoNotScore_11302022\\\\Nov22_Pair12_Intro_WIN_20221130_13_58_05_Pro.mp4']\n"
     ]
    }
   ],
   "source": [
    "# ----- Figure out which directories have the assay of interest\n",
    "\n",
    "assaykeyword = 'Intros' # set up for intros\n",
    "projectDir = '196168550606'\n",
    "rootpath = ['Scn2a_X1Behavior_Nov22']\n",
    "\n",
    "usedirs = []\n",
    "items = client.folder(folder_id=projectDir).get_items() # top level folder\n",
    "\n",
    "for item in items:\n",
    "    iid = item.id\n",
    "    inm = item.name\n",
    "    if inm.find(assaykeyword)>-1:\n",
    "        usedirs.append(iid)\n",
    "\n",
    "# print(usedirs)\n",
    "\n",
    "# --- collect all the paths and filenames\n",
    "\n",
    "allpaths = []\n",
    "\n",
    "for usedir in usedirs: \n",
    "    \n",
    "    # add starting folder to curr_path\n",
    "    udnm = client.folder(folder_id=usedir).get(fields=['name']).name\n",
    "    curr_path = rootpath + [udnm]\n",
    "    \n",
    "    # search for files\n",
    "    thesepaths = visit_all_dirs_files(usedir,[],curr_path)\n",
    "\n",
    "    # consolidate\n",
    "    allpaths += thesepaths\n",
    "    \n",
    "print(allpaths)"
   ]
  },
  {
   "cell_type": "code",
   "execution_count": 5,
   "id": "f9d1d955",
   "metadata": {},
   "outputs": [],
   "source": [
    "# ----- Get a list of just file names to hunt through -----\n",
    "justfiles = []\n",
    "for pth in allpaths:\n",
    "    justfiles.append(os.path.basename(pth))"
   ]
  },
  {
   "cell_type": "code",
   "execution_count": 6,
   "id": "52c635bc",
   "metadata": {},
   "outputs": [],
   "source": [
    "# ----- Use metadata table to find expected files and add those columns to the table -----\n",
    "\n",
    "# load up metadata\n",
    "meta = pd.read_csv('metadata_intros_v1.csv')\n",
    "\n",
    "# generate a regex of possible matches for filename\n",
    "fileIndex = []\n",
    "for tag in meta.PairTag:\n",
    "    match = find_in_list(justfiles,tag)\n",
    "    if len(match)==1:\n",
    "        fileIndex.append(match[0])\n",
    "    else:\n",
    "        print(f'No match for {tag}:')\n",
    "        \n",
    "# use fileIndex to look up file names and paths\n",
    "metafiles = []\n",
    "metapaths = []\n",
    "for i,tag in enumerate(meta.PairTag):\n",
    "    metafiles.append(justfiles[fileIndex[i]])\n",
    "    metapaths.append('\\\\'+os.path.dirname(allpaths[fileIndex[i]]))\n",
    "\n",
    "# add files and paths to the metadata table\n",
    "meta.VideoFile = metafiles\n",
    "meta.VideoPath = metapaths"
   ]
  },
  {
   "cell_type": "code",
   "execution_count": 7,
   "id": "f5f5159c",
   "metadata": {},
   "outputs": [
    {
     "name": "stdout",
     "output_type": "stream",
     "text": [
      "['Nov22_Pair15_Intro.csv', 'Nov22_Pair16_Intro.csv', 'Nov22_Pair17_Intro.csv', 'Nov22_Pair18_Intro.csv', 'Nov22_Pair19_Intro.csv', 'Nov22_Pair1_Intro.csv', 'Nov22_Pair21_Intro.csv', 'Nov22_Pair22_Intro.csv', 'Nov22_Pair23_Intro.csv', 'Nov22_Pair24_Intro.csv', 'Nov22_Pair25_Intro.csv', 'Nov22_Pair26_Intro.csv', 'Nov22_Pair27_Intro.csv', 'Nov22_Pair28_Intro.csv', 'Nov22_Pair29_Intro.csv', 'Nov22_Pair2_Intro.csv', 'Nov22_Pair30_Intro.csv', 'Nov22_Pair31_Intro.csv', 'Nov22_Pair32_Intro.csv', 'Nov22_Pair33_Intro.csv', 'Nov22_Pair34_Intro.csv', 'Nov22_Pair35_Intro.csv', 'Nov22_Pair36_Intro.csv', 'Nov22_Pair37_Intro.csv', 'Nov22_Pair38_Intro.csv', 'Nov22_Pair39_Intro.csv', 'Nov22_Pair3_Intro.csv', 'Nov22_Pair40_Intro.csv', 'Nov22_Pair41_Intro.csv', 'Nov22_Pair42_Intro.csv', 'Nov22_Pair43_Intro.csv', 'Nov22_Pair44_Intro.csv', 'Nov22_Pair46_Intro.csv', 'Nov22_Pair47_Intro.csv', 'Nov22_Pair48_Intro.csv', 'Nov22_Pair49_Intro.csv', 'Nov22_Pair4_Intro.csv', 'Nov22_Pair50_Intro.csv', 'Nov22_Pair51_Intro.csv', 'Nov22_Pair52_Intro.csv', 'Nov22_Pair56_Intro.csv', 'Nov22_Pair57_Intro.csv', 'Nov22_Pair58_Intro.csv', 'Nov22_Pair59_Intro.csv', 'Nov22_Pair5_Intro.csv', 'Nov22_Pair60_Intro.csv', 'Nov22_Pair61_Intro.csv', 'Nov22_Pair62_Intro.csv', 'Nov22_Pair63_Intro.csv', 'Nov22_Pair64_Intro.csv', 'Nov22_Pair6_Intro.csv', 'Nov22_Pair7_Intro.csv', 'Nov22_Pair8_Intro.csv']\n",
      "53\n"
     ]
    }
   ],
   "source": [
    "# ----- Get BORIS scored aggregated events file names -----\n",
    "keyword = \"Intro\"\n",
    "aggfiles = []\n",
    "items = client.folder(folder_id='238576018931').get_items()\n",
    "\n",
    "for item in items:\n",
    "    inm = item.name\n",
    "    if inm.find(keyword)>-1:\n",
    "        aggfiles.append(inm)\n",
    "        \n",
    "print(aggfiles)\n",
    "print(len(aggfiles))"
   ]
  },
  {
   "cell_type": "code",
   "execution_count": 24,
   "id": "116c0844",
   "metadata": {},
   "outputs": [],
   "source": [
    "# --- add Boris csvs to metadata table\n",
    "# match pair tags\n",
    "ordered_agg = []\n",
    "for tag in meta.PairTag:\n",
    "    for fname in aggfiles:\n",
    "        if fname.startswith(tag+'_'):\n",
    "            ordered_agg.append(fname)\n",
    "\n",
    "meta.ScoreFile = ordered_agg\n",
    "\n",
    "# add path\n",
    "score_path = os.path.join('Scn2a_X1Behavior_Nov22','Aggregated_Events')\n",
    "score_path_arr = [score_path]*len(aggfiles)\n",
    "meta.ScorePath = score_path_arr\n",
    "    \n",
    "# --- write metadata table\n",
    "meta.to_csv('metadata_intros_v2.csv')"
   ]
  },
  {
   "cell_type": "code",
   "execution_count": 22,
   "id": "17d55aa0",
   "metadata": {},
   "outputs": [
    {
     "data": {
      "text/html": [
       "<div>\n",
       "<style scoped>\n",
       "    .dataframe tbody tr th:only-of-type {\n",
       "        vertical-align: middle;\n",
       "    }\n",
       "\n",
       "    .dataframe tbody tr th {\n",
       "        vertical-align: top;\n",
       "    }\n",
       "\n",
       "    .dataframe thead th {\n",
       "        text-align: right;\n",
       "    }\n",
       "</style>\n",
       "<table border=\"1\" class=\"dataframe\">\n",
       "  <thead>\n",
       "    <tr style=\"text-align: right;\">\n",
       "      <th></th>\n",
       "      <th>PairTag</th>\n",
       "      <th>AssayType</th>\n",
       "      <th>RecDate</th>\n",
       "      <th>VideoFile</th>\n",
       "      <th>VideoPath</th>\n",
       "      <th>ScoreFile</th>\n",
       "      <th>ScorePath</th>\n",
       "      <th>FemaleID</th>\n",
       "      <th>FemaleGT</th>\n",
       "      <th>FemaleFam</th>\n",
       "      <th>...</th>\n",
       "      <th>Timeline</th>\n",
       "      <th>Ethogram</th>\n",
       "      <th>RanBy</th>\n",
       "      <th>ScoredBy</th>\n",
       "      <th>FullTimeline</th>\n",
       "      <th>FocalColor</th>\n",
       "      <th>StrangerID</th>\n",
       "      <th>StrangerGT</th>\n",
       "      <th>PPTlane</th>\n",
       "      <th>PartnerChamber</th>\n",
       "    </tr>\n",
       "  </thead>\n",
       "  <tbody>\n",
       "    <tr>\n",
       "      <th>0</th>\n",
       "      <td>Nov22_Pair1</td>\n",
       "      <td>introduction</td>\n",
       "      <td>11/14/2022</td>\n",
       "      <td>Nov22_Pair1Intro_WIN_20221114_12_47_25_Pro.mp4</td>\n",
       "      <td>\\Scn2a_X1Behavior_Nov22\\Female Intros\\11142022</td>\n",
       "      <td>Nov22_Pair1_Intro.csv</td>\n",
       "      <td>Scn2a_X1Behavior_Nov22\\Aggregated_Events</td>\n",
       "      <td>B8002</td>\n",
       "      <td>Het</td>\n",
       "      <td>NaN</td>\n",
       "      <td>...</td>\n",
       "      <td>NaN</td>\n",
       "      <td>NaN</td>\n",
       "      <td>Gina Williams</td>\n",
       "      <td>Josh Steighner</td>\n",
       "      <td>True</td>\n",
       "      <td>NaN</td>\n",
       "      <td>NaN</td>\n",
       "      <td>NaN</td>\n",
       "      <td>NaN</td>\n",
       "      <td>NaN</td>\n",
       "    </tr>\n",
       "    <tr>\n",
       "      <th>1</th>\n",
       "      <td>Nov22_Pair15</td>\n",
       "      <td>introduction</td>\n",
       "      <td>1/3/2023</td>\n",
       "      <td>Nov22_Pair15_Intro.mov</td>\n",
       "      <td>\\Scn2a_X1Behavior_Nov22\\Female Intros\\01032023</td>\n",
       "      <td>Nov22_Pair15_Intro.csv</td>\n",
       "      <td>Scn2a_X1Behavior_Nov22\\Aggregated_Events</td>\n",
       "      <td>B6614</td>\n",
       "      <td>Het</td>\n",
       "      <td>NaN</td>\n",
       "      <td>...</td>\n",
       "      <td>NaN</td>\n",
       "      <td>NaN</td>\n",
       "      <td>Gina Williams</td>\n",
       "      <td>Josh Steighner</td>\n",
       "      <td>True</td>\n",
       "      <td>NaN</td>\n",
       "      <td>NaN</td>\n",
       "      <td>NaN</td>\n",
       "      <td>NaN</td>\n",
       "      <td>NaN</td>\n",
       "    </tr>\n",
       "    <tr>\n",
       "      <th>2</th>\n",
       "      <td>Nov22_Pair16</td>\n",
       "      <td>introduction</td>\n",
       "      <td>1/3/2023</td>\n",
       "      <td>Nov22_Pair16_Intro_WIN_20230103_13_46_48_Pro.mp4</td>\n",
       "      <td>\\Scn2a_X1Behavior_Nov22\\Female Intros\\01032023</td>\n",
       "      <td>Nov22_Pair16_Intro.csv</td>\n",
       "      <td>Scn2a_X1Behavior_Nov22\\Aggregated_Events</td>\n",
       "      <td>B6615</td>\n",
       "      <td>WT</td>\n",
       "      <td>NaN</td>\n",
       "      <td>...</td>\n",
       "      <td>NaN</td>\n",
       "      <td>NaN</td>\n",
       "      <td>Gina Williams</td>\n",
       "      <td>Josh Steighner</td>\n",
       "      <td>True</td>\n",
       "      <td>NaN</td>\n",
       "      <td>NaN</td>\n",
       "      <td>NaN</td>\n",
       "      <td>NaN</td>\n",
       "      <td>NaN</td>\n",
       "    </tr>\n",
       "    <tr>\n",
       "      <th>3</th>\n",
       "      <td>Nov22_Pair17</td>\n",
       "      <td>introduction</td>\n",
       "      <td>1/4/2023</td>\n",
       "      <td>Nov22_Pair17_Intro_WIN_20230104_12_24_30_Pro.mp4</td>\n",
       "      <td>\\Scn2a_X1Behavior_Nov22\\Male Intros\\01042023</td>\n",
       "      <td>Nov22_Pair17_Intro.csv</td>\n",
       "      <td>Scn2a_X1Behavior_Nov22\\Aggregated_Events</td>\n",
       "      <td>NaN</td>\n",
       "      <td>NaN</td>\n",
       "      <td>NaN</td>\n",
       "      <td>...</td>\n",
       "      <td>NaN</td>\n",
       "      <td>NaN</td>\n",
       "      <td>Gina Williams</td>\n",
       "      <td>Josh Steighner</td>\n",
       "      <td>True</td>\n",
       "      <td>NaN</td>\n",
       "      <td>NaN</td>\n",
       "      <td>NaN</td>\n",
       "      <td>NaN</td>\n",
       "      <td>NaN</td>\n",
       "    </tr>\n",
       "    <tr>\n",
       "      <th>4</th>\n",
       "      <td>Nov22_Pair18</td>\n",
       "      <td>introduction</td>\n",
       "      <td>1/4/2023</td>\n",
       "      <td>Nov22_Pair18_Intro_WIN_20230104_12_25_08_Pro.mp4</td>\n",
       "      <td>\\Scn2a_X1Behavior_Nov22\\Male Intros\\01042023</td>\n",
       "      <td>Nov22_Pair18_Intro.csv</td>\n",
       "      <td>Scn2a_X1Behavior_Nov22\\Aggregated_Events</td>\n",
       "      <td>NaN</td>\n",
       "      <td>NaN</td>\n",
       "      <td>NaN</td>\n",
       "      <td>...</td>\n",
       "      <td>NaN</td>\n",
       "      <td>NaN</td>\n",
       "      <td>Gina Williams</td>\n",
       "      <td>Josh Steighner</td>\n",
       "      <td>True</td>\n",
       "      <td>NaN</td>\n",
       "      <td>NaN</td>\n",
       "      <td>NaN</td>\n",
       "      <td>NaN</td>\n",
       "      <td>NaN</td>\n",
       "    </tr>\n",
       "  </tbody>\n",
       "</table>\n",
       "<p>5 rows × 33 columns</p>\n",
       "</div>"
      ],
      "text/plain": [
       "        PairTag     AssayType     RecDate  \\\n",
       "0   Nov22_Pair1  introduction  11/14/2022   \n",
       "1  Nov22_Pair15  introduction    1/3/2023   \n",
       "2  Nov22_Pair16  introduction    1/3/2023   \n",
       "3  Nov22_Pair17  introduction    1/4/2023   \n",
       "4  Nov22_Pair18  introduction    1/4/2023   \n",
       "\n",
       "                                          VideoFile  \\\n",
       "0    Nov22_Pair1Intro_WIN_20221114_12_47_25_Pro.mp4   \n",
       "1                            Nov22_Pair15_Intro.mov   \n",
       "2  Nov22_Pair16_Intro_WIN_20230103_13_46_48_Pro.mp4   \n",
       "3  Nov22_Pair17_Intro_WIN_20230104_12_24_30_Pro.mp4   \n",
       "4  Nov22_Pair18_Intro_WIN_20230104_12_25_08_Pro.mp4   \n",
       "\n",
       "                                        VideoPath               ScoreFile  \\\n",
       "0  \\Scn2a_X1Behavior_Nov22\\Female Intros\\11142022   Nov22_Pair1_Intro.csv   \n",
       "1  \\Scn2a_X1Behavior_Nov22\\Female Intros\\01032023  Nov22_Pair15_Intro.csv   \n",
       "2  \\Scn2a_X1Behavior_Nov22\\Female Intros\\01032023  Nov22_Pair16_Intro.csv   \n",
       "3    \\Scn2a_X1Behavior_Nov22\\Male Intros\\01042023  Nov22_Pair17_Intro.csv   \n",
       "4    \\Scn2a_X1Behavior_Nov22\\Male Intros\\01042023  Nov22_Pair18_Intro.csv   \n",
       "\n",
       "                                  ScorePath FemaleID FemaleGT  FemaleFam  ...  \\\n",
       "0  Scn2a_X1Behavior_Nov22\\Aggregated_Events    B8002      Het        NaN  ...   \n",
       "1  Scn2a_X1Behavior_Nov22\\Aggregated_Events    B6614      Het        NaN  ...   \n",
       "2  Scn2a_X1Behavior_Nov22\\Aggregated_Events    B6615       WT        NaN  ...   \n",
       "3  Scn2a_X1Behavior_Nov22\\Aggregated_Events      NaN      NaN        NaN  ...   \n",
       "4  Scn2a_X1Behavior_Nov22\\Aggregated_Events      NaN      NaN        NaN  ...   \n",
       "\n",
       "   Timeline Ethogram          RanBy        ScoredBy  FullTimeline FocalColor  \\\n",
       "0       NaN      NaN  Gina Williams  Josh Steighner          True        NaN   \n",
       "1       NaN      NaN  Gina Williams  Josh Steighner          True        NaN   \n",
       "2       NaN      NaN  Gina Williams  Josh Steighner          True        NaN   \n",
       "3       NaN      NaN  Gina Williams  Josh Steighner          True        NaN   \n",
       "4       NaN      NaN  Gina Williams  Josh Steighner          True        NaN   \n",
       "\n",
       "  StrangerID  StrangerGT PPTlane PartnerChamber  \n",
       "0        NaN         NaN     NaN            NaN  \n",
       "1        NaN         NaN     NaN            NaN  \n",
       "2        NaN         NaN     NaN            NaN  \n",
       "3        NaN         NaN     NaN            NaN  \n",
       "4        NaN         NaN     NaN            NaN  \n",
       "\n",
       "[5 rows x 33 columns]"
      ]
     },
     "execution_count": 22,
     "metadata": {},
     "output_type": "execute_result"
    }
   ],
   "source": [
    "meta.head()"
   ]
  },
  {
   "cell_type": "code",
   "execution_count": null,
   "id": "16c77d72",
   "metadata": {},
   "outputs": [],
   "source": [
    "# set up pipeline for other assays\n",
    "\n",
    "# sketch out pipeline for adding times from aggregated events to NWB file"
   ]
  },
  {
   "cell_type": "code",
   "execution_count": null,
   "id": "0d179f04",
   "metadata": {},
   "outputs": [],
   "source": [
    "# ----- Figure out which directories have the assay of interest\n",
    "\n",
    "videokeyword = 'Timed_Matings' # check how the videos are actually labeled\n",
    "assaymeta = 'metadata_timedMatings_v1.csv' # which metadata file to load up\n",
    "boriskeyword = 'TM' # how the Boris csv files are tagged\n",
    "\n",
    "projectDir = '196168550606' # the Box directory for the whole project\n",
    "rootpath = ['Scn2a_X1Behavior_Nov22']\n",
    "borisbox = '238576018931'\n",
    "borispath = 'Aggregated Events'\n",
    "\n",
    "metaoutfile = 'metadata_timedMatings_v2.csv'\n",
    "\n",
    "usedirs = []\n",
    "items = client.folder(folder_id=projectDir).get_items() # top level folder\n",
    "\n",
    "for item in items:\n",
    "    iid = item.id\n",
    "    inm = item.name\n",
    "    if inm.find(videokeyword)>-1:\n",
    "        usedirs.append(iid)\n",
    "\n",
    "# print(usedirs)\n",
    "\n",
    "# --- collect all the paths and filenames\n",
    "\n",
    "allpaths = []\n",
    "\n",
    "for usedir in usedirs: \n",
    "    \n",
    "    # add starting folder to curr_path\n",
    "    udnm = client.folder(folder_id=usedir).get(fields=['name']).name\n",
    "    curr_path = rootpath + [udnm]\n",
    "    \n",
    "    # search for files\n",
    "    thesepaths = visit_all_dirs_files(usedir,[],curr_path)\n",
    "\n",
    "    # consolidate\n",
    "    allpaths += thesepaths\n",
    "    \n",
    "print(allpaths)\n",
    "\n",
    "# ----- Get a list of just file names to hunt through -----\n",
    "justfiles = []\n",
    "for pth in allpaths:\n",
    "    justfiles.append(os.path.basename(pth))\n",
    "    \n",
    "# ----- Use metadata table to find expected files and add those columns to the table -----\n",
    "\n",
    "# load up metadata\n",
    "meta = pd.read_csv(assaymeta)\n",
    "\n",
    "# generate a regex of possible matches for filename\n",
    "fileIndex = []\n",
    "for tag in meta.PairTag:\n",
    "    match = find_in_list(justfiles,tag)\n",
    "    if len(match)==1:\n",
    "        fileIndex.append(match[0])\n",
    "    else:\n",
    "        print(f'No match for {tag}:')\n",
    "        \n",
    "# use fileIndex to look up file names and paths\n",
    "metafiles = []\n",
    "metapaths = []\n",
    "for i,tag in enumerate(meta.PairTag):\n",
    "    metafiles.append(justfiles[fileIndex[i]])\n",
    "    metapaths.append('\\\\'+os.path.dirname(allpaths[fileIndex[i]]))\n",
    "\n",
    "# add files and paths to the metadata table\n",
    "meta.VideoFile = metafiles\n",
    "meta.VideoPath = metapaths\n",
    "\n",
    "# ----- Get BORIS scored aggregated events file names -----\n",
    "aggfiles = []\n",
    "items = client.folder(folder_id=borisbox).get_items()\n",
    "\n",
    "for item in items:\n",
    "    inm = item.name\n",
    "    if inm.find(boriskeyword)>-1:\n",
    "        aggfiles.append(inm)\n",
    "        \n",
    "print(aggfiles)\n",
    "print(len(aggfiles))\n",
    "\n",
    "# --- add Boris csvs to metadata table\n",
    "# match pair tags\n",
    "ordered_agg = []\n",
    "for tag in meta.PairTag:\n",
    "    for fname in aggfiles:\n",
    "        if fname.startswith(tag+'_'):\n",
    "            ordered_agg.append(fname)\n",
    "\n",
    "meta.ScoreFile = ordered_agg\n",
    "\n",
    "# add path\n",
    "score_path = os.path.join(rootpath[0],borispath)\n",
    "score_path_arr = [score_path]*len(aggfiles)\n",
    "meta.ScorePath = score_path_arr\n",
    "    \n",
    "# --- write metadata table\n",
    "meta.to_csv(metaoutfile)"
   ]
  },
  {
   "cell_type": "code",
   "execution_count": 21,
   "id": "1ce20ab2",
   "metadata": {},
   "outputs": [],
   "source": [
    "# ----- Fix bad date formatting -----\n",
    "# dx = meta.pop('Unnamed: 0')\n",
    "\n",
    "newrecdates = []\n",
    "for i, olddate in enumerate(meta.RecDate):\n",
    "    dsplit = olddate.split('/')\n",
    "    yr = dsplit[2]\n",
    "    mn = dsplit[0]\n",
    "    dy = dsplit[1]\n",
    "    if len(mn)==1:\n",
    "        mn = '0'+mn\n",
    "    if len(dy)==1:\n",
    "        dy = '0'+dy\n",
    "    newrecdates.append(yr+mn+dy)"
   ]
  },
  {
   "cell_type": "code",
   "execution_count": 24,
   "id": "3ff76dec",
   "metadata": {},
   "outputs": [],
   "source": [
    "newpairdates = []\n",
    "for i, olddate in enumerate(meta.PairDate):\n",
    "    dsplit = olddate.split('/')\n",
    "    yr = dsplit[2]\n",
    "    mn = dsplit[0]\n",
    "    dy = dsplit[1]\n",
    "    if len(mn)==1:\n",
    "        mn = '0'+mn\n",
    "    if len(dy)==1:\n",
    "        dy = '0'+dy\n",
    "    newpairdates.append(yr+mn+dy)"
   ]
  },
  {
   "cell_type": "code",
   "execution_count": 26,
   "id": "1ff41c76",
   "metadata": {},
   "outputs": [],
   "source": [
    "meta.RecDate=newrecdates\n",
    "meta.PairDate=newpairdates"
   ]
  },
  {
   "cell_type": "code",
   "execution_count": 28,
   "id": "746dbea6",
   "metadata": {},
   "outputs": [],
   "source": [
    "meta.to_csv('metadata_intros_v3.csv')"
   ]
  },
  {
   "cell_type": "code",
   "execution_count": 54,
   "id": "c7b4cd5a",
   "metadata": {},
   "outputs": [],
   "source": [
    "# ----- Add colors to meta file so they go in the NWB metadata -----\n",
    "fillcols = [[160, 146, 95],[245, 201, 39],[89, 91, 125],[63, 78, 245]]\n",
    "linecols = [[96, 87, 57],[147, 120, 23],[53, 54, 75],[33, 41, 131]]\n",
    "\n",
    "# meta.FocalColor\n",
    "allcols = []\n",
    "for i, ptag in enumerate(meta.PairTag):\n",
    "    if meta.FocalSex[i]=='F':\n",
    "        if meta.FocalGT[i]=='WT':\n",
    "            tcol = [fillcols[0],linecols[0]]\n",
    "        else:\n",
    "            tcol = [fillcols[1],linecols[1]]\n",
    "    else:\n",
    "        if meta.FocalGT[i]=='WT':\n",
    "            tcol = [fillcols[2],linecols[2]]\n",
    "        else:\n",
    "            tcol = [fillcols[3],linecols[3]]\n",
    "    allcols.append(tcol)\n",
    "    \n",
    "meta.FocalColor=allcols"
   ]
  },
  {
   "cell_type": "code",
   "execution_count": 56,
   "id": "19badb48",
   "metadata": {},
   "outputs": [],
   "source": [
    "meta.to_csv('metadata_intros_v4.csv')"
   ]
  },
  {
   "cell_type": "code",
   "execution_count": 90,
   "id": "e0653290",
   "metadata": {},
   "outputs": [
    {
     "name": "stdout",
     "output_type": "stream",
     "text": [
      "Nov22_Pair1_introduction.nwb\n"
     ]
    },
    {
     "name": "stderr",
     "output_type": "stream",
     "text": [
      "C:\\Users\\Nerissa\\anaconda3\\envs\\voc230824\\lib\\site-packages\\hdmf\\build\\objectmapper.py:260: DtypeConversionWarning: Spec 'vole_metadata/colors': Value with data type int32 is being converted to data type float32 as specified.\n",
      "  warnings.warn(full_warning_msg, DtypeConversionWarning)\n"
     ]
    },
    {
     "name": "stdout",
     "output_type": "stream",
     "text": [
      "Nov22_Pair15_introduction.nwb\n",
      "Gap violation for behavior Investigate ending at 1401.436 and next behavior Huddle starting at 1401.935.\n"
     ]
    },
    {
     "name": "stderr",
     "output_type": "stream",
     "text": [
      "C:\\Users\\Nerissa\\anaconda3\\envs\\voc230824\\lib\\site-packages\\hdmf\\build\\objectmapper.py:260: DtypeConversionWarning: Spec 'vole_metadata/colors': Value with data type int32 is being converted to data type float32 as specified.\n",
      "  warnings.warn(full_warning_msg, DtypeConversionWarning)\n"
     ]
    },
    {
     "name": "stdout",
     "output_type": "stream",
     "text": [
      "Nov22_Pair16_introduction.nwb\n"
     ]
    },
    {
     "name": "stderr",
     "output_type": "stream",
     "text": [
      "C:\\Users\\Nerissa\\anaconda3\\envs\\voc230824\\lib\\site-packages\\hdmf\\build\\objectmapper.py:260: DtypeConversionWarning: Spec 'vole_metadata/colors': Value with data type int32 is being converted to data type float32 as specified.\n",
      "  warnings.warn(full_warning_msg, DtypeConversionWarning)\n"
     ]
    },
    {
     "name": "stdout",
     "output_type": "stream",
     "text": [
      "Nov22_Pair17_introduction.nwb\n"
     ]
    },
    {
     "name": "stderr",
     "output_type": "stream",
     "text": [
      "C:\\Users\\Nerissa\\anaconda3\\envs\\voc230824\\lib\\site-packages\\hdmf\\build\\objectmapper.py:260: DtypeConversionWarning: Spec 'vole_metadata/colors': Value with data type int32 is being converted to data type float32 as specified.\n",
      "  warnings.warn(full_warning_msg, DtypeConversionWarning)\n"
     ]
    },
    {
     "name": "stdout",
     "output_type": "stream",
     "text": [
      "Nov22_Pair18_introduction.nwb\n"
     ]
    },
    {
     "name": "stderr",
     "output_type": "stream",
     "text": [
      "C:\\Users\\Nerissa\\anaconda3\\envs\\voc230824\\lib\\site-packages\\hdmf\\build\\objectmapper.py:260: DtypeConversionWarning: Spec 'vole_metadata/colors': Value with data type int32 is being converted to data type float32 as specified.\n",
      "  warnings.warn(full_warning_msg, DtypeConversionWarning)\n"
     ]
    },
    {
     "name": "stdout",
     "output_type": "stream",
     "text": [
      "Nov22_Pair19_introduction.nwb\n"
     ]
    },
    {
     "name": "stderr",
     "output_type": "stream",
     "text": [
      "C:\\Users\\Nerissa\\anaconda3\\envs\\voc230824\\lib\\site-packages\\hdmf\\build\\objectmapper.py:260: DtypeConversionWarning: Spec 'vole_metadata/colors': Value with data type int32 is being converted to data type float32 as specified.\n",
      "  warnings.warn(full_warning_msg, DtypeConversionWarning)\n"
     ]
    },
    {
     "name": "stdout",
     "output_type": "stream",
     "text": [
      "Nov22_Pair2_introduction.nwb\n"
     ]
    },
    {
     "name": "stderr",
     "output_type": "stream",
     "text": [
      "C:\\Users\\Nerissa\\anaconda3\\envs\\voc230824\\lib\\site-packages\\hdmf\\build\\objectmapper.py:260: DtypeConversionWarning: Spec 'vole_metadata/colors': Value with data type int32 is being converted to data type float32 as specified.\n",
      "  warnings.warn(full_warning_msg, DtypeConversionWarning)\n"
     ]
    },
    {
     "name": "stdout",
     "output_type": "stream",
     "text": [
      "Nov22_Pair21_introduction.nwb\n"
     ]
    },
    {
     "name": "stderr",
     "output_type": "stream",
     "text": [
      "C:\\Users\\Nerissa\\anaconda3\\envs\\voc230824\\lib\\site-packages\\hdmf\\build\\objectmapper.py:260: DtypeConversionWarning: Spec 'vole_metadata/colors': Value with data type int32 is being converted to data type float32 as specified.\n",
      "  warnings.warn(full_warning_msg, DtypeConversionWarning)\n"
     ]
    },
    {
     "name": "stdout",
     "output_type": "stream",
     "text": [
      "Nov22_Pair22_introduction.nwb\n",
      "Gap violation for behavior No interaction ending at 519.788 and next behavior Sniff starting at 522.037.\n"
     ]
    },
    {
     "name": "stderr",
     "output_type": "stream",
     "text": [
      "C:\\Users\\Nerissa\\anaconda3\\envs\\voc230824\\lib\\site-packages\\hdmf\\build\\objectmapper.py:260: DtypeConversionWarning: Spec 'vole_metadata/colors': Value with data type int32 is being converted to data type float32 as specified.\n",
      "  warnings.warn(full_warning_msg, DtypeConversionWarning)\n"
     ]
    },
    {
     "name": "stdout",
     "output_type": "stream",
     "text": [
      "Nov22_Pair23_introduction.nwb\n",
      "Gap violation for behavior Investigate ending at 899.036 and next behavior No interaction starting at 899.789.\n",
      "Gap violation for behavior No interaction ending at 1185.702 and next behavior Investigate starting at 1186.705.\n"
     ]
    },
    {
     "name": "stderr",
     "output_type": "stream",
     "text": [
      "C:\\Users\\Nerissa\\anaconda3\\envs\\voc230824\\lib\\site-packages\\hdmf\\build\\objectmapper.py:260: DtypeConversionWarning: Spec 'vole_metadata/colors': Value with data type int32 is being converted to data type float32 as specified.\n",
      "  warnings.warn(full_warning_msg, DtypeConversionWarning)\n"
     ]
    },
    {
     "name": "stdout",
     "output_type": "stream",
     "text": [
      "Nov22_Pair24_introduction.nwb\n",
      "Gap violation for behavior Investigate ending at 50.367 and next behavior No interaction starting at 50.452.\n",
      "Gap violation for behavior Sniff ending at 52.12 and next behavior Investigate starting at 55.121.\n"
     ]
    },
    {
     "name": "stderr",
     "output_type": "stream",
     "text": [
      "C:\\Users\\Nerissa\\anaconda3\\envs\\voc230824\\lib\\site-packages\\hdmf\\build\\objectmapper.py:260: DtypeConversionWarning: Spec 'vole_metadata/colors': Value with data type int32 is being converted to data type float32 as specified.\n",
      "  warnings.warn(full_warning_msg, DtypeConversionWarning)\n"
     ]
    },
    {
     "name": "stdout",
     "output_type": "stream",
     "text": [
      "Nov22_Pair25_introduction.nwb\n",
      "Gap violation for behavior No interaction ending at 509.455 and next behavior Investigate starting at 510.951.\n",
      "Gap violation for behavior Investigate ending at 1520.873 and next behavior Sniff starting at 1523.124.\n"
     ]
    },
    {
     "name": "stderr",
     "output_type": "stream",
     "text": [
      "C:\\Users\\Nerissa\\anaconda3\\envs\\voc230824\\lib\\site-packages\\hdmf\\build\\objectmapper.py:260: DtypeConversionWarning: Spec 'vole_metadata/colors': Value with data type int32 is being converted to data type float32 as specified.\n",
      "  warnings.warn(full_warning_msg, DtypeConversionWarning)\n"
     ]
    },
    {
     "name": "stdout",
     "output_type": "stream",
     "text": [
      "Nov22_Pair26_introduction.nwb\n",
      "Gap violation for behavior Sniff ending at 458.872 and next behavior No interaction starting at 459.12.\n",
      "Gap violation for behavior Sniff ending at 592.867 and next behavior No interaction starting at 593.868.\n",
      "Gap violation for behavior No interaction ending at 618.786 and next behavior Sniff starting at 620.035.\n"
     ]
    },
    {
     "name": "stderr",
     "output_type": "stream",
     "text": [
      "C:\\Users\\Nerissa\\anaconda3\\envs\\voc230824\\lib\\site-packages\\hdmf\\build\\objectmapper.py:260: DtypeConversionWarning: Spec 'vole_metadata/colors': Value with data type int32 is being converted to data type float32 as specified.\n",
      "  warnings.warn(full_warning_msg, DtypeConversionWarning)\n"
     ]
    },
    {
     "name": "stdout",
     "output_type": "stream",
     "text": [
      "Nov22_Pair27_introduction.nwb\n",
      "Gap violation for behavior Sniff ending at 428.418 and next behavior No interaction starting at 428.42.\n",
      "Gap violation for behavior Sniff ending at 572.286 and next behavior Investigate starting at 572.29.\n",
      "Gap violation for behavior No interaction ending at 770.879 and next behavior Sniff starting at 771.128.\n"
     ]
    },
    {
     "name": "stderr",
     "output_type": "stream",
     "text": [
      "C:\\Users\\Nerissa\\anaconda3\\envs\\voc230824\\lib\\site-packages\\hdmf\\build\\objectmapper.py:260: DtypeConversionWarning: Spec 'vole_metadata/colors': Value with data type int32 is being converted to data type float32 as specified.\n",
      "  warnings.warn(full_warning_msg, DtypeConversionWarning)\n"
     ]
    },
    {
     "name": "stdout",
     "output_type": "stream",
     "text": [
      "Nov22_Pair28_introduction.nwb\n",
      "Overlap violation for behavior No interaction starting at 539.206 and ending at 539.622.\n",
      "Gap violation for behavior No interaction ending at 539.198 and next behavior No interaction starting at 539.206.\n",
      "Gap violation for behavior Sniff ending at 539.621 and next behavior Sniff starting at 540.122.\n"
     ]
    },
    {
     "name": "stderr",
     "output_type": "stream",
     "text": [
      "C:\\Users\\Nerissa\\anaconda3\\envs\\voc230824\\lib\\site-packages\\hdmf\\build\\objectmapper.py:260: DtypeConversionWarning: Spec 'vole_metadata/colors': Value with data type int32 is being converted to data type float32 as specified.\n",
      "  warnings.warn(full_warning_msg, DtypeConversionWarning)\n"
     ]
    },
    {
     "name": "stdout",
     "output_type": "stream",
     "text": [
      "Nov22_Pair29_introduction.nwb\n"
     ]
    },
    {
     "name": "stderr",
     "output_type": "stream",
     "text": [
      "C:\\Users\\Nerissa\\anaconda3\\envs\\voc230824\\lib\\site-packages\\hdmf\\build\\objectmapper.py:260: DtypeConversionWarning: Spec 'vole_metadata/colors': Value with data type int32 is being converted to data type float32 as specified.\n",
      "  warnings.warn(full_warning_msg, DtypeConversionWarning)\n"
     ]
    },
    {
     "name": "stdout",
     "output_type": "stream",
     "text": [
      "Nov22_Pair3_introduction.nwb\n"
     ]
    },
    {
     "name": "stderr",
     "output_type": "stream",
     "text": [
      "C:\\Users\\Nerissa\\anaconda3\\envs\\voc230824\\lib\\site-packages\\hdmf\\build\\objectmapper.py:260: DtypeConversionWarning: Spec 'vole_metadata/colors': Value with data type int32 is being converted to data type float32 as specified.\n",
      "  warnings.warn(full_warning_msg, DtypeConversionWarning)\n"
     ]
    },
    {
     "name": "stdout",
     "output_type": "stream",
     "text": [
      "Nov22_Pair30_introduction.nwb\n",
      "Gap violation for behavior Sniff ending at 309.286 and next behavior Investigate starting at 309.288.\n",
      "Gap violation for behavior No interaction ending at 1606.456 and next behavior No interaction starting at 1610.707.\n",
      "Gap violation for behavior No interaction ending at 1621.206 and next behavior Sniff starting at 1625.209.\n"
     ]
    },
    {
     "name": "stderr",
     "output_type": "stream",
     "text": [
      "C:\\Users\\Nerissa\\anaconda3\\envs\\voc230824\\lib\\site-packages\\hdmf\\build\\objectmapper.py:260: DtypeConversionWarning: Spec 'vole_metadata/colors': Value with data type int32 is being converted to data type float32 as specified.\n",
      "  warnings.warn(full_warning_msg, DtypeConversionWarning)\n"
     ]
    },
    {
     "name": "stdout",
     "output_type": "stream",
     "text": [
      "Nov22_Pair31_introduction.nwb\n"
     ]
    },
    {
     "name": "stderr",
     "output_type": "stream",
     "text": [
      "C:\\Users\\Nerissa\\anaconda3\\envs\\voc230824\\lib\\site-packages\\hdmf\\build\\objectmapper.py:260: DtypeConversionWarning: Spec 'vole_metadata/colors': Value with data type int32 is being converted to data type float32 as specified.\n",
      "  warnings.warn(full_warning_msg, DtypeConversionWarning)\n"
     ]
    },
    {
     "name": "stdout",
     "output_type": "stream",
     "text": [
      "Nov22_Pair32_introduction.nwb\n"
     ]
    },
    {
     "name": "stderr",
     "output_type": "stream",
     "text": [
      "C:\\Users\\Nerissa\\anaconda3\\envs\\voc230824\\lib\\site-packages\\hdmf\\build\\objectmapper.py:260: DtypeConversionWarning: Spec 'vole_metadata/colors': Value with data type int32 is being converted to data type float32 as specified.\n",
      "  warnings.warn(full_warning_msg, DtypeConversionWarning)\n"
     ]
    },
    {
     "name": "stdout",
     "output_type": "stream",
     "text": [
      "Nov22_Pair33_introduction.nwb\n"
     ]
    },
    {
     "name": "stderr",
     "output_type": "stream",
     "text": [
      "C:\\Users\\Nerissa\\anaconda3\\envs\\voc230824\\lib\\site-packages\\hdmf\\build\\objectmapper.py:260: DtypeConversionWarning: Spec 'vole_metadata/colors': Value with data type int32 is being converted to data type float32 as specified.\n",
      "  warnings.warn(full_warning_msg, DtypeConversionWarning)\n"
     ]
    },
    {
     "name": "stdout",
     "output_type": "stream",
     "text": [
      "Nov22_Pair34_introduction.nwb\n",
      "Overlap violation for behavior Huddle starting at 1594.873 and ending at 1641.874.\n"
     ]
    },
    {
     "name": "stderr",
     "output_type": "stream",
     "text": [
      "C:\\Users\\Nerissa\\anaconda3\\envs\\voc230824\\lib\\site-packages\\hdmf\\build\\objectmapper.py:260: DtypeConversionWarning: Spec 'vole_metadata/colors': Value with data type int32 is being converted to data type float32 as specified.\n",
      "  warnings.warn(full_warning_msg, DtypeConversionWarning)\n"
     ]
    },
    {
     "name": "stdout",
     "output_type": "stream",
     "text": [
      "Nov22_Pair35_introduction.nwb\n"
     ]
    },
    {
     "name": "stderr",
     "output_type": "stream",
     "text": [
      "C:\\Users\\Nerissa\\anaconda3\\envs\\voc230824\\lib\\site-packages\\hdmf\\build\\objectmapper.py:260: DtypeConversionWarning: Spec 'vole_metadata/colors': Value with data type int32 is being converted to data type float32 as specified.\n",
      "  warnings.warn(full_warning_msg, DtypeConversionWarning)\n"
     ]
    },
    {
     "name": "stdout",
     "output_type": "stream",
     "text": [
      "Nov22_Pair36_introduction.nwb\n",
      "Overlap violation for behavior No interaction starting at 306.119 and ending at 306.534.\n",
      "Gap violation for behavior No interaction ending at 306.036 and next behavior No interaction starting at 306.119.\n",
      "Gap violation for behavior Investigate ending at 306.533 and next behavior Investigate starting at 307.286.\n"
     ]
    },
    {
     "name": "stderr",
     "output_type": "stream",
     "text": [
      "C:\\Users\\Nerissa\\anaconda3\\envs\\voc230824\\lib\\site-packages\\hdmf\\build\\objectmapper.py:260: DtypeConversionWarning: Spec 'vole_metadata/colors': Value with data type int32 is being converted to data type float32 as specified.\n",
      "  warnings.warn(full_warning_msg, DtypeConversionWarning)\n"
     ]
    },
    {
     "name": "stdout",
     "output_type": "stream",
     "text": [
      "Nov22_Pair37_introduction.nwb\n"
     ]
    },
    {
     "name": "stderr",
     "output_type": "stream",
     "text": [
      "C:\\Users\\Nerissa\\anaconda3\\envs\\voc230824\\lib\\site-packages\\hdmf\\build\\objectmapper.py:260: DtypeConversionWarning: Spec 'vole_metadata/colors': Value with data type int32 is being converted to data type float32 as specified.\n",
      "  warnings.warn(full_warning_msg, DtypeConversionWarning)\n"
     ]
    },
    {
     "name": "stdout",
     "output_type": "stream",
     "text": [
      "Nov22_Pair38_introduction.nwb\n"
     ]
    },
    {
     "name": "stderr",
     "output_type": "stream",
     "text": [
      "C:\\Users\\Nerissa\\anaconda3\\envs\\voc230824\\lib\\site-packages\\hdmf\\build\\objectmapper.py:260: DtypeConversionWarning: Spec 'vole_metadata/colors': Value with data type int32 is being converted to data type float32 as specified.\n",
      "  warnings.warn(full_warning_msg, DtypeConversionWarning)\n"
     ]
    },
    {
     "name": "stdout",
     "output_type": "stream",
     "text": [
      "Nov22_Pair39_introduction.nwb\n",
      "Gap violation for behavior No interaction ending at 313.871 and next behavior Defensive rear starting at 340.453.\n"
     ]
    },
    {
     "name": "stderr",
     "output_type": "stream",
     "text": [
      "C:\\Users\\Nerissa\\anaconda3\\envs\\voc230824\\lib\\site-packages\\hdmf\\build\\objectmapper.py:260: DtypeConversionWarning: Spec 'vole_metadata/colors': Value with data type int32 is being converted to data type float32 as specified.\n",
      "  warnings.warn(full_warning_msg, DtypeConversionWarning)\n"
     ]
    },
    {
     "name": "stdout",
     "output_type": "stream",
     "text": [
      "Nov22_Pair4_introduction.nwb\n",
      "Gap violation for behavior Sniff ending at 571.886 and next behavior No interaction starting at 571.905.\n"
     ]
    },
    {
     "name": "stderr",
     "output_type": "stream",
     "text": [
      "C:\\Users\\Nerissa\\anaconda3\\envs\\voc230824\\lib\\site-packages\\hdmf\\build\\objectmapper.py:260: DtypeConversionWarning: Spec 'vole_metadata/colors': Value with data type int32 is being converted to data type float32 as specified.\n",
      "  warnings.warn(full_warning_msg, DtypeConversionWarning)\n"
     ]
    },
    {
     "name": "stdout",
     "output_type": "stream",
     "text": [
      "Nov22_Pair40_introduction.nwb\n"
     ]
    },
    {
     "name": "stderr",
     "output_type": "stream",
     "text": [
      "C:\\Users\\Nerissa\\anaconda3\\envs\\voc230824\\lib\\site-packages\\hdmf\\build\\objectmapper.py:260: DtypeConversionWarning: Spec 'vole_metadata/colors': Value with data type int32 is being converted to data type float32 as specified.\n",
      "  warnings.warn(full_warning_msg, DtypeConversionWarning)\n"
     ]
    },
    {
     "name": "stdout",
     "output_type": "stream",
     "text": [
      "Nov22_Pair41_introduction.nwb\n"
     ]
    },
    {
     "name": "stderr",
     "output_type": "stream",
     "text": [
      "C:\\Users\\Nerissa\\anaconda3\\envs\\voc230824\\lib\\site-packages\\hdmf\\build\\objectmapper.py:260: DtypeConversionWarning: Spec 'vole_metadata/colors': Value with data type int32 is being converted to data type float32 as specified.\n",
      "  warnings.warn(full_warning_msg, DtypeConversionWarning)\n"
     ]
    },
    {
     "name": "stdout",
     "output_type": "stream",
     "text": [
      "Nov22_Pair42_introduction.nwb\n"
     ]
    },
    {
     "name": "stderr",
     "output_type": "stream",
     "text": [
      "C:\\Users\\Nerissa\\anaconda3\\envs\\voc230824\\lib\\site-packages\\hdmf\\build\\objectmapper.py:260: DtypeConversionWarning: Spec 'vole_metadata/colors': Value with data type int32 is being converted to data type float32 as specified.\n",
      "  warnings.warn(full_warning_msg, DtypeConversionWarning)\n"
     ]
    },
    {
     "name": "stdout",
     "output_type": "stream",
     "text": [
      "Nov22_Pair43_introduction.nwb\n",
      "Gap violation for behavior Investigate ending at 1074.708 and next behavior Huddle starting at 1076.208.\n"
     ]
    },
    {
     "name": "stderr",
     "output_type": "stream",
     "text": [
      "C:\\Users\\Nerissa\\anaconda3\\envs\\voc230824\\lib\\site-packages\\hdmf\\build\\objectmapper.py:260: DtypeConversionWarning: Spec 'vole_metadata/colors': Value with data type int32 is being converted to data type float32 as specified.\n",
      "  warnings.warn(full_warning_msg, DtypeConversionWarning)\n"
     ]
    },
    {
     "name": "stdout",
     "output_type": "stream",
     "text": [
      "Nov22_Pair44_introduction.nwb\n"
     ]
    },
    {
     "name": "stderr",
     "output_type": "stream",
     "text": [
      "C:\\Users\\Nerissa\\anaconda3\\envs\\voc230824\\lib\\site-packages\\hdmf\\build\\objectmapper.py:260: DtypeConversionWarning: Spec 'vole_metadata/colors': Value with data type int32 is being converted to data type float32 as specified.\n",
      "  warnings.warn(full_warning_msg, DtypeConversionWarning)\n"
     ]
    },
    {
     "name": "stdout",
     "output_type": "stream",
     "text": [
      "Nov22_Pair46_introduction.nwb\n"
     ]
    },
    {
     "name": "stderr",
     "output_type": "stream",
     "text": [
      "C:\\Users\\Nerissa\\anaconda3\\envs\\voc230824\\lib\\site-packages\\hdmf\\build\\objectmapper.py:260: DtypeConversionWarning: Spec 'vole_metadata/colors': Value with data type int32 is being converted to data type float32 as specified.\n",
      "  warnings.warn(full_warning_msg, DtypeConversionWarning)\n"
     ]
    },
    {
     "name": "stdout",
     "output_type": "stream",
     "text": [
      "Nov22_Pair47_introduction.nwb\n"
     ]
    },
    {
     "name": "stderr",
     "output_type": "stream",
     "text": [
      "C:\\Users\\Nerissa\\anaconda3\\envs\\voc230824\\lib\\site-packages\\hdmf\\build\\objectmapper.py:260: DtypeConversionWarning: Spec 'vole_metadata/colors': Value with data type int32 is being converted to data type float32 as specified.\n",
      "  warnings.warn(full_warning_msg, DtypeConversionWarning)\n"
     ]
    },
    {
     "name": "stdout",
     "output_type": "stream",
     "text": [
      "Nov22_Pair48_introduction.nwb\n"
     ]
    },
    {
     "name": "stderr",
     "output_type": "stream",
     "text": [
      "C:\\Users\\Nerissa\\anaconda3\\envs\\voc230824\\lib\\site-packages\\hdmf\\build\\objectmapper.py:260: DtypeConversionWarning: Spec 'vole_metadata/colors': Value with data type int32 is being converted to data type float32 as specified.\n",
      "  warnings.warn(full_warning_msg, DtypeConversionWarning)\n"
     ]
    },
    {
     "name": "stdout",
     "output_type": "stream",
     "text": [
      "Nov22_Pair49_introduction.nwb\n",
      "Gap violation for behavior No interaction ending at 1077.872 and next behavior Investigate starting at 1077.877.\n"
     ]
    },
    {
     "name": "stderr",
     "output_type": "stream",
     "text": [
      "C:\\Users\\Nerissa\\anaconda3\\envs\\voc230824\\lib\\site-packages\\hdmf\\build\\objectmapper.py:260: DtypeConversionWarning: Spec 'vole_metadata/colors': Value with data type int32 is being converted to data type float32 as specified.\n",
      "  warnings.warn(full_warning_msg, DtypeConversionWarning)\n"
     ]
    },
    {
     "name": "stdout",
     "output_type": "stream",
     "text": [
      "Nov22_Pair5_introduction.nwb\n"
     ]
    },
    {
     "name": "stderr",
     "output_type": "stream",
     "text": [
      "C:\\Users\\Nerissa\\anaconda3\\envs\\voc230824\\lib\\site-packages\\hdmf\\build\\objectmapper.py:260: DtypeConversionWarning: Spec 'vole_metadata/colors': Value with data type int32 is being converted to data type float32 as specified.\n",
      "  warnings.warn(full_warning_msg, DtypeConversionWarning)\n"
     ]
    },
    {
     "name": "stdout",
     "output_type": "stream",
     "text": [
      "Nov22_Pair50_introduction.nwb\n"
     ]
    },
    {
     "name": "stderr",
     "output_type": "stream",
     "text": [
      "C:\\Users\\Nerissa\\anaconda3\\envs\\voc230824\\lib\\site-packages\\hdmf\\build\\objectmapper.py:260: DtypeConversionWarning: Spec 'vole_metadata/colors': Value with data type int32 is being converted to data type float32 as specified.\n",
      "  warnings.warn(full_warning_msg, DtypeConversionWarning)\n"
     ]
    },
    {
     "name": "stdout",
     "output_type": "stream",
     "text": [
      "Nov22_Pair51_introduction.nwb\n"
     ]
    },
    {
     "name": "stderr",
     "output_type": "stream",
     "text": [
      "C:\\Users\\Nerissa\\anaconda3\\envs\\voc230824\\lib\\site-packages\\hdmf\\build\\objectmapper.py:260: DtypeConversionWarning: Spec 'vole_metadata/colors': Value with data type int32 is being converted to data type float32 as specified.\n",
      "  warnings.warn(full_warning_msg, DtypeConversionWarning)\n"
     ]
    },
    {
     "name": "stdout",
     "output_type": "stream",
     "text": [
      "Nov22_Pair52_introduction.nwb\n"
     ]
    },
    {
     "name": "stderr",
     "output_type": "stream",
     "text": [
      "C:\\Users\\Nerissa\\anaconda3\\envs\\voc230824\\lib\\site-packages\\hdmf\\build\\objectmapper.py:260: DtypeConversionWarning: Spec 'vole_metadata/colors': Value with data type int32 is being converted to data type float32 as specified.\n",
      "  warnings.warn(full_warning_msg, DtypeConversionWarning)\n"
     ]
    },
    {
     "name": "stdout",
     "output_type": "stream",
     "text": [
      "Nov22_Pair56_introduction.nwb\n",
      "Gap violation for behavior Investigate ending at 330.37 and next behavior Defensive rear starting at 330.623.\n"
     ]
    },
    {
     "name": "stderr",
     "output_type": "stream",
     "text": [
      "C:\\Users\\Nerissa\\anaconda3\\envs\\voc230824\\lib\\site-packages\\hdmf\\build\\objectmapper.py:260: DtypeConversionWarning: Spec 'vole_metadata/colors': Value with data type int32 is being converted to data type float32 as specified.\n",
      "  warnings.warn(full_warning_msg, DtypeConversionWarning)\n"
     ]
    },
    {
     "name": "stdout",
     "output_type": "stream",
     "text": [
      "Nov22_Pair57_introduction.nwb\n"
     ]
    },
    {
     "name": "stderr",
     "output_type": "stream",
     "text": [
      "C:\\Users\\Nerissa\\anaconda3\\envs\\voc230824\\lib\\site-packages\\hdmf\\build\\objectmapper.py:260: DtypeConversionWarning: Spec 'vole_metadata/colors': Value with data type int32 is being converted to data type float32 as specified.\n",
      "  warnings.warn(full_warning_msg, DtypeConversionWarning)\n"
     ]
    },
    {
     "name": "stdout",
     "output_type": "stream",
     "text": [
      "Nov22_Pair58_introduction.nwb\n"
     ]
    },
    {
     "name": "stderr",
     "output_type": "stream",
     "text": [
      "C:\\Users\\Nerissa\\anaconda3\\envs\\voc230824\\lib\\site-packages\\hdmf\\build\\objectmapper.py:260: DtypeConversionWarning: Spec 'vole_metadata/colors': Value with data type int32 is being converted to data type float32 as specified.\n",
      "  warnings.warn(full_warning_msg, DtypeConversionWarning)\n"
     ]
    },
    {
     "name": "stdout",
     "output_type": "stream",
     "text": [
      "Nov22_Pair59_introduction.nwb\n"
     ]
    },
    {
     "name": "stderr",
     "output_type": "stream",
     "text": [
      "C:\\Users\\Nerissa\\anaconda3\\envs\\voc230824\\lib\\site-packages\\hdmf\\build\\objectmapper.py:260: DtypeConversionWarning: Spec 'vole_metadata/colors': Value with data type int32 is being converted to data type float32 as specified.\n",
      "  warnings.warn(full_warning_msg, DtypeConversionWarning)\n"
     ]
    },
    {
     "name": "stdout",
     "output_type": "stream",
     "text": [
      "Nov22_Pair6_introduction.nwb\n"
     ]
    },
    {
     "name": "stderr",
     "output_type": "stream",
     "text": [
      "C:\\Users\\Nerissa\\anaconda3\\envs\\voc230824\\lib\\site-packages\\hdmf\\build\\objectmapper.py:260: DtypeConversionWarning: Spec 'vole_metadata/colors': Value with data type int32 is being converted to data type float32 as specified.\n",
      "  warnings.warn(full_warning_msg, DtypeConversionWarning)\n"
     ]
    },
    {
     "name": "stdout",
     "output_type": "stream",
     "text": [
      "Nov22_Pair60_introduction.nwb\n",
      "Gap violation for behavior No interaction ending at 1019.874 and next behavior Sniff starting at 1021.041.\n"
     ]
    },
    {
     "name": "stderr",
     "output_type": "stream",
     "text": [
      "C:\\Users\\Nerissa\\anaconda3\\envs\\voc230824\\lib\\site-packages\\hdmf\\build\\objectmapper.py:260: DtypeConversionWarning: Spec 'vole_metadata/colors': Value with data type int32 is being converted to data type float32 as specified.\n",
      "  warnings.warn(full_warning_msg, DtypeConversionWarning)\n"
     ]
    },
    {
     "name": "stdout",
     "output_type": "stream",
     "text": [
      "Nov22_Pair61_introduction.nwb\n"
     ]
    },
    {
     "name": "stderr",
     "output_type": "stream",
     "text": [
      "C:\\Users\\Nerissa\\anaconda3\\envs\\voc230824\\lib\\site-packages\\hdmf\\build\\objectmapper.py:260: DtypeConversionWarning: Spec 'vole_metadata/colors': Value with data type int32 is being converted to data type float32 as specified.\n",
      "  warnings.warn(full_warning_msg, DtypeConversionWarning)\n"
     ]
    },
    {
     "name": "stdout",
     "output_type": "stream",
     "text": [
      "Nov22_Pair62_introduction.nwb\n"
     ]
    },
    {
     "name": "stderr",
     "output_type": "stream",
     "text": [
      "C:\\Users\\Nerissa\\anaconda3\\envs\\voc230824\\lib\\site-packages\\hdmf\\build\\objectmapper.py:260: DtypeConversionWarning: Spec 'vole_metadata/colors': Value with data type int32 is being converted to data type float32 as specified.\n",
      "  warnings.warn(full_warning_msg, DtypeConversionWarning)\n"
     ]
    },
    {
     "name": "stdout",
     "output_type": "stream",
     "text": [
      "Nov22_Pair63_introduction.nwb\n",
      "Gap violation for behavior No interaction ending at 1220.374 and next behavior Defensive rear starting at 1221.871.\n"
     ]
    },
    {
     "name": "stderr",
     "output_type": "stream",
     "text": [
      "C:\\Users\\Nerissa\\anaconda3\\envs\\voc230824\\lib\\site-packages\\hdmf\\build\\objectmapper.py:260: DtypeConversionWarning: Spec 'vole_metadata/colors': Value with data type int32 is being converted to data type float32 as specified.\n",
      "  warnings.warn(full_warning_msg, DtypeConversionWarning)\n"
     ]
    },
    {
     "name": "stdout",
     "output_type": "stream",
     "text": [
      "Nov22_Pair64_introduction.nwb\n",
      "Gap violation for behavior No interaction ending at 1798.639 and next behavior Huddle starting at 1798.89.\n"
     ]
    },
    {
     "name": "stderr",
     "output_type": "stream",
     "text": [
      "C:\\Users\\Nerissa\\anaconda3\\envs\\voc230824\\lib\\site-packages\\hdmf\\build\\objectmapper.py:260: DtypeConversionWarning: Spec 'vole_metadata/colors': Value with data type int32 is being converted to data type float32 as specified.\n",
      "  warnings.warn(full_warning_msg, DtypeConversionWarning)\n"
     ]
    },
    {
     "name": "stdout",
     "output_type": "stream",
     "text": [
      "Nov22_Pair7_introduction.nwb\n"
     ]
    },
    {
     "name": "stderr",
     "output_type": "stream",
     "text": [
      "C:\\Users\\Nerissa\\anaconda3\\envs\\voc230824\\lib\\site-packages\\hdmf\\build\\objectmapper.py:260: DtypeConversionWarning: Spec 'vole_metadata/colors': Value with data type int32 is being converted to data type float32 as specified.\n",
      "  warnings.warn(full_warning_msg, DtypeConversionWarning)\n"
     ]
    },
    {
     "name": "stdout",
     "output_type": "stream",
     "text": [
      "Nov22_Pair8_introduction.nwb\n"
     ]
    },
    {
     "name": "stderr",
     "output_type": "stream",
     "text": [
      "C:\\Users\\Nerissa\\anaconda3\\envs\\voc230824\\lib\\site-packages\\hdmf\\build\\objectmapper.py:260: DtypeConversionWarning: Spec 'vole_metadata/colors': Value with data type int32 is being converted to data type float32 as specified.\n",
      "  warnings.warn(full_warning_msg, DtypeConversionWarning)\n"
     ]
    }
   ],
   "source": [
    "# ----- NWB skeleton -----\n",
    "\n",
    "# 1. Set up user parameters\n",
    "# 2. Loop over metadata file\n",
    "# 3. Get and set up metadata\n",
    "# 4. Set up behavior table\n",
    "# 5. Write nwb file\n",
    "\n",
    "# -- set parameters\n",
    "lab = \"Manoli @ UCSF\"\n",
    "exclude_flag = False\n",
    "# path to storage for NWB files\n",
    "nwbfile_path = os.path.join('M:\\\\','scn2a-paper-GWJSNH','NWB-files')\n",
    "\n",
    "# load metadata\n",
    "meta = pd.read_csv('metadata_intros_v4.csv')\n",
    "meta.FocalColor = meta.FocalColor.apply(literal_eval) # convert the colors to real arrays\n",
    "\n",
    "# keep track of overloaded files\n",
    "multifile_log = []\n",
    "\n",
    "# keep track of annotation overlaps\n",
    "ol_files = []\n",
    "ol_behav = []\n",
    "ol_start = []\n",
    "ol_end = []\n",
    "\n",
    "# keep track of annotation gaps\n",
    "g_files = []\n",
    "g_b1 = []\n",
    "g_b2 = []\n",
    "g_end = []\n",
    "g_start = []\n",
    "\n",
    "# -- loop over metadata\n",
    "for i, ptag in enumerate(meta.PairTag):\n",
    "    assay_type = meta.AssayType[i]\n",
    "    nwbfilename = f'{ptag}_{assay_type}.nwb'\n",
    "    print(nwbfilename)\n",
    "    \n",
    "    # check if file already exists\n",
    "    wfullpath = os.path.join(nwbfile_path,nwbfilename)    \n",
    "    if not os.path.exists(wfullpath):    \n",
    "        \n",
    "        # get session specific metadata\n",
    "        thisdate = str(meta.RecDate[i])\n",
    "\n",
    "        # set up recording time... it would be nice to get actual video data for the times\n",
    "        datepieces = get_date_from_block(thisdate)\n",
    "        sess_start = datetime(datepieces[0],datepieces[1],datepieces[2],12,0,0,0,tzlocal())\n",
    "\n",
    "        session_description = f'Behavioral annotations from pair {ptag} in a(n) {assay_type} assay.'\n",
    "\n",
    "        # make NWB file\n",
    "        nwbfile = NWBFile(\n",
    "            session_description=session_description,\n",
    "            identifier = str(uuid4()),\n",
    "            session_start_time = sess_start,\n",
    "            lab=lab,\n",
    "            experimenter=meta.RanBy[i],\n",
    "            session_id = nwbfilename[0:-4], # check this\n",
    "        )\n",
    "\n",
    "        # add subject info\n",
    "        nwbfile.subject = Subject(\n",
    "            subject_id = meta.FocalID[i],\n",
    "            species = 'Microtus ochrogaster',\n",
    "            sex = meta.FocalSex[i],\n",
    "            genotype = meta.FocalGT[i]\n",
    "        )\n",
    "\n",
    "        # get assay duration\n",
    "        duration = float(meta.AssayDuration[i])\n",
    "\n",
    "        # figure out partner info\n",
    "        if meta.FocalSex[i]=='F':\n",
    "            pID = meta.MaleID[i]\n",
    "            pGT = meta.MaleGT[i]\n",
    "        elif meta.FocalSex[i]=='M':\n",
    "            pID = meta.FemaleID[i]\n",
    "            pGT = meta.MaleGT[i]\n",
    "        else:\n",
    "            print(f'Focal sex is neither F nor M; something is wrong with {ptag}.')\n",
    "\n",
    "        # TODO convert these to date objects and make sure this works\n",
    "        # figure out time since pairing\n",
    "        days = meta.RecDate[i] - meta.PairDate[i]\n",
    "\n",
    "        # add lab metadata\n",
    "        metaObj = AssayMetadata(\n",
    "                        assay_type=assay_type,\n",
    "                        exclude_flag=exclude_flag,\n",
    "                        duration=duration,\n",
    "                        room=str(meta.AssayRoom[i]),\n",
    "                        timeline=str(meta.Timeline[i]),\n",
    "                        ethogram=str(meta.Ethogram[i]),\n",
    "                        experimenter=str(meta.ScoredBy[i]),\n",
    "                        timeline_complete=meta.FullTimeline[i],\n",
    "                        colors=meta.FocalColor[i],\n",
    "                        introduction=os.path.join(meta.ScorePath[i],meta.ScoreFile[i]),\n",
    "                        introduction__partner_ID=str(pID),\n",
    "                        introduction__partner_GT=str(pGT),\n",
    "                        )\n",
    "\n",
    "        # Add the test LabMetaDataExtensionExample to the NWBFile\n",
    "        nwbfile.add_lab_meta_data(lab_meta_data=metaObj)\n",
    "\n",
    "        # TODO Add video file\n",
    "        video_ext_file = ImageSeries(\n",
    "            name='behaviorVideo',\n",
    "            description='Raw original video.',\n",
    "            unit='n.a.',\n",
    "            external_file=[os.path.join(meta.VideoPath[i],meta.VideoFile[i])],\n",
    "            format='external',\n",
    "            starting_time=0.0,\n",
    "            rate=25.0,\n",
    "        )\n",
    "\n",
    "        nwbfile.add_acquisition(video_ext_file)\n",
    "\n",
    "        # --- Add annotated behavior data\n",
    "\n",
    "        # Make sure these files are downloaded with the same path configuration as listed in the metadata\n",
    "        # Or adjust here as I did with telling the code to go up a level\n",
    "        scoretab = pd.read_csv(os.path.join('..',meta.ScorePath[i],meta.ScoreFile[i])) # load up csv of annotations\n",
    "\n",
    "        # change problematic column names\n",
    "        scoretab.rename(columns={'Start (s)':'start'}, inplace=True)\n",
    "        scoretab.rename(columns={'Stop (s)':'end'}, inplace=True)\n",
    "        scoretab.rename(columns={'Duration (s)':'duration'}, inplace=True)\n",
    "        scoretab.rename(columns={'Behavior type':'behavior_type'}, inplace=True)\n",
    "\n",
    "        # --- Check for problems in the annotation file\n",
    "\n",
    "        # check for extraneous media files\n",
    "        if len(np.unique(scoretab['Media file']))>1:\n",
    "            warnings.warn(f'Scored csv {meta.ScoreFile[i]} contains events for multiple media files.')\n",
    "            multifile_log.append(meta.ScoreFile[i])\n",
    "            for fp in np.unique(scoretab['Media file']):\n",
    "                print(fp)\n",
    "\n",
    "        else:       \n",
    "\n",
    "            # check for total event duration violations\n",
    "            totdur = np.sum(scoretab.duration)\n",
    "            if totdur>1.05*duration:\n",
    "                warnings.warn(f'Total events duration of {meta.ScoreFile[i]} exceeds the assay duration.')\n",
    "            elif totdur<0.95*duration:\n",
    "                warnings.warn(f'Total events duration of {meta.ScoreFile[i]} does not meet the assay duration.')\n",
    "\n",
    "            # check for overlapping events and check for unscored gaps between events\n",
    "            # keep track of annotation overlaps\n",
    "            ols,ole,olb,gs,ge,gb1,gb2 = check_for_event_interactions(scoretab,True)\n",
    "            \n",
    "            # log overlaps\n",
    "            for j,ol in enumerate(ols):\n",
    "                ol_files.append(meta.ScoreFile[i])\n",
    "                ol_behav.append(olb[j])\n",
    "                ol_start.append(ol)\n",
    "                ol_end.append(ole[j])\n",
    "\n",
    "            # log gaps\n",
    "            for j, gp in enumerate(gs):\n",
    "                g_files.append(meta.ScoreFile[i])\n",
    "                g_b1.append(gb1[j])\n",
    "                g_b2.append(gb2[j])\n",
    "                g_end.append(ge[j])\n",
    "                g_start.append(gs[j])\n",
    "\n",
    "        # make NWB object corresponding to the annotation table\n",
    "        behavior_intervals = TimeIntervals(name=\"annotated_behavior\",\n",
    "            description=\"Intervals of scored behavior.\")\n",
    "\n",
    "        behavior_intervals.add_column(name=\"behavior\", description=\"The annotation from the ethogram.\")\n",
    "        behavior_intervals.add_column(name=\"duration\", description=\"Duration of the behavior.\")\n",
    "        behavior_intervals.add_column(name=\"atype\", description=\"Point or state event.\")\n",
    "\n",
    "        # populate table\n",
    "        for i, start in enumerate(scoretab.start):\n",
    "            end = scoretab.end[i]\n",
    "            behav = scoretab.Behavior[i]\n",
    "            atype = scoretab.behavior_type[i]\n",
    "            dur = scoretab.duration[i]\n",
    "            behavior_intervals.add_row(start_time=start,stop_time=end,behavior=behav,atype=atype,duration=dur)\n",
    "\n",
    "        # add to NWB file\n",
    "        nwbfile.add_time_intervals(behavior_intervals)\n",
    "        \n",
    "        # write file to disk\n",
    "        if write_NWB_to_disk:\n",
    "            with NWBHDF5IO(wfullpath, \"w\") as io:\n",
    "                io.write(nwbfile)\n",
    "\n",
    "# --- Write annotation violation logs for review\n",
    "ol_log = {'file':ol_files,'behavior':ol_behav,'start_time':ol_start,'end_time':ol_end}\n",
    "ol_tab = pd.DataFrame(data=ol_log)\n",
    "ol_tab.to_csv(f'overlap_log_{meta.AssayType[i]}.csv',index=False)\n",
    "\n",
    "gap_durs = []\n",
    "for i,st in enumerate(g_start):\n",
    "    gap_durs.append(st-g_end[i])\n",
    "gap_log = {'file':g_files,'behavior1':g_b1,'behavior1_end':g_end,'behavior2':g_b2,'behavior2_start':g_start,\n",
    "           'gap_duration':gap_durs}\n",
    "g_tab = pd.DataFrame(data=gap_log)\n",
    "g_tab.to_csv(f'gap_log_{meta.AssayType[i]}.csv',index=False)"
   ]
  },
  {
   "cell_type": "code",
   "execution_count": 89,
   "id": "f576afff",
   "metadata": {},
   "outputs": [],
   "source": [
    "ol_log = {'file':ol_files,'behavior':ol_behav,'start_time':ol_start,'end_time':ol_end}\n",
    "ol_tab = pd.DataFrame(data=ol_log)\n",
    "ol_tab.to_csv('overlap_log_intros.csv',index=False)\n",
    "\n",
    "gap_durs = []\n",
    "for i,st in enumerate(g_start):\n",
    "    gap_durs.append(st-g_end[i])\n",
    "gap_log = {'file':g_files,'behavior1':g_b1,'behavior1_end':g_end,'behavior2':g_b2,'behavior2_start':g_start,\n",
    "           'gap_duration':gap_durs}\n",
    "g_tab = pd.DataFrame(data=gap_log)\n",
    "g_tab.to_csv('gap_log_intros.csv',index=False)"
   ]
  },
  {
   "cell_type": "code",
   "execution_count": 88,
   "id": "24eae254",
   "metadata": {},
   "outputs": [
    {
     "data": {
      "text/html": [
       "<div>\n",
       "<style scoped>\n",
       "    .dataframe tbody tr th:only-of-type {\n",
       "        vertical-align: middle;\n",
       "    }\n",
       "\n",
       "    .dataframe tbody tr th {\n",
       "        vertical-align: top;\n",
       "    }\n",
       "\n",
       "    .dataframe thead th {\n",
       "        text-align: right;\n",
       "    }\n",
       "</style>\n",
       "<table border=\"1\" class=\"dataframe\">\n",
       "  <thead>\n",
       "    <tr style=\"text-align: right;\">\n",
       "      <th></th>\n",
       "      <th>file</th>\n",
       "      <th>behavior</th>\n",
       "      <th>start_time</th>\n",
       "      <th>end_time</th>\n",
       "    </tr>\n",
       "  </thead>\n",
       "  <tbody>\n",
       "    <tr>\n",
       "      <th>0</th>\n",
       "      <td>Nov22_Pair28_Intro.csv</td>\n",
       "      <td>No interaction</td>\n",
       "      <td>539.206</td>\n",
       "      <td>539.622</td>\n",
       "    </tr>\n",
       "    <tr>\n",
       "      <th>1</th>\n",
       "      <td>Nov22_Pair34_Intro.csv</td>\n",
       "      <td>Huddle</td>\n",
       "      <td>1594.873</td>\n",
       "      <td>1641.874</td>\n",
       "    </tr>\n",
       "    <tr>\n",
       "      <th>2</th>\n",
       "      <td>Nov22_Pair36_Intro.csv</td>\n",
       "      <td>No interaction</td>\n",
       "      <td>306.119</td>\n",
       "      <td>306.534</td>\n",
       "    </tr>\n",
       "  </tbody>\n",
       "</table>\n",
       "</div>"
      ],
      "text/plain": [
       "                     file        behavior  start_time  end_time\n",
       "0  Nov22_Pair28_Intro.csv  No interaction     539.206   539.622\n",
       "1  Nov22_Pair34_Intro.csv          Huddle    1594.873  1641.874\n",
       "2  Nov22_Pair36_Intro.csv  No interaction     306.119   306.534"
      ]
     },
     "execution_count": 88,
     "metadata": {},
     "output_type": "execute_result"
    }
   ],
   "source": [
    "ol_tab"
   ]
  },
  {
   "cell_type": "code",
   "execution_count": 69,
   "id": "1dd246b5",
   "metadata": {},
   "outputs": [],
   "source": [
    "# --- functions to check for overlapping state events and gaps between state events\n",
    "\n",
    "def check_for_overlapping_states(starts,ends,behaviors):\n",
    "    '''Looks for overlapping times in state events.'''\n",
    "    \n",
    "    violation_s = []\n",
    "    violation_e = []\n",
    "    violation_b = []\n",
    "    \n",
    "    for i,start in enumerate(starts.iloc[:-2]):\n",
    "        if ends.iloc[i]>starts.iloc[i+1]:\n",
    "            violation_s.append(start)\n",
    "            violation_e.append(ends.iloc[i])\n",
    "            violation_b.append(behaviors.iloc[i])\n",
    "            \n",
    "    return violation_s, violation_e, violation_b\n",
    "\n",
    "def check_for_state_gaps(starts,ends,behaviors):\n",
    "    '''Looks for gaps between state events.'''\n",
    "    \n",
    "    violation_s = []\n",
    "    violation_e = []\n",
    "    violation_b1 = []\n",
    "    violation_b2 = []\n",
    "    \n",
    "    for i,start in enumerate(starts.iloc[:-2]):\n",
    "        if round(starts.iloc[i+1]-ends.iloc[i],3)>0.001:\n",
    "            violation_s.append(starts.iloc[i+1])\n",
    "            violation_e.append(ends.iloc[i])\n",
    "            violation_b1.append(behaviors.iloc[i])\n",
    "            violation_b2.append(behaviors.iloc[i+1])\n",
    "            \n",
    "    return violation_s, violation_e, violation_b1, violation_b2\n",
    "\n",
    "def check_for_event_interactions(scoretab,verbose):\n",
    "    '''Check a table of behavioral annotations for gap and overlap violations.'''\n",
    "    \n",
    "    s = scoretab.start\n",
    "    e = scoretab.end\n",
    "    b = scoretab.Behavior\n",
    "    \n",
    "    mask = scoretab.behavior_type=='STATE'\n",
    "    \n",
    "    smask = s[mask]\n",
    "    emask = e[mask]\n",
    "    bmask = b[mask]\n",
    "       \n",
    "    overlap_s, overlap_e, overlap_b = check_for_overlapping_states(smask,emask,bmask)\n",
    "    gap_s, gap_e, gap_b1, gap_b2 = check_for_state_gaps(smask,emask,bmask)\n",
    "    \n",
    "    if verbose:\n",
    "    \n",
    "        for i,ols in enumerate(overlap_s):\n",
    "            print(f'Overlap violation for behavior {overlap_b[i]} starting at {ols} and ending at {overlap_e[i]}.')\n",
    "\n",
    "        for i, gs in enumerate(gap_s):\n",
    "            print(f'Gap violation for behavior {gap_b1[i]} ending at {gap_e[i]} and next behavior {gap_b2[i]} starting at {gs}.')\n",
    "            \n",
    "    return overlap_s,overlap_e,overlap_b,gap_s,gap_e,gap_b1,gap_b2"
   ]
  },
  {
   "cell_type": "code",
   "execution_count": 61,
   "id": "a3b68d96",
   "metadata": {},
   "outputs": [
    {
     "data": {
      "text/plain": [
       "[[245, 201, 39], [147, 120, 23]]"
      ]
     },
     "execution_count": 61,
     "metadata": {},
     "output_type": "execute_result"
    }
   ],
   "source": [
    "from ast import literal_eval\n",
    "# df['col2'] = df['col2'].apply(literal_eval)\n",
    "# meta.FocalColor = meta.FocalColor.apply(literal_eval)\n",
    "meta.FocalColor[i]"
   ]
  },
  {
   "cell_type": "code",
   "execution_count": 50,
   "id": "e7a6fa5f",
   "metadata": {},
   "outputs": [
    {
     "data": {
      "text/html": [
       "\n",
       "        <style>\n",
       "            .container-fields {\n",
       "                font-family: \"Open Sans\", Arial, sans-serif;\n",
       "            }\n",
       "            .container-fields .field-value {\n",
       "                color: #00788E;\n",
       "            }\n",
       "            .container-fields details > summary {\n",
       "                cursor: pointer;\n",
       "                display: list-item;\n",
       "            }\n",
       "            .container-fields details > summary:hover {\n",
       "                color: #0A6EAA;\n",
       "            }\n",
       "        </style>\n",
       "        \n",
       "        <script>\n",
       "            function copyToClipboard(text) {\n",
       "                navigator.clipboard.writeText(text).then(function() {\n",
       "                    console.log('Copied to clipboard: ' + text);\n",
       "                }, function(err) {\n",
       "                    console.error('Could not copy text: ', err);\n",
       "                });\n",
       "            }\n",
       "\n",
       "            document.addEventListener('DOMContentLoaded', function() {\n",
       "                let fieldKeys = document.querySelectorAll('.container-fields .field-key');\n",
       "                fieldKeys.forEach(function(fieldKey) {\n",
       "                    fieldKey.addEventListener('click', function() {\n",
       "                        let accessCode = fieldKey.getAttribute('title').replace('Access code: ', '');\n",
       "                        copyToClipboard(accessCode);\n",
       "                    });\n",
       "                });\n",
       "            });\n",
       "        </script>\n",
       "        <div class='container-wrap'><div class='container-header'><div class='xr-obj-type'><h3>root (NWBFile)</h3></div></div><div style=\"margin-left: 0px;\" class=\"container-fields\"><span class=\"field-key\" title=\".session_description\">session_description: </span><span class=\"field-value\">Behavioral annotations from pair Nov22_Pair8 in a(n) introduction assay.</span></div><div style=\"margin-left: 0px;\" class=\"container-fields\"><span class=\"field-key\" title=\".identifier\">identifier: </span><span class=\"field-value\">b5bba0d3-24af-4a1d-bf26-e304dc3d87c8</span></div><details><summary style=\"display: list-item; margin-left: 0px;\" class=\"container-fields field-key\" title=\".session_start_time\"><b>session_start_time</b></summary><span class=\"field-key\">2022-11-29 12:00:00-08:00</span></details><details><summary style=\"display: list-item; margin-left: 0px;\" class=\"container-fields field-key\" title=\".timestamps_reference_time\"><b>timestamps_reference_time</b></summary><span class=\"field-key\">2022-11-29 12:00:00-08:00</span></details><details><summary style=\"display: list-item; margin-left: 0px;\" class=\"container-fields field-key\" title=\".file_create_date\"><b>file_create_date</b></summary><details><summary style=\"display: list-item; margin-left: 20px;\" class=\"container-fields field-key\" title=\".file_create_date[0]\"><b>0</b></summary><span class=\"field-key\">2024-04-12 12:14:51.423935-07:00</span></details></details><details><summary style=\"display: list-item; margin-left: 0px;\" class=\"container-fields field-key\" title=\".experimenter\"><b>experimenter</b></summary><span class=\"field-key\">('Gina Williams',)</span></details><details><summary style=\"display: list-item; margin-left: 0px;\" class=\"container-fields field-key\" title=\".epoch_tags\"><b>epoch_tags</b></summary><span class=\"field-key\">set()</span></details><div style=\"margin-left: 0px;\" class=\"container-fields\"><span class=\"field-key\" title=\".session_id\">session_id: </span><span class=\"field-value\">Nov22_Pair8_introduction</span></div><div style=\"margin-left: 0px;\" class=\"container-fields\"><span class=\"field-key\" title=\".lab\">lab: </span><span class=\"field-value\">Manoli @ UCSF</span></div><details><summary style=\"display: list-item; margin-left: 0px;\" class=\"container-fields field-key\" title=\".subject\"><b>subject</b></summary><div style=\"margin-left: 20px;\" class=\"container-fields\"><span class=\"field-key\" title=\".subject.age__reference\">age__reference: </span><span class=\"field-value\">birth</span></div><div style=\"margin-left: 20px;\" class=\"container-fields\"><span class=\"field-key\" title=\".subject.genotype\">genotype: </span><span class=\"field-value\">WT</span></div><div style=\"margin-left: 20px;\" class=\"container-fields\"><span class=\"field-key\" title=\".subject.sex\">sex: </span><span class=\"field-value\">F</span></div><div style=\"margin-left: 20px;\" class=\"container-fields\"><span class=\"field-key\" title=\".subject.species\">species: </span><span class=\"field-value\">Microtus ochrogaster</span></div><div style=\"margin-left: 20px;\" class=\"container-fields\"><span class=\"field-key\" title=\".subject.subject_id\">subject_id: </span><span class=\"field-value\">B8019</span></div></details><details><summary style=\"display: list-item; margin-left: 0px;\" class=\"container-fields field-key\" title=\".lab_meta_data\"><b>lab_meta_data</b></summary><details><summary style=\"display: list-item; margin-left: 20px;\" class=\"container-fields field-key\" title=\".lab_meta_data['vole_metadata']\"><b>vole_metadata</b></summary><div style=\"margin-left: 40px;\" class=\"container-fields\"><span class=\"field-key\" title=\".lab_meta_data['vole_metadata'].assay_type\">assay_type: </span><span class=\"field-value\">introduction</span></div><div style=\"margin-left: 40px;\" class=\"container-fields\"><span class=\"field-key\" title=\".lab_meta_data['vole_metadata'].exclude_flag\">exclude_flag: </span><span class=\"field-value\">False</span></div><div style=\"margin-left: 40px;\" class=\"container-fields\"><span class=\"field-key\" title=\".lab_meta_data['vole_metadata'].duration\">duration: </span><span class=\"field-value\">1800.0</span></div><div style=\"margin-left: 40px;\" class=\"container-fields\"><span class=\"field-key\" title=\".lab_meta_data['vole_metadata'].room\">room: </span><span class=\"field-value\">nan</span></div><div style=\"margin-left: 40px;\" class=\"container-fields\"><span class=\"field-key\" title=\".lab_meta_data['vole_metadata'].timeline\">timeline: </span><span class=\"field-value\">nan</span></div><div style=\"margin-left: 40px;\" class=\"container-fields\"><span class=\"field-key\" title=\".lab_meta_data['vole_metadata'].ethogram\">ethogram: </span><span class=\"field-value\">nan</span></div><div style=\"margin-left: 40px;\" class=\"container-fields\"><span class=\"field-key\" title=\".lab_meta_data['vole_metadata'].experimenter\">experimenter: </span><span class=\"field-value\">Josh Steighner</span></div><details><summary style=\"display: list-item; margin-left: 40px;\" class=\"container-fields field-key\" title=\".lab_meta_data['vole_metadata'].timeline_complete\"><b>timeline_complete</b></summary><span class=\"field-key\">True</span></details><details><summary style=\"display: list-item; margin-left: 40px;\" class=\"container-fields field-key\" title=\".lab_meta_data['vole_metadata'].colors\"><b>colors</b></summary><div style=\"margin-left: 60px;\" class=\"container-fields\"><span class=\"field-key\" title=\".lab_meta_data['vole_metadata'].colors[0]\">0: </span><span class=\"field-value\">50</span></div><div style=\"margin-left: 60px;\" class=\"container-fields\"><span class=\"field-key\" title=\".lab_meta_data['vole_metadata'].colors[0][1]\">1: </span><span class=\"field-value\">50</span></div><div style=\"margin-left: 60px;\" class=\"container-fields\"><span class=\"field-key\" title=\".lab_meta_data['vole_metadata'].colors[0][1][2]\">2: </span><span class=\"field-value\">50</span></div></details><div style=\"margin-left: 40px;\" class=\"container-fields\"><span class=\"field-key\" title=\".lab_meta_data['vole_metadata'].introduction\">introduction: </span><span class=\"field-value\">Scn2a_X1Behavior_Nov22\\Aggregated_Events\\Nov22_Pair8_Intro.csv</span></div><div style=\"margin-left: 40px;\" class=\"container-fields\"><span class=\"field-key\" title=\".lab_meta_data['vole_metadata'].introduction__partner_ID\">introduction__partner_ID: </span><span class=\"field-value\">nan</span></div><div style=\"margin-left: 40px;\" class=\"container-fields\"><span class=\"field-key\" title=\".lab_meta_data['vole_metadata'].introduction__partner_GT\">introduction__partner_GT: </span><span class=\"field-value\">nan</span></div></details></details><details><summary style=\"display: list-item; margin-left: 0px;\" class=\"container-fields field-key\" title=\".acquisition\"><b>acquisition</b></summary><details><summary style=\"display: list-item; margin-left: 20px;\" class=\"container-fields field-key\" title=\".acquisition['behaviorVideo']\"><b>behaviorVideo</b></summary><div style=\"margin-left: 40px;\" class=\"container-fields\"><span class=\"field-key\" title=\".acquisition['behaviorVideo'].starting_time\">starting_time: </span><span class=\"field-value\">0.0</span></div><div style=\"margin-left: 40px;\" class=\"container-fields\"><span class=\"field-key\" title=\".acquisition['behaviorVideo'].rate\">rate: </span><span class=\"field-value\">25.0</span></div><div style=\"margin-left: 40px;\" class=\"container-fields\"><span class=\"field-key\" title=\".acquisition['behaviorVideo'].resolution\">resolution: </span><span class=\"field-value\">-1.0</span></div><div style=\"margin-left: 40px;\" class=\"container-fields\"><span class=\"field-key\" title=\".acquisition['behaviorVideo'].comments\">comments: </span><span class=\"field-value\">no comments</span></div><div style=\"margin-left: 40px;\" class=\"container-fields\"><span class=\"field-key\" title=\".acquisition['behaviorVideo'].description\">description: </span><span class=\"field-value\">Raw original video.</span></div><div style=\"margin-left: 40px;\" class=\"container-fields\"><span class=\"field-key\" title=\".acquisition['behaviorVideo'].conversion\">conversion: </span><span class=\"field-value\">1.0</span></div><div style=\"margin-left: 40px;\" class=\"container-fields\"><span class=\"field-key\" title=\".acquisition['behaviorVideo'].offset\">offset: </span><span class=\"field-value\">0.0</span></div><div style=\"margin-left: 40px;\" class=\"container-fields\"><span class=\"field-key\" title=\".acquisition['behaviorVideo'].unit\">unit: </span><span class=\"field-value\">n.a.</span></div><details><summary style=\"display: list-item; margin-left: 40px;\" class=\"container-fields field-key\" title=\".acquisition['behaviorVideo'].data\"><b>data</b></summary><div style=\"margin-left: 60px;\" class=\"container-fields\">[]</div></details><div style=\"margin-left: 40px;\" class=\"container-fields\"><span class=\"field-key\" title=\".acquisition['behaviorVideo'].starting_time_unit\">starting_time_unit: </span><span class=\"field-value\">seconds</span></div><details><summary style=\"display: list-item; margin-left: 40px;\" class=\"container-fields field-key\" title=\".acquisition['behaviorVideo'].external_file\"><b>external_file</b></summary><div style=\"margin-left: 60px;\" class=\"container-fields\"><span class=\"field-key\" title=\".acquisition['behaviorVideo'].external_file[0]\">0: </span><span class=\"field-value\">\\Scn2a_X1Behavior_Nov22\\Female Intros\\11292022\\Nov22_Pair8_Intro_WIN_20221129_13_12_28_Pro.mp4</span></div></details><details><summary style=\"display: list-item; margin-left: 40px;\" class=\"container-fields field-key\" title=\".acquisition['behaviorVideo'].starting_frame\"><b>starting_frame</b></summary><div style=\"margin-left: 60px;\" class=\"container-fields\"><span class=\"field-key\" title=\".acquisition['behaviorVideo'].starting_frame[0]\">0: </span><span class=\"field-value\">0</span></div></details><div style=\"margin-left: 40px;\" class=\"container-fields\"><span class=\"field-key\" title=\".acquisition['behaviorVideo'].format\">format: </span><span class=\"field-value\">external</span></div></details></details><details><summary style=\"display: list-item; margin-left: 0px;\" class=\"container-fields field-key\" title=\".intervals\"><b>intervals</b></summary><details><summary style=\"display: list-item; margin-left: 20px;\" class=\"container-fields field-key\" title=\".intervals['annotated_behavior']\"><b>annotated_behavior</b></summary><div style=\"margin-left: 40px;\" class=\"container-fields\"><span class=\"field-key\" title=\".intervals['annotated_behavior']\">description: </span><span class=\"field-value\">Intervals of scored behavior.</span></div><details><summary style=\"display: list-item; margin-left: 40px;\" class=\"container-fields field-key\" title=\".intervals['annotated_behavior']\"><b>table</b></summary><table border=\"1\" class=\"dataframe\">\n",
       "  <thead>\n",
       "    <tr style=\"text-align: right;\">\n",
       "      <th></th>\n",
       "      <th>start_time</th>\n",
       "      <th>stop_time</th>\n",
       "      <th>behavior</th>\n",
       "      <th>duration</th>\n",
       "      <th>atype</th>\n",
       "    </tr>\n",
       "    <tr>\n",
       "      <th>id</th>\n",
       "      <th></th>\n",
       "      <th></th>\n",
       "      <th></th>\n",
       "      <th></th>\n",
       "      <th></th>\n",
       "    </tr>\n",
       "  </thead>\n",
       "  <tbody>\n",
       "    <tr>\n",
       "      <th>0</th>\n",
       "      <td>261.022</td>\n",
       "      <td>261.022</td>\n",
       "      <td>Start assay</td>\n",
       "      <td>NaN</td>\n",
       "      <td>POINT</td>\n",
       "    </tr>\n",
       "    <tr>\n",
       "      <th>1</th>\n",
       "      <td>261.023</td>\n",
       "      <td>264.560</td>\n",
       "      <td>No interaction</td>\n",
       "      <td>3.537</td>\n",
       "      <td>STATE</td>\n",
       "    </tr>\n",
       "    <tr>\n",
       "      <th>2</th>\n",
       "      <td>264.561</td>\n",
       "      <td>265.310</td>\n",
       "      <td>Sniff</td>\n",
       "      <td>0.749</td>\n",
       "      <td>STATE</td>\n",
       "    </tr>\n",
       "    <tr>\n",
       "      <th>3</th>\n",
       "      <td>265.311</td>\n",
       "      <td>266.308</td>\n",
       "      <td>No interaction</td>\n",
       "      <td>0.997</td>\n",
       "      <td>STATE</td>\n",
       "    </tr>\n",
       "  </tbody>\n",
       "</table><p>... and 421 more rows.</p></details></details></details></div>"
      ],
      "text/plain": [
       "root pynwb.file.NWBFile at 0x1455273247360\n",
       "Fields:\n",
       "  acquisition: {\n",
       "    behaviorVideo <class 'pynwb.image.ImageSeries'>\n",
       "  }\n",
       "  experimenter: ['Gina Williams']\n",
       "  file_create_date: [datetime.datetime(2024, 4, 12, 12, 14, 51, 423935, tzinfo=tzlocal())]\n",
       "  identifier: b5bba0d3-24af-4a1d-bf26-e304dc3d87c8\n",
       "  intervals: {\n",
       "    annotated_behavior <class 'pynwb.epoch.TimeIntervals'>\n",
       "  }\n",
       "  lab: Manoli @ UCSF\n",
       "  lab_meta_data: {\n",
       "    vole_metadata <class 'abc.AssayMetadata'>\n",
       "  }\n",
       "  session_description: Behavioral annotations from pair Nov22_Pair8 in a(n) introduction assay.\n",
       "  session_id: Nov22_Pair8_introduction\n",
       "  session_start_time: 2022-11-29 12:00:00-08:00\n",
       "  subject: subject pynwb.file.Subject at 0x1455273246880\n",
       "Fields:\n",
       "  age__reference: birth\n",
       "  genotype: WT\n",
       "  sex: F\n",
       "  species: Microtus ochrogaster\n",
       "  subject_id: B8019\n",
       "\n",
       "  timestamps_reference_time: 2022-11-29 12:00:00-08:00"
      ]
     },
     "execution_count": 50,
     "metadata": {},
     "output_type": "execute_result"
    }
   ],
   "source": [
    "nwbfile"
   ]
  },
  {
   "cell_type": "code",
   "execution_count": 38,
   "id": "75563ea7",
   "metadata": {},
   "outputs": [
    {
     "data": {
      "text/plain": [
       "nan"
      ]
     },
     "execution_count": 38,
     "metadata": {},
     "output_type": "execute_result"
    }
   ],
   "source": [
    "meta.FocalColor[0]"
   ]
  },
  {
   "cell_type": "code",
   "execution_count": 19,
   "id": "a0f53010",
   "metadata": {},
   "outputs": [],
   "source": [
    "# ---- figure out score file checks\n",
    "scorepath = os.path.join('Scn2a_X1Behavior_Nov22','Aggregated_Events')\n",
    "scorefile = 'Nov22_Pair28_Intro.csv'\n",
    "scoretab = pd.read_csv(os.path.join('..',scorepath,scorefile)) # load up csv of annotations"
   ]
  },
  {
   "cell_type": "code",
   "execution_count": 23,
   "id": "4a70703e",
   "metadata": {},
   "outputs": [
    {
     "name": "stdout",
     "output_type": "stream",
     "text": [
      "12\n"
     ]
    }
   ],
   "source": [
    "print(len(np.unique(scoretab['Media file'])))"
   ]
  },
  {
   "cell_type": "code",
   "execution_count": null,
   "id": "8796e7d5",
   "metadata": {},
   "outputs": [],
   "source": [
    "# --- organizing NWB intervals concept\n",
    "\n",
    "scoretab = pd.read_csv(thisScoreFile) # load up csv of annotations\n",
    "\n",
    "# change problematic column names\n",
    "scoretab.rename(columns={'Start (s)':'start'}, inplace=True)\n",
    "scoretab.rename(columns={'Stop (s)':'end'}, inplace=True)\n",
    "scoretab.rename(columns={'Duration (s)':'duration'}, inplace=True)\n",
    "scoretab.rename(columns={'Behavior type':'behavior_type'}, inplace=True)\n",
    "\n",
    "# make NWB object corresponding to the annotation table\n",
    "behavior_intervals = TimeIntervals(\n",
    "    name=\"annotated_behavior\",\n",
    "    description=\"Intervals of scored behavior.\",\n",
    "    )\n",
    "\n",
    "    behavior_intervals.add_column(name=\"behavior\", description=\"The annotation from the ethogram.\")\n",
    "    behavior_intervals.add_column(name=\"duration\", description=\"Duration of the behavior.\")\n",
    "    behavior_intervals.add_column(name=\"atype\", description=\"Point or state event.\")\n",
    "\n",
    "    for i, start in enumerate(scoretab.start):\n",
    "        end = scoretab.end[i]\n",
    "        behav = scoretab.Behavior[i]\n",
    "        atype = scoretab.behavior_type[i]\n",
    "        dur = scoretab.duration[i]\n",
    "        call_intervals.add_row(start_time=start,stop_time=end,behavior=behav,atype=atype,duration=dur)"
   ]
  }
 ],
 "metadata": {
  "kernelspec": {
   "display_name": "Python 3 (ipykernel)",
   "language": "python",
   "name": "python3"
  },
  "language_info": {
   "codemirror_mode": {
    "name": "ipython",
    "version": 3
   },
   "file_extension": ".py",
   "mimetype": "text/x-python",
   "name": "python",
   "nbconvert_exporter": "python",
   "pygments_lexer": "ipython3",
   "version": "3.10.6"
  }
 },
 "nbformat": 4,
 "nbformat_minor": 5
}
